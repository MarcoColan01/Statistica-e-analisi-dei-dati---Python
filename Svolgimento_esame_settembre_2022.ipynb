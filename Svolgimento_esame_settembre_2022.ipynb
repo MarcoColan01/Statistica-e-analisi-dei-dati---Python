{
 "cells": [
  {
   "cell_type": "markdown",
   "id": "3c54ebfc",
   "metadata": {},
   "source": [
    "### Esercizio 1"
   ]
  },
  {
   "cell_type": "markdown",
   "id": "19baae1c",
   "metadata": {},
   "source": [
    "Sia $C$ una variabile aleatoria distribuita secondo unun modello binomiale di parametri $n_C$ e $p_C$ $\\in$ $[0, 1]$. Nel resto del tema d'esame $C$ modellerà il numero di bottiglie d'acqua minerale di una certa marca che un nucleo familiare acquista nell'arco di una settimana."
   ]
  },
  {
   "cell_type": "markdown",
   "id": "f83a446a",
   "metadata": {},
   "source": [
    "**1.** Quali valori può assumere il parametro $n_C$? e quali valori può assumere $C$? Giustificate la risposta"
   ]
  },
  {
   "cell_type": "markdown",
   "id": "64964550",
   "metadata": {},
   "source": [
    "$n_C$ può assumere valori interi maggiori o uguali a 0.\n",
    "$C$ può assumere valori tra 0 e $n_C$"
   ]
  },
  {
   "cell_type": "markdown",
   "id": "9c2372b9",
   "metadata": {},
   "source": [
    "**2.** Indichiamo con $f_C$ la funzione di massa di probabilità della variabile aleatoria $C$. Scrivete la forma analitica di $f_C$ in dipendenza dai parametri indicati al punto precedente e di una generica specificazione $x$ della variabile aleatoria $C$."
   ]
  },
  {
   "cell_type": "markdown",
   "id": "62bc05f9",
   "metadata": {},
   "source": [
    "$f_C$ = $\\binom{n_C}{x}p_C^x(1-p_C)^{n_c-x}$"
   ]
  },
  {
   "cell_type": "markdown",
   "id": "5e5182dd",
   "metadata": {},
   "source": [
    "**3.** Fissiamo, **solo in questo punto**, $n_C$ = 20 e $p_C$ = 0.8. Utilizzando il computer visualizzate graficamente l'andamento di $f_C$($x$) al variare di $x$, **nella zona in cui questa funzione assume valori sensibilmente diversi da zero**. Come avete scelto i valori minimo e massimo per $x$?"
   ]
  },
  {
   "cell_type": "code",
   "execution_count": 1,
   "id": "3491866a",
   "metadata": {},
   "outputs": [
    {
     "data": {
      "image/png": "[encoded data removed]",
      "text/plain": [
       "<Figure size 432x288 with 1 Axes>"
      ]
     },
     "metadata": {
      "needs_background": "light"
     },
     "output_type": "display_data"
    }
   ],
   "source": [
    "%matplotlib inline\n",
    "import numpy as np\n",
    "import scipy.stats as st\n",
    "import statsmodels.api as sm\n",
    "import pandas as pd\n",
    "import math\n",
    "import matplotlib.pyplot as plt\n",
    "\n",
    "C = st.binom(n=20, p=0.8)\n",
    "inizio = int(C.ppf(0.01))\n",
    "fine = int(C.ppf(0.99))\n",
    "x = range(inizio, fine+1, 1)\n",
    "plt.plot(x, C.pmf(x), 'o')\n",
    "plt.vlines(x, 0, C.pmf(x))\n",
    "plt.show()"
   ]
  },
  {
   "cell_type": "markdown",
   "id": "a99f4266",
   "metadata": {},
   "source": [
    "Ho scelto i valori di minimo e massimo per x per mostrare il grafico dal primo al novantanovesimo percentile."
   ]
  },
  {
   "cell_type": "markdown",
   "id": "4c5d90b1",
   "metadata": {},
   "source": [
    "### Esercizio 2"
   ]
  },
  {
   "cell_type": "markdown",
   "id": "100936c9",
   "metadata": {},
   "source": [
    "A ogni acquisto, il distributore effettua uno sconto di $x$ euro per ogni bottiglia vuota resa. Ipotizziamo che il numero di bottiglie rese da un nucleo familiare in una settimana sia descritto da una variabile aleatoria $R$ distribuita secondo un modello binomiale di parametri $n_R$ $\\in$ $\\mathbb{N}$ e $p_R$ $\\in$ $[0, 1]$. In questo esercizio supporremo che $n_C$ e $n_R$ **assumano valori piccoli**."
   ]
  },
  {
   "cell_type": "markdown",
   "id": "464867af",
   "metadata": {},
   "source": [
    "**1.** Indichiamo con $p$ il prezzo di acquisto di una bottiglia. Che cosa modella la variabile aleatoria $T$ =  $pC - sR$?"
   ]
  },
  {
   "cell_type": "markdown",
   "id": "1d44ebdf",
   "metadata": {},
   "source": [
    "$T$ modella la spesa totale di una famiglia in una settimana per le bottiglie."
   ]
  },
  {
   "cell_type": "markdown",
   "id": "c96f07c7",
   "metadata": {},
   "source": [
    "**2.** La distribuzione esatta di $T$ è nota? Se si, indicate a quale modello si riferisce e specificate i relativi parametri. Cambia qualcosa nel caso fossimo interessati a una distribuzione approssimata?"
   ]
  },
  {
   "cell_type": "markdown",
   "id": "5060c2a5",
   "metadata": {},
   "source": [
    "No, in particolare sappiamo che non può essere una binomiale perchè può assumere valori frazionari o negativi.\n",
    "Dato che $n_C$ e $n_R$ assumono valori piccoli, non siamo neanche in grado di approssimare la distribuzione di T a quella di una normale."
   ]
  },
  {
   "cell_type": "markdown",
   "id": "d5b33799",
   "metadata": {},
   "source": [
    "**3.** Indichiamo con $\\mu_T$ il valore atteso di $T$. Esprimete $\\mu_T$ in funzione dei parametri sopra introdotti, giustificando i passaggi matematici intermedi."
   ]
  },
  {
   "cell_type": "markdown",
   "id": "3db4d876",
   "metadata": {},
   "source": [
    "???"
   ]
  },
  {
   "cell_type": "markdown",
   "id": "663accca",
   "metadata": {},
   "source": [
    "**4.** Indichiamo con $\\sigma_T$ la deviazione standard di $T$. Esprimete $\\sigma_T$ in funzione dei parametri sopra introdotti, giustificando anche in questo caso i passaggi matematici intermedi."
   ]
  },
  {
   "cell_type": "markdown",
   "id": "e37ee890",
   "metadata": {},
   "source": [
    "???"
   ]
  },
  {
   "cell_type": "markdown",
   "id": "a97543ac",
   "metadata": {},
   "source": [
    "### Esercizio 3"
   ]
  },
  {
   "cell_type": "markdown",
   "id": "64b64e09",
   "metadata": {},
   "source": [
    "Indichiamo con $n$ $\\in$ $\\mathbb{N}$ il numero totale di clienti del distributore, e con $C_1,...,C_n$ le variabili aleatorie che indicano il numero di bottiglie acquistate in una settimana da ogni cliente. Analogamente, siano $R_1,...,R_n$ le variabili aleatorie che indicano il numero di bottiglie rese in una settimana. Assumiamo, infine, che vi sia indipendenza tra le abitudini di acquisto dei vari clienti. In questo esercizio supporremo che $n$ assuma **un valore elevato**."
   ]
  },
  {
   "cell_type": "markdown",
   "id": "e32e44b8",
   "metadata": {},
   "source": [
    "**1.** Esiste un modello che descrive in modo esatto la distribuzione della variabile aleatoria $C_{tot} = \\sum_{i=1}^{n} C_i$? In caso affermativo, indicare quali sono i suoi parametri, giustificando la vostra risposta."
   ]
  },
  {
   "cell_type": "markdown",
   "id": "325f88ca",
   "metadata": {},
   "source": [
    "$C_{tot}$ segue un modello binomiale di parametri ($\\sum_{i=1}^{n}n_C$, $p_C$)"
   ]
  },
  {
   "cell_type": "markdown",
   "id": "59170448",
   "metadata": {},
   "source": [
    "**2.** Esiste un modello che approssima ragionevolmente bene la distribuzione di $C_{tot}$? In caso affermativo, indicate quali sono i suoi parametri, giustificando la vostra risposta."
   ]
  },
  {
   "cell_type": "markdown",
   "id": "c7b74007",
   "metadata": {},
   "source": [
    "Il modello $C_{tot}$ si può approssimare ragionevolmente con il modello normale grazie al TCL, con parametri ($n*\\mu_C$,$\\sqrt{n}*\\sigma_C$), ovvero ($n*n_Cp_C$,$\\sqrt{n}*n_Cp_C(1-p_C)$)"
   ]
  },
  {
   "cell_type": "markdown",
   "id": "f83ec0a2",
   "metadata": {},
   "source": [
    "**3.** Se nelle domande 1 e 2 di questo esercizio sostituiamo $C_{tot}$ con $R_{tot} = \\sum_{i=1}^{n} R_i$, le risposte cambiano significativamente? Perchè?"
   ]
  },
  {
   "cell_type": "markdown",
   "id": "217ab907",
   "metadata": {},
   "source": [
    "No, poichè sia $C_{tot}$ sia $R_{tot}$ seguono lo stesso modello, pur con parametri potenzialmente diversi."
   ]
  },
  {
   "cell_type": "markdown",
   "id": "2f8fef27",
   "metadata": {},
   "source": [
    "**4.** Che cosa modella la variabile aleatoria $T_{tot} = pC_{tot} - sR_{tot}$?"
   ]
  },
  {
   "cell_type": "markdown",
   "id": "c1613f04",
   "metadata": {},
   "source": [
    "$T_{tot}$ modella le spese totali delle famiglie, ovvero le entrate del distributore."
   ]
  },
  {
   "cell_type": "markdown",
   "id": "2f4b734e",
   "metadata": {},
   "source": [
    "**5.** Esiste un modello che descrive la distribuzione di $T_{tot}$? In caso affermativo, indicate quali sono i suoi parametri, e in caso negativo indicare un modello che approssima ragionevolmente la distribuzione, sempre specificandone i parametri."
   ]
  },
  {
   "cell_type": "markdown",
   "id": "3b02872f",
   "metadata": {},
   "source": [
    "$T_{tot}$ segue una distribuzione approssimabile con una normale di parametri ($p\\mu_C - s\\mu_R$,$\\sqrt{(p\\sigma_C)^2+(s\\sigma_R)^2}$)"
   ]
  },
  {
   "cell_type": "markdown",
   "id": "950f3f44",
   "metadata": {},
   "source": [
    "### Esercizio 4"
   ]
  },
  {
   "cell_type": "markdown",
   "id": "99e449f0",
   "metadata": {},
   "source": [
    "Il file \"acquisti.csv\" contiene le seguenti informazioni raccolte settimanalmente dal distributore dell'acqua della marca considerata nell'arco di più anni (il carattere `,` separa le colonne):"
   ]
  },
  {
   "cell_type": "markdown",
   "id": "92d34df9",
   "metadata": {},
   "source": [
    "* *bottiglie_acquistate:* numero totale di bottiglie acquistate dei clienti dal distributore in una settimana;\n",
    "* *bottiglie_rese:* numero totale di bottiglie rese dai clienti dal distributore in una settimana;\n",
    "* *temperatura:* temperatura media nella settimana di riferimento;"
   ]
  },
  {
   "cell_type": "markdown",
   "id": "dc4e03af",
   "metadata": {},
   "source": [
    "**1.** Scrivete ed eseguite del codice che calcoli la percentuale di casi del dataset che contengono almeno un valore mancante"
   ]
  },
  {
   "cell_type": "code",
   "execution_count": 2,
   "id": "7d5d713e",
   "metadata": {},
   "outputs": [
    {
     "data": {
      "text/html": [
       "<div>\n",
       "<style scoped>\n",
       "    .dataframe tbody tr th:only-of-type {\n",
       "        vertical-align: middle;\n",
       "    }\n",
       "\n",
       "    .dataframe tbody tr th {\n",
       "        vertical-align: top;\n",
       "    }\n",
       "\n",
       "    .dataframe thead th {\n",
       "        text-align: right;\n",
       "    }\n",
       "</style>\n",
       "<table border=\"1\" class=\"dataframe\">\n",
       "  <thead>\n",
       "    <tr style=\"text-align: right;\">\n",
       "      <th></th>\n",
       "      <th>bottiglie_acquistate</th>\n",
       "      <th>bottiglie_rese</th>\n",
       "      <th>temperatura</th>\n",
       "    </tr>\n",
       "  </thead>\n",
       "  <tbody>\n",
       "    <tr>\n",
       "      <th>0</th>\n",
       "      <td>3481.0</td>\n",
       "      <td>1324.0</td>\n",
       "      <td>18.0</td>\n",
       "    </tr>\n",
       "    <tr>\n",
       "      <th>1</th>\n",
       "      <td>3463.0</td>\n",
       "      <td>NaN</td>\n",
       "      <td>10.0</td>\n",
       "    </tr>\n",
       "    <tr>\n",
       "      <th>2</th>\n",
       "      <td>3464.0</td>\n",
       "      <td>1353.0</td>\n",
       "      <td>39.0</td>\n",
       "    </tr>\n",
       "    <tr>\n",
       "      <th>3</th>\n",
       "      <td>3527.0</td>\n",
       "      <td>986.0</td>\n",
       "      <td>0.0</td>\n",
       "    </tr>\n",
       "    <tr>\n",
       "      <th>4</th>\n",
       "      <td>3367.0</td>\n",
       "      <td>2190.0</td>\n",
       "      <td>-3.0</td>\n",
       "    </tr>\n",
       "    <tr>\n",
       "      <th>...</th>\n",
       "      <td>...</td>\n",
       "      <td>...</td>\n",
       "      <td>...</td>\n",
       "    </tr>\n",
       "    <tr>\n",
       "      <th>3995</th>\n",
       "      <td>3516.0</td>\n",
       "      <td>1046.0</td>\n",
       "      <td>7.0</td>\n",
       "    </tr>\n",
       "    <tr>\n",
       "      <th>3996</th>\n",
       "      <td>3420.0</td>\n",
       "      <td>1669.0</td>\n",
       "      <td>32.0</td>\n",
       "    </tr>\n",
       "    <tr>\n",
       "      <th>3997</th>\n",
       "      <td>3487.0</td>\n",
       "      <td>1472.0</td>\n",
       "      <td>14.0</td>\n",
       "    </tr>\n",
       "    <tr>\n",
       "      <th>3998</th>\n",
       "      <td>3552.0</td>\n",
       "      <td>1957.0</td>\n",
       "      <td>9.0</td>\n",
       "    </tr>\n",
       "    <tr>\n",
       "      <th>3999</th>\n",
       "      <td>3526.0</td>\n",
       "      <td>2596.0</td>\n",
       "      <td>37.0</td>\n",
       "    </tr>\n",
       "  </tbody>\n",
       "</table>\n",
       "<p>4000 rows × 3 columns</p>\n",
       "</div>"
      ],
      "text/plain": [
       "      bottiglie_acquistate  bottiglie_rese  temperatura\n",
       "0                   3481.0          1324.0         18.0\n",
       "1                   3463.0             NaN         10.0\n",
       "2                   3464.0          1353.0         39.0\n",
       "3                   3527.0           986.0          0.0\n",
       "4                   3367.0          2190.0         -3.0\n",
       "...                    ...             ...          ...\n",
       "3995                3516.0          1046.0          7.0\n",
       "3996                3420.0          1669.0         32.0\n",
       "3997                3487.0          1472.0         14.0\n",
       "3998                3552.0          1957.0          9.0\n",
       "3999                3526.0          2596.0         37.0\n",
       "\n",
       "[4000 rows x 3 columns]"
      ]
     },
     "execution_count": 2,
     "metadata": {},
     "output_type": "execute_result"
    }
   ],
   "source": [
    "ac = pd.read_csv(\"acquisti.csv\", sep=\",\")\n",
    "ac"
   ]
  },
  {
   "cell_type": "code",
   "execution_count": 3,
   "id": "95013f86",
   "metadata": {},
   "outputs": [
    {
     "name": "stdout",
     "output_type": "stream",
     "text": [
      "percentuale 0.275\n"
     ]
    }
   ],
   "source": [
    "percentuale = 100 * (len(ac)-len(ac.dropna())) / len(ac)\n",
    "print(\"percentuale\", percentuale)"
   ]
  },
  {
   "cell_type": "markdown",
   "id": "289f14fc",
   "metadata": {},
   "source": [
    "**2.** Descrivete l'attributo *bottiglie_acquistate* utilizzando la rappresentazione grafica che ritenete più adeguata, motivando la scelta fatta e commentando i risultati ottenuti."
   ]
  },
  {
   "cell_type": "code",
   "execution_count": 4,
   "id": "00ac95e9",
   "metadata": {},
   "outputs": [
    {
     "data": {
      "image/png": "[encoded data removed]",
      "text/plain": [
       "<Figure size 432x288 with 1 Axes>"
      ]
     },
     "metadata": {
      "needs_background": "light"
     },
     "output_type": "display_data"
    }
   ],
   "source": [
    "acquistate = ac.bottiglie_acquistate\n",
    "acquistate.plot.box()\n",
    "plt.show()"
   ]
  },
  {
   "cell_type": "markdown",
   "id": "29f2e0ca",
   "metadata": {},
   "source": [
    "Ho scelto di rappresentare le bottiglie acquistate tramite un boxplot per evidenziare il range di valori coperti dal dataset, e la concentrazione dei valori.\n",
    "Dal grafico si nota che la distribuzione appare centrale, con molti valori in un intervallo ristretto e con la presenza di svariati outlier."
   ]
  },
  {
   "cell_type": "markdown",
   "id": "b0fcb61f",
   "metadata": {},
   "source": [
    "**3.** L'ipotesi fatta all'inizio dell'esercizio 3 dovrebbe consentire di utilizzare un istogramma in alternativa alla rappresentazione del punto precedente; perchè? Visualizzate tale istogramma, scegliendo opportunamente il numero di intervalli da considerare."
   ]
  },
  {
   "cell_type": "code",
   "execution_count": 5,
   "id": "8e6a0327",
   "metadata": {},
   "outputs": [
    {
     "data": {
      "image/png": "[encoded data removed]",
      "text/plain": [
       "<Figure size 432x288 with 1 Axes>"
      ]
     },
     "metadata": {
      "needs_background": "light"
     },
     "output_type": "display_data"
    }
   ],
   "source": [
    "acquistate.plot.hist(bins=20)\n",
    "plt.show()\n",
    "#perchè 20? boh sembrava un numero adatto per un bel grafico indicativo ma non troppo approssimato"
   ]
  },
  {
   "cell_type": "markdown",
   "id": "c191cd61",
   "metadata": {},
   "source": [
    "sapere che ogni valore di bottiglie_acquistate corrisponde a un valore assunto da $C_{TOT}$, come sopra definito, permette di trattare l'attributo come se fosse continuo, rendendo ragionevole l'utilizzo dell'istogramma"
   ]
  },
  {
   "cell_type": "markdown",
   "id": "c7bfcc4b",
   "metadata": {},
   "source": [
    "**4.** Valutate l'ipotesi che vi sia una relazione di tipo diretto tra gli attributi *bottiglie_acquistate* e *temperatura*, utilizzando in modo opportuno sia un metodo grafico sia un indice numerico. Commentate i risultati ottenuti."
   ]
  },
  {
   "cell_type": "code",
   "execution_count": 6,
   "id": "354c6668",
   "metadata": {},
   "outputs": [
    {
     "data": {
      "text/plain": [
       "array([18., 39.,  0., -3., 29., -4.,  9., 35.,  5.,  1., 11.,  3.,  2.,\n",
       "       19., 32., 34.,  7., 31., 30.,  4., -1., 36.,  6., 25., 28., 21.,\n",
       "       26., 13., 20., 16., 15., 22., 23., 12., -5., 24., 37., 10., 33.,\n",
       "       27., 17., 14., -2.,  8., 38.])"
      ]
     },
     "execution_count": 6,
     "metadata": {},
     "output_type": "execute_result"
    }
   ],
   "source": [
    "ac.dropna().temperatura.unique()"
   ]
  },
  {
   "cell_type": "code",
   "execution_count": 7,
   "id": "5396a675",
   "metadata": {},
   "outputs": [
    {
     "data": {
      "image/png": "[encoded data removed]",
      "text/plain": [
       "<Figure size 432x288 with 1 Axes>"
      ]
     },
     "metadata": {
      "needs_background": "light"
     },
     "output_type": "display_data"
    }
   ],
   "source": [
    "plt.scatter(ac.bottiglie_acquistate, ac.temperatura)\n",
    "plt.show()"
   ]
  },
  {
   "cell_type": "code",
   "execution_count": 8,
   "id": "516f504f",
   "metadata": {},
   "outputs": [
    {
     "name": "stdout",
     "output_type": "stream",
     "text": [
      "indice di correlazione lineare: -0.006180512682684299\n"
     ]
    }
   ],
   "source": [
    "cor = ac.bottiglie_acquistate.corr(ac.temperatura)\n",
    "print(\"indice di correlazione lineare:\", cor)"
   ]
  },
  {
   "cell_type": "markdown",
   "id": "bac12898",
   "metadata": {},
   "source": [
    "Dal grafico in cui si notano valori sostanzialmente invariati di un attributo al variare dell'altro, e dal valore dell'indice di correlazione molto prossimo allo zero risulta assente alcuna relazione lineare tra i due attributi."
   ]
  },
  {
   "cell_type": "markdown",
   "id": "c66a1e86",
   "metadata": {},
   "source": [
    "**5.** Una bottiglia d'acqua costa 1€, e il distributore sconta 10 centesimi per ogni bottiglia resa. Aggiungete al dataset una colonna dal nome *ricavo* che contenga il ricavo settimanale per ogni caso."
   ]
  },
  {
   "cell_type": "code",
   "execution_count": 9,
   "id": "cff4842b",
   "metadata": {},
   "outputs": [
    {
     "data": {
      "text/plain": [
       "0       3348.6\n",
       "1          NaN\n",
       "2       3328.7\n",
       "3       3428.4\n",
       "4       3148.0\n",
       "         ...  \n",
       "3995    3411.4\n",
       "3996    3253.1\n",
       "3997    3339.8\n",
       "3998    3356.3\n",
       "3999    3266.4\n",
       "Name: ricavo, Length: 4000, dtype: float64"
      ]
     },
     "execution_count": 9,
     "metadata": {},
     "output_type": "execute_result"
    }
   ],
   "source": [
    "ricavo = pd.Series([(ac.bottiglie_acquistate[i]-(0.10*ac.bottiglie_rese[i])) for i in ac.index], name=\"ricavo\")\n",
    "#dovrei trattare più finemente i NaN? probabile..\n",
    "ricavo"
   ]
  },
  {
   "cell_type": "code",
   "execution_count": 10,
   "id": "ecb3ae4d",
   "metadata": {},
   "outputs": [
    {
     "name": "stdout",
     "output_type": "stream",
     "text": [
      "RangeIndex(start=0, stop=4000, step=1)\n"
     ]
    }
   ],
   "source": [
    "print(ac.index)"
   ]
  },
  {
   "cell_type": "code",
   "execution_count": 11,
   "id": "4255f0d2",
   "metadata": {},
   "outputs": [
    {
     "data": {
      "text/html": [
       "<div>\n",
       "<style scoped>\n",
       "    .dataframe tbody tr th:only-of-type {\n",
       "        vertical-align: middle;\n",
       "    }\n",
       "\n",
       "    .dataframe tbody tr th {\n",
       "        vertical-align: top;\n",
       "    }\n",
       "\n",
       "    .dataframe thead th {\n",
       "        text-align: right;\n",
       "    }\n",
       "</style>\n",
       "<table border=\"1\" class=\"dataframe\">\n",
       "  <thead>\n",
       "    <tr style=\"text-align: right;\">\n",
       "      <th></th>\n",
       "      <th>bottiglie_acquistate</th>\n",
       "      <th>bottiglie_rese</th>\n",
       "      <th>temperatura</th>\n",
       "      <th>ricavo</th>\n",
       "    </tr>\n",
       "  </thead>\n",
       "  <tbody>\n",
       "    <tr>\n",
       "      <th>0</th>\n",
       "      <td>3481.0</td>\n",
       "      <td>1324.0</td>\n",
       "      <td>18.0</td>\n",
       "      <td>3348.6</td>\n",
       "    </tr>\n",
       "    <tr>\n",
       "      <th>1</th>\n",
       "      <td>3463.0</td>\n",
       "      <td>NaN</td>\n",
       "      <td>10.0</td>\n",
       "      <td>NaN</td>\n",
       "    </tr>\n",
       "    <tr>\n",
       "      <th>2</th>\n",
       "      <td>3464.0</td>\n",
       "      <td>1353.0</td>\n",
       "      <td>39.0</td>\n",
       "      <td>3328.7</td>\n",
       "    </tr>\n",
       "    <tr>\n",
       "      <th>3</th>\n",
       "      <td>3527.0</td>\n",
       "      <td>986.0</td>\n",
       "      <td>0.0</td>\n",
       "      <td>3428.4</td>\n",
       "    </tr>\n",
       "    <tr>\n",
       "      <th>4</th>\n",
       "      <td>3367.0</td>\n",
       "      <td>2190.0</td>\n",
       "      <td>-3.0</td>\n",
       "      <td>3148.0</td>\n",
       "    </tr>\n",
       "    <tr>\n",
       "      <th>...</th>\n",
       "      <td>...</td>\n",
       "      <td>...</td>\n",
       "      <td>...</td>\n",
       "      <td>...</td>\n",
       "    </tr>\n",
       "    <tr>\n",
       "      <th>3995</th>\n",
       "      <td>3516.0</td>\n",
       "      <td>1046.0</td>\n",
       "      <td>7.0</td>\n",
       "      <td>3411.4</td>\n",
       "    </tr>\n",
       "    <tr>\n",
       "      <th>3996</th>\n",
       "      <td>3420.0</td>\n",
       "      <td>1669.0</td>\n",
       "      <td>32.0</td>\n",
       "      <td>3253.1</td>\n",
       "    </tr>\n",
       "    <tr>\n",
       "      <th>3997</th>\n",
       "      <td>3487.0</td>\n",
       "      <td>1472.0</td>\n",
       "      <td>14.0</td>\n",
       "      <td>3339.8</td>\n",
       "    </tr>\n",
       "    <tr>\n",
       "      <th>3998</th>\n",
       "      <td>3552.0</td>\n",
       "      <td>1957.0</td>\n",
       "      <td>9.0</td>\n",
       "      <td>3356.3</td>\n",
       "    </tr>\n",
       "    <tr>\n",
       "      <th>3999</th>\n",
       "      <td>3526.0</td>\n",
       "      <td>2596.0</td>\n",
       "      <td>37.0</td>\n",
       "      <td>3266.4</td>\n",
       "    </tr>\n",
       "  </tbody>\n",
       "</table>\n",
       "<p>4000 rows × 4 columns</p>\n",
       "</div>"
      ],
      "text/plain": [
       "      bottiglie_acquistate  bottiglie_rese  temperatura  ricavo\n",
       "0                   3481.0          1324.0         18.0  3348.6\n",
       "1                   3463.0             NaN         10.0     NaN\n",
       "2                   3464.0          1353.0         39.0  3328.7\n",
       "3                   3527.0           986.0          0.0  3428.4\n",
       "4                   3367.0          2190.0         -3.0  3148.0\n",
       "...                    ...             ...          ...     ...\n",
       "3995                3516.0          1046.0          7.0  3411.4\n",
       "3996                3420.0          1669.0         32.0  3253.1\n",
       "3997                3487.0          1472.0         14.0  3339.8\n",
       "3998                3552.0          1957.0          9.0  3356.3\n",
       "3999                3526.0          2596.0         37.0  3266.4\n",
       "\n",
       "[4000 rows x 4 columns]"
      ]
     },
     "execution_count": 11,
     "metadata": {},
     "output_type": "execute_result"
    }
   ],
   "source": [
    "ac_r = ac\n",
    "ac_r[\"ricavo\"] = ricavo\n",
    "ac_r"
   ]
  },
  {
   "cell_type": "markdown",
   "id": "422a811a",
   "metadata": {},
   "source": [
    "**6.** Valutate l'ipotesi che il ricavo settimanale di ogni acquisto sia ben descritto da un modello normale, commentando i risultati ottenuti."
   ]
  },
  {
   "cell_type": "code",
   "execution_count": 12,
   "id": "17ca7bd8",
   "metadata": {},
   "outputs": [
    {
     "data": {
      "image/png": "[encoded data removed]",
      "text/plain": [
       "<Figure size 432x288 with 1 Axes>"
      ]
     },
     "metadata": {
      "needs_background": "light"
     },
     "output_type": "display_data"
    }
   ],
   "source": [
    "sm.qqplot(ac_r.ricavo, dist=st.norm(loc=ac_r.ricavo.mean(), scale=ac_r.ricavo.std()), line=\"45\")\n",
    "plt.show()"
   ]
  },
  {
   "cell_type": "code",
   "execution_count": 13,
   "id": "6eecf56e",
   "metadata": {},
   "outputs": [
    {
     "name": "stdout",
     "output_type": "stream",
     "text": [
      "media=3299.6993485342023, mediana=3300.0\n"
     ]
    }
   ],
   "source": [
    "media = ac_r.ricavo.mean()\n",
    "mediana = ac_r.ricavo.quantile(0.5)\n",
    "print(\"media={}, mediana={}\".format(media, mediana))"
   ]
  },
  {
   "cell_type": "markdown",
   "id": "022248c5",
   "metadata": {},
   "source": [
    "Dal grafico qqplot con quantili teorici corrispondenti ai quantili empirici (per quasi tutti i valori), e dal valore essenzialmente equivalente di media e mediana, si può dedurre che il ricavo sembra seguire una distribuzione normale."
   ]
  },
  {
   "cell_type": "markdown",
   "id": "a2531a25",
   "metadata": {},
   "source": [
    "**7.** Alla luce dei risultati ottenuti al punto precedente, è opportuno rivedere le ipotesi fatte all'inizio dell'esercizio 3? Perchè? E quali ipotesi devono essere riesaminate?"
   ]
  },
  {
   "cell_type": "markdown",
   "id": "11386603",
   "metadata": {},
   "source": [
    "???"
   ]
  },
  {
   "cell_type": "markdown",
   "id": "129c6cbe",
   "metadata": {},
   "source": [
    "**8.** Valutate l'ipotesi che il numero di bottiglie acquistate sia ben descritto da un modello normale, commentando i risultati ottenuti."
   ]
  },
  {
   "cell_type": "code",
   "execution_count": 14,
   "id": "ca35a7e7",
   "metadata": {},
   "outputs": [
    {
     "data": {
      "image/png": "[encoded data removed]",
      "text/plain": [
       "<Figure size 432x288 with 1 Axes>"
      ]
     },
     "metadata": {
      "needs_background": "light"
     },
     "output_type": "display_data"
    }
   ],
   "source": [
    "sm.qqplot(ac_r.bottiglie_acquistate, dist=st.norm(loc=ac_r.bottiglie_acquistate.mean(), scale=ac_r.bottiglie_acquistate.std()), line=\"45\")\n",
    "plt.show()"
   ]
  },
  {
   "cell_type": "code",
   "execution_count": 15,
   "id": "a419b49a",
   "metadata": {},
   "outputs": [
    {
     "name": "stdout",
     "output_type": "stream",
     "text": [
      "RangeIndex(start=0, stop=4000, step=1)\n"
     ]
    }
   ],
   "source": [
    "print(ac.index)"
   ]
  },
  {
   "cell_type": "markdown",
   "id": "99dd7e5c",
   "metadata": {},
   "source": [
    "Valgono considerazioni analoghe al 4.6"
   ]
  },
  {
   "cell_type": "markdown",
   "id": "e771af1d",
   "metadata": {},
   "source": [
    "### Esercizio 5"
   ]
  },
  {
   "cell_type": "markdown",
   "id": "ab65a605",
   "metadata": {},
   "source": [
    "In questo esercizio interpreteremo i valori dell'attributo *bottiglie_acquistate* come un campione casuale estratto da una popolazione distribuita come la variabile aleatoria $C_{tot}$ definita nell'esercizio 3, e i valori dell'attributo *ricavo* come un campione casuale estratto da una popolazione $T$."
   ]
  },
  {
   "cell_type": "markdown",
   "id": "b0c8d0e6",
   "metadata": {},
   "source": [
    "**1.** Stimate il valore atteso della popolazione descritta dalla variabile aleatoria $C_{tot}$, indicando la dimensione del campione utilizzato e specificando eventuali proprietà dello stimatore utilizzato."
   ]
  },
  {
   "cell_type": "code",
   "execution_count": 16,
   "id": "79acfe1e",
   "metadata": {},
   "outputs": [
    {
     "name": "stdout",
     "output_type": "stream",
     "text": [
      "valore atteso: 3450.124124124124\n",
      "dimensione campione: 3996\n"
     ]
    }
   ],
   "source": [
    "print(\"valore atteso:\",ac.bottiglie_acquistate.mean())\n",
    "print(\"dimensione campione:\", len(ac.bottiglie_acquistate.dropna()))"
   ]
  },
  {
   "cell_type": "markdown",
   "id": "a2722332",
   "metadata": {},
   "source": [
    "Lo stimatore usato è la media campionaria, che è sempre uno stimatore non deviato (bias nullo) per il valore atteso. La media campionaria è inoltre consistente in media quadratica per il valore atteso."
   ]
  },
  {
   "cell_type": "markdown",
   "id": "f3e49780",
   "metadata": {},
   "source": [
    "**2.** Stimate la deviazione standard della popolazione descritta dalla variabile aleatoria $C_{tot}$,  specificando eventuali proprietà dello stimatore utilizzato. La dimensione del campione utilzzato è la stessa del punto precendete? Perchè?"
   ]
  },
  {
   "cell_type": "code",
   "execution_count": 17,
   "id": "71692641",
   "metadata": {},
   "outputs": [
    {
     "name": "stdout",
     "output_type": "stream",
     "text": [
      "valore atteso: 60.03789465497488\n",
      "dimensione campione: 3996\n"
     ]
    }
   ],
   "source": [
    "print(\"valore atteso:\",math.sqrt(ac.bottiglie_acquistate.var()))\n",
    "print(\"dimensione campione:\", len(ac.bottiglie_acquistate.dropna()))"
   ]
  },
  {
   "cell_type": "markdown",
   "id": "d807916d",
   "metadata": {},
   "source": [
    "Lo stimatore usato è la varianza campionaria, che è uno stimatore non deviato per la varianza campionaria, ma dato che si cerca il valore della deviazione standard, è stata calcolata la radice quadrata della varianza, eliminando la garanzia di correttezza (non sappiamo se il bias sia nullo o no).\n",
    "La dimensione del campione è la stessa poichè si stanno analizzando due proprietà della stessa popolazione."
   ]
  },
  {
   "cell_type": "markdown",
   "id": "94305de7",
   "metadata": {},
   "source": [
    "**3.** Il magazzino del distributore riceve ogni settimana 3600 bottiglie. Come potete indicare, in funzione di un'appropriata quantità precedentemente utilizzata, l'evento $E$ che si verifica se queste bottiglie non sono sufficienti a soddisfare la domanda dei clienti?"
   ]
  },
  {
   "cell_type": "markdown",
   "id": "042b4658",
   "metadata": {},
   "source": [
    "L'evento $E$ corrisponde a una richiesta , o acquisto complessivo, di più di 3600 bottiglie, ovvero al caso in cui $C_{TOT}>3600$.  \n",
    "Segue che $P(E)$ = $1-P(C_{TOT}<=3600)$"
   ]
  },
  {
   "cell_type": "markdown",
   "id": "803debc4",
   "metadata": {},
   "source": [
    "**4.** Sulla base del risultato del punto 8 dell'esercizio 4, calcolate la probabilità dell'evento $E$ desritto al punto precedente."
   ]
  },
  {
   "cell_type": "code",
   "execution_count": 18,
   "id": "9d7f2c7b",
   "metadata": {},
   "outputs": [
    {
     "name": "stdout",
     "output_type": "stream",
     "text": [
      "P(E)= 0.006273854495658315\n"
     ]
    }
   ],
   "source": [
    "e = ac.bottiglie_acquistate.mean()\n",
    "s = math.sqrt(ac.bottiglie_acquistate.var())\n",
    "p_E = 1 - st.norm(loc=e, scale=s).cdf(3600)\n",
    "print(\"P(E)=\", p_E)"
   ]
  },
  {
   "cell_type": "markdown",
   "id": "8a5fa6b6",
   "metadata": {},
   "source": [
    "**5.** Stimate il valore atteso della popolazione $T$, indicando quale stimatore avete utilizzato."
   ]
  },
  {
   "cell_type": "code",
   "execution_count": 19,
   "id": "661103e4",
   "metadata": {},
   "outputs": [
    {
     "name": "stdout",
     "output_type": "stream",
     "text": [
      "valore atteso: 3299.6993485342023\n"
     ]
    }
   ],
   "source": [
    "print(\"valore atteso:\", ac_r.ricavo.mean())"
   ]
  },
  {
   "cell_type": "markdown",
   "id": "ba41d788",
   "metadata": {},
   "source": [
    "Lo stimatore usato è la media campionaria."
   ]
  },
  {
   "cell_type": "markdown",
   "id": "5667e93e",
   "metadata": {},
   "source": [
    "**6.** Siete in grado di calcolare la probabilità che la stima fatta al punto precedente disti, per eccesso o per difetto, più di 10€ rispetto al valore sconosciuto?"
   ]
  },
  {
   "cell_type": "code",
   "execution_count": 20,
   "id": "65dfe73f",
   "metadata": {},
   "outputs": [
    {
     "data": {
      "text/plain": [
       "1.1102230246251565e-15"
      ]
     },
     "execution_count": 20,
     "metadata": {},
     "output_type": "execute_result"
    }
   ],
   "source": [
    "n = len(ac_r.ricavo.dropna())\n",
    "s_r = ac_r.ricavo.std()\n",
    "p = 1 - st.norm(loc=0, scale=1).cdf((10*math.sqrt(n))/s_r)\n",
    "p"
   ]
  }
 ],
 "metadata": {
  "kernelspec": {
   "display_name": "Python 3 (ipykernel)",
   "language": "python",
   "name": "python3"
  },
  "language_info": {
   "codemirror_mode": {
    "name": "ipython",
    "version": 3
   },
   "file_extension": ".py",
   "mimetype": "text/x-python",
   "name": "python",
   "nbconvert_exporter": "python",
   "pygments_lexer": "ipython3",
   "version": "3.10.0"
  }
 },
 "nbformat": 4,
 "nbformat_minor": 5
}
