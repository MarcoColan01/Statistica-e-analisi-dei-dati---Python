{
 "cells": [
  {
   "cell_type": "code",
   "execution_count": 16,
   "metadata": {
    "collapsed": true
   },
   "outputs": [],
   "source": [
    "%matplotlib inline\n",
    "import matplotlib.pyplot as plt\n",
    "import pandas as pd\n",
    "import numpy as np\n",
    "import scipy.stats as st\n",
    "import statsmodels.api as sm"
   ]
  },
  {
   "cell_type": "markdown",
   "metadata": {},
   "source": [
    "## Esercizio 1"
   ]
  },
  {
   "cell_type": "markdown",
   "metadata": {},
   "source": [
    "$X \\sim P(\\lambda)$"
   ]
  },
  {
   "cell_type": "markdown",
   "metadata": {},
   "source": [
    "#### 1. \n",
    "Il parametro lambda, in una distrubuzione di poisson, rappresenta la media del numero di eventi che si verificano in un certo periodo di tempo, dunque può assumere un valore maggiore di 1 ma non può assumere valori negativi, in quanto non avrebbe \n",
    "senso parlare di un numero negativo di eventi verificati. Inoltre, per come è definita la funzione di massa di probabilità di una v.a. di poisson, se lambda fosse negativa ci sarebbero dei casi in cui la funzione assumerebbe valori negativi, il che è impossibile perchè\n",
    "una funzione di massa di probabilità di una generica v.a. discreta deve avere come codominio [0, 1] (in quanto rappresenta una probabilità)."
   ]
  },
  {
   "cell_type": "markdown",
   "metadata": {},
   "source": [
    "#### 2.\n",
    "$\\mathbb{E}[X] = \\lambda$\n",
    "\n",
    "$\\sigma_X = \\sqrt{\\lambda}$\n",
    "\n",
    "$\\sigma^2_X = \\mathbb{E}[X]$"
   ]
  },
  {
   "cell_type": "markdown",
   "metadata": {},
   "source": [
    "#### 3.\n",
    "Sia $Y \\sim X$,    Y indipendente da X\n",
    "\n",
    "$p(x) = P(X + Y = x)$\n",
    "\n",
    "Sia Q = X + Y, allora per la riproducibilità della distribuzione di possion $Q \\sim P(\\lambda + \\lambda)=P(2\\lambda)$\n",
    "\n",
    "$p(x) = e^{-2\\lambda} \\frac{(2\\lambda)^x}{x!}$"
   ]
  },
  {
   "cell_type": "markdown",
   "metadata": {},
   "source": [
    "#### 4."
   ]
  },
  {
   "cell_type": "code",
   "execution_count": 17,
   "metadata": {
    "collapsed": true
   },
   "outputs": [],
   "source": [
    "l = 0.9\n",
    "Q = st.poisson(2*l)"
   ]
  },
  {
   "cell_type": "code",
   "execution_count": 18,
   "metadata": {
    "collapsed": true
   },
   "outputs": [],
   "source": [
    "# scelgo il valore massimo utilizzando la funzione di ripartizione inversa con un parametro prossimo all'1, in questo modo sono sicuro di  includere nel grafico \n",
    "# tutti i punti per cui la funzione di massa di probabilità assume valori significativi (non prossimi allo zero)\n",
    "\n",
    "x_max = Q.ppf(0.9999)\n",
    "values = range(0, int(x_max) + 1) # aggiungo uno perché l'estremo superiore viene escluso dal range"
   ]
  },
  {
   "cell_type": "code",
   "execution_count": 19,
   "metadata": {},
   "outputs": [
    {
     "data": {
      "image/png": "[encoded data removed]",
      "text/plain": [
       "<matplotlib.figure.Figure at 0x7fa959270b38>"
      ]
     },
     "metadata": {},
     "output_type": "display_data"
    }
   ],
   "source": [
    "plt.vlines(values, 0, Q.pmf(values)) # grafico a bastoncini perché lavoriamo con parametri naturali, quindi barre aventi spessore o linee poligonali potrebbero confondere l'osservatore, dando un senso di falsa continuità\n",
    "plt.plot(values, Q.pmf(values), 'o')\n",
    "plt.show()"
   ]
  },
  {
   "cell_type": "markdown",
   "metadata": {},
   "source": [
    "#### 5.\n",
    "$ S \\sim P(n\\lambda) $"
   ]
  },
  {
   "cell_type": "markdown",
   "metadata": {},
   "source": [
    "## Esercizio 2"
   ]
  },
  {
   "cell_type": "markdown",
   "metadata": {},
   "source": [
    "$X_1, \\ldots, X_n$  i.i.d  come $X \\sim P(\\lambda) $"
   ]
  },
  {
   "cell_type": "markdown",
   "metadata": {},
   "source": [
    "#### 1.\n",
    "$n=3$\n",
    "\n",
    "$T = X_1 + X_2 - X_3$\n",
    "\n",
    "$\\mathbb{E}(T) = \\mathbb{E}(X_1 + X_2 - X_3) = \\mathbb{E}(X_1) + \\mathbb{E}(X_2) - \\mathbb{E}(X_3) = \\mathbb{E}(X) + \\mathbb{E}(X) - \\mathbb{E}(X) = \\mathbb{E}(X) = \\lambda $\n",
    "\n",
    "T è uno stimatore non deviato per $\\lambda$ in quanto il valore atteso di T coincide con la quantità che vogliamo stimare, ovvero $\\lambda$.\n",
    "\n",
    "\n",
    "$U = \\frac{1}{5}(2X_1 +2 X_2 + X_3)$\n",
    "\n",
    "$ \\mathbb{E}(U) = \\mathbb{E}(\\frac{1}{5}(2X_1 +2 X_2 + X_3)) = \\frac{1}{5}[ \\mathbb{E}(2X_1 +2 X_2 + X_3)] = \\frac{1}{5}[ \\mathbb{E}(2X_1) +  \\mathbb{E}(2 X_2) +  \\mathbb{E}(X_3)] = \\frac{1}{5}[ 2\\mathbb{E}(X_1) +  2\\mathbb{E}(X_2) +  \\mathbb{E}(X_3)] \n",
    " = \\frac{1}{5}[ 2\\mathbb{E}(X) +  2\\mathbb{E}(X) +  \\mathbb{E}(X)] = \\frac{1}{5}[ 2\\lambda +  2\\lambda +  \\lambda] = \\lambda$\n",
    " \n",
    " U è uno stimatore non deviato per $\\lambda$ in quanto il valore atteso di U coincide con la quantità che vogliamo stimare, ovvero $\\lambda$.\n",
    " \n",
    " !QUI HO UN DUBBIO SU DUE POSSIBILI RISPOSTE!\n",
    " \n",
    "  1) Non possiamo valutare se questi stimatori sono consistenti in media quadratica perché n, essendo fissato a 3, non comparirà mai come parametro. Quindi non possiamo valutare cosa succede quando n tende a infinito\n",
    "  \n",
    "  2) Calcolo la varianza di entrambi gli stimatori (nel risultato non comparirà n come parametro), ne calcolo il limite per n che tende a infinito, ma n non c´è quindi il risultato non cambia e dunque non sono consistenti in media quadratica"
   ]
  },
  {
   "cell_type": "markdown",
   "metadata": {},
   "source": [
    "#### 2.\n",
    "$ \\overline{X}$ non è distribuito secondo uno dei modelli studiati\n",
    "\n",
    "$ P(\\overline{X} = x) = P(\\frac{1}{n}\\sum_{i=1}^{n}X_i = x) = P( \\sum_{i=1}^{n}X_i = nx) $\n",
    "\n",
    "Per le proprietà della distribuzione di poisson e il fatto che le $X_i$ sono i.i.d, la quantità $Q=\\sum_{i=1}^{n}X_i$ è distribuita come una v.a. di poisson di parametro $n\\lambda$, quindi:\n",
    "\n",
    "$ P( \\sum_{i=1}^{n}X_i = nx) =  P(Q = nx) = e^{-n\\lambda} \\frac{(n\\lambda)^{nx}}{(nx)!}$"
   ]
  },
  {
   "cell_type": "markdown",
   "metadata": {},
   "source": [
    "#### 3.\n",
    "$\\overline{X}$ può essere approssimato con una distribuzione normale, $\\overline{X} \\dot{\\sim} N(\\lambda, \\frac{\\sqrt{\\lambda}}{\\sqrt{n}}) $\n",
    "\n",
    "Grazie al teorema centrale del limite sappiamo che $ \\sum_{i=1}^{n}X_i \\dot{\\sim} N(n\\mu_x, \\sqrt{n}\\sigma_x)$, dove questa approssimazione è tanto migliore quanto n è grande.\n",
    "\n",
    "Ora, grazie alle proprietà della distribuzione normale, sappiamo che:  $  (a\\sum_{i=1}^{n}X_i) \\dot{\\sim} N(an\\mu_x, a\\sqrt{n}\\sigma_x)$, dunque se poniamo $ a = \\frac{1}{n}$ otteniamo:\n",
    "\n",
    "$  (\\frac{1}{n}\\sum_{i=1}^{n}X_i) \\dot{\\sim} N(\\frac{1}{n}n\\mu_x, \\frac{1}{n}\\sqrt{n}\\sigma_x) = N(\\mu_x, \\frac{1}{\\sqrt{n}}\\sigma_x) = N(\\lambda, \\frac{1}{\\sqrt{n}}\\sqrt{\\lambda})$"
   ]
  },
  {
   "cell_type": "markdown",
   "metadata": {},
   "source": [
    "#### 4.\n",
    "$\\overline{X}$ è sempre uno stimatore non deviato per $\\mathbb{E}(X)$, infatti  $\\mathbb{E}(\\overline{X})=\\mathbb{E}(X) = \\lambda$\n",
    "\n",
    "$b_{\\lambda}(\\overline{X}) = \\mathbb{E}(\\overline{X}) - \\lambda = 0$\n",
    "\n",
    "$MSE_{\\lambda}(\\overline{X}) = Var(\\overline{X}) + b_{\\lambda}(\\overline{X})^2 = Var(\\overline{X}) = Var(\\frac{1}{n}\\sum_{i=1}^{n}X_i) = \\frac{1}{n^2}Var(\\sum_{i=1}^{n}X_i) = \\frac{1}{n^2}\\sum_{i=1}^{n}Var(X_i) = \\frac{1}{n^2}\\sum_{i=1}^{n}Var(X) = \\frac{1}{n^2}\\sum_{i=1}^{n}\\lambda = \\frac{\\lambda}{n}$\n",
    "\n",
    "Se considero $n\\to+\\infty $, MSE $\\to 0$ quindi $\\overline{X}$ è consistente in media quadratica rispetto a $\\mathbb{E}(X)$"
   ]
  },
  {
   "cell_type": "markdown",
   "metadata": {},
   "source": [
    "#### 5.\n",
    "non ripeto i calcoli fatti sopra, osservo che in una distribuzione di poisson $\\mathbb{E}(X) = Var(X)$ e quindi valgono tutte le osservazioni fatte precedentemente"
   ]
  },
  {
   "cell_type": "markdown",
   "metadata": {},
   "source": [
    "#### 6.\n",
    "$\\overline{X}$ è deviato rispetto a $\\sigma_X=\\sqrt{\\lambda}$\n",
    "\n",
    "$b_{\\sqrt{\\lambda}}(\\overline{X}) = \\mathbb{E}(\\overline{X}) - \\sqrt{\\lambda} = \\lambda - \\sqrt{\\lambda}$\n",
    "\n",
    "$MSE_{\\sqrt{\\lambda}}(\\overline{X}) = Var(\\overline{X}) + b_{\\sqrt{\\lambda}}(\\overline{X})^2 =  \\frac{\\lambda}{n} + (\\lambda - \\sqrt{\\lambda})^2$\n",
    "\n",
    "Se considero $n\\to+\\infty $, MSE $\\to 0$ quindi $\\overline{X}$ è consistente in media quadratica rispetto a $\\sigma_X$"
   ]
  },
  {
   "cell_type": "markdown",
   "metadata": {},
   "source": [
    "#### 7.\n",
    "$n = 1125$\n",
    "\n",
    "Sia $Z \\sim N(0, 1)$\n",
    "\n",
    "$P(|\\overline{X}-\\lambda| \\le \\epsilon) = P(-\\epsilon \\le \\overline{X}-\\lambda \\le \\epsilon) \\simeq P(-\\frac{\\epsilon \\sqrt{n}}{\\sqrt{\\lambda}} \\le Z \\le \\frac{\\epsilon \\sqrt{n}}{\\sqrt{\\lambda}}) = \\Phi(\\frac{\\epsilon \\sqrt{n}}{\\sqrt{\\lambda}}) -  \\Phi(-\\frac{\\epsilon \\sqrt{n}}{\\sqrt{\\lambda}}) = \\Phi(\\frac{\\epsilon \\sqrt{n}}{\\sqrt{\\lambda}}) - (1 - \\Phi(\\frac{\\epsilon \\sqrt{n}}{\\sqrt{\\lambda}})) = 2\\Phi(\\frac{\\epsilon \\sqrt{n}}{\\sqrt{\\lambda}}) - 1 = 2\\Phi(\\frac{\\epsilon \\sqrt{1125}}{\\sqrt{\\lambda}}) - 1$"
   ]
  },
  {
   "cell_type": "markdown",
   "metadata": {},
   "source": [
    "## Esercizio 3"
   ]
  },
  {
   "cell_type": "code",
   "execution_count": 20,
   "metadata": {},
   "outputs": [
    {
     "data": {
      "text/html": [
       "<div>\n",
       "<table border=\"1\" class=\"dataframe\">\n",
       "  <thead>\n",
       "    <tr style=\"text-align: right;\">\n",
       "      <th></th>\n",
       "      <th>temperatura</th>\n",
       "      <th>blocchidanneggiati</th>\n",
       "      <th>raffreddamento</th>\n",
       "    </tr>\n",
       "  </thead>\n",
       "  <tbody>\n",
       "    <tr>\n",
       "      <th>0</th>\n",
       "      <td>46.024489</td>\n",
       "      <td>0.0</td>\n",
       "      <td>1.0</td>\n",
       "    </tr>\n",
       "    <tr>\n",
       "      <th>1</th>\n",
       "      <td>83.225486</td>\n",
       "      <td>0.0</td>\n",
       "      <td>1.0</td>\n",
       "    </tr>\n",
       "  </tbody>\n",
       "</table>\n",
       "</div>"
      ],
      "text/plain": [
       "   temperatura  blocchidanneggiati  raffreddamento\n",
       "0    46.024489                 0.0             1.0\n",
       "1    83.225486                 0.0             1.0"
      ]
     },
     "execution_count": 20,
     "metadata": {},
     "output_type": "execute_result"
    }
   ],
   "source": [
    "# uso il dataset facsimile che si trova sul gruppo telegram\n",
    "data = pd.read_csv('rilevazioni.csv', sep=';')\n",
    "data.head(2)"
   ]
  },
  {
   "cell_type": "markdown",
   "metadata": {
    "hide_input": true
   },
   "source": [
    "#### 1."
   ]
  },
  {
   "cell_type": "code",
   "execution_count": 21,
   "metadata": {},
   "outputs": [
    {
     "data": {
      "text/plain": [
       "1727"
      ]
     },
     "execution_count": 21,
     "metadata": {},
     "output_type": "execute_result"
    }
   ],
   "source": [
    "len(data) # numero casi nel dataset"
   ]
  },
  {
   "cell_type": "code",
   "execution_count": 22,
   "metadata": {},
   "outputs": [
    {
     "data": {
      "text/plain": [
       "temperatura           False\n",
       "blocchidanneggiati    False\n",
       "raffreddamento         True\n",
       "dtype: bool"
      ]
     },
     "execution_count": 22,
     "metadata": {},
     "output_type": "execute_result"
    }
   ],
   "source": [
    "pd.isnull(data).any() # attributi che hanno almeno un valore mancante"
   ]
  },
  {
   "cell_type": "code",
   "execution_count": 23,
   "metadata": {},
   "outputs": [
    {
     "data": {
      "text/plain": [
       "5"
      ]
     },
     "execution_count": 23,
     "metadata": {},
     "output_type": "execute_result"
    }
   ],
   "source": [
    "sum(pd.isnull(data['raffreddamento'])) # numero casi che contengono almeno un valore mancante"
   ]
  },
  {
   "cell_type": "markdown",
   "metadata": {},
   "source": [
    "#### 2."
   ]
  },
  {
   "cell_type": "code",
   "execution_count": 24,
   "metadata": {},
   "outputs": [
    {
     "data": {
      "image/png": "[encoded data removed]",
      "text/plain": [
       "<matplotlib.figure.Figure at 0x7fa959180358>"
      ]
     },
     "metadata": {},
     "output_type": "display_data"
    }
   ],
   "source": [
    "# diagramma a torta perchè l'attributo è binario, quindi ho solo due colori che risultano distinguibili facilmente. Ho subito un idea delle proporzioni delle osservazioni\n",
    "raff_freq = data['raffreddamento'].value_counts(normalize=True).sort_index()\n",
    "plt.pie(raff_freq, labels=['senza raffreddamento', 'con raffreddamento'])\n",
    "plt.show()"
   ]
  },
  {
   "cell_type": "code",
   "execution_count": 25,
   "metadata": {
    "collapsed": true
   },
   "outputs": [],
   "source": [
    "# dal grafico si nota che la maggior parte delle osservazioni registrate ha il raffreddamento attivo"
   ]
  },
  {
   "cell_type": "markdown",
   "metadata": {},
   "source": [
    "#### 3."
   ]
  },
  {
   "cell_type": "code",
   "execution_count": 26,
   "metadata": {},
   "outputs": [
    {
     "data": {
      "text/plain": [
       "(60.765252036957826, 58.847900257623103)"
      ]
     },
     "execution_count": 26,
     "metadata": {},
     "output_type": "execute_result"
    }
   ],
   "source": [
    "data[data['raffreddamento'] == 0]['temperatura'].mean(),  data[data['raffreddamento'] == 1]['temperatura'].mean() # TODO: forse ANOVA? SCATTER PLOT? INDICE DI CORRELAZIONE (si può fare scatter plot o indice di corr. se un attributo è binario?) O va bene così?"
   ]
  },
  {
   "cell_type": "code",
   "execution_count": 27,
   "metadata": {
    "collapsed": true
   },
   "outputs": [],
   "source": [
    "# sembra che la temperatura non influisca, perchè la media dei gruppi è molto simile"
   ]
  },
  {
   "cell_type": "markdown",
   "metadata": {},
   "source": [
    "#### 4."
   ]
  },
  {
   "cell_type": "code",
   "execution_count": 28,
   "metadata": {},
   "outputs": [
    {
     "data": {
      "image/png": "[encoded data removed]",
      "text/plain": [
       "<matplotlib.figure.Figure at 0x7fa95590ce10>"
      ]
     },
     "metadata": {},
     "output_type": "display_data"
    }
   ],
   "source": [
    "blocchi_freq = data['blocchidanneggiati'].value_counts(normalize=True).sort_index() # più si considerano numeri elevati di blocchi danneggiati, più le frequenze diminuiscono.\n",
    "plt.vlines(blocchi_freq.index, 0, blocchi_freq.values) # grafico a bastoncini perchè consideriamo valori da 0 a 6 interi quindi ....\n",
    "plt.plot(blocchi_freq.index, blocchi_freq.values, 'o')\n",
    "plt.show()"
   ]
  },
  {
   "cell_type": "markdown",
   "metadata": {},
   "source": [
    "#### 5.\n",
    "non sono per niente sicuro di come ho svolto questo esercizio"
   ]
  },
  {
   "cell_type": "code",
   "execution_count": 29,
   "metadata": {},
   "outputs": [
    {
     "data": {
      "text/html": [
       "<div>\n",
       "<table border=\"1\" class=\"dataframe\">\n",
       "  <thead>\n",
       "    <tr style=\"text-align: right;\">\n",
       "      <th>raffreddamento</th>\n",
       "      <th>0.0</th>\n",
       "      <th>1.0</th>\n",
       "      <th>All</th>\n",
       "    </tr>\n",
       "    <tr>\n",
       "      <th>blocchidanneggiati</th>\n",
       "      <th></th>\n",
       "      <th></th>\n",
       "      <th></th>\n",
       "    </tr>\n",
       "  </thead>\n",
       "  <tbody>\n",
       "    <tr>\n",
       "      <th>0.0</th>\n",
       "      <td>116</td>\n",
       "      <td>830</td>\n",
       "      <td>946</td>\n",
       "    </tr>\n",
       "    <tr>\n",
       "      <th>1.0</th>\n",
       "      <td>181</td>\n",
       "      <td>253</td>\n",
       "      <td>434</td>\n",
       "    </tr>\n",
       "    <tr>\n",
       "      <th>2.0</th>\n",
       "      <td>166</td>\n",
       "      <td>34</td>\n",
       "      <td>200</td>\n",
       "    </tr>\n",
       "    <tr>\n",
       "      <th>3.0</th>\n",
       "      <td>89</td>\n",
       "      <td>5</td>\n",
       "      <td>94</td>\n",
       "    </tr>\n",
       "    <tr>\n",
       "      <th>4.0</th>\n",
       "      <td>37</td>\n",
       "      <td>0</td>\n",
       "      <td>37</td>\n",
       "    </tr>\n",
       "    <tr>\n",
       "      <th>5.0</th>\n",
       "      <td>8</td>\n",
       "      <td>0</td>\n",
       "      <td>8</td>\n",
       "    </tr>\n",
       "    <tr>\n",
       "      <th>6.0</th>\n",
       "      <td>3</td>\n",
       "      <td>0</td>\n",
       "      <td>3</td>\n",
       "    </tr>\n",
       "    <tr>\n",
       "      <th>All</th>\n",
       "      <td>600</td>\n",
       "      <td>1122</td>\n",
       "      <td>1722</td>\n",
       "    </tr>\n",
       "  </tbody>\n",
       "</table>\n",
       "</div>"
      ],
      "text/plain": [
       "raffreddamento      0.0   1.0   All\n",
       "blocchidanneggiati                 \n",
       "0.0                 116   830   946\n",
       "1.0                 181   253   434\n",
       "2.0                 166    34   200\n",
       "3.0                  89     5    94\n",
       "4.0                  37     0    37\n",
       "5.0                   8     0     8\n",
       "6.0                   3     0     3\n",
       "All                 600  1122  1722"
      ]
     },
     "execution_count": 29,
     "metadata": {},
     "output_type": "execute_result"
    }
   ],
   "source": [
    "pd.crosstab(data['blocchidanneggiati'], columns=[data['raffreddamento']], margins=True)"
   ]
  },
  {
   "cell_type": "code",
   "execution_count": 30,
   "metadata": {
    "collapsed": true
   },
   "outputs": [],
   "source": [
    "# R = raffreddamento attivato\n",
    "# D = almeno un blocco danneggiato"
   ]
  },
  {
   "cell_type": "code",
   "execution_count": 31,
   "metadata": {},
   "outputs": [
    {
     "data": {
      "text/plain": [
       "(0.45063879210220675, 0.4506387921022067)"
      ]
     },
     "execution_count": 31,
     "metadata": {},
     "output_type": "execute_result"
    }
   ],
   "source": [
    "# P(D)\n",
    "(1722 - 946)/1722, 1 - 946/1722 # entrambi i metodi sono validi"
   ]
  },
  {
   "cell_type": "code",
   "execution_count": 32,
   "metadata": {},
   "outputs": [
    {
     "data": {
      "text/plain": [
       "0.16957026713124274"
      ]
     },
     "execution_count": 32,
     "metadata": {},
     "output_type": "execute_result"
    }
   ],
   "source": [
    "# P(R intersezione D)\n",
    "# P(R intersezione D) = P(R | D) * P(D)\n",
    "((1122-830)/(1722-946)) * ((1722 - 946)/1722)"
   ]
  },
  {
   "cell_type": "code",
   "execution_count": 33,
   "metadata": {},
   "outputs": [
    {
     "data": {
      "text/plain": [
       "0.26024955436720143"
      ]
     },
     "execution_count": 33,
     "metadata": {},
     "output_type": "execute_result"
    }
   ],
   "source": [
    "# P(D | R)\n",
    "(1122-830)/1122"
   ]
  },
  {
   "cell_type": "code",
   "execution_count": 34,
   "metadata": {},
   "outputs": [
    {
     "data": {
      "text/plain": [
       "0.8773784355179705"
      ]
     },
     "execution_count": 34,
     "metadata": {},
     "output_type": "execute_result"
    }
   ],
   "source": [
    "# P(R | !D)\n",
    "830/946"
   ]
  },
  {
   "cell_type": "code",
   "execution_count": 35,
   "metadata": {
    "collapsed": true
   },
   "outputs": [],
   "source": [
    "# TODO: perché non devono sommare a 1? forse perchè l'unione degli eventi che queste probabilità considerano non sono l´insieme universo?"
   ]
  },
  {
   "cell_type": "markdown",
   "metadata": {},
   "source": [
    "## Esercizio 4"
   ]
  },
  {
   "cell_type": "markdown",
   "metadata": {},
   "source": [
    "#### 1."
   ]
  },
  {
   "cell_type": "code",
   "execution_count": 36,
   "metadata": {
    "collapsed": true
   },
   "outputs": [],
   "source": [
    "raffreddamento_si = data[data['raffreddamento'] == 1]['blocchidanneggiati']\n",
    "raffreddamento_no = data[data['raffreddamento'] == 0]['blocchidanneggiati']"
   ]
  },
  {
   "cell_type": "markdown",
   "metadata": {},
   "source": [
    "#### 2."
   ]
  },
  {
   "cell_type": "code",
   "execution_count": 37,
   "metadata": {
    "collapsed": true
   },
   "outputs": [],
   "source": [
    "decili = [i/10 for i in range(0, 11)]\n",
    "decili_si = raffreddamento_si.quantile(decili)\n",
    "decili_no = raffreddamento_no.quantile(decili)"
   ]
  },
  {
   "cell_type": "code",
   "execution_count": 38,
   "metadata": {},
   "outputs": [
    {
     "data": {
      "image/png": "[encoded data removed]",
      "text/plain": [
       "<matplotlib.figure.Figure at 0x7fa95585ac50>"
      ]
     },
     "metadata": {},
     "output_type": "display_data"
    }
   ],
   "source": [
    "plt.plot(decili_si, decili_no, 'o')\n",
    "plt.show()"
   ]
  },
  {
   "cell_type": "code",
   "execution_count": 39,
   "metadata": {
    "collapsed": true
   },
   "outputs": [],
   "source": [
    "# dal grafico confermo l'ipotesi che la distribuzione del numero di blocchi danneggiati sia dipendente dal funzionamento del sistema di raffreddamento automatico.\n",
    "# Questo perché dal qqplot empirico le due distribuzioni risultano diverse, ma dato che sono diverse a causa della separazione in gruppi per funzionamento o meno del sistema di raffreddamento, possiamo\n",
    "# inferire che il numero di blocchi danneggiati sia dipendente dal funzionamento del sistema di raffreddamento."
   ]
  },
  {
   "cell_type": "code",
   "execution_count": 40,
   "metadata": {
    "collapsed": true
   },
   "outputs": [],
   "source": [
    "# altri metodi per la verifica sono:"
   ]
  },
  {
   "cell_type": "code",
   "execution_count": 41,
   "metadata": {},
   "outputs": [
    {
     "data": {
      "text/plain": [
       "(0.29946524064171121, 1.6433333333333333)"
      ]
     },
     "execution_count": 41,
     "metadata": {},
     "output_type": "execute_result"
    }
   ],
   "source": [
    "raffreddamento_si.mean(), raffreddamento_no.mean() # i blocchi si sono rotti più facilmente quando il raffreddamento era spento"
   ]
  },
  {
   "cell_type": "code",
   "execution_count": 42,
   "metadata": {
    "collapsed": true
   },
   "outputs": [],
   "source": [
    "# TODO: funzione di ripartizione empirica? "
   ]
  },
  {
   "cell_type": "markdown",
   "metadata": {},
   "source": [
    "#### 3."
   ]
  },
  {
   "cell_type": "code",
   "execution_count": 43,
   "metadata": {},
   "outputs": [
    {
     "data": {
      "text/plain": [
       "0.29946524064171121"
      ]
     },
     "execution_count": 43,
     "metadata": {},
     "output_type": "execute_result"
    }
   ],
   "source": [
    "raffreddamento_si.mean() # stimo il valore atteso della popolazione con la media campionaria"
   ]
  },
  {
   "cell_type": "markdown",
   "metadata": {},
   "source": [
    "#### 4."
   ]
  },
  {
   "cell_type": "code",
   "execution_count": 44,
   "metadata": {
    "collapsed": true
   },
   "outputs": [],
   "source": [
    "X = st.poisson(raffreddamento_si.mean())"
   ]
  },
  {
   "cell_type": "code",
   "execution_count": 45,
   "metadata": {
    "collapsed": true
   },
   "outputs": [],
   "source": [
    "# non posso usare statsmodels perchè la funzione qqplot funziona solo con v.a. continue, quindi devo fare a mano"
   ]
  },
  {
   "cell_type": "code",
   "execution_count": 46,
   "metadata": {},
   "outputs": [
    {
     "data": {
      "image/png": "[encoded data removed]",
      "text/plain": [
       "<matplotlib.figure.Figure at 0x7fa955725cf8>"
      ]
     },
     "metadata": {},
     "output_type": "display_data"
    }
   ],
   "source": [
    "quantili = np.arange(0.01, 1.01, 0.01)\n",
    "plt.plot(X.ppf(quantili), raffreddamento_si.quantile(quantili), 'o', alpha=0.3) # idea: dato che i punti si sovrappongono uso un po' di trasparenza sul colore per sottolineare la presenza di molteplici punti in una stessa posizione\n",
    "plt.plot([0, 2], [0, 2])\n",
    "plt.show() # i punti si distribuiscono circa sulla bisettrice, confermando l'ipotesi"
   ]
  },
  {
   "cell_type": "code",
   "execution_count": 47,
   "metadata": {},
   "outputs": [
    {
     "data": {
      "text/plain": [
       "(0.29946524064171121, 0.29739489664976365)"
      ]
     },
     "execution_count": 47,
     "metadata": {},
     "output_type": "execute_result"
    }
   ],
   "source": [
    "raffreddamento_si.mean(), raffreddamento_si.var() # inoltre stima del valore atteso e stima della varianza sono molto simili, suggersce una distribuzione di poisson"
   ]
  },
  {
   "cell_type": "markdown",
   "metadata": {},
   "source": [
    "#### 5."
   ]
  },
  {
   "cell_type": "code",
   "execution_count": 48,
   "metadata": {
    "collapsed": true
   },
   "outputs": [],
   "source": [
    "Y = st.poisson(raffreddamento_no.mean())"
   ]
  },
  {
   "cell_type": "code",
   "execution_count": 49,
   "metadata": {
    "scrolled": false
   },
   "outputs": [
    {
     "data": {
      "image/png": "[encoded data removed]",
      "text/plain": [
       "<matplotlib.figure.Figure at 0x7fa9556be898>"
      ]
     },
     "metadata": {},
     "output_type": "display_data"
    }
   ],
   "source": [
    "quantili = np.arange(0.01, 1.01, 0.01)\n",
    "plt.plot(Y.ppf(quantili), raffreddamento_no.quantile(quantili), 'o', alpha=0.3)\n",
    "plt.plot([0, 5], [0, 5])\n",
    "plt.show() # i punti si distribuiscono circa sulla bisettrice, confermando l'ipotesi"
   ]
  },
  {
   "cell_type": "markdown",
   "metadata": {},
   "source": [
    "#### 6.\n",
    "\n",
    "(1) Stimatore per $Var(X_{SI})$: $\\overline{X}$\n",
    "\n",
    "(2) Stimatore per $\\sqrt{Var(X_{SI})}$:\n",
    "\n",
    "(3) Stimatore per $\\lambda_{SI}$: $\\overline{X}$\n",
    "\n",
    "(1) e (3) sono non deviati rispetto alla quantita che stimano\n",
    "\n",
    "(2) è deviato per la quantità che stima\n",
    "\n",
    "(1), (2), (3) sono consistenti in media quadratica"
   ]
  },
  {
   "cell_type": "markdown",
   "metadata": {},
   "source": [
    "#### 7.\n",
    "$ P(|\\overline{X} - \\mu_X| > 0.1) $ \n",
    "\n",
    "$ P(|\\overline{X} - \\mu_X| > 0.1) = 1 - P(|\\overline{X} - \\mu_X| <= 0.1)$ !! non sono sicuro che questa equazione sia vera !!\n",
    "\n",
    "riutilizzo i calcoli di un esercizio precedente:\n",
    "\n",
    "$P(|\\overline{X}-\\lambda| \\le \\epsilon) = P(-\\epsilon \\le \\overline{X}-\\lambda \\le \\epsilon) \\simeq P(-\\frac{\\epsilon \\sqrt{n}}{\\sqrt{\\lambda}} \\le Z \\le \\frac{\\epsilon \\sqrt{n}}{\\sqrt{\\lambda}}) = \\Phi(\\frac{\\epsilon \\sqrt{n}}{\\sqrt{\\lambda}}) -  \\Phi(-\\frac{\\epsilon \\sqrt{n}}{\\sqrt{\\lambda}}) = \\Phi(\\frac{\\epsilon \\sqrt{n}}{\\sqrt{\\lambda}}) - (1 - \\Phi(\\frac{\\epsilon \\sqrt{n}}{\\sqrt{\\lambda}})) = 2\\Phi(\\frac{\\epsilon \\sqrt{n}}{\\sqrt{\\lambda}}) - 1$\n",
    "\n",
    "$ 1 - P(|\\overline{X} - \\mu_X| <= 0.1) = 1 - (2\\Phi(\\frac{0.1 \\sqrt{n}}{\\sqrt{\\lambda}}) - 1)$"
   ]
  },
  {
   "cell_type": "code",
   "execution_count": 50,
   "metadata": {},
   "outputs": [
    {
     "data": {
      "text/plain": [
       "9.2982999078117246e-10"
      ]
     },
     "execution_count": 50,
     "metadata": {},
     "output_type": "execute_result"
    }
   ],
   "source": [
    "Z = st.norm()\n",
    "n = len(raffreddamento_si)**.5\n",
    "l = raffreddamento_si.mean()**.5\n",
    "1 - (2*Z.cdf((0.1 * n) / l) - 1) # non sono per niente sicuro"
   ]
  },
  {
   "cell_type": "markdown",
   "metadata": {},
   "source": [
    "#### 8."
   ]
  },
  {
   "cell_type": "code",
   "execution_count": 51,
   "metadata": {},
   "outputs": [
    {
     "data": {
      "text/plain": [
       "0.65156794425087106"
      ]
     },
     "execution_count": 51,
     "metadata": {},
     "output_type": "execute_result"
    }
   ],
   "source": [
    "sum(data['raffreddamento'] == 1)/len(data.dropna()) # non sono sicuro di questa risposta"
   ]
  },
  {
   "cell_type": "markdown",
   "metadata": {},
   "source": [
    "#### 9."
   ]
  },
  {
   "cell_type": "code",
   "execution_count": 52,
   "metadata": {
    "collapsed": true
   },
   "outputs": [],
   "source": [
    "l_si = raffreddamento_si.mean()\n",
    "l_no = raffreddamento_no.mean()\n",
    "\n",
    "X_SI = st.poisson(l_si)\n",
    "X_NO = st.poisson(l_no)"
   ]
  },
  {
   "cell_type": "code",
   "execution_count": 53,
   "metadata": {},
   "outputs": [
    {
     "data": {
      "text/plain": [
       "1.565177694551334e-05"
      ]
     },
     "execution_count": 53,
     "metadata": {},
     "output_type": "execute_result"
    }
   ],
   "source": [
    "# P(X_SI > 4) = 1 - P(X_SI <= 4)\n",
    "1 - X_SI.cdf(4)"
   ]
  },
  {
   "cell_type": "code",
   "execution_count": 54,
   "metadata": {},
   "outputs": [
    {
     "data": {
      "text/plain": [
       "0.026149440421429859"
      ]
     },
     "execution_count": 54,
     "metadata": {},
     "output_type": "execute_result"
    }
   ],
   "source": [
    "# P(X_NO > 4) = 1 - P(X_NO <= 4)\n",
    "1 - X_NO.cdf(4)"
   ]
  },
  {
   "cell_type": "markdown",
   "metadata": {},
   "source": [
    "#### 10."
   ]
  },
  {
   "cell_type": "code",
   "execution_count": 63,
   "metadata": {},
   "outputs": [
    {
     "data": {
      "text/plain": [
       "0.009121501478856436"
      ]
     },
     "execution_count": 63,
     "metadata": {},
     "output_type": "execute_result"
    }
   ],
   "source": [
    "p = ((1 - X_SI.cdf(4)) * (sum(data['raffreddamento'] == 1)/len(data.dropna()))) + ((1 - X_NO.cdf(4)) *  (sum(data['raffreddamento'] == 0)/len(data.dropna())))\n",
    "p"
   ]
  },
  {
   "cell_type": "markdown",
   "metadata": {},
   "source": [
    "#### 11."
   ]
  },
  {
   "cell_type": "markdown",
   "metadata": {},
   "source": [
    "!!! Non ne ho idea :( !!!"
   ]
  },
  {
   "cell_type": "code",
   "execution_count": 113,
   "metadata": {
    "collapsed": true
   },
   "outputs": [],
   "source": [
    "# se supponiamo che l'allarme possa scattare una sola volta al giorno allora questo ha senso"
   ]
  },
  {
   "cell_type": "code",
   "execution_count": 119,
   "metadata": {},
   "outputs": [],
   "source": [
    "R = st.binom(365, p)\n",
    "p2 = 1 - R.cdf(7)"
   ]
  },
  {
   "cell_type": "code",
   "execution_count": 118,
   "metadata": {},
   "outputs": [
    {
     "data": {
      "text/plain": [
       "151.26376558954658"
      ]
     },
     "execution_count": 118,
     "metadata": {},
     "output_type": "execute_result"
    }
   ],
   "source": [
    "B = st.binom(7500, p2)\n",
    "B.mean()"
   ]
  },
  {
   "cell_type": "code",
   "execution_count": null,
   "metadata": {
    "collapsed": true
   },
   "outputs": [],
   "source": []
  }
 ],
 "metadata": {
  "kernelspec": {
   "display_name": "Python 3",
   "language": "python",
   "name": "python3"
  },
  "language_info": {
   "codemirror_mode": {
    "name": "ipython",
    "version": 3
   },
   "file_extension": ".py",
   "mimetype": "text/x-python",
   "name": "python",
   "nbconvert_exporter": "python",
   "pygments_lexer": "ipython3",
   "version": "3.6.2"
  }
 },
 "nbformat": 4,
 "nbformat_minor": 2
}
