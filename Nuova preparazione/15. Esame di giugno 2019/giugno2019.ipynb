{
 "cells": [
  {
   "cell_type": "code",
   "execution_count": 1,
   "metadata": {},
   "outputs": [],
   "source": [
    "import matplotlib.pyplot as plt\n",
    "import scipy.stats as st\n",
    "import statsmodels.api as sm\n",
    "import pandas as pd\n",
    "import numpy as np\n",
    "import math"
   ]
  },
  {
   "cell_type": "markdown",
   "metadata": {},
   "source": [
    "# Esercizio 4"
   ]
  },
  {
   "cell_type": "code",
   "execution_count": 2,
   "metadata": {},
   "outputs": [
    {
     "data": {
      "text/html": [
       "<div>\n",
       "<style scoped>\n",
       "    .dataframe tbody tr th:only-of-type {\n",
       "        vertical-align: middle;\n",
       "    }\n",
       "\n",
       "    .dataframe tbody tr th {\n",
       "        vertical-align: top;\n",
       "    }\n",
       "\n",
       "    .dataframe thead th {\n",
       "        text-align: right;\n",
       "    }\n",
       "</style>\n",
       "<table border=\"1\" class=\"dataframe\">\n",
       "  <thead>\n",
       "    <tr style=\"text-align: right;\">\n",
       "      <th></th>\n",
       "      <th>Unnamed: 0.1</th>\n",
       "      <th>Unnamed: 0</th>\n",
       "      <th>IDENTIFICATIVO_IMPIANTO</th>\n",
       "      <th>GENERATORI_NUMERO</th>\n",
       "      <th>EDIFICIO_CATEGORIA</th>\n",
       "      <th>GENERATORE_POTENZA</th>\n",
       "      <th>GENERATORE_COMBUSTIBILE</th>\n",
       "      <th>GENERATORE_DATA_INST</th>\n",
       "      <th>RAPPORTO_DI_CONTROLLO_DATA</th>\n",
       "      <th>RAP_DI_CONTROLLO_ESITO</th>\n",
       "      <th>ISPEZIONE_DATA</th>\n",
       "      <th>ISPEZIONE_ESITO</th>\n",
       "    </tr>\n",
       "  </thead>\n",
       "  <tbody>\n",
       "    <tr>\n",
       "      <th>0</th>\n",
       "      <td>4</td>\n",
       "      <td>4</td>\n",
       "      <td>2f0dc989c2291c7d3fa48f8208ec0ff89</td>\n",
       "      <td>3.0</td>\n",
       "      <td>E8</td>\n",
       "      <td>31.0</td>\n",
       "      <td>GAS NATURALE</td>\n",
       "      <td>2000</td>\n",
       "      <td>2015</td>\n",
       "      <td>Positivo</td>\n",
       "      <td>2019</td>\n",
       "      <td>Positivo</td>\n",
       "    </tr>\n",
       "    <tr>\n",
       "      <th>1</th>\n",
       "      <td>14</td>\n",
       "      <td>14</td>\n",
       "      <td>2eedc9b812095cad7f849fe228ec7ff89</td>\n",
       "      <td>1.0</td>\n",
       "      <td>E1</td>\n",
       "      <td>24.0</td>\n",
       "      <td>GAS NATURALE</td>\n",
       "      <td>2011</td>\n",
       "      <td>2018</td>\n",
       "      <td>Positivo</td>\n",
       "      <td>2007</td>\n",
       "      <td>Positivo</td>\n",
       "    </tr>\n",
       "    <tr>\n",
       "      <th>2</th>\n",
       "      <td>36</td>\n",
       "      <td>36</td>\n",
       "      <td>2f3d39bfc2094cbd5f34ffb2188c3ff89</td>\n",
       "      <td>1.0</td>\n",
       "      <td>E1</td>\n",
       "      <td>28.1</td>\n",
       "      <td>GAS NATURALE</td>\n",
       "      <td>2008</td>\n",
       "      <td>2018</td>\n",
       "      <td>Positivo</td>\n",
       "      <td>2015</td>\n",
       "      <td>Negativo</td>\n",
       "    </tr>\n",
       "    <tr>\n",
       "      <th>3</th>\n",
       "      <td>68</td>\n",
       "      <td>68</td>\n",
       "      <td>2f7a198812f96c0d6f340f72288c6ff89</td>\n",
       "      <td>1.0</td>\n",
       "      <td>E1</td>\n",
       "      <td>23.3</td>\n",
       "      <td>GAS NATURALE</td>\n",
       "      <td>1997</td>\n",
       "      <td>2018</td>\n",
       "      <td>Positivo</td>\n",
       "      <td>2013</td>\n",
       "      <td>Negativo</td>\n",
       "    </tr>\n",
       "    <tr>\n",
       "      <th>4</th>\n",
       "      <td>70</td>\n",
       "      <td>70</td>\n",
       "      <td>2f2d49f8d2995cad3f940f6258dc2ff89</td>\n",
       "      <td>1.0</td>\n",
       "      <td>E1</td>\n",
       "      <td>40.0</td>\n",
       "      <td>GASOLIO</td>\n",
       "      <td>2012</td>\n",
       "      <td>2017</td>\n",
       "      <td>Positivo</td>\n",
       "      <td>2016</td>\n",
       "      <td>Positivo</td>\n",
       "    </tr>\n",
       "    <tr>\n",
       "      <th>...</th>\n",
       "      <td>...</td>\n",
       "      <td>...</td>\n",
       "      <td>...</td>\n",
       "      <td>...</td>\n",
       "      <td>...</td>\n",
       "      <td>...</td>\n",
       "      <td>...</td>\n",
       "      <td>...</td>\n",
       "      <td>...</td>\n",
       "      <td>...</td>\n",
       "      <td>...</td>\n",
       "      <td>...</td>\n",
       "    </tr>\n",
       "    <tr>\n",
       "      <th>365770</th>\n",
       "      <td>3297930</td>\n",
       "      <td>3297930</td>\n",
       "      <td>2f4c297843b93c6dcfb4aff278cc1ff89</td>\n",
       "      <td>1.0</td>\n",
       "      <td>E1</td>\n",
       "      <td>23.0</td>\n",
       "      <td>GAS NATURALE</td>\n",
       "      <td>2004</td>\n",
       "      <td>2017</td>\n",
       "      <td>Positivo</td>\n",
       "      <td>2013</td>\n",
       "      <td>Positivo</td>\n",
       "    </tr>\n",
       "    <tr>\n",
       "      <th>365771</th>\n",
       "      <td>3297931</td>\n",
       "      <td>3297931</td>\n",
       "      <td>2f4cf9b982e95cbd1ff4af9258ac4ff89</td>\n",
       "      <td>1.0</td>\n",
       "      <td>E1</td>\n",
       "      <td>27.9</td>\n",
       "      <td>GAS NATURALE</td>\n",
       "      <td>2008</td>\n",
       "      <td>2017</td>\n",
       "      <td>Positivo</td>\n",
       "      <td>2016</td>\n",
       "      <td>Positivo</td>\n",
       "    </tr>\n",
       "    <tr>\n",
       "      <th>365772</th>\n",
       "      <td>3297933</td>\n",
       "      <td>3297933</td>\n",
       "      <td>2f8ca9cf12796c2d7fa4ff8218cc0ff89</td>\n",
       "      <td>1.0</td>\n",
       "      <td>E1</td>\n",
       "      <td>27.9</td>\n",
       "      <td>GAS NATURALE</td>\n",
       "      <td>2004</td>\n",
       "      <td>2017</td>\n",
       "      <td>Positivo</td>\n",
       "      <td>2016</td>\n",
       "      <td>Positivo</td>\n",
       "    </tr>\n",
       "    <tr>\n",
       "      <th>365773</th>\n",
       "      <td>3297939</td>\n",
       "      <td>3297939</td>\n",
       "      <td>2efd29e802995c6ddf349f62789c7ff89</td>\n",
       "      <td>1.0</td>\n",
       "      <td>E1</td>\n",
       "      <td>26.0</td>\n",
       "      <td>GAS NATURALE</td>\n",
       "      <td>2014</td>\n",
       "      <td>2018</td>\n",
       "      <td>Positivo</td>\n",
       "      <td>2009</td>\n",
       "      <td>Positivo</td>\n",
       "    </tr>\n",
       "    <tr>\n",
       "      <th>365774</th>\n",
       "      <td>3297941</td>\n",
       "      <td>3297941</td>\n",
       "      <td>2f4d39d992794c5d3fa4bf8278fc7ff89</td>\n",
       "      <td>1.0</td>\n",
       "      <td>E1</td>\n",
       "      <td>24.0</td>\n",
       "      <td>GAS NATURALE</td>\n",
       "      <td>2010</td>\n",
       "      <td>2015</td>\n",
       "      <td>Positivo</td>\n",
       "      <td>2015</td>\n",
       "      <td>Positivo</td>\n",
       "    </tr>\n",
       "  </tbody>\n",
       "</table>\n",
       "<p>365775 rows × 12 columns</p>\n",
       "</div>"
      ],
      "text/plain": [
       "        Unnamed: 0.1  Unnamed: 0            IDENTIFICATIVO_IMPIANTO  \\\n",
       "0                  4           4  2f0dc989c2291c7d3fa48f8208ec0ff89   \n",
       "1                 14          14  2eedc9b812095cad7f849fe228ec7ff89   \n",
       "2                 36          36  2f3d39bfc2094cbd5f34ffb2188c3ff89   \n",
       "3                 68          68  2f7a198812f96c0d6f340f72288c6ff89   \n",
       "4                 70          70  2f2d49f8d2995cad3f940f6258dc2ff89   \n",
       "...              ...         ...                                ...   \n",
       "365770       3297930     3297930  2f4c297843b93c6dcfb4aff278cc1ff89   \n",
       "365771       3297931     3297931  2f4cf9b982e95cbd1ff4af9258ac4ff89   \n",
       "365772       3297933     3297933  2f8ca9cf12796c2d7fa4ff8218cc0ff89   \n",
       "365773       3297939     3297939  2efd29e802995c6ddf349f62789c7ff89   \n",
       "365774       3297941     3297941  2f4d39d992794c5d3fa4bf8278fc7ff89   \n",
       "\n",
       "        GENERATORI_NUMERO EDIFICIO_CATEGORIA  GENERATORE_POTENZA  \\\n",
       "0                     3.0                 E8                31.0   \n",
       "1                     1.0                 E1                24.0   \n",
       "2                     1.0                 E1                28.1   \n",
       "3                     1.0                 E1                23.3   \n",
       "4                     1.0                 E1                40.0   \n",
       "...                   ...                ...                 ...   \n",
       "365770                1.0                 E1                23.0   \n",
       "365771                1.0                 E1                27.9   \n",
       "365772                1.0                 E1                27.9   \n",
       "365773                1.0                 E1                26.0   \n",
       "365774                1.0                 E1                24.0   \n",
       "\n",
       "       GENERATORE_COMBUSTIBILE  GENERATORE_DATA_INST  \\\n",
       "0                 GAS NATURALE                  2000   \n",
       "1                 GAS NATURALE                  2011   \n",
       "2                 GAS NATURALE                  2008   \n",
       "3                 GAS NATURALE                  1997   \n",
       "4                      GASOLIO                  2012   \n",
       "...                        ...                   ...   \n",
       "365770            GAS NATURALE                  2004   \n",
       "365771            GAS NATURALE                  2008   \n",
       "365772            GAS NATURALE                  2004   \n",
       "365773            GAS NATURALE                  2014   \n",
       "365774            GAS NATURALE                  2010   \n",
       "\n",
       "        RAPPORTO_DI_CONTROLLO_DATA RAP_DI_CONTROLLO_ESITO  ISPEZIONE_DATA  \\\n",
       "0                             2015               Positivo            2019   \n",
       "1                             2018               Positivo            2007   \n",
       "2                             2018               Positivo            2015   \n",
       "3                             2018               Positivo            2013   \n",
       "4                             2017               Positivo            2016   \n",
       "...                            ...                    ...             ...   \n",
       "365770                        2017               Positivo            2013   \n",
       "365771                        2017               Positivo            2016   \n",
       "365772                        2017               Positivo            2016   \n",
       "365773                        2018               Positivo            2009   \n",
       "365774                        2015               Positivo            2015   \n",
       "\n",
       "       ISPEZIONE_ESITO  \n",
       "0             Positivo  \n",
       "1             Positivo  \n",
       "2             Negativo  \n",
       "3             Negativo  \n",
       "4             Positivo  \n",
       "...                ...  \n",
       "365770        Positivo  \n",
       "365771        Positivo  \n",
       "365772        Positivo  \n",
       "365773        Positivo  \n",
       "365774        Positivo  \n",
       "\n",
       "[365775 rows x 12 columns]"
      ]
     },
     "execution_count": 2,
     "metadata": {},
     "output_type": "execute_result"
    }
   ],
   "source": [
    "impianti = pd.read_csv('impianti.csv', sep = ';', decimal='.')\n",
    "impianti"
   ]
  },
  {
   "cell_type": "markdown",
   "metadata": {},
   "source": [
    "1. Quanti dati contiene il dataset?"
   ]
  },
  {
   "cell_type": "code",
   "execution_count": 3,
   "metadata": {},
   "outputs": [
    {
     "data": {
      "text/plain": [
       "365775"
      ]
     },
     "execution_count": 3,
     "metadata": {},
     "output_type": "execute_result"
    }
   ],
   "source": [
    "len(impianti)"
   ]
  },
  {
   "cell_type": "markdown",
   "metadata": {},
   "source": [
    "2. GENERATORE_POTENZA è nominale, ordinale o scalare?\n",
    "\n",
    "GENERATORE_POTENZA è un attributo quantitativo scalare"
   ]
  },
  {
   "cell_type": "markdown",
   "metadata": {},
   "source": [
    "3. Quanti impianti sono stati installati prima del 1940?"
   ]
  },
  {
   "cell_type": "code",
   "execution_count": 4,
   "metadata": {},
   "outputs": [
    {
     "data": {
      "text/plain": [
       "0"
      ]
     },
     "execution_count": 4,
     "metadata": {},
     "output_type": "execute_result"
    }
   ],
   "source": [
    "len(impianti[impianti['GENERATORE_DATA_INST'] < 1940])"
   ]
  },
  {
   "cell_type": "markdown",
   "metadata": {},
   "source": [
    "4. Memorizzate in selezione i casi in cui la potenza è tra 15 e 35 kw e il combustibile è gas naturale"
   ]
  },
  {
   "cell_type": "code",
   "execution_count": 5,
   "metadata": {},
   "outputs": [
    {
     "data": {
      "text/html": [
       "<div>\n",
       "<style scoped>\n",
       "    .dataframe tbody tr th:only-of-type {\n",
       "        vertical-align: middle;\n",
       "    }\n",
       "\n",
       "    .dataframe tbody tr th {\n",
       "        vertical-align: top;\n",
       "    }\n",
       "\n",
       "    .dataframe thead th {\n",
       "        text-align: right;\n",
       "    }\n",
       "</style>\n",
       "<table border=\"1\" class=\"dataframe\">\n",
       "  <thead>\n",
       "    <tr style=\"text-align: right;\">\n",
       "      <th></th>\n",
       "      <th>Unnamed: 0.1</th>\n",
       "      <th>Unnamed: 0</th>\n",
       "      <th>IDENTIFICATIVO_IMPIANTO</th>\n",
       "      <th>GENERATORI_NUMERO</th>\n",
       "      <th>EDIFICIO_CATEGORIA</th>\n",
       "      <th>GENERATORE_POTENZA</th>\n",
       "      <th>GENERATORE_COMBUSTIBILE</th>\n",
       "      <th>GENERATORE_DATA_INST</th>\n",
       "      <th>RAPPORTO_DI_CONTROLLO_DATA</th>\n",
       "      <th>RAP_DI_CONTROLLO_ESITO</th>\n",
       "      <th>ISPEZIONE_DATA</th>\n",
       "      <th>ISPEZIONE_ESITO</th>\n",
       "    </tr>\n",
       "  </thead>\n",
       "  <tbody>\n",
       "    <tr>\n",
       "      <th>0</th>\n",
       "      <td>4</td>\n",
       "      <td>4</td>\n",
       "      <td>2f0dc989c2291c7d3fa48f8208ec0ff89</td>\n",
       "      <td>3.0</td>\n",
       "      <td>E8</td>\n",
       "      <td>31.0</td>\n",
       "      <td>GAS NATURALE</td>\n",
       "      <td>2000</td>\n",
       "      <td>2015</td>\n",
       "      <td>Positivo</td>\n",
       "      <td>2019</td>\n",
       "      <td>Positivo</td>\n",
       "    </tr>\n",
       "    <tr>\n",
       "      <th>1</th>\n",
       "      <td>14</td>\n",
       "      <td>14</td>\n",
       "      <td>2eedc9b812095cad7f849fe228ec7ff89</td>\n",
       "      <td>1.0</td>\n",
       "      <td>E1</td>\n",
       "      <td>24.0</td>\n",
       "      <td>GAS NATURALE</td>\n",
       "      <td>2011</td>\n",
       "      <td>2018</td>\n",
       "      <td>Positivo</td>\n",
       "      <td>2007</td>\n",
       "      <td>Positivo</td>\n",
       "    </tr>\n",
       "    <tr>\n",
       "      <th>2</th>\n",
       "      <td>36</td>\n",
       "      <td>36</td>\n",
       "      <td>2f3d39bfc2094cbd5f34ffb2188c3ff89</td>\n",
       "      <td>1.0</td>\n",
       "      <td>E1</td>\n",
       "      <td>28.1</td>\n",
       "      <td>GAS NATURALE</td>\n",
       "      <td>2008</td>\n",
       "      <td>2018</td>\n",
       "      <td>Positivo</td>\n",
       "      <td>2015</td>\n",
       "      <td>Negativo</td>\n",
       "    </tr>\n",
       "    <tr>\n",
       "      <th>3</th>\n",
       "      <td>68</td>\n",
       "      <td>68</td>\n",
       "      <td>2f7a198812f96c0d6f340f72288c6ff89</td>\n",
       "      <td>1.0</td>\n",
       "      <td>E1</td>\n",
       "      <td>23.3</td>\n",
       "      <td>GAS NATURALE</td>\n",
       "      <td>1997</td>\n",
       "      <td>2018</td>\n",
       "      <td>Positivo</td>\n",
       "      <td>2013</td>\n",
       "      <td>Negativo</td>\n",
       "    </tr>\n",
       "    <tr>\n",
       "      <th>6</th>\n",
       "      <td>74</td>\n",
       "      <td>74</td>\n",
       "      <td>2f4de969c3995c5d6f940fc288fc4ff89</td>\n",
       "      <td>1.0</td>\n",
       "      <td>E1</td>\n",
       "      <td>23.3</td>\n",
       "      <td>GAS NATURALE</td>\n",
       "      <td>2006</td>\n",
       "      <td>2018</td>\n",
       "      <td>Positivo</td>\n",
       "      <td>2008</td>\n",
       "      <td>Positivo</td>\n",
       "    </tr>\n",
       "    <tr>\n",
       "      <th>...</th>\n",
       "      <td>...</td>\n",
       "      <td>...</td>\n",
       "      <td>...</td>\n",
       "      <td>...</td>\n",
       "      <td>...</td>\n",
       "      <td>...</td>\n",
       "      <td>...</td>\n",
       "      <td>...</td>\n",
       "      <td>...</td>\n",
       "      <td>...</td>\n",
       "      <td>...</td>\n",
       "      <td>...</td>\n",
       "    </tr>\n",
       "    <tr>\n",
       "      <th>365770</th>\n",
       "      <td>3297930</td>\n",
       "      <td>3297930</td>\n",
       "      <td>2f4c297843b93c6dcfb4aff278cc1ff89</td>\n",
       "      <td>1.0</td>\n",
       "      <td>E1</td>\n",
       "      <td>23.0</td>\n",
       "      <td>GAS NATURALE</td>\n",
       "      <td>2004</td>\n",
       "      <td>2017</td>\n",
       "      <td>Positivo</td>\n",
       "      <td>2013</td>\n",
       "      <td>Positivo</td>\n",
       "    </tr>\n",
       "    <tr>\n",
       "      <th>365771</th>\n",
       "      <td>3297931</td>\n",
       "      <td>3297931</td>\n",
       "      <td>2f4cf9b982e95cbd1ff4af9258ac4ff89</td>\n",
       "      <td>1.0</td>\n",
       "      <td>E1</td>\n",
       "      <td>27.9</td>\n",
       "      <td>GAS NATURALE</td>\n",
       "      <td>2008</td>\n",
       "      <td>2017</td>\n",
       "      <td>Positivo</td>\n",
       "      <td>2016</td>\n",
       "      <td>Positivo</td>\n",
       "    </tr>\n",
       "    <tr>\n",
       "      <th>365772</th>\n",
       "      <td>3297933</td>\n",
       "      <td>3297933</td>\n",
       "      <td>2f8ca9cf12796c2d7fa4ff8218cc0ff89</td>\n",
       "      <td>1.0</td>\n",
       "      <td>E1</td>\n",
       "      <td>27.9</td>\n",
       "      <td>GAS NATURALE</td>\n",
       "      <td>2004</td>\n",
       "      <td>2017</td>\n",
       "      <td>Positivo</td>\n",
       "      <td>2016</td>\n",
       "      <td>Positivo</td>\n",
       "    </tr>\n",
       "    <tr>\n",
       "      <th>365773</th>\n",
       "      <td>3297939</td>\n",
       "      <td>3297939</td>\n",
       "      <td>2efd29e802995c6ddf349f62789c7ff89</td>\n",
       "      <td>1.0</td>\n",
       "      <td>E1</td>\n",
       "      <td>26.0</td>\n",
       "      <td>GAS NATURALE</td>\n",
       "      <td>2014</td>\n",
       "      <td>2018</td>\n",
       "      <td>Positivo</td>\n",
       "      <td>2009</td>\n",
       "      <td>Positivo</td>\n",
       "    </tr>\n",
       "    <tr>\n",
       "      <th>365774</th>\n",
       "      <td>3297941</td>\n",
       "      <td>3297941</td>\n",
       "      <td>2f4d39d992794c5d3fa4bf8278fc7ff89</td>\n",
       "      <td>1.0</td>\n",
       "      <td>E1</td>\n",
       "      <td>24.0</td>\n",
       "      <td>GAS NATURALE</td>\n",
       "      <td>2010</td>\n",
       "      <td>2015</td>\n",
       "      <td>Positivo</td>\n",
       "      <td>2015</td>\n",
       "      <td>Positivo</td>\n",
       "    </tr>\n",
       "  </tbody>\n",
       "</table>\n",
       "<p>297342 rows × 12 columns</p>\n",
       "</div>"
      ],
      "text/plain": [
       "        Unnamed: 0.1  Unnamed: 0            IDENTIFICATIVO_IMPIANTO  \\\n",
       "0                  4           4  2f0dc989c2291c7d3fa48f8208ec0ff89   \n",
       "1                 14          14  2eedc9b812095cad7f849fe228ec7ff89   \n",
       "2                 36          36  2f3d39bfc2094cbd5f34ffb2188c3ff89   \n",
       "3                 68          68  2f7a198812f96c0d6f340f72288c6ff89   \n",
       "6                 74          74  2f4de969c3995c5d6f940fc288fc4ff89   \n",
       "...              ...         ...                                ...   \n",
       "365770       3297930     3297930  2f4c297843b93c6dcfb4aff278cc1ff89   \n",
       "365771       3297931     3297931  2f4cf9b982e95cbd1ff4af9258ac4ff89   \n",
       "365772       3297933     3297933  2f8ca9cf12796c2d7fa4ff8218cc0ff89   \n",
       "365773       3297939     3297939  2efd29e802995c6ddf349f62789c7ff89   \n",
       "365774       3297941     3297941  2f4d39d992794c5d3fa4bf8278fc7ff89   \n",
       "\n",
       "        GENERATORI_NUMERO EDIFICIO_CATEGORIA  GENERATORE_POTENZA  \\\n",
       "0                     3.0                 E8                31.0   \n",
       "1                     1.0                 E1                24.0   \n",
       "2                     1.0                 E1                28.1   \n",
       "3                     1.0                 E1                23.3   \n",
       "6                     1.0                 E1                23.3   \n",
       "...                   ...                ...                 ...   \n",
       "365770                1.0                 E1                23.0   \n",
       "365771                1.0                 E1                27.9   \n",
       "365772                1.0                 E1                27.9   \n",
       "365773                1.0                 E1                26.0   \n",
       "365774                1.0                 E1                24.0   \n",
       "\n",
       "       GENERATORE_COMBUSTIBILE  GENERATORE_DATA_INST  \\\n",
       "0                 GAS NATURALE                  2000   \n",
       "1                 GAS NATURALE                  2011   \n",
       "2                 GAS NATURALE                  2008   \n",
       "3                 GAS NATURALE                  1997   \n",
       "6                 GAS NATURALE                  2006   \n",
       "...                        ...                   ...   \n",
       "365770            GAS NATURALE                  2004   \n",
       "365771            GAS NATURALE                  2008   \n",
       "365772            GAS NATURALE                  2004   \n",
       "365773            GAS NATURALE                  2014   \n",
       "365774            GAS NATURALE                  2010   \n",
       "\n",
       "        RAPPORTO_DI_CONTROLLO_DATA RAP_DI_CONTROLLO_ESITO  ISPEZIONE_DATA  \\\n",
       "0                             2015               Positivo            2019   \n",
       "1                             2018               Positivo            2007   \n",
       "2                             2018               Positivo            2015   \n",
       "3                             2018               Positivo            2013   \n",
       "6                             2018               Positivo            2008   \n",
       "...                            ...                    ...             ...   \n",
       "365770                        2017               Positivo            2013   \n",
       "365771                        2017               Positivo            2016   \n",
       "365772                        2017               Positivo            2016   \n",
       "365773                        2018               Positivo            2009   \n",
       "365774                        2015               Positivo            2015   \n",
       "\n",
       "       ISPEZIONE_ESITO  \n",
       "0             Positivo  \n",
       "1             Positivo  \n",
       "2             Negativo  \n",
       "3             Negativo  \n",
       "6             Positivo  \n",
       "...                ...  \n",
       "365770        Positivo  \n",
       "365771        Positivo  \n",
       "365772        Positivo  \n",
       "365773        Positivo  \n",
       "365774        Positivo  \n",
       "\n",
       "[297342 rows x 12 columns]"
      ]
     },
     "execution_count": 5,
     "metadata": {},
     "output_type": "execute_result"
    }
   ],
   "source": [
    "selezione = impianti[(impianti['GENERATORE_POTENZA'] >= 15) & (impianti['GENERATORE_POTENZA'] <= 35) & (impianti['GENERATORE_COMBUSTIBILE'] == 'GAS NATURALE')]\n",
    "selezione"
   ]
  },
  {
   "cell_type": "markdown",
   "metadata": {},
   "source": [
    "5. Quanto vale in selezione l'eterogeneità di GENERATORE_COMBUSTIBILE?\n",
    "\n",
    "Visto che selezione contiene solo i casi in cui il combustibile è GAS NATURALE, l'eterogeneità sarà 0 perchè tutti i casi hanno lo stesso valore\n"
   ]
  },
  {
   "cell_type": "markdown",
   "metadata": {},
   "source": [
    "6. In selezione quante sono le diverse categorie di edifici?"
   ]
  },
  {
   "cell_type": "code",
   "execution_count": 6,
   "metadata": {},
   "outputs": [
    {
     "data": {
      "text/plain": [
       "17"
      ]
     },
     "execution_count": 6,
     "metadata": {},
     "output_type": "execute_result"
    }
   ],
   "source": [
    "len(selezione.EDIFICIO_CATEGORIA.unique())"
   ]
  },
  {
   "cell_type": "markdown",
   "metadata": {},
   "source": [
    "7. Moda di EDIFICIO_CATEGORIA in selezione"
   ]
  },
  {
   "cell_type": "code",
   "execution_count": 7,
   "metadata": {},
   "outputs": [
    {
     "data": {
      "text/plain": [
       "0    E1\n",
       "Name: EDIFICIO_CATEGORIA, dtype: object"
      ]
     },
     "execution_count": 7,
     "metadata": {},
     "output_type": "execute_result"
    }
   ],
   "source": [
    "selezione.EDIFICIO_CATEGORIA.mode()"
   ]
  },
  {
   "cell_type": "markdown",
   "metadata": {},
   "source": [
    "8. Quanti sono gli edifici di categoria E1 in selezione?"
   ]
  },
  {
   "cell_type": "code",
   "execution_count": 8,
   "metadata": {},
   "outputs": [
    {
     "data": {
      "text/plain": [
       "185588"
      ]
     },
     "execution_count": 8,
     "metadata": {},
     "output_type": "execute_result"
    }
   ],
   "source": [
    "len(selezione[selezione['EDIFICIO_CATEGORIA'] == 'E1'])"
   ]
  },
  {
   "cell_type": "markdown",
   "metadata": {},
   "source": [
    "9. Percentuale di selezione del punto precedente (edifici E1)"
   ]
  },
  {
   "cell_type": "code",
   "execution_count": 9,
   "metadata": {},
   "outputs": [
    {
     "name": "stdout",
     "output_type": "stream",
     "text": [
      "62.41566949842269%\n"
     ]
    }
   ],
   "source": [
    "print(f'{(len(selezione[selezione.EDIFICIO_CATEGORIA == \"E1\"])/len(selezione))*100}%')"
   ]
  },
  {
   "cell_type": "markdown",
   "metadata": {},
   "source": [
    "# Esercizio 4\n",
    "\n",
    "Memorizzare in selezione gli impianti installati dopo il 2000 e prima del 2019"
   ]
  },
  {
   "cell_type": "code",
   "execution_count": 10,
   "metadata": {},
   "outputs": [
    {
     "data": {
      "text/html": [
       "<div>\n",
       "<style scoped>\n",
       "    .dataframe tbody tr th:only-of-type {\n",
       "        vertical-align: middle;\n",
       "    }\n",
       "\n",
       "    .dataframe tbody tr th {\n",
       "        vertical-align: top;\n",
       "    }\n",
       "\n",
       "    .dataframe thead th {\n",
       "        text-align: right;\n",
       "    }\n",
       "</style>\n",
       "<table border=\"1\" class=\"dataframe\">\n",
       "  <thead>\n",
       "    <tr style=\"text-align: right;\">\n",
       "      <th></th>\n",
       "      <th>Unnamed: 0.1</th>\n",
       "      <th>Unnamed: 0</th>\n",
       "      <th>IDENTIFICATIVO_IMPIANTO</th>\n",
       "      <th>GENERATORI_NUMERO</th>\n",
       "      <th>EDIFICIO_CATEGORIA</th>\n",
       "      <th>GENERATORE_POTENZA</th>\n",
       "      <th>GENERATORE_COMBUSTIBILE</th>\n",
       "      <th>GENERATORE_DATA_INST</th>\n",
       "      <th>RAPPORTO_DI_CONTROLLO_DATA</th>\n",
       "      <th>RAP_DI_CONTROLLO_ESITO</th>\n",
       "      <th>ISPEZIONE_DATA</th>\n",
       "      <th>ISPEZIONE_ESITO</th>\n",
       "    </tr>\n",
       "  </thead>\n",
       "  <tbody>\n",
       "    <tr>\n",
       "      <th>1</th>\n",
       "      <td>14</td>\n",
       "      <td>14</td>\n",
       "      <td>2eedc9b812095cad7f849fe228ec7ff89</td>\n",
       "      <td>1.0</td>\n",
       "      <td>E1</td>\n",
       "      <td>24.0</td>\n",
       "      <td>GAS NATURALE</td>\n",
       "      <td>2011</td>\n",
       "      <td>2018</td>\n",
       "      <td>Positivo</td>\n",
       "      <td>2007</td>\n",
       "      <td>Positivo</td>\n",
       "    </tr>\n",
       "    <tr>\n",
       "      <th>2</th>\n",
       "      <td>36</td>\n",
       "      <td>36</td>\n",
       "      <td>2f3d39bfc2094cbd5f34ffb2188c3ff89</td>\n",
       "      <td>1.0</td>\n",
       "      <td>E1</td>\n",
       "      <td>28.1</td>\n",
       "      <td>GAS NATURALE</td>\n",
       "      <td>2008</td>\n",
       "      <td>2018</td>\n",
       "      <td>Positivo</td>\n",
       "      <td>2015</td>\n",
       "      <td>Negativo</td>\n",
       "    </tr>\n",
       "    <tr>\n",
       "      <th>4</th>\n",
       "      <td>70</td>\n",
       "      <td>70</td>\n",
       "      <td>2f2d49f8d2995cad3f940f6258dc2ff89</td>\n",
       "      <td>1.0</td>\n",
       "      <td>E1</td>\n",
       "      <td>40.0</td>\n",
       "      <td>GASOLIO</td>\n",
       "      <td>2012</td>\n",
       "      <td>2017</td>\n",
       "      <td>Positivo</td>\n",
       "      <td>2016</td>\n",
       "      <td>Positivo</td>\n",
       "    </tr>\n",
       "    <tr>\n",
       "      <th>5</th>\n",
       "      <td>71</td>\n",
       "      <td>71</td>\n",
       "      <td>286ad9b9f5d95c5ddf34afb258fc3ff89</td>\n",
       "      <td>1.0</td>\n",
       "      <td>E1</td>\n",
       "      <td>62.0</td>\n",
       "      <td>GAS NATURALE</td>\n",
       "      <td>2006</td>\n",
       "      <td>2019</td>\n",
       "      <td>Positivo</td>\n",
       "      <td>2016</td>\n",
       "      <td>Positivo</td>\n",
       "    </tr>\n",
       "    <tr>\n",
       "      <th>6</th>\n",
       "      <td>74</td>\n",
       "      <td>74</td>\n",
       "      <td>2f4de969c3995c5d6f940fc288fc4ff89</td>\n",
       "      <td>1.0</td>\n",
       "      <td>E1</td>\n",
       "      <td>23.3</td>\n",
       "      <td>GAS NATURALE</td>\n",
       "      <td>2006</td>\n",
       "      <td>2018</td>\n",
       "      <td>Positivo</td>\n",
       "      <td>2008</td>\n",
       "      <td>Positivo</td>\n",
       "    </tr>\n",
       "    <tr>\n",
       "      <th>...</th>\n",
       "      <td>...</td>\n",
       "      <td>...</td>\n",
       "      <td>...</td>\n",
       "      <td>...</td>\n",
       "      <td>...</td>\n",
       "      <td>...</td>\n",
       "      <td>...</td>\n",
       "      <td>...</td>\n",
       "      <td>...</td>\n",
       "      <td>...</td>\n",
       "      <td>...</td>\n",
       "      <td>...</td>\n",
       "    </tr>\n",
       "    <tr>\n",
       "      <th>365770</th>\n",
       "      <td>3297930</td>\n",
       "      <td>3297930</td>\n",
       "      <td>2f4c297843b93c6dcfb4aff278cc1ff89</td>\n",
       "      <td>1.0</td>\n",
       "      <td>E1</td>\n",
       "      <td>23.0</td>\n",
       "      <td>GAS NATURALE</td>\n",
       "      <td>2004</td>\n",
       "      <td>2017</td>\n",
       "      <td>Positivo</td>\n",
       "      <td>2013</td>\n",
       "      <td>Positivo</td>\n",
       "    </tr>\n",
       "    <tr>\n",
       "      <th>365771</th>\n",
       "      <td>3297931</td>\n",
       "      <td>3297931</td>\n",
       "      <td>2f4cf9b982e95cbd1ff4af9258ac4ff89</td>\n",
       "      <td>1.0</td>\n",
       "      <td>E1</td>\n",
       "      <td>27.9</td>\n",
       "      <td>GAS NATURALE</td>\n",
       "      <td>2008</td>\n",
       "      <td>2017</td>\n",
       "      <td>Positivo</td>\n",
       "      <td>2016</td>\n",
       "      <td>Positivo</td>\n",
       "    </tr>\n",
       "    <tr>\n",
       "      <th>365772</th>\n",
       "      <td>3297933</td>\n",
       "      <td>3297933</td>\n",
       "      <td>2f8ca9cf12796c2d7fa4ff8218cc0ff89</td>\n",
       "      <td>1.0</td>\n",
       "      <td>E1</td>\n",
       "      <td>27.9</td>\n",
       "      <td>GAS NATURALE</td>\n",
       "      <td>2004</td>\n",
       "      <td>2017</td>\n",
       "      <td>Positivo</td>\n",
       "      <td>2016</td>\n",
       "      <td>Positivo</td>\n",
       "    </tr>\n",
       "    <tr>\n",
       "      <th>365773</th>\n",
       "      <td>3297939</td>\n",
       "      <td>3297939</td>\n",
       "      <td>2efd29e802995c6ddf349f62789c7ff89</td>\n",
       "      <td>1.0</td>\n",
       "      <td>E1</td>\n",
       "      <td>26.0</td>\n",
       "      <td>GAS NATURALE</td>\n",
       "      <td>2014</td>\n",
       "      <td>2018</td>\n",
       "      <td>Positivo</td>\n",
       "      <td>2009</td>\n",
       "      <td>Positivo</td>\n",
       "    </tr>\n",
       "    <tr>\n",
       "      <th>365774</th>\n",
       "      <td>3297941</td>\n",
       "      <td>3297941</td>\n",
       "      <td>2f4d39d992794c5d3fa4bf8278fc7ff89</td>\n",
       "      <td>1.0</td>\n",
       "      <td>E1</td>\n",
       "      <td>24.0</td>\n",
       "      <td>GAS NATURALE</td>\n",
       "      <td>2010</td>\n",
       "      <td>2015</td>\n",
       "      <td>Positivo</td>\n",
       "      <td>2015</td>\n",
       "      <td>Positivo</td>\n",
       "    </tr>\n",
       "  </tbody>\n",
       "</table>\n",
       "<p>265070 rows × 12 columns</p>\n",
       "</div>"
      ],
      "text/plain": [
       "        Unnamed: 0.1  Unnamed: 0            IDENTIFICATIVO_IMPIANTO  \\\n",
       "1                 14          14  2eedc9b812095cad7f849fe228ec7ff89   \n",
       "2                 36          36  2f3d39bfc2094cbd5f34ffb2188c3ff89   \n",
       "4                 70          70  2f2d49f8d2995cad3f940f6258dc2ff89   \n",
       "5                 71          71  286ad9b9f5d95c5ddf34afb258fc3ff89   \n",
       "6                 74          74  2f4de969c3995c5d6f940fc288fc4ff89   \n",
       "...              ...         ...                                ...   \n",
       "365770       3297930     3297930  2f4c297843b93c6dcfb4aff278cc1ff89   \n",
       "365771       3297931     3297931  2f4cf9b982e95cbd1ff4af9258ac4ff89   \n",
       "365772       3297933     3297933  2f8ca9cf12796c2d7fa4ff8218cc0ff89   \n",
       "365773       3297939     3297939  2efd29e802995c6ddf349f62789c7ff89   \n",
       "365774       3297941     3297941  2f4d39d992794c5d3fa4bf8278fc7ff89   \n",
       "\n",
       "        GENERATORI_NUMERO EDIFICIO_CATEGORIA  GENERATORE_POTENZA  \\\n",
       "1                     1.0                 E1                24.0   \n",
       "2                     1.0                 E1                28.1   \n",
       "4                     1.0                 E1                40.0   \n",
       "5                     1.0                 E1                62.0   \n",
       "6                     1.0                 E1                23.3   \n",
       "...                   ...                ...                 ...   \n",
       "365770                1.0                 E1                23.0   \n",
       "365771                1.0                 E1                27.9   \n",
       "365772                1.0                 E1                27.9   \n",
       "365773                1.0                 E1                26.0   \n",
       "365774                1.0                 E1                24.0   \n",
       "\n",
       "       GENERATORE_COMBUSTIBILE  GENERATORE_DATA_INST  \\\n",
       "1                 GAS NATURALE                  2011   \n",
       "2                 GAS NATURALE                  2008   \n",
       "4                      GASOLIO                  2012   \n",
       "5                 GAS NATURALE                  2006   \n",
       "6                 GAS NATURALE                  2006   \n",
       "...                        ...                   ...   \n",
       "365770            GAS NATURALE                  2004   \n",
       "365771            GAS NATURALE                  2008   \n",
       "365772            GAS NATURALE                  2004   \n",
       "365773            GAS NATURALE                  2014   \n",
       "365774            GAS NATURALE                  2010   \n",
       "\n",
       "        RAPPORTO_DI_CONTROLLO_DATA RAP_DI_CONTROLLO_ESITO  ISPEZIONE_DATA  \\\n",
       "1                             2018               Positivo            2007   \n",
       "2                             2018               Positivo            2015   \n",
       "4                             2017               Positivo            2016   \n",
       "5                             2019               Positivo            2016   \n",
       "6                             2018               Positivo            2008   \n",
       "...                            ...                    ...             ...   \n",
       "365770                        2017               Positivo            2013   \n",
       "365771                        2017               Positivo            2016   \n",
       "365772                        2017               Positivo            2016   \n",
       "365773                        2018               Positivo            2009   \n",
       "365774                        2015               Positivo            2015   \n",
       "\n",
       "       ISPEZIONE_ESITO  \n",
       "1             Positivo  \n",
       "2             Negativo  \n",
       "4             Positivo  \n",
       "5             Positivo  \n",
       "6             Positivo  \n",
       "...                ...  \n",
       "365770        Positivo  \n",
       "365771        Positivo  \n",
       "365772        Positivo  \n",
       "365773        Positivo  \n",
       "365774        Positivo  \n",
       "\n",
       "[265070 rows x 12 columns]"
      ]
     },
     "execution_count": 10,
     "metadata": {},
     "output_type": "execute_result"
    }
   ],
   "source": [
    "selezione = impianti[(impianti['GENERATORE_DATA_INST'] > 2000) & (impianti['GENERATORE_DATA_INST'] < 2019)]\n",
    "selezione"
   ]
  },
  {
   "cell_type": "markdown",
   "metadata": {},
   "source": [
    "1. Grafico di GENERATORE_DATA_INST che permetta di dire che nelle varie date di installazione sono stati installati circa lo stesso numero di impianti\n",
    "\n",
    "Essendo GENERATORE_DATA_INST un attributo di tipo quanttiativo discreto, la rappresentazione grafica più appropriata è un grafico a barre."
   ]
  },
  {
   "cell_type": "code",
   "execution_count": 11,
   "metadata": {},
   "outputs": [
    {
     "data": {
      "image/png": "[encoded data removed]",
      "text/plain": [
       "<Figure size 640x480 with 1 Axes>"
      ]
     },
     "metadata": {},
     "output_type": "display_data"
    }
   ],
   "source": [
    "selezione.GENERATORE_DATA_INST.value_counts().sort_index().plot.bar()\n",
    "plt.show()"
   ]
  },
  {
   "cell_type": "markdown",
   "metadata": {},
   "source": [
    "Il grafico a barre mostra come le barre non siano della stessa altezza: la più alta è circa 17500 mentre la più bassa è circa 10000. Per cui l'ipotesi di partenza è da confutare."
   ]
  },
  {
   "cell_type": "markdown",
   "metadata": {},
   "source": [
    "2. Eterogeneità di GENERATORE_DATA_INST in questa selezione"
   ]
  },
  {
   "cell_type": "code",
   "execution_count": 12,
   "metadata": {},
   "outputs": [
    {
     "name": "stdout",
     "output_type": "stream",
     "text": [
      "0.8908562961053245\n"
     ]
    }
   ],
   "source": [
    "def gini_index(series):\n",
    "    s = len(series.unique())\n",
    "    return (1-(sum(series.value_counts(normalize=True)**2)))*((s-1)/s)\n",
    "\n",
    "print(gini_index(selezione.GENERATORE_DATA_INST))"
   ]
  },
  {
   "cell_type": "markdown",
   "metadata": {},
   "source": [
    "L'eterogeneità in questo caso è vicina ad 1 e quindi piuttosto alta"
   ]
  },
  {
   "cell_type": "markdown",
   "metadata": {},
   "source": [
    "3. Tabella frequenze relative di ISPEZIONE_ESITO"
   ]
  },
  {
   "cell_type": "code",
   "execution_count": 13,
   "metadata": {},
   "outputs": [
    {
     "data": {
      "text/html": [
       "<div>\n",
       "<style scoped>\n",
       "    .dataframe tbody tr th:only-of-type {\n",
       "        vertical-align: middle;\n",
       "    }\n",
       "\n",
       "    .dataframe tbody tr th {\n",
       "        vertical-align: top;\n",
       "    }\n",
       "\n",
       "    .dataframe thead th {\n",
       "        text-align: right;\n",
       "    }\n",
       "</style>\n",
       "<table border=\"1\" class=\"dataframe\">\n",
       "  <thead>\n",
       "    <tr style=\"text-align: right;\">\n",
       "      <th></th>\n",
       "      <th>Abs frequence</th>\n",
       "    </tr>\n",
       "    <tr>\n",
       "      <th>ISPEZIONE_ESITO</th>\n",
       "      <th></th>\n",
       "    </tr>\n",
       "  </thead>\n",
       "  <tbody>\n",
       "    <tr>\n",
       "      <th>Negativo</th>\n",
       "      <td>0.236387</td>\n",
       "    </tr>\n",
       "    <tr>\n",
       "      <th>Positivo</th>\n",
       "      <td>0.763613</td>\n",
       "    </tr>\n",
       "  </tbody>\n",
       "</table>\n",
       "</div>"
      ],
      "text/plain": [
       "                 Abs frequence\n",
       "ISPEZIONE_ESITO               \n",
       "Negativo              0.236387\n",
       "Positivo              0.763613"
      ]
     },
     "execution_count": 13,
     "metadata": {},
     "output_type": "execute_result"
    }
   ],
   "source": [
    "isp_rel = pd.crosstab(selezione.ISPEZIONE_ESITO, columns=['Abs frequence'], colnames=[''], normalize=True)\n",
    "isp_rel"
   ]
  },
  {
   "cell_type": "markdown",
   "metadata": {},
   "source": [
    "5. Percentuale impianti ispezionati con esito positivo"
   ]
  },
  {
   "cell_type": "markdown",
   "metadata": {},
   "source": [
    "Guardando la tabella prodotta prima, si vede come circa il 76% degli esiti nella selezione è positivo"
   ]
  },
  {
   "cell_type": "markdown",
   "metadata": {},
   "source": [
    "6. L'impianto del mio condominio è stato installato dopo il 2000 e non è ancora stato ispezionato. Qual'è la probabilità di esito positivo se esso viene ispezionato?"
   ]
  },
  {
   "cell_type": "code",
   "execution_count": 17,
   "metadata": {},
   "outputs": [
    {
     "data": {
      "text/plain": [
       "0.5"
      ]
     },
     "execution_count": 17,
     "metadata": {},
     "output_type": "execute_result"
    }
   ],
   "source": [
    "selezione.ISPEZIONE_ESITO.value_counts(normalize=True).mean()"
   ]
  },
  {
   "cell_type": "markdown",
   "metadata": {},
   "source": [
    "7. Taglia del campione usata prima"
   ]
  },
  {
   "cell_type": "code",
   "execution_count": 18,
   "metadata": {},
   "outputs": [
    {
     "data": {
      "text/plain": [
       "265070"
      ]
     },
     "execution_count": 18,
     "metadata": {},
     "output_type": "execute_result"
    }
   ],
   "source": [
    "len(selezione.ISPEZIONE_ESITO.dropna())"
   ]
  },
  {
   "cell_type": "markdown",
   "metadata": {},
   "source": [
    "8. Quale stimatore avete usato prima?\n",
    "\n",
    "ISPEZIONE_ESITO ha solo due valori possibili: si può associare Positivo al valore 1 e Negativo al valore 0. Per cui ISPEZIONE_ESITO si può considerare come una bernoulliana di parametro p, il cui valore atteso coincide col parametro p.\n",
    "Ho usato la media campionaria, che è sempre uno stimatore non distorto per il valore atteso della popolazione ed è sempre consistente in media quadratica."
   ]
  },
  {
   "cell_type": "markdown",
   "metadata": {},
   "source": [
    "9. Taglia minima del campione affinchè la probabilità di commettere un errore inferiore a 0.01 nella stima del valore atteso sia almeno 0.95"
   ]
  },
  {
   "cell_type": "code",
   "execution_count": 25,
   "metadata": {},
   "outputs": [
    {
     "name": "stdout",
     "output_type": "stream",
     "text": [
      "5339\n"
     ]
    }
   ],
   "source": [
    "z = st.norm(0,1)\n",
    "a = selezione.ISPEZIONE_ESITO.value_counts(normalize=True).var()/0.01**2\n",
    "\n",
    "print(int(a*(z.ppf(1-(0.05/2)))**2))"
   ]
  },
  {
   "cell_type": "code",
   "execution_count": 27,
   "metadata": {},
   "outputs": [
    {
     "data": {
      "text/plain": [
       "0.5"
      ]
     },
     "execution_count": 27,
     "metadata": {},
     "output_type": "execute_result"
    }
   ],
   "source": [
    "k = st.norm(13.4, 8.9)\n",
    "\n",
    "k.cdf(13.4)"
   ]
  },
  {
   "cell_type": "code",
   "execution_count": null,
   "metadata": {},
   "outputs": [],
   "source": []
  }
 ],
 "metadata": {
  "kernelspec": {
   "display_name": "Python 3",
   "language": "python",
   "name": "python3"
  },
  "language_info": {
   "codemirror_mode": {
    "name": "ipython",
    "version": 3
   },
   "file_extension": ".py",
   "mimetype": "text/x-python",
   "name": "python",
   "nbconvert_exporter": "python",
   "pygments_lexer": "ipython3",
   "version": "3.11.5"
  }
 },
 "nbformat": 4,
 "nbformat_minor": 2
}
