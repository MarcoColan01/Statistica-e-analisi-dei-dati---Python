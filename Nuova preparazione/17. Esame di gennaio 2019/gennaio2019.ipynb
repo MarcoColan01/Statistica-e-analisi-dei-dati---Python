{
 "cells": [
  {
   "cell_type": "code",
   "execution_count": 2,
   "metadata": {},
   "outputs": [],
   "source": [
    "import matplotlib.pyplot as plt\n",
    "import scipy.stats as st\n",
    "import pandas as pd\n",
    "import numpy as np\n",
    "import statsmodels.api as sm\n",
    "import math"
   ]
  },
  {
   "cell_type": "markdown",
   "metadata": {},
   "source": [
    "# Esercizio 3"
   ]
  },
  {
   "cell_type": "code",
   "execution_count": 3,
   "metadata": {},
   "outputs": [
    {
     "data": {
      "text/html": [
       "<div>\n",
       "<style scoped>\n",
       "    .dataframe tbody tr th:only-of-type {\n",
       "        vertical-align: middle;\n",
       "    }\n",
       "\n",
       "    .dataframe tbody tr th {\n",
       "        vertical-align: top;\n",
       "    }\n",
       "\n",
       "    .dataframe thead th {\n",
       "        text-align: right;\n",
       "    }\n",
       "</style>\n",
       "<table border=\"1\" class=\"dataframe\">\n",
       "  <thead>\n",
       "    <tr style=\"text-align: right;\">\n",
       "      <th></th>\n",
       "      <th>CarIdentifier</th>\n",
       "      <th>TimeFrame</th>\n",
       "      <th>RushHour</th>\n",
       "      <th>PremiumCustomer</th>\n",
       "      <th>Distance</th>\n",
       "      <th>Time</th>\n",
       "    </tr>\n",
       "  </thead>\n",
       "  <tbody>\n",
       "    <tr>\n",
       "      <th>0</th>\n",
       "      <td>102</td>\n",
       "      <td>FRAME D</td>\n",
       "      <td>1</td>\n",
       "      <td>1</td>\n",
       "      <td>3.0</td>\n",
       "      <td>7.9</td>\n",
       "    </tr>\n",
       "    <tr>\n",
       "      <th>1</th>\n",
       "      <td>103</td>\n",
       "      <td>FRAME D</td>\n",
       "      <td>1</td>\n",
       "      <td>1</td>\n",
       "      <td>5.3</td>\n",
       "      <td>13.9</td>\n",
       "    </tr>\n",
       "    <tr>\n",
       "      <th>2</th>\n",
       "      <td>105</td>\n",
       "      <td>FRAME D</td>\n",
       "      <td>1</td>\n",
       "      <td>-1</td>\n",
       "      <td>0.4</td>\n",
       "      <td>4.1</td>\n",
       "    </tr>\n",
       "    <tr>\n",
       "      <th>3</th>\n",
       "      <td>110</td>\n",
       "      <td>FRAME D</td>\n",
       "      <td>1</td>\n",
       "      <td>1</td>\n",
       "      <td>2.8</td>\n",
       "      <td>5.0</td>\n",
       "    </tr>\n",
       "    <tr>\n",
       "      <th>4</th>\n",
       "      <td>110</td>\n",
       "      <td>FRAME B</td>\n",
       "      <td>1</td>\n",
       "      <td>-1</td>\n",
       "      <td>2.7</td>\n",
       "      <td>5.6</td>\n",
       "    </tr>\n",
       "    <tr>\n",
       "      <th>...</th>\n",
       "      <td>...</td>\n",
       "      <td>...</td>\n",
       "      <td>...</td>\n",
       "      <td>...</td>\n",
       "      <td>...</td>\n",
       "      <td>...</td>\n",
       "    </tr>\n",
       "    <tr>\n",
       "      <th>387</th>\n",
       "      <td>996</td>\n",
       "      <td>FRAME C</td>\n",
       "      <td>0</td>\n",
       "      <td>-1</td>\n",
       "      <td>12.5</td>\n",
       "      <td>13.1</td>\n",
       "    </tr>\n",
       "    <tr>\n",
       "      <th>388</th>\n",
       "      <td>996</td>\n",
       "      <td>FRAME A</td>\n",
       "      <td>0</td>\n",
       "      <td>1</td>\n",
       "      <td>14.5</td>\n",
       "      <td>17.0</td>\n",
       "    </tr>\n",
       "    <tr>\n",
       "      <th>389</th>\n",
       "      <td>996</td>\n",
       "      <td>FRAME C</td>\n",
       "      <td>0</td>\n",
       "      <td>-1</td>\n",
       "      <td>9.8</td>\n",
       "      <td>17.8</td>\n",
       "    </tr>\n",
       "    <tr>\n",
       "      <th>390</th>\n",
       "      <td>997</td>\n",
       "      <td>FRAME B</td>\n",
       "      <td>1</td>\n",
       "      <td>-1</td>\n",
       "      <td>1.8</td>\n",
       "      <td>4.0</td>\n",
       "    </tr>\n",
       "    <tr>\n",
       "      <th>391</th>\n",
       "      <td>997</td>\n",
       "      <td>FRAME C</td>\n",
       "      <td>0</td>\n",
       "      <td>1</td>\n",
       "      <td>18.6</td>\n",
       "      <td>17.5</td>\n",
       "    </tr>\n",
       "  </tbody>\n",
       "</table>\n",
       "<p>392 rows × 6 columns</p>\n",
       "</div>"
      ],
      "text/plain": [
       "     CarIdentifier TimeFrame  RushHour  PremiumCustomer  Distance  Time\n",
       "0              102   FRAME D         1                1       3.0   7.9\n",
       "1              103   FRAME D         1                1       5.3  13.9\n",
       "2              105   FRAME D         1               -1       0.4   4.1\n",
       "3              110   FRAME D         1                1       2.8   5.0\n",
       "4              110   FRAME B         1               -1       2.7   5.6\n",
       "..             ...       ...       ...              ...       ...   ...\n",
       "387            996   FRAME C         0               -1      12.5  13.1\n",
       "388            996   FRAME A         0                1      14.5  17.0\n",
       "389            996   FRAME C         0               -1       9.8  17.8\n",
       "390            997   FRAME B         1               -1       1.8   4.0\n",
       "391            997   FRAME C         0                1      18.6  17.5\n",
       "\n",
       "[392 rows x 6 columns]"
      ]
     },
     "execution_count": 3,
     "metadata": {},
     "output_type": "execute_result"
    }
   ],
   "source": [
    "cars = pd.read_csv('carsharing.csv', sep=';', decimal=',')\n",
    "cars"
   ]
  },
  {
   "cell_type": "markdown",
   "metadata": {},
   "source": [
    "3.1 Quanti dati contiene il file?"
   ]
  },
  {
   "cell_type": "code",
   "execution_count": 4,
   "metadata": {},
   "outputs": [
    {
     "data": {
      "text/plain": [
       "392"
      ]
     },
     "execution_count": 4,
     "metadata": {},
     "output_type": "execute_result"
    }
   ],
   "source": [
    "len(cars)"
   ]
  },
  {
   "cell_type": "markdown",
   "metadata": {},
   "source": [
    "3.2 Analizziamo l'utilizzo del servizio nelle diverse fasce orarie e negli orari di punta o meno."
   ]
  },
  {
   "cell_type": "markdown",
   "metadata": {},
   "source": [
    "3.2.1 TimeFrame è ordinale, scalare o nominale?\n",
    "\n",
    "TimeFrame è un attributo di tipo qualitativo ordinale"
   ]
  },
  {
   "cell_type": "markdown",
   "metadata": {},
   "source": [
    "3.2.2 In quante fasce orarie è suddivisa la giornata?"
   ]
  },
  {
   "cell_type": "code",
   "execution_count": 5,
   "metadata": {},
   "outputs": [
    {
     "data": {
      "text/plain": [
       "5"
      ]
     },
     "execution_count": 5,
     "metadata": {},
     "output_type": "execute_result"
    }
   ],
   "source": [
    "len(cars.TimeFrame.unique())"
   ]
  },
  {
   "cell_type": "markdown",
   "metadata": {},
   "source": [
    "3.2.3 In quali fasce orarie il servizio è stato maggiormente utilizzato?"
   ]
  },
  {
   "cell_type": "code",
   "execution_count": 12,
   "metadata": {},
   "outputs": [
    {
     "data": {
      "text/plain": [
       "TimeFrame\n",
       "FRAME B    123\n",
       "FRAME C    107\n",
       "FRAME D     94\n",
       "FRAME A     47\n",
       "FRAME E     21\n",
       "Name: count, dtype: int64"
      ]
     },
     "execution_count": 12,
     "metadata": {},
     "output_type": "execute_result"
    }
   ],
   "source": [
    "cars.TimeFrame.value_counts().head()"
   ]
  },
  {
   "cell_type": "markdown",
   "metadata": {},
   "source": [
    "3.2.4 Tabella frequenze congiunte di TimeFrame e RushHour"
   ]
  },
  {
   "cell_type": "code",
   "execution_count": 13,
   "metadata": {},
   "outputs": [
    {
     "data": {
      "text/html": [
       "<div>\n",
       "<style scoped>\n",
       "    .dataframe tbody tr th:only-of-type {\n",
       "        vertical-align: middle;\n",
       "    }\n",
       "\n",
       "    .dataframe tbody tr th {\n",
       "        vertical-align: top;\n",
       "    }\n",
       "\n",
       "    .dataframe thead th {\n",
       "        text-align: right;\n",
       "    }\n",
       "</style>\n",
       "<table border=\"1\" class=\"dataframe\">\n",
       "  <thead>\n",
       "    <tr style=\"text-align: right;\">\n",
       "      <th></th>\n",
       "      <th>0</th>\n",
       "      <th>1</th>\n",
       "    </tr>\n",
       "    <tr>\n",
       "      <th>TimeFrame</th>\n",
       "      <th></th>\n",
       "      <th></th>\n",
       "    </tr>\n",
       "  </thead>\n",
       "  <tbody>\n",
       "    <tr>\n",
       "      <th>FRAME A</th>\n",
       "      <td>47</td>\n",
       "      <td>0</td>\n",
       "    </tr>\n",
       "    <tr>\n",
       "      <th>FRAME B</th>\n",
       "      <td>0</td>\n",
       "      <td>123</td>\n",
       "    </tr>\n",
       "    <tr>\n",
       "      <th>FRAME C</th>\n",
       "      <td>107</td>\n",
       "      <td>0</td>\n",
       "    </tr>\n",
       "    <tr>\n",
       "      <th>FRAME D</th>\n",
       "      <td>0</td>\n",
       "      <td>94</td>\n",
       "    </tr>\n",
       "    <tr>\n",
       "      <th>FRAME E</th>\n",
       "      <td>21</td>\n",
       "      <td>0</td>\n",
       "    </tr>\n",
       "  </tbody>\n",
       "</table>\n",
       "</div>"
      ],
      "text/plain": [
       "             0    1\n",
       "TimeFrame          \n",
       "FRAME A     47    0\n",
       "FRAME B      0  123\n",
       "FRAME C    107    0\n",
       "FRAME D      0   94\n",
       "FRAME E     21    0"
      ]
     },
     "execution_count": 13,
     "metadata": {},
     "output_type": "execute_result"
    }
   ],
   "source": [
    "time_hour = pd.crosstab(index=[cars.TimeFrame], columns=[cars.RushHour], colnames=[''])\n",
    "time_hour"
   ]
  },
  {
   "cell_type": "markdown",
   "metadata": {},
   "source": [
    "3.2.5 Utilizzando i risultati di prima, quali sono le fasce orarie di punta?\n",
    "\n",
    "Le fasce orarie di punta sono FRAME B e FRAME D"
   ]
  },
  {
   "cell_type": "markdown",
   "metadata": {},
   "source": [
    "3.3 Consideriamo i clienti premium"
   ]
  },
  {
   "cell_type": "code",
   "execution_count": 14,
   "metadata": {},
   "outputs": [
    {
     "data": {
      "text/html": [
       "<div>\n",
       "<style scoped>\n",
       "    .dataframe tbody tr th:only-of-type {\n",
       "        vertical-align: middle;\n",
       "    }\n",
       "\n",
       "    .dataframe tbody tr th {\n",
       "        vertical-align: top;\n",
       "    }\n",
       "\n",
       "    .dataframe thead th {\n",
       "        text-align: right;\n",
       "    }\n",
       "</style>\n",
       "<table border=\"1\" class=\"dataframe\">\n",
       "  <thead>\n",
       "    <tr style=\"text-align: right;\">\n",
       "      <th></th>\n",
       "      <th>CarIdentifier</th>\n",
       "      <th>TimeFrame</th>\n",
       "      <th>RushHour</th>\n",
       "      <th>PremiumCustomer</th>\n",
       "      <th>Distance</th>\n",
       "      <th>Time</th>\n",
       "    </tr>\n",
       "  </thead>\n",
       "  <tbody>\n",
       "    <tr>\n",
       "      <th>0</th>\n",
       "      <td>102</td>\n",
       "      <td>FRAME D</td>\n",
       "      <td>1</td>\n",
       "      <td>1</td>\n",
       "      <td>3.0</td>\n",
       "      <td>7.9</td>\n",
       "    </tr>\n",
       "    <tr>\n",
       "      <th>1</th>\n",
       "      <td>103</td>\n",
       "      <td>FRAME D</td>\n",
       "      <td>1</td>\n",
       "      <td>1</td>\n",
       "      <td>5.3</td>\n",
       "      <td>13.9</td>\n",
       "    </tr>\n",
       "    <tr>\n",
       "      <th>3</th>\n",
       "      <td>110</td>\n",
       "      <td>FRAME D</td>\n",
       "      <td>1</td>\n",
       "      <td>1</td>\n",
       "      <td>2.8</td>\n",
       "      <td>5.0</td>\n",
       "    </tr>\n",
       "    <tr>\n",
       "      <th>6</th>\n",
       "      <td>111</td>\n",
       "      <td>FRAME B</td>\n",
       "      <td>1</td>\n",
       "      <td>1</td>\n",
       "      <td>9.3</td>\n",
       "      <td>30.6</td>\n",
       "    </tr>\n",
       "    <tr>\n",
       "      <th>10</th>\n",
       "      <td>121</td>\n",
       "      <td>FRAME B</td>\n",
       "      <td>1</td>\n",
       "      <td>1</td>\n",
       "      <td>0.8</td>\n",
       "      <td>4.4</td>\n",
       "    </tr>\n",
       "    <tr>\n",
       "      <th>...</th>\n",
       "      <td>...</td>\n",
       "      <td>...</td>\n",
       "      <td>...</td>\n",
       "      <td>...</td>\n",
       "      <td>...</td>\n",
       "      <td>...</td>\n",
       "    </tr>\n",
       "    <tr>\n",
       "      <th>382</th>\n",
       "      <td>987</td>\n",
       "      <td>FRAME A</td>\n",
       "      <td>0</td>\n",
       "      <td>1</td>\n",
       "      <td>18.7</td>\n",
       "      <td>25.2</td>\n",
       "    </tr>\n",
       "    <tr>\n",
       "      <th>383</th>\n",
       "      <td>989</td>\n",
       "      <td>FRAME A</td>\n",
       "      <td>0</td>\n",
       "      <td>1</td>\n",
       "      <td>7.7</td>\n",
       "      <td>13.1</td>\n",
       "    </tr>\n",
       "    <tr>\n",
       "      <th>386</th>\n",
       "      <td>995</td>\n",
       "      <td>FRAME B</td>\n",
       "      <td>1</td>\n",
       "      <td>1</td>\n",
       "      <td>2.1</td>\n",
       "      <td>4.4</td>\n",
       "    </tr>\n",
       "    <tr>\n",
       "      <th>388</th>\n",
       "      <td>996</td>\n",
       "      <td>FRAME A</td>\n",
       "      <td>0</td>\n",
       "      <td>1</td>\n",
       "      <td>14.5</td>\n",
       "      <td>17.0</td>\n",
       "    </tr>\n",
       "    <tr>\n",
       "      <th>391</th>\n",
       "      <td>997</td>\n",
       "      <td>FRAME C</td>\n",
       "      <td>0</td>\n",
       "      <td>1</td>\n",
       "      <td>18.6</td>\n",
       "      <td>17.5</td>\n",
       "    </tr>\n",
       "  </tbody>\n",
       "</table>\n",
       "<p>227 rows × 6 columns</p>\n",
       "</div>"
      ],
      "text/plain": [
       "     CarIdentifier TimeFrame  RushHour  PremiumCustomer  Distance  Time\n",
       "0              102   FRAME D         1                1       3.0   7.9\n",
       "1              103   FRAME D         1                1       5.3  13.9\n",
       "3              110   FRAME D         1                1       2.8   5.0\n",
       "6              111   FRAME B         1                1       9.3  30.6\n",
       "10             121   FRAME B         1                1       0.8   4.4\n",
       "..             ...       ...       ...              ...       ...   ...\n",
       "382            987   FRAME A         0                1      18.7  25.2\n",
       "383            989   FRAME A         0                1       7.7  13.1\n",
       "386            995   FRAME B         1                1       2.1   4.4\n",
       "388            996   FRAME A         0                1      14.5  17.0\n",
       "391            997   FRAME C         0                1      18.6  17.5\n",
       "\n",
       "[227 rows x 6 columns]"
      ]
     },
     "execution_count": 14,
     "metadata": {},
     "output_type": "execute_result"
    }
   ],
   "source": [
    "premium = cars[cars['PremiumCustomer'] == 1]\n",
    "premium"
   ]
  },
  {
   "cell_type": "markdown",
   "metadata": {},
   "source": [
    "3.3.1 Quanti sono?"
   ]
  },
  {
   "cell_type": "code",
   "execution_count": 15,
   "metadata": {},
   "outputs": [
    {
     "data": {
      "text/plain": [
       "227"
      ]
     },
     "execution_count": 15,
     "metadata": {},
     "output_type": "execute_result"
    }
   ],
   "source": [
    "len(premium)"
   ]
  },
  {
   "cell_type": "markdown",
   "metadata": {},
   "source": [
    "3.3.2 Stima distanza media percorsa da un cliente premium"
   ]
  },
  {
   "cell_type": "code",
   "execution_count": 17,
   "metadata": {},
   "outputs": [
    {
     "name": "stdout",
     "output_type": "stream",
     "text": [
      "8.437444933920705 km\n"
     ]
    }
   ],
   "source": [
    "print(f'{premium.Distance.mean()} km')"
   ]
  },
  {
   "cell_type": "markdown",
   "metadata": {},
   "source": [
    "3.3.3 Stima probabilità p che un nuovo cliente si iscriva al programma premium"
   ]
  },
  {
   "cell_type": "code",
   "execution_count": 22,
   "metadata": {},
   "outputs": [
    {
     "data": {
      "text/plain": [
       "0.5790816326530612"
      ]
     },
     "execution_count": 22,
     "metadata": {},
     "output_type": "execute_result"
    }
   ],
   "source": [
    "p = len(premium)/len(cars)\n",
    "p"
   ]
  },
  {
   "cell_type": "markdown",
   "metadata": {},
   "source": [
    "3.3.4 Stimatore usato prima?\n",
    "\n",
    "(Media campionaria + 1)/2  perchè in questo modo posso stimare p (nuovo cliente è premium) nei termini di una bernoulliana."
   ]
  },
  {
   "cell_type": "markdown",
   "metadata": {},
   "source": [
    "3.3.5 Approssimazione probabilità di compiere nella stima di P un errore di al più 0.05"
   ]
  },
  {
   "cell_type": "code",
   "execution_count": 23,
   "metadata": {},
   "outputs": [
    {
     "data": {
      "text/plain": [
       "0.9550516727103744"
      ]
     },
     "execution_count": 23,
     "metadata": {},
     "output_type": "execute_result"
    }
   ],
   "source": [
    "z = st.norm(0,1)\n",
    "\n",
    "n = len(cars)\n",
    "arg = (0.05*math.sqrt(n))/(math.sqrt(p*(1-p))) \n",
    "\n",
    "2*z.cdf(arg) -1"
   ]
  },
  {
   "cell_type": "markdown",
   "metadata": {},
   "source": [
    "3.4 Riconsideriamo il dataset completo e consideriamo Distance"
   ]
  },
  {
   "cell_type": "markdown",
   "metadata": {},
   "source": [
    "3.4.1 Il suo boxplot"
   ]
  },
  {
   "cell_type": "code",
   "execution_count": 24,
   "metadata": {},
   "outputs": [
    {
     "data": {
      "image/png": "[encoded data removed]",
      "text/plain": [
       "<Figure size 640x480 with 1 Axes>"
      ]
     },
     "metadata": {},
     "output_type": "display_data"
    }
   ],
   "source": [
    "cars.Distance.plot.box(vert=False)\n",
    "plt.show()"
   ]
  },
  {
   "cell_type": "markdown",
   "metadata": {},
   "source": [
    "3.4.2 In base all'aspetto del grafico ottenuto in precedenza, quali sono gli indici di centralità e dispersione che meglio caratterizzano Distance?\n",
    "\n",
    "Un indice di centralità visibile è la mediana (barra verde dentro la scatola) mentre un indice di dispersione è il range interquartile (distanza tra estremo destro della scatola - 3° quartile - ed estremo sinistro della scatola - 1° quartile).\n",
    "Volendoli calcolare sono:"
   ]
  },
  {
   "cell_type": "code",
   "execution_count": 27,
   "metadata": {},
   "outputs": [
    {
     "name": "stdout",
     "output_type": "stream",
     "text": [
      "Mediana: 5.75\n",
      "Range Interquartile: 12.45\n"
     ]
    }
   ],
   "source": [
    "print(f'Mediana: {cars.Distance.median()}\\nRange Interquartile: {cars.Distance.quantile(0.75)-cars.Distance.quantile(0.25)}')"
   ]
  },
  {
   "cell_type": "markdown",
   "metadata": {},
   "source": [
    "3.4.3 Vi è relazione tra distanza percorsa e tempo impiegato?"
   ]
  },
  {
   "cell_type": "code",
   "execution_count": 30,
   "metadata": {},
   "outputs": [
    {
     "data": {
      "image/png": "[encoded data removed]",
      "text/plain": [
       "<Figure size 640x480 with 1 Axes>"
      ]
     },
     "metadata": {},
     "output_type": "display_data"
    }
   ],
   "source": [
    "cars.plot.scatter('Distance', 'Time')\n",
    "plt.show()"
   ]
  },
  {
   "cell_type": "markdown",
   "metadata": {},
   "source": [
    "Lo scatter plot evidenzia due andamenti: una relazione di tipo non lineare diretta abbastanza forte e un altro che invece non rappresenta alcun tipo di relazione, o meglio una relazione di tipo non lineare diretta piuttosto debole. Per cui, direi che non vi è alcun tipo di relazione tra i due attributi."
   ]
  },
  {
   "cell_type": "markdown",
   "metadata": {},
   "source": [
    "3.4.4 L'indice di correlazione conferma la vostra ipotesi?"
   ]
  },
  {
   "cell_type": "code",
   "execution_count": 31,
   "metadata": {},
   "outputs": [
    {
     "data": {
      "text/plain": [
       "0.6273992247694645"
      ]
     },
     "execution_count": 31,
     "metadata": {},
     "output_type": "execute_result"
    }
   ],
   "source": [
    "cars.Distance.corr(cars.Time)"
   ]
  },
  {
   "cell_type": "markdown",
   "metadata": {},
   "source": [
    "3.5 Analizziamo la distanza percorsa in ogni servizio in orario di punta"
   ]
  },
  {
   "cell_type": "code",
   "execution_count": 32,
   "metadata": {},
   "outputs": [
    {
     "data": {
      "text/html": [
       "<div>\n",
       "<style scoped>\n",
       "    .dataframe tbody tr th:only-of-type {\n",
       "        vertical-align: middle;\n",
       "    }\n",
       "\n",
       "    .dataframe tbody tr th {\n",
       "        vertical-align: top;\n",
       "    }\n",
       "\n",
       "    .dataframe thead th {\n",
       "        text-align: right;\n",
       "    }\n",
       "</style>\n",
       "<table border=\"1\" class=\"dataframe\">\n",
       "  <thead>\n",
       "    <tr style=\"text-align: right;\">\n",
       "      <th></th>\n",
       "      <th>CarIdentifier</th>\n",
       "      <th>TimeFrame</th>\n",
       "      <th>RushHour</th>\n",
       "      <th>PremiumCustomer</th>\n",
       "      <th>Distance</th>\n",
       "      <th>Time</th>\n",
       "    </tr>\n",
       "  </thead>\n",
       "  <tbody>\n",
       "    <tr>\n",
       "      <th>0</th>\n",
       "      <td>102</td>\n",
       "      <td>FRAME D</td>\n",
       "      <td>1</td>\n",
       "      <td>1</td>\n",
       "      <td>3.0</td>\n",
       "      <td>7.9</td>\n",
       "    </tr>\n",
       "    <tr>\n",
       "      <th>1</th>\n",
       "      <td>103</td>\n",
       "      <td>FRAME D</td>\n",
       "      <td>1</td>\n",
       "      <td>1</td>\n",
       "      <td>5.3</td>\n",
       "      <td>13.9</td>\n",
       "    </tr>\n",
       "    <tr>\n",
       "      <th>2</th>\n",
       "      <td>105</td>\n",
       "      <td>FRAME D</td>\n",
       "      <td>1</td>\n",
       "      <td>-1</td>\n",
       "      <td>0.4</td>\n",
       "      <td>4.1</td>\n",
       "    </tr>\n",
       "    <tr>\n",
       "      <th>3</th>\n",
       "      <td>110</td>\n",
       "      <td>FRAME D</td>\n",
       "      <td>1</td>\n",
       "      <td>1</td>\n",
       "      <td>2.8</td>\n",
       "      <td>5.0</td>\n",
       "    </tr>\n",
       "    <tr>\n",
       "      <th>4</th>\n",
       "      <td>110</td>\n",
       "      <td>FRAME B</td>\n",
       "      <td>1</td>\n",
       "      <td>-1</td>\n",
       "      <td>2.7</td>\n",
       "      <td>5.6</td>\n",
       "    </tr>\n",
       "    <tr>\n",
       "      <th>...</th>\n",
       "      <td>...</td>\n",
       "      <td>...</td>\n",
       "      <td>...</td>\n",
       "      <td>...</td>\n",
       "      <td>...</td>\n",
       "      <td>...</td>\n",
       "    </tr>\n",
       "    <tr>\n",
       "      <th>378</th>\n",
       "      <td>983</td>\n",
       "      <td>FRAME D</td>\n",
       "      <td>1</td>\n",
       "      <td>-1</td>\n",
       "      <td>1.2</td>\n",
       "      <td>3.9</td>\n",
       "    </tr>\n",
       "    <tr>\n",
       "      <th>384</th>\n",
       "      <td>991</td>\n",
       "      <td>FRAME D</td>\n",
       "      <td>1</td>\n",
       "      <td>-1</td>\n",
       "      <td>1.0</td>\n",
       "      <td>3.9</td>\n",
       "    </tr>\n",
       "    <tr>\n",
       "      <th>385</th>\n",
       "      <td>993</td>\n",
       "      <td>FRAME B</td>\n",
       "      <td>1</td>\n",
       "      <td>-1</td>\n",
       "      <td>2.6</td>\n",
       "      <td>5.6</td>\n",
       "    </tr>\n",
       "    <tr>\n",
       "      <th>386</th>\n",
       "      <td>995</td>\n",
       "      <td>FRAME B</td>\n",
       "      <td>1</td>\n",
       "      <td>1</td>\n",
       "      <td>2.1</td>\n",
       "      <td>4.4</td>\n",
       "    </tr>\n",
       "    <tr>\n",
       "      <th>390</th>\n",
       "      <td>997</td>\n",
       "      <td>FRAME B</td>\n",
       "      <td>1</td>\n",
       "      <td>-1</td>\n",
       "      <td>1.8</td>\n",
       "      <td>4.0</td>\n",
       "    </tr>\n",
       "  </tbody>\n",
       "</table>\n",
       "<p>217 rows × 6 columns</p>\n",
       "</div>"
      ],
      "text/plain": [
       "     CarIdentifier TimeFrame  RushHour  PremiumCustomer  Distance  Time\n",
       "0              102   FRAME D         1                1       3.0   7.9\n",
       "1              103   FRAME D         1                1       5.3  13.9\n",
       "2              105   FRAME D         1               -1       0.4   4.1\n",
       "3              110   FRAME D         1                1       2.8   5.0\n",
       "4              110   FRAME B         1               -1       2.7   5.6\n",
       "..             ...       ...       ...              ...       ...   ...\n",
       "378            983   FRAME D         1               -1       1.2   3.9\n",
       "384            991   FRAME D         1               -1       1.0   3.9\n",
       "385            993   FRAME B         1               -1       2.6   5.6\n",
       "386            995   FRAME B         1                1       2.1   4.4\n",
       "390            997   FRAME B         1               -1       1.8   4.0\n",
       "\n",
       "[217 rows x 6 columns]"
      ]
     },
     "execution_count": 32,
     "metadata": {},
     "output_type": "execute_result"
    }
   ],
   "source": [
    "rush = cars[cars['RushHour'] == 1]\n",
    "rush"
   ]
  },
  {
   "cell_type": "markdown",
   "metadata": {},
   "source": [
    "3.5.1 Grafico adatto per Distance\n",
    "\n",
    "Essendo un attributo di tipo quantitativo continuo, la rappresentazione grafica più appropriata è un istogramma."
   ]
  },
  {
   "cell_type": "code",
   "execution_count": 33,
   "metadata": {},
   "outputs": [
    {
     "data": {
      "image/png": "[encoded data removed]",
      "text/plain": [
       "<Figure size 640x480 with 1 Axes>"
      ]
     },
     "metadata": {},
     "output_type": "display_data"
    }
   ],
   "source": [
    "rush.Distance.hist()\n",
    "plt.show()"
   ]
  },
  {
   "cell_type": "markdown",
   "metadata": {},
   "source": [
    "3.5.2 Distance negli orari di punta segue una legge normale?\n",
    "\n",
    "Osservando l'istogramma prodotto prima, si vede come non abbia la tipica forma a campana che caratterizza la distribuzione normale, per cui confutiamo l'ipotesi.\n",
    "Per ulteriore conferma si può vedere il QQplot"
   ]
  },
  {
   "cell_type": "code",
   "execution_count": 35,
   "metadata": {},
   "outputs": [
    {
     "data": {
      "image/png": "[encoded data removed]",
      "text/plain": [
       "<Figure size 640x480 with 1 Axes>"
      ]
     },
     "metadata": {},
     "output_type": "display_data"
    }
   ],
   "source": [
    "sm.qqplot(rush.Distance, fit = True, line=\"45\")\n",
    "plt.show()"
   ]
  },
  {
   "cell_type": "markdown",
   "metadata": {},
   "source": [
    "3.5.3 Stimare valore atteso e deviazione standard della distanza negli orari di punta"
   ]
  },
  {
   "cell_type": "code",
   "execution_count": 36,
   "metadata": {},
   "outputs": [
    {
     "name": "stdout",
     "output_type": "stream",
     "text": [
      "Valore atteso: 3.319354838709678\n",
      "Deviazione standard: 3.711106147915897\n"
     ]
    }
   ],
   "source": [
    "print(f'Valore atteso: {rush.Distance.mean()}\\nDeviazione standard: {rush.Distance.std()}')"
   ]
  },
  {
   "cell_type": "markdown",
   "metadata": {},
   "source": [
    "3.5.4 Quale modello segue distance negli orari di punta?\n",
    "\n",
    "Osservando l'istogramma prodotto in precedenza che ha un decadimento di tipo esponenziale e i valori di media e deviazione standard molto simili, si può dire che la distanza negli orari di punta segue una distribuzione esponenziale.\n",
    "Il QQplot conferma tale ipotesi."
   ]
  },
  {
   "cell_type": "code",
   "execution_count": null,
   "metadata": {},
   "outputs": [],
   "source": []
  },
  {
   "cell_type": "markdown",
   "metadata": {},
   "source": []
  },
  {
   "cell_type": "markdown",
   "metadata": {},
   "source": []
  }
 ],
 "metadata": {
  "kernelspec": {
   "display_name": "Python 3",
   "language": "python",
   "name": "python3"
  },
  "language_info": {
   "codemirror_mode": {
    "name": "ipython",
    "version": 3
   },
   "file_extension": ".py",
   "mimetype": "text/x-python",
   "name": "python",
   "nbconvert_exporter": "python",
   "pygments_lexer": "ipython3",
   "version": "3.11.5"
  }
 },
 "nbformat": 4,
 "nbformat_minor": 2
}
