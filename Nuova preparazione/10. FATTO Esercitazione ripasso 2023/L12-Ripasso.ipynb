{
 "cells": [
  {
   "cell_type": "markdown",
   "metadata": {
    "toc": true
   },
   "source": [
    "<h1>Table of Contents<span class=\"tocSkip\"></span></h1>\n",
    "<div class=\"toc\"><ul class=\"toc-item\"></ul></div>"
   ]
  },
  {
   "cell_type": "markdown",
   "metadata": {
    "header": true,
    "solution": "hidden"
   },
   "source": [
    "<div class=\"header\">\n",
    "D. Malchiodi, Superhero data science. Vol 1: probabilità e statistica: Ripasso.\n",
    "</div>\n",
    "<hr style=\"width: 90%;\" align=\"left\" />"
   ]
  },
  {
   "cell_type": "markdown",
   "metadata": {
    "hide_input": false,
    "solution": "hidden"
   },
   "source": [
    "<div style=\"font-size: 30px; font-weight: bold;\">Esercitazione di ripasso</div>\n",
    "\n",
    "**Esercizio 1**\n",
    "\n",
    "Sia $X$ una variabile aleatoria di Poisson, e sia $\\lambda$ il numero medio di eventi che accadono in un intervallo di ampiezza prefissata.\n",
    "\n",
    "**Punto 1**\n",
    "\n",
    "1. Quali valori può assumere $X$?\n",
    "2. Si esprima, in funzione di $\\lambda$, la probabilità $p_X(k) = \\mathrm P(X=k)$ che accadano esattamente $k$ eventi nell'intervallo considerato.\n",
    "3. Si esprimano, in funzione di $\\lambda$, il valore atteso e la varianza di $X$.\n"
   ]
  },
  {
   "cell_type": "markdown",
   "metadata": {
    "solution": "hidden"
   },
   "source": [
    "**Svolgimento**"
   ]
  },
  {
   "cell_type": "markdown",
   "metadata": {
    "solution": "hidden",
    "solution_first": true
   },
   "source": [
    "**1.1** _Quali valori può assumere $X$?_"
   ]
  },
  {
   "cell_type": "markdown",
   "metadata": {
    "solution": "hidden"
   },
   "source": [
    "Una variabile di Poisson può assumere come specificazioni tutti i valori interi, zero incluso."
   ]
  },
  {
   "cell_type": "markdown",
   "metadata": {
    "solution": "hidden",
    "solution_first": true
   },
   "source": [
    "**1.2** _Si esprima, in funzione di $\\lambda$, la probabilità $p_X(k) = \\mathrm P(X=k)$ che accadano esattamente $k$ eventi nell'intervallo considerato._"
   ]
  },
  {
   "cell_type": "markdown",
   "metadata": {
    "solution": "hidden"
   },
   "source": [
    "$$p_X(k) = \\mathrm P(X=k) = \\frac{\\mathrm e^{-\\lambda} \\lambda^k}{k!} \\mathrm I_{\\mathbb N \\cup \\{ 0 \\} } (k)$$"
   ]
  },
  {
   "cell_type": "markdown",
   "metadata": {
    "solution": "shown",
    "solution_first": true
   },
   "source": [
    "**1.3** _Si esprimano, in funzione di $\\lambda$, il valore atteso e la varianza di $X$._"
   ]
  },
  {
   "cell_type": "markdown",
   "metadata": {
    "solution": "shown"
   },
   "source": [
    "$$\\mathcal E(X) = \\lambda$$\n",
    "\n",
    "$$\\mathrm{Var}(X) = \\lambda$$"
   ]
  },
  {
   "cell_type": "markdown",
   "metadata": {},
   "source": [
    "**Punto 2**\n",
    "\n",
    "Fissiamo, **solo in questo punto**, $\\lambda=5$.\n",
    "\n",
    "1. Si tracci il grafico della funzione massa di probabilità di $X$.\n",
    "2. Si calcoli la probabilità che $X$ assuma valori maggiori di 6.\n",
    "3. Si determini il più piccolo valore di $X$, chiamiamolo $x_{0.8}$, tale che $P(X \\leq x_{0.8}) \\geq 0.8$."
   ]
  },
  {
   "cell_type": "markdown",
   "metadata": {},
   "source": [
    "**Mia soluzione**"
   ]
  },
  {
   "cell_type": "markdown",
   "metadata": {},
   "source": [
    "Punto 2.1"
   ]
  },
  {
   "cell_type": "code",
   "execution_count": 2,
   "metadata": {},
   "outputs": [
    {
     "data": {
      "image/png": "[encoded data removed]",
      "text/plain": [
       "<Figure size 640x480 with 1 Axes>"
      ]
     },
     "metadata": {},
     "output_type": "display_data"
    }
   ],
   "source": [
    "import scipy.stats as st\n",
    "import matplotlib.pyplot as plt\n",
    "\n",
    "X = st.poisson(5)\n",
    "x = range(20)\n",
    "#X.pmf(x)\n",
    "plt.vlines(x, 0, X.pmf(x))\n",
    "plt.plot(x, X.pmf(x), 'o')\n",
    "plt.show()"
   ]
  },
  {
   "cell_type": "markdown",
   "metadata": {},
   "source": [
    "Punto 2.2"
   ]
  },
  {
   "cell_type": "code",
   "execution_count": 4,
   "metadata": {},
   "outputs": [
    {
     "name": "stdout",
     "output_type": "stream",
     "text": [
      "P(X > 6) = 0.2378165370270613\n"
     ]
    }
   ],
   "source": [
    "print(f'P(X > 6) = {1-X.cdf(6)}')"
   ]
  },
  {
   "cell_type": "markdown",
   "metadata": {},
   "source": [
    "Punto 2.3"
   ]
  },
  {
   "cell_type": "code",
   "execution_count": 5,
   "metadata": {},
   "outputs": [
    {
     "name": "stdout",
     "output_type": "stream",
     "text": [
      "7.0\n"
     ]
    }
   ],
   "source": [
    "print(X.ppf(0.8))"
   ]
  },
  {
   "cell_type": "markdown",
   "metadata": {},
   "source": [
    "**Svolgimento**"
   ]
  },
  {
   "cell_type": "markdown",
   "metadata": {
    "solution": "shown",
    "solution_first": true
   },
   "source": [
    "**2.1**\n",
    "_Si tracci il grafico della funzione massa di probabilità di $X$._"
   ]
  },
  {
   "cell_type": "markdown",
   "metadata": {
    "solution": "shown"
   },
   "source": [
    "Attrezziamoci per calcolare i valori di $p_X$ definendo una funzione `p_poisson` che accetta come argomenti una specificazione (quindi un valore intero non negativo) e un parametro (quindi un valore reale positivo) per un generico modello di Poisson."
   ]
  },
  {
   "cell_type": "code",
   "execution_count": 1,
   "metadata": {
    "solution": "shown"
   },
   "outputs": [],
   "source": [
    "%matplotlib inline\n",
    "\n",
    "import math\n",
    "import matplotlib.pyplot as plt\n",
    "\n",
    "def p_poisson(x, l):\n",
    "    return l**x * math.exp(-1 * l) / math.factorial(x)"
   ]
  },
  {
   "cell_type": "markdown",
   "metadata": {
    "solution": "shown"
   },
   "source": [
    "Avendo $X$ un supporto infinito, sarà necessario generare il grafico richiesto solo parzialmente. Fissiamo quindi il parametro a 5 e generiamo un grafico a bastoncini relativo alla massa di probabilità delle prime quindici specificazioni."
   ]
  },
  {
   "cell_type": "code",
   "execution_count": 2,
   "metadata": {
    "solution": "shown"
   },
   "outputs": [
    {
     "data": {
      "image/png": "[encoded data removed]",
      "text/plain": [
       "<Figure size 432x288 with 1 Axes>"
      ]
     },
     "metadata": {
      "needs_background": "light"
     },
     "output_type": "display_data"
    }
   ],
   "source": [
    "l = 5\n",
    "x = range(15)\n",
    "p_x = list(map(lambda _: p_poisson(_, l), x))\n",
    "plt.vlines(x, [0]*len(x), p_x)\n",
    "plt.plot(x, p_x, 'o')\n",
    "plt.show()"
   ]
  },
  {
   "cell_type": "markdown",
   "metadata": {
    "solution": "shown"
   },
   "source": [
    "Possiamo ottenere lo stesso grafico utilizzando il package `scipy.stats`. Tale package permette di istanziare un oggetto che corrisponde a una distribuzione, per poi invocare su di esso dei metodi che ne calcolano la funzione di massa di probabilità (o di densità di probabilità) oppure la funzione di distribuzione cumulativa. Normalmente il nome della classe da istanziare equivale a quello della distribuzione considerata. È questo il caso della distribuzione di Poisson, il cui costruttore accetta come argomento il valore del corrispondente parametro. Seguendo la notazione vista a lezione, useremo `X` come nome della variabile che si riferisce alla distribuzione e `x` per le sue possibili specificazioni."
   ]
  },
  {
   "cell_type": "code",
   "execution_count": 3,
   "metadata": {
    "solution": "shown"
   },
   "outputs": [],
   "source": [
    "import scipy.stats as st\n",
    "\n",
    "X = st.poisson(l)"
   ]
  },
  {
   "cell_type": "markdown",
   "metadata": {
    "solution": "shown"
   },
   "source": [
    "Il calcolo della funzione di massa di probabilità viene effettuato invocando il metodo `pmf`, a cui passare una specificazione, oppure una lista o un array di specificazioni: la funzione restituirà un valore nel primo caso e un array nei casi rimanenti."
   ]
  },
  {
   "cell_type": "code",
   "execution_count": 4,
   "metadata": {
    "solution": "shown"
   },
   "outputs": [
    {
     "data": {
      "text/plain": [
       "array([0.00673795, 0.03368973, 0.08422434, 0.1403739 , 0.17546737,\n",
       "       0.17546737, 0.14622281, 0.10444486, 0.06527804, 0.03626558,\n",
       "       0.01813279, 0.00824218, 0.00343424, 0.00132086, 0.00047174])"
      ]
     },
     "execution_count": 4,
     "metadata": {},
     "output_type": "execute_result"
    }
   ],
   "source": [
    "X.pmf(x)"
   ]
  },
  {
   "cell_type": "markdown",
   "metadata": {
    "solution": "shown"
   },
   "source": [
    "Utilizzando `matplotlib` possiamo anche visualizzare parzialmente i grafici delle funzioni di massa di probabilità e di distribuzione cumulativa."
   ]
  },
  {
   "cell_type": "code",
   "execution_count": 5,
   "metadata": {
    "scrolled": false,
    "solution": "shown"
   },
   "outputs": [
    {
     "data": {
      "image/png": "[encoded data removed]",
      "text/plain": [
       "<Figure size 432x288 with 1 Axes>"
      ]
     },
     "metadata": {
      "needs_background": "light"
     },
     "output_type": "display_data"
    }
   ],
   "source": [
    "plt.vlines(x, 0, X.pmf(x))\n",
    "plt.plot(x, X.pmf(x), 'o')\n",
    "plt.show()"
   ]
  },
  {
   "cell_type": "markdown",
   "metadata": {
    "solution": "shown",
    "solution_first": true
   },
   "source": [
    "**2.2**\n",
    "_Si calcoli la probabilità che $X$ assuma valori maggiori di 6._"
   ]
  },
  {
   "cell_type": "markdown",
   "metadata": {
    "solution": "shown"
   },
   "source": [
    "Sfruttiamo il fatto che $\\mathrm P(X > 6) = 1 - \\mathrm P(X \\leq 6)$:"
   ]
  },
  {
   "cell_type": "code",
   "execution_count": 6,
   "metadata": {
    "solution": "shown"
   },
   "outputs": [
    {
     "data": {
      "text/plain": [
       "0.23781653702706163"
      ]
     },
     "execution_count": 6,
     "metadata": {},
     "output_type": "execute_result"
    }
   ],
   "source": [
    "1- sum([X.pmf(i) for i in range(7)])"
   ]
  },
  {
   "cell_type": "code",
   "execution_count": 7,
   "metadata": {
    "scrolled": true,
    "solution": "shown"
   },
   "outputs": [
    {
     "data": {
      "text/plain": [
       "0.2378165370270613"
      ]
     },
     "execution_count": 7,
     "metadata": {},
     "output_type": "execute_result"
    }
   ],
   "source": [
    "1 - X.cdf(6)"
   ]
  },
  {
   "cell_type": "markdown",
   "metadata": {
    "solution": "shown",
    "solution_first": true
   },
   "source": [
    "**2.3**\n",
    "_Si determini il più piccolo valore di $X$, chiamiamolo $x_{0.8}$, tale che $P(X \\leq x_{0.8}) \\geq 0.8$._"
   ]
  },
  {
   "cell_type": "markdown",
   "metadata": {
    "solution": "shown"
   },
   "source": [
    "Siccome $P(X \\leq x) \\geq 0.8$ equivale a $F_X(x) \\geq 0.8$, un modo operativo per trovare il valore di $x_{0.8}$ è quello di calcolare la funzione di ripartizione di $X$ per valori crescenti delle specificazioni, fermandosi la prima volta che si supera 0.8. Per calcolare agevolmente $F_X$ si può invocare il metodo `cdf` sulla variabile `X` precedentemente definita."
   ]
  },
  {
   "cell_type": "code",
   "execution_count": 8,
   "metadata": {
    "solution": "shown"
   },
   "outputs": [
    {
     "name": "stdout",
     "output_type": "stream",
     "text": [
      "7\n"
     ]
    }
   ],
   "source": [
    "x = 0\n",
    "while X.cdf(x) < 0.8:\n",
    "    x +=1\n",
    "\n",
    "print(x)"
   ]
  },
  {
   "cell_type": "markdown",
   "metadata": {
    "solution": "shown"
   },
   "source": [
    "Pertanto $x_{0.8}=7$. Per essere sicuri di non avere fatto errori basta calcolare $F_X(6)$ e $F_X(7)$ e verificare che i due valori risultano rispettivamente minore e maggiore di 0.8."
   ]
  },
  {
   "cell_type": "code",
   "execution_count": 9,
   "metadata": {
    "solution": "shown"
   },
   "outputs": [
    {
     "data": {
      "text/plain": [
       "(0.7621834629729387, 0.8666283259299925)"
      ]
     },
     "execution_count": 9,
     "metadata": {},
     "output_type": "execute_result"
    }
   ],
   "source": [
    "(X.cdf(6), X.cdf(7))"
   ]
  },
  {
   "cell_type": "markdown",
   "metadata": {
    "solution": "shown"
   },
   "source": [
    "Si verifica facilmente che il valore richiesto corrisponde al quantile 0.8 di $X$, che può quindi essere facilmente calcolato utilizzando il metodo `ppf` di `scipy.stats`."
   ]
  },
  {
   "cell_type": "code",
   "execution_count": 10,
   "metadata": {
    "solution": "shown"
   },
   "outputs": [
    {
     "data": {
      "text/plain": [
       "7.0"
      ]
     },
     "execution_count": 10,
     "metadata": {},
     "output_type": "execute_result"
    }
   ],
   "source": [
    "X.ppf(0.8)"
   ]
  },
  {
   "cell_type": "markdown",
   "metadata": {
    "solution": "hidden"
   },
   "source": [
    "<div class=\"alert alert-info\">Il package non mette a disposizione metodi per il calcolo esplicito di percentili, quartili o decili, che però si possono ottenere facilmente in termini del corrispondente quantile: per esempio il 34-esimo percentile coincide con il quantile 0.34, il sesto decile coincide con il quantile 0.6 e così via.</div>"
   ]
  },
  {
   "cell_type": "markdown",
   "metadata": {},
   "source": [
    "**Punto 3**\n",
    "\n",
    "Dati $a, b \\in \\mathbb R$, sia $Y=a \\cdot X-b$. Si esprimano, in funzione di $\\lambda$, $a$ e $b$, il valore atteso e la varianza di $Y$."
   ]
  },
  {
   "cell_type": "markdown",
   "metadata": {
    "solution": "hidden",
    "solution_first": true
   },
   "source": [
    "**Svolgimento**"
   ]
  },
  {
   "cell_type": "markdown",
   "metadata": {
    "solution": "hidden"
   },
   "source": [
    "Sfruttando la linearità del valore atteso si ottiene\n",
    "\n",
    "$$\\mathcal E(Y) = \\mathcal E(a \\cdot X - b) = a \\mathcal E(X) - b = \\lambda a - b.$$\n",
    "\n",
    "Analogamente, applicando le proprietà della varianza si ricava\n",
    "\n",
    "$$\\mathrm{Var}(Y) = \\mathrm{Var}(a \\cdot X - b) = a^2 \\mathrm{Var}(X) = \\lambda a^2.$$"
   ]
  },
  {
   "cell_type": "markdown",
   "metadata": {},
   "source": [
    "**Esercizio 2**\n",
    "\n",
    "Un'azienda  è proprietaria di alcune sorgenti di alta montagna.\n",
    "L'azienda ha da poco acquistato un dispositivo per il filtraggio dell'acqua, che filtra 5 litri di acqua per volta e, per ogni operazione, registra su un file alcune informazioni tra cui il nome della sorgente dalla quale è stata prelevata l'acqua, la durezza dell'acqua analizzata, il numero di particelle riscontrate di alcuni elementi (per esempio magnesio, sodio, oro, argento, ferro, piombo, iodio). Dalle prime prove di utilizzo si è notato con sorpresa che, nel file prodotto dal dispositivo, la colonna corrispondente all'oro non contiene sempre il valore zero, quindi nell'acqua si possono trovare tracce di oro.\n",
    "\n",
    "Il file `ComposizioneAcqua.csv` (contenuto nella directory `data`) contiene i dati che siamo interessati ad analizzare. Ecco la descrizione degli attributi:\n",
    "\n",
    "- _NomeSorgente_: nome della sorgente dalla quale è stata prelevata l'acqua;\n",
    "- _Oro_: numero di particelle di oro riscontrate in 5 litri di acqua;\n",
    "- _DurezzaAcqua_: durezza dell'acqua (indice legato alla presenza di calcio).\n",
    "\n",
    "Si svolgano i seguenti punti.\n",
    "\n",
    "1. Quanti casi sono presenti nel dataset?\n",
    "2. Quanti litri di acqua sono stati analizzati complessivamente?\n",
    "3. Quante sono le sorgenti dalle quali sono stati prelevati i campioni di acqua?\n",
    "4. Le diverse sorgenti sono rappresentate in modo uniforme nel dataset?\n",
    "5. Si calcoli la tabella delle frequenze delle particelle di oro su 5 litri di acqua.\n",
    "6. Si tracci un grafico opportuno per la visualizzazione di tali frequenze.\n",
    "7. La distribuzione delle frequenze osservata è compatibile con un modello di Poisson?\n",
    "8. Si stimi il numero atteso di particelle di oro riscontrate in 5 litri di acqua.\n",
    "9. Sia $X$ la variabile casuale che conta il numero di particelle di oro riscontrate in 5 litri di acqua. Scrivere lo stimatore utilizzato al punto precedente, specificare la numerosità del campione a cui è applicato e dire se è uno stimatore non distorto.\n",
    "\n",
    "\n"
   ]
  },
  {
   "cell_type": "markdown",
   "metadata": {
    "solution": "shown",
    "solution_first": true
   },
   "source": [
    "**2.1**\n",
    "_Quanti casi sono presenti nel dataset?_"
   ]
  },
  {
   "cell_type": "markdown",
   "metadata": {
    "solution": "shown"
   },
   "source": [
    "Iniziamo caricando il dataset e creando il corrispondente _dataframe_."
   ]
  },
  {
   "cell_type": "code",
   "execution_count": 8,
   "metadata": {},
   "outputs": [
    {
     "name": "stdout",
     "output_type": "stream",
     "text": [
      "Numero casi: 1650\n"
     ]
    }
   ],
   "source": [
    "import pandas as pd\n",
    "acqua = pd.read_csv('ComposizioneAcqua.csv')\n",
    "\n",
    "print(f'Numero casi: {len(acqua)}')"
   ]
  },
  {
   "cell_type": "code",
   "execution_count": 11,
   "metadata": {
    "scrolled": true,
    "solution": "shown"
   },
   "outputs": [
    {
     "data": {
      "text/html": [
       "<div>\n",
       "<style scoped>\n",
       "    .dataframe tbody tr th:only-of-type {\n",
       "        vertical-align: middle;\n",
       "    }\n",
       "\n",
       "    .dataframe tbody tr th {\n",
       "        vertical-align: top;\n",
       "    }\n",
       "\n",
       "    .dataframe thead th {\n",
       "        text-align: right;\n",
       "    }\n",
       "</style>\n",
       "<table border=\"1\" class=\"dataframe\">\n",
       "  <thead>\n",
       "    <tr style=\"text-align: right;\">\n",
       "      <th></th>\n",
       "      <th>NomeSorgente</th>\n",
       "      <th>Oro</th>\n",
       "      <th>DurezzaAcqua</th>\n",
       "    </tr>\n",
       "  </thead>\n",
       "  <tbody>\n",
       "    <tr>\n",
       "      <th>0</th>\n",
       "      <td>Sorgente1</td>\n",
       "      <td>0</td>\n",
       "      <td>21.201381</td>\n",
       "    </tr>\n",
       "    <tr>\n",
       "      <th>1</th>\n",
       "      <td>Sorgente1</td>\n",
       "      <td>0</td>\n",
       "      <td>25.294662</td>\n",
       "    </tr>\n",
       "    <tr>\n",
       "      <th>2</th>\n",
       "      <td>Sorgente1</td>\n",
       "      <td>4</td>\n",
       "      <td>12.435279</td>\n",
       "    </tr>\n",
       "    <tr>\n",
       "      <th>3</th>\n",
       "      <td>Sorgente1</td>\n",
       "      <td>3</td>\n",
       "      <td>16.146828</td>\n",
       "    </tr>\n",
       "    <tr>\n",
       "      <th>4</th>\n",
       "      <td>Sorgente1</td>\n",
       "      <td>0</td>\n",
       "      <td>21.091517</td>\n",
       "    </tr>\n",
       "  </tbody>\n",
       "</table>\n",
       "</div>"
      ],
      "text/plain": [
       "  NomeSorgente  Oro  DurezzaAcqua\n",
       "0    Sorgente1    0     21.201381\n",
       "1    Sorgente1    0     25.294662\n",
       "2    Sorgente1    4     12.435279\n",
       "3    Sorgente1    3     16.146828\n",
       "4    Sorgente1    0     21.091517"
      ]
     },
     "execution_count": 11,
     "metadata": {},
     "output_type": "execute_result"
    }
   ],
   "source": [
    "import pandas as pd\n",
    "\n",
    "acqua = pd.read_csv('data/ComposizioneAcqua.csv')\n",
    "acqua.head()"
   ]
  },
  {
   "cell_type": "markdown",
   "metadata": {
    "solution": "shown"
   },
   "source": [
    "Il numero di casi nel _dataframe_ si ottiene facilmente usando la funzione `len`."
   ]
  },
  {
   "cell_type": "code",
   "execution_count": 12,
   "metadata": {
    "solution": "shown"
   },
   "outputs": [
    {
     "data": {
      "text/plain": [
       "1650"
      ]
     },
     "execution_count": 12,
     "metadata": {},
     "output_type": "execute_result"
    }
   ],
   "source": [
    "len(acqua)"
   ]
  },
  {
   "cell_type": "markdown",
   "metadata": {
    "solution": "shown",
    "solution_first": true
   },
   "source": [
    "**2.2**\n",
    "_Quanti litri di acqua sono stati analizzati complessivamente?_\n",
    "\n",
    "Ogni caso nel _dataset_ corrisponde a cinque litri di acqua, quindi il numero totale di litri esaminati è pari a "
   ]
  },
  {
   "cell_type": "code",
   "execution_count": 10,
   "metadata": {},
   "outputs": [
    {
     "name": "stdout",
     "output_type": "stream",
     "text": [
      "Litri acqua totali: 8250\n"
     ]
    }
   ],
   "source": [
    "print(f'Litri acqua totali: {5*len(acqua)}')"
   ]
  },
  {
   "cell_type": "code",
   "execution_count": 13,
   "metadata": {
    "solution": "shown"
   },
   "outputs": [
    {
     "data": {
      "text/plain": [
       "8250"
      ]
     },
     "execution_count": 13,
     "metadata": {},
     "output_type": "execute_result"
    }
   ],
   "source": [
    "len(acqua) * 5"
   ]
  },
  {
   "cell_type": "markdown",
   "metadata": {
    "solution": "shown",
    "solution_first": true
   },
   "source": [
    "**2.3**\n",
    "_Quante sono le sorgenti dalle quali sono stati prelevati i campioni di acqua?_"
   ]
  },
  {
   "cell_type": "code",
   "execution_count": 11,
   "metadata": {},
   "outputs": [
    {
     "name": "stdout",
     "output_type": "stream",
     "text": [
      "Numero sorgenti distinte: 5\n"
     ]
    }
   ],
   "source": [
    "print(f'Numero sorgenti distinte: {len(acqua.NomeSorgente.unique())}')"
   ]
  },
  {
   "cell_type": "markdown",
   "metadata": {
    "solution": "shown"
   },
   "source": [
    "Per ottenere il numero di sorgenti è necessario innanzitutto estrarre dal _dataframe_ la serie corrispondente all'attributo considerato. Invocando poi il metodo `unique` su di quest'ultima si ottiene un array con i diversi valori per l'attributo."
   ]
  },
  {
   "cell_type": "code",
   "execution_count": 14,
   "metadata": {
    "solution": "shown"
   },
   "outputs": [
    {
     "data": {
      "text/plain": [
       "array(['Sorgente1', 'Sorgente2', 'Sorgente3', 'Sorgente4', 'Sorgente5'],\n",
       "      dtype=object)"
      ]
     },
     "execution_count": 14,
     "metadata": {},
     "output_type": "execute_result"
    }
   ],
   "source": [
    "acqua['NomeSorgente'].unique()"
   ]
  },
  {
   "cell_type": "markdown",
   "metadata": {
    "solution": "shown"
   },
   "source": [
    "Ovviamente la lunghezza di questo array corrisponde al numero di sorgenti analizzate. Definiamo una funzione `num_values` che calcola in questo modo il numero di diversi attributi in una serie (ci risulterà comoda tra poco)."
   ]
  },
  {
   "cell_type": "code",
   "execution_count": 15,
   "metadata": {
    "solution": "shown"
   },
   "outputs": [],
   "source": [
    "def num_values(series):\n",
    "    return len(series.unique())"
   ]
  },
  {
   "cell_type": "markdown",
   "metadata": {
    "solution": "shown"
   },
   "source": [
    "Pertanto il numero di diverse sorgenti sarà pari a"
   ]
  },
  {
   "cell_type": "code",
   "execution_count": 16,
   "metadata": {
    "solution": "shown"
   },
   "outputs": [
    {
     "data": {
      "text/plain": [
       "5"
      ]
     },
     "execution_count": 16,
     "metadata": {},
     "output_type": "execute_result"
    }
   ],
   "source": [
    "num_values(acqua['NomeSorgente'])"
   ]
  },
  {
   "cell_type": "markdown",
   "metadata": {
    "solution": "shown",
    "solution_first": true
   },
   "source": [
    "**2.4**\n",
    "_Le diverse sorgenti sono rappresentate in modo uniforme nel dataset?_"
   ]
  },
  {
   "cell_type": "code",
   "execution_count": 16,
   "metadata": {},
   "outputs": [
    {
     "name": "stdout",
     "output_type": "stream",
     "text": [
      "Essendo l indice di Gini pari a 0.980257116620753, possiamo dire che le diverse sorgenti sono rappresentate\n",
      "in modo molto uniforme\n"
     ]
    }
   ],
   "source": [
    "def gini_index(series):\n",
    "    s = len(series.unique())\n",
    "    return s*(1-(sum(series.value_counts(normalize=True)\n",
    "                 .map(lambda f: f**2))))/(s-1)\n",
    "\n",
    "print(f'Essendo l indice di Gini pari a {gini_index(acqua.NomeSorgente)}, possiamo dire che le diverse sorgenti sono rappresentate\\nin modo molto uniforme')"
   ]
  },
  {
   "cell_type": "markdown",
   "metadata": {
    "solution": "shown"
   },
   "source": [
    "Il modo in cui le diverse sorgenti sono rappresentate nel _dataset_ viene calcolato in termini della rispettiva eterogeneità. A sua volta, l'eterogeneità si può calcolare usando diversi indici. Richiamiamo qui di seguito l'implementazione del calcolo dell'indice di Gini nella sua versione originale (la funzione `gini`) e in quella normalizzata (la funzione `normalized_gini`, che utilizza la funzione `num_values` definita al punto precedente)."
   ]
  },
  {
   "cell_type": "code",
   "execution_count": 17,
   "metadata": {
    "solution": "shown"
   },
   "outputs": [],
   "source": [
    "def gini(series):\n",
    "    return 1 - sum(series.value_counts(normalize=True)\n",
    "                         .map(lambda f: f**2))\n",
    "\n",
    "def normalized_gini(series):\n",
    "    s = num_values(series)\n",
    "    return s * gini(series) / (s-1)"
   ]
  },
  {
   "cell_type": "markdown",
   "metadata": {
    "solution": "shown"
   },
   "source": [
    "Pertanto il valore per l'indice di Gini normalizzato relativo alle sorgente esaminate è"
   ]
  },
  {
   "cell_type": "code",
   "execution_count": 18,
   "metadata": {
    "solution": "shown"
   },
   "outputs": [
    {
     "data": {
      "text/plain": [
       "0.980257116620753"
      ]
     },
     "execution_count": 18,
     "metadata": {},
     "output_type": "execute_result"
    }
   ],
   "source": [
    "normalized_gini(acqua['NomeSorgente'])"
   ]
  },
  {
   "cell_type": "markdown",
   "metadata": {
    "solution": "hidden"
   },
   "source": [
    "il cui valore è prossimo all'unità, denotando dunque un'elevata eterogeneità che corrisponde a un alto livello di uniformità per le sorgenti."
   ]
  },
  {
   "cell_type": "markdown",
   "metadata": {
    "solution": "shown",
    "solution_first": true
   },
   "source": [
    "**2.5**\n",
    "_Si calcoli la tabella delle frequenze delle particelle di oro su 5 litri di acqua._"
   ]
  },
  {
   "cell_type": "code",
   "execution_count": 19,
   "metadata": {},
   "outputs": [
    {
     "data": {
      "text/html": [
       "<div>\n",
       "<style scoped>\n",
       "    .dataframe tbody tr th:only-of-type {\n",
       "        vertical-align: middle;\n",
       "    }\n",
       "\n",
       "    .dataframe tbody tr th {\n",
       "        vertical-align: top;\n",
       "    }\n",
       "\n",
       "    .dataframe thead th {\n",
       "        text-align: right;\n",
       "    }\n",
       "</style>\n",
       "<table border=\"1\" class=\"dataframe\">\n",
       "  <thead>\n",
       "    <tr style=\"text-align: right;\">\n",
       "      <th></th>\n",
       "      <th>Abs. frequence</th>\n",
       "    </tr>\n",
       "    <tr>\n",
       "      <th>Oro</th>\n",
       "      <th></th>\n",
       "    </tr>\n",
       "  </thead>\n",
       "  <tbody>\n",
       "    <tr>\n",
       "      <th>0</th>\n",
       "      <td>0.276364</td>\n",
       "    </tr>\n",
       "    <tr>\n",
       "      <th>1</th>\n",
       "      <td>0.296364</td>\n",
       "    </tr>\n",
       "    <tr>\n",
       "      <th>2</th>\n",
       "      <td>0.198788</td>\n",
       "    </tr>\n",
       "    <tr>\n",
       "      <th>3</th>\n",
       "      <td>0.086667</td>\n",
       "    </tr>\n",
       "    <tr>\n",
       "      <th>4</th>\n",
       "      <td>0.048485</td>\n",
       "    </tr>\n",
       "    <tr>\n",
       "      <th>5</th>\n",
       "      <td>0.038182</td>\n",
       "    </tr>\n",
       "    <tr>\n",
       "      <th>6</th>\n",
       "      <td>0.029091</td>\n",
       "    </tr>\n",
       "    <tr>\n",
       "      <th>7</th>\n",
       "      <td>0.012121</td>\n",
       "    </tr>\n",
       "    <tr>\n",
       "      <th>8</th>\n",
       "      <td>0.007273</td>\n",
       "    </tr>\n",
       "    <tr>\n",
       "      <th>9</th>\n",
       "      <td>0.002424</td>\n",
       "    </tr>\n",
       "    <tr>\n",
       "      <th>10</th>\n",
       "      <td>0.002424</td>\n",
       "    </tr>\n",
       "    <tr>\n",
       "      <th>11</th>\n",
       "      <td>0.001818</td>\n",
       "    </tr>\n",
       "  </tbody>\n",
       "</table>\n",
       "</div>"
      ],
      "text/plain": [
       "     Abs. frequence\n",
       "Oro                \n",
       "0          0.276364\n",
       "1          0.296364\n",
       "2          0.198788\n",
       "3          0.086667\n",
       "4          0.048485\n",
       "5          0.038182\n",
       "6          0.029091\n",
       "7          0.012121\n",
       "8          0.007273\n",
       "9          0.002424\n",
       "10         0.002424\n",
       "11         0.001818"
      ]
     },
     "execution_count": 19,
     "metadata": {},
     "output_type": "execute_result"
    }
   ],
   "source": [
    "acqua_freq = pd.crosstab(index=acqua.Oro,\n",
    "                         columns = ['Abs. frequence'],\n",
    "                         colnames = [''],\n",
    "                         normalize=True)\n",
    "\n",
    "acqua_freq"
   ]
  },
  {
   "cell_type": "markdown",
   "metadata": {
    "solution": "shown"
   },
   "source": [
    "Non è specificato, nella richiesta, se la tabella debba contenere le frequenze assolute o relative. Concentriamoci quindi sulle frequenze relative. La tabella corrispondente si può ottenere in due modi:\n",
    "\n",
    "- invocando il metodo `value_counts` sulla serie corrispondente (utilizzando gli argomenti `normalize` e `sort` rispettivamente per calcolare le frequenze relative e per ordinare la tabella rispetto al valore degli attributi)"
   ]
  },
  {
   "cell_type": "code",
   "execution_count": 19,
   "metadata": {
    "solution": "shown"
   },
   "outputs": [
    {
     "data": {
      "text/plain": [
       "0     0.276364\n",
       "1     0.296364\n",
       "2     0.198788\n",
       "3     0.086667\n",
       "4     0.048485\n",
       "5     0.038182\n",
       "6     0.029091\n",
       "7     0.012121\n",
       "8     0.007273\n",
       "9     0.002424\n",
       "10    0.002424\n",
       "11    0.001818\n",
       "Name: Oro, dtype: float64"
      ]
     },
     "execution_count": 19,
     "metadata": {},
     "output_type": "execute_result"
    }
   ],
   "source": [
    "gold_rel_freq = acqua['Oro'].value_counts(normalize=True, sort=False)\n",
    "gold_rel_freq"
   ]
  },
  {
   "cell_type": "markdown",
   "metadata": {
    "solution": "shown"
   },
   "source": [
    "- invocando la funzione `pd.crosstab` e passandole la serie relativa alle particelle d'oro, anche in questo caso usando l'argomento `normalize` al fine di ottenere le frequenze relative"
   ]
  },
  {
   "cell_type": "code",
   "execution_count": 20,
   "metadata": {
    "scrolled": false,
    "solution": "shown"
   },
   "outputs": [
    {
     "data": {
      "text/html": [
       "<div>\n",
       "<style scoped>\n",
       "    .dataframe tbody tr th:only-of-type {\n",
       "        vertical-align: middle;\n",
       "    }\n",
       "\n",
       "    .dataframe tbody tr th {\n",
       "        vertical-align: top;\n",
       "    }\n",
       "\n",
       "    .dataframe thead th {\n",
       "        text-align: right;\n",
       "    }\n",
       "</style>\n",
       "<table border=\"1\" class=\"dataframe\">\n",
       "  <thead>\n",
       "    <tr style=\"text-align: right;\">\n",
       "      <th></th>\n",
       "      <th>Freqenza</th>\n",
       "    </tr>\n",
       "    <tr>\n",
       "      <th>Oro</th>\n",
       "      <th></th>\n",
       "    </tr>\n",
       "  </thead>\n",
       "  <tbody>\n",
       "    <tr>\n",
       "      <th>0</th>\n",
       "      <td>0.276364</td>\n",
       "    </tr>\n",
       "    <tr>\n",
       "      <th>1</th>\n",
       "      <td>0.296364</td>\n",
       "    </tr>\n",
       "    <tr>\n",
       "      <th>2</th>\n",
       "      <td>0.198788</td>\n",
       "    </tr>\n",
       "    <tr>\n",
       "      <th>3</th>\n",
       "      <td>0.086667</td>\n",
       "    </tr>\n",
       "    <tr>\n",
       "      <th>4</th>\n",
       "      <td>0.048485</td>\n",
       "    </tr>\n",
       "    <tr>\n",
       "      <th>5</th>\n",
       "      <td>0.038182</td>\n",
       "    </tr>\n",
       "    <tr>\n",
       "      <th>6</th>\n",
       "      <td>0.029091</td>\n",
       "    </tr>\n",
       "    <tr>\n",
       "      <th>7</th>\n",
       "      <td>0.012121</td>\n",
       "    </tr>\n",
       "    <tr>\n",
       "      <th>8</th>\n",
       "      <td>0.007273</td>\n",
       "    </tr>\n",
       "    <tr>\n",
       "      <th>9</th>\n",
       "      <td>0.002424</td>\n",
       "    </tr>\n",
       "    <tr>\n",
       "      <th>10</th>\n",
       "      <td>0.002424</td>\n",
       "    </tr>\n",
       "    <tr>\n",
       "      <th>11</th>\n",
       "      <td>0.001818</td>\n",
       "    </tr>\n",
       "  </tbody>\n",
       "</table>\n",
       "</div>"
      ],
      "text/plain": [
       "     Freqenza\n",
       "Oro          \n",
       "0    0.276364\n",
       "1    0.296364\n",
       "2    0.198788\n",
       "3    0.086667\n",
       "4    0.048485\n",
       "5    0.038182\n",
       "6    0.029091\n",
       "7    0.012121\n",
       "8    0.007273\n",
       "9    0.002424\n",
       "10   0.002424\n",
       "11   0.001818"
      ]
     },
     "execution_count": 20,
     "metadata": {},
     "output_type": "execute_result"
    }
   ],
   "source": [
    "pd.crosstab(index=acqua['Oro'],\n",
    "            columns=['Frequenza'],\n",
    "            normalize=True,\n",
    "            colnames=[''])"
   ]
  },
  {
   "cell_type": "markdown",
   "metadata": {
    "solution": "shown",
    "solution_first": true
   },
   "source": [
    "**2.6**\n",
    "_Si tracci un grafico opportuno per la visualizzazione di tali frequenze._"
   ]
  },
  {
   "cell_type": "code",
   "execution_count": 20,
   "metadata": {},
   "outputs": [
    {
     "data": {
      "image/png": "[encoded data removed]",
      "text/plain": [
       "<Figure size 640x480 with 1 Axes>"
      ]
     },
     "metadata": {},
     "output_type": "display_data"
    }
   ],
   "source": [
    "acqua_freq.plot.bar()\n",
    "plt.show()"
   ]
  },
  {
   "cell_type": "markdown",
   "metadata": {
    "solution": "shown"
   },
   "source": [
    "Un modo veloce per generare un grafico che descriva la tabella delle frequenze che abbiamo già calcolato è quello partire dall'oggetto corrispondente e invocare il metodo `bar` della variabile di istanza `plot` al fine di ottenere un grafico a barre."
   ]
  },
  {
   "cell_type": "code",
   "execution_count": 21,
   "metadata": {
    "solution": "shown"
   },
   "outputs": [
    {
     "data": {
      "image/png": "[encoded data removed]",
      "text/plain": [
       "<Figure size 432x288 with 1 Axes>"
      ]
     },
     "metadata": {
      "needs_background": "light"
     },
     "output_type": "display_data"
    }
   ],
   "source": [
    "gold_rel_freq.plot.bar()\n",
    "plt.show()"
   ]
  },
  {
   "cell_type": "markdown",
   "metadata": {
    "solution": "shown"
   },
   "source": [
    "Essendo però l'attributo di tipo numerico, si corre il rischio che ogni barra venga percepita come associata più a un intervallo di valori piuttosto che a un unico numero. Per evitare questo fraintendimento è più opportuno generare un grafico a bastoncini, come già fatto nel primo esercizio."
   ]
  },
  {
   "cell_type": "code",
   "execution_count": 22,
   "metadata": {
    "solution": "shown"
   },
   "outputs": [
    {
     "name": "stderr",
     "output_type": "stream",
     "text": [
      "/home/malchiodi/share/anaconda3/lib/python3.7/site-packages/matplotlib/cbook/__init__.py:1377: FutureWarning: Support for multi-dimensional indexing (e.g. `obj[:, None]`) is deprecated and will be removed in a future version.  Convert to a numpy array before indexing instead.\n",
      "  x[:, None]\n",
      "/home/malchiodi/share/anaconda3/lib/python3.7/site-packages/matplotlib/axes/_base.py:237: FutureWarning: Support for multi-dimensional indexing (e.g. `obj[:, None]`) is deprecated and will be removed in a future version.  Convert to a numpy array before indexing instead.\n",
      "  x = x[:, np.newaxis]\n"
     ]
    },
    {
     "data": {
      "image/png": "[encoded data removed]",
      "text/plain": [
       "<Figure size 432x288 with 1 Axes>"
      ]
     },
     "metadata": {
      "needs_background": "light"
     },
     "output_type": "display_data"
    }
   ],
   "source": [
    "plt.vlines(gold_rel_freq.index, 0, gold_rel_freq.values)\n",
    "plt.plot(gold_rel_freq.index, gold_rel_freq.values, 'o')\n",
    "plt.show()"
   ]
  },
  {
   "cell_type": "markdown",
   "metadata": {
    "solution": "shown",
    "solution_first": true
   },
   "source": [
    "**2.7**\n",
    "_La distribuzione delle frequenze osservata è compatibile con un modello di Poisson?_"
   ]
  },
  {
   "cell_type": "code",
   "execution_count": 29,
   "metadata": {},
   "outputs": [
    {
     "name": "stdout",
     "output_type": "stream",
     "text": [
      "Si può notare come il grafico sale per poi scendere con un andamento non lineare, per cui la distribuzione\n",
      "delle frequenze è compatibile con un modello di Poisson.\n",
      "Sappiamo che in un modello di Poisson i valori di media e varianza coincidono: in questo caso la media\n",
      "è pari a 1.7224242424242424 mentre la varianza è pari a 3.4025896319164968. Essendo valori\n",
      "molto diversi, dobbiamo confutare l ipotesi che Oro segua una distribuzione di Poisson.\n"
     ]
    }
   ],
   "source": [
    "print(f'Si può notare come il grafico sale per poi scendere con un andamento non lineare, per cui la distribuzione\\ndelle frequenze è compatibile con un modello di Poisson.\\nSappiamo che in un modello di Poisson i valori di media e varianza coincidono: in questo caso la media\\nè pari a {acqua.Oro.mean()} mentre la varianza è pari a {acqua.Oro.var()}. Essendo valori\\nmolto diversi, dobbiamo confutare l ipotesi che Oro segua una distribuzione di Poisson.')"
   ]
  },
  {
   "cell_type": "markdown",
   "metadata": {
    "solution": "shown"
   },
   "source": [
    "Se si ordinano le frequenze rispetto a valori crescenti delle specificazioni, in un modello di Poisson si possono ottenere due andamenti: uno strettamente decrescente e uno in cui i valori crescono fino a un massimo per poi decrescere, e in ogni caso allontanandosi dal massimo si ha una diminuzione di carattere non lineare. Guardando il grafico generato nel punto precedente si vede come le frequenze studiate ricadano nel secondo dei casi possibili, per cui a una prima analisi i dati osservati non sono incompatibili con un modello di Poisson.\n",
    "\n",
    "Per approfondire la questione possiamo calcolare media e varianza campionaria dell'attributo in questione:"
   ]
  },
  {
   "cell_type": "code",
   "execution_count": 23,
   "metadata": {
    "solution": "hidden"
   },
   "outputs": [
    {
     "data": {
      "text/plain": [
       "1.7224242424242424"
      ]
     },
     "execution_count": 23,
     "metadata": {},
     "output_type": "execute_result"
    }
   ],
   "source": [
    "acqua['Oro'].mean()"
   ]
  },
  {
   "cell_type": "code",
   "execution_count": 24,
   "metadata": {
    "solution": "hidden"
   },
   "outputs": [
    {
     "data": {
      "text/plain": [
       "3.4025896319164715"
      ]
     },
     "execution_count": 24,
     "metadata": {},
     "output_type": "execute_result"
    }
   ],
   "source": [
    "acqua['Oro'].var()"
   ]
  },
  {
   "cell_type": "markdown",
   "metadata": {
    "solution": "hidden"
   },
   "source": [
    "i due valori ottenuti sono sensibilmente diversi, mentre nel modello di Poisson media e varianza coincidono: pertanto dobbiamo confutare l'ipotesi di applicabilità di tale modello per l'attributo _Oro_."
   ]
  },
  {
   "cell_type": "markdown",
   "metadata": {
    "solution": "shown",
    "solution_first": true
   },
   "source": [
    "**2.8**\n",
    "_Si stimi il numero atteso di particelle di oro riscontrate in 5 litri di acqua._"
   ]
  },
  {
   "cell_type": "code",
   "execution_count": 30,
   "metadata": {},
   "outputs": [
    {
     "name": "stdout",
     "output_type": "stream",
     "text": [
      "Numero atteso di particelle di oro in 5 litri di acqua: 1.7224242424242424\n"
     ]
    }
   ],
   "source": [
    "print(f'Numero atteso di particelle di oro in 5 litri di acqua: {acqua.Oro.mean()}')"
   ]
  },
  {
   "cell_type": "markdown",
   "metadata": {
    "solution": "shown"
   },
   "source": [
    "Al punto precedente abbiamo già stimato il valore atteso del numero di particelle di oro calcolando la media campionaria sulla serie corrispondente, ottenendo un risultato approssimativamente uguale a 1.72."
   ]
  },
  {
   "cell_type": "markdown",
   "metadata": {
    "solution": "shown",
    "solution_first": true
   },
   "source": [
    "**2.9**\n",
    "_Sia $X$ la variabile casuale che conta il numero di particelle di oro riscontrate in 5 litri di acqua. Scrivere lo stimatore utilizzato al punto precedente, specificare la numerosità del campione a cui è applicato e dire se è uno stimatore non distorto._"
   ]
  },
  {
   "cell_type": "code",
   "execution_count": 31,
   "metadata": {},
   "outputs": [
    {
     "name": "stdout",
     "output_type": "stream",
     "text": [
      "Lo stimatore usato prima è la media campionaria, che è sempre uno stimatore non distorto per il valore atteso della popolazione ed è sempre consistente in media quadratica. La sua numerosità in questo caso è pari a 1650\n"
     ]
    }
   ],
   "source": [
    "print(f'Lo stimatore usato prima è la media campionaria, che è sempre uno stimatore non distorto per il valore atteso della popolazione ed è sempre consistente in media quadratica. La sua numerosità in questo caso è pari a {len(acqua.Oro.dropna())}')"
   ]
  },
  {
   "cell_type": "markdown",
   "metadata": {
    "solution": "shown"
   },
   "source": [
    "Come indicato al punto precedente, lo stimatore utilizzato è la media campionaria. Denotando con $X$ la variabile aleatoria corrispondente alla popolazione, diventa naturale indicare un generico campione come una sequenza $X_1, \\dots, X_n$, così che la forma generica dello stimatore diventa\n",
    "\n",
    "$$ \\overline X = \\frac{1}{n} \\sum_{i=1}^n X_i, $$\n",
    "\n",
    "dove $n$ indica la numerosità del campione. Per poter dire quale sia il valore che abbiamo utilizzato per $n$ è necessario capire se vi siano oppure no dei valori mancanti per l'attributo _Oro_. A differenza di altre librerie per l'analisi dei dati, pandas infatti non propaga i valori mancanti per esempio quando si calcola la somma o la media di una serie. È quindi necessario valutare esplicitamente la presenza di valori mancanti, utilizzando la funzione `isnull` che accetta coma argomento una serie e ne restituisce una di dimensione equivalente i cui elementi sono `True` oppure `False` a seconda del fatto che il corrispondente elemento nella serie di partenza fosse oppure no un valore mancante. Se si somma la serie restituita, si ottiene una conversione implicita di `False` e `True` rispettivamente in zero e uno."
   ]
  },
  {
   "cell_type": "code",
   "execution_count": 25,
   "metadata": {
    "solution": "shown"
   },
   "outputs": [
    {
     "data": {
      "text/plain": [
       "0"
      ]
     },
     "execution_count": 25,
     "metadata": {},
     "output_type": "execute_result"
    }
   ],
   "source": [
    "pd.isnull(acqua['Oro']).sum()"
   ]
  },
  {
   "cell_type": "markdown",
   "metadata": {
    "solution": "shown"
   },
   "source": [
    "Il risultato nullo equivale quindi all'assenza di valori mancanti: ciò significa che la numerosità del campione utilizzato è pari al numero di casi del _dataset_. Nel punto 1 abbiamo visto che tale valore è pari a 1650.\n",
    "\n",
    "Un modo più efficiente di verificare l'assenza di valori mancanti è quello di invocare sulla serie restituita da `pd.isnull` il metodo `any`, che restituisce `True` se almeno uno degli elementi è un valore equivalente a `True` e `False` altrimenti."
   ]
  },
  {
   "cell_type": "code",
   "execution_count": 26,
   "metadata": {
    "solution": "shown"
   },
   "outputs": [
    {
     "data": {
      "text/plain": [
       "False"
      ]
     },
     "execution_count": 26,
     "metadata": {},
     "output_type": "execute_result"
    }
   ],
   "source": [
    "pd.isnull(acqua['Oro']).any()"
   ]
  },
  {
   "cell_type": "markdown",
   "metadata": {
    "solution": "hidden"
   },
   "source": [
    "Infine, sappiamo che la media campionaria è sempre uno stimatore non distorto per il valore atteso della popolazione."
   ]
  },
  {
   "cell_type": "markdown",
   "metadata": {
    "solution": "hidden"
   },
   "source": [
    "**Esercizio 3**\n",
    "\n",
    "Si svolgano i seguenti punti.\n",
    "\n",
    "1. Si tracci un grafico opportuno per visualizzare la distribuzione della durezza dell'acqua.\n",
    "2. La distribuzione delle frequenze osservata è compatibile con un modello normale? \n",
    "3. L'ufficio analisi chimiche ipotizza che ci sia una relazione tra la quantità di oro riscontrata e la durezza dell'acqua. Si produca un grafico e si calcoli un indice numerico per convincere il titolare della ditta che l'ipotesi è accettabile.\n",
    "4. Che tipo di relazione avete riscontrato?\n",
    "5. Osservando i grafici prodotti nei primi due punti di questo esercizio, ai chimici viene il sospetto che non tutte le sorgenti siano caratterizzate dalla stessa durezza media dell'acqua, e in particolare che nel dataset ci siano due gruppi distinti dal punto di vista della durezza dell'acqua. Si valuti se questa ipotesi è condivisibile.\n",
    "6. Si calcoli la durezza media dell'acqua per ogni sorgente rappresentata nel dataset.\n",
    "7. Dal punto precedente dovrebbe essere emerso che la sorgente 5 presenta una durezza dell'acqua nettamente inferiore a quella delle altre sorgenti, le quali invece hanno una durezza media abbastanza simile. Selezionate e memorizzate nella variabile `sorgente_5` gli attributi _Oro_ e _DurezzaAcqua_ soltanto della  sorgente 5; selezionate e memorizzate nella variabile `altre_sorgenti` i medesimi attributi per tutte le altre sorgenti.\n",
    "8. Si stimi il numero atteso di particelle di oro riscontrate in 5 litri di acqua:\n",
    "   - nel caso della sorgente 5;\n",
    "   - per tutte le altre sorgenti.\n",
    "9. La distribuzione delle frequenze osservate per la sorgente 5 è compatibile con un modello di Poisson?\n",
    "10. La distribuzione delle frequenze osservate per le altre sorgenti è compatibile con un modello di Poisson?\n",
    "11. Durante l'attività di filtraggio dalla sorgente 5, una particella di oro ha inceppato il dispositivo di filtraggio dell'acqua. Si calcoli la probabilità di non trovare altre particelle di oro nei prossimi 10 litri di acqua, dopo aver sbloccato il dispositivo.\n",
    "12. Dal punto in cui il dispositivo applicato alla sorgente 5 ha individuato l'ultima particella di oro sono stati filtrati altri 5 litri di acqua senza trovare altro oro. Qual è la probabilità di non trovare oro ancora per i prossimi 10 litri di acqua?\n",
    "13. Si tracci il grafico della funzione di ripartizione della variabile casuale $Y=$ \"quantità di acqua da analizzare (espressa in litri) prima di incontrare la prossima particella di oro\":\n",
    "    - nel caso della sorgente 5;\n",
    "    - per tutte le altre sorgenti.\n",
    "\n",
    "\n",
    "**Svolgimento**"
   ]
  },
  {
   "cell_type": "markdown",
   "metadata": {
    "solution": "shown",
    "solution_first": true
   },
   "source": [
    "**3.1**\n",
    "_Si tracci un grafico opportuno per visualizzare la distribuzione della durezza dell'acqua._"
   ]
  },
  {
   "cell_type": "code",
   "execution_count": 32,
   "metadata": {},
   "outputs": [
    {
     "name": "stdout",
     "output_type": "stream",
     "text": [
      "Essendo durezza acqua un attributo numerico continuo, la rappresentazione più appropriata è mediante un istogramma.\n"
     ]
    },
    {
     "data": {
      "image/png": "[encoded data removed]",
      "text/plain": [
       "<Figure size 640x480 with 1 Axes>"
      ]
     },
     "metadata": {},
     "output_type": "display_data"
    }
   ],
   "source": [
    "print('Essendo durezza acqua un attributo numerico continuo, la rappresentazione più appropriata è mediante un istogramma.')\n",
    "acqua.DurezzaAcqua.hist()\n",
    "plt.show()"
   ]
  },
  {
   "cell_type": "markdown",
   "metadata": {
    "solution": "shown"
   },
   "source": [
    "A differenza dell'attributo _Oro_, i valori per _DurezzaAcqua_ sono numeri reali, e quindi una descrizione grafica ragionevole richiede la generazione di un istogramma:"
   ]
  },
  {
   "cell_type": "code",
   "execution_count": 27,
   "metadata": {
    "solution": "shown"
   },
   "outputs": [
    {
     "data": {
      "image/png": "[encoded data removed]",
      "text/plain": [
       "<Figure size 432x288 with 1 Axes>"
      ]
     },
     "metadata": {
      "needs_background": "light"
     },
     "output_type": "display_data"
    }
   ],
   "source": [
    "acqua['DurezzaAcqua'].plot.hist()\n",
    "plt.show()"
   ]
  },
  {
   "cell_type": "markdown",
   "metadata": {
    "solution": "shown",
    "solution_first": true
   },
   "source": [
    "**3.2**\n",
    "_La distribuzione delle frequenze osservata è compatibile con un modello normale?_"
   ]
  },
  {
   "cell_type": "code",
   "execution_count": 33,
   "metadata": {},
   "outputs": [
    {
     "name": "stdout",
     "output_type": "stream",
     "text": [
      "Dal grafico si nota un andamento con due punti di massimo locali, che non sono compatibili con un modello normale che invece prevede una forma a campana.\n"
     ]
    }
   ],
   "source": [
    "print('Dal grafico si nota un andamento con due punti di massimo locali, che non sono compatibili con un modello normale che invece prevede una forma a campana.')"
   ]
  },
  {
   "cell_type": "markdown",
   "metadata": {
    "solution": "shown"
   },
   "source": [
    "Dal grafico precedente si vede come l'istogramma abbia una forma bimodale, cioè con due massimi locali. Il modello normale è invece caratterizzato da una forma a campana. Pertanto i dati osservati non sono compatibili con una distribuzione normale. Possiamo approfondire l'analisi visualizzando il diagramma Q-Q per l'attributo e sovrapponendolo a una linea che indica la curva attesa in caso di normalità dei dati. Per fare ciò possiamo utilizzare la funzione `qqplot` del package `statmodels.api`:"
   ]
  },
  {
   "cell_type": "code",
   "execution_count": 28,
   "metadata": {
    "solution": "hidden"
   },
   "outputs": [
    {
     "name": "stderr",
     "output_type": "stream",
     "text": [
      "/home/malchiodi/share/anaconda3/lib/python3.7/site-packages/statsmodels/compat/pandas.py:49: FutureWarning: The Panel class is removed from pandas. Accessing it from the top-level namespace will also be removed in the next version\n",
      "  data_klasses = (pandas.Series, pandas.DataFrame, pandas.Panel)\n"
     ]
    },
    {
     "data": {
      "image/png": "[encoded data removed]",
      "text/plain": [
       "<Figure size 432x288 with 1 Axes>"
      ]
     },
     "metadata": {
      "needs_background": "light"
     },
     "output_type": "display_data"
    }
   ],
   "source": [
    "import statsmodels.api as sm\n",
    "\n",
    "sm.qqplot(acqua['DurezzaAcqua'], fit=True, line='45')\n",
    "plt.show()"
   ]
  },
  {
   "cell_type": "markdown",
   "metadata": {
    "solution": "hidden"
   },
   "source": [
    "Nel codice utilizzato, l'argomento `fit=True` indica di standardizzare i dati in modo che la curva attesa sia sovrapposta alla bisettrice del primo e del terzo quadrante, mentre `line='45'` specifica di visualizzare quest'ultima bisettrice. Dal grafico ottenuto si ottiene ulteriore conferma del fatto che il modello normale non sia compatibile con i dati rilevati per la durezza dell'acqua."
   ]
  },
  {
   "cell_type": "markdown",
   "metadata": {
    "solution": "shown",
    "solution_first": true
   },
   "source": [
    "**3.3**\n",
    "_L'ufficio analisi chimiche ipotizza che ci sia una relazione tra la quantità di oro riscontrata e la durezza dell'acqua. Si produca un grafico e si calcoli un indice numerico per convincere il titolare della ditta che l'ipotesi è accettabile._"
   ]
  },
  {
   "cell_type": "code",
   "execution_count": 38,
   "metadata": {},
   "outputs": [
    {
     "name": "stdout",
     "output_type": "stream",
     "text": [
      "Per valutare l ipotesi che ci sia una relazione tra i due attributi si può visualizzare uno scatter plot.\n"
     ]
    },
    {
     "data": {
      "image/png": "[encoded data removed]",
      "text/plain": [
       "<Figure size 640x480 with 1 Axes>"
      ]
     },
     "metadata": {},
     "output_type": "display_data"
    },
    {
     "name": "stdout",
     "output_type": "stream",
     "text": [
      "Si può notare come il grafico evidenzia una relazione di tipo indiretto piuttosto forte, per cui possiamo dire che esiste una relazione di tipo indiretta tra i due attributi. L indice di correlazione lineare pari a -0.8427686305078544 conferma tale ipotesi.\n"
     ]
    }
   ],
   "source": [
    "print('Per valutare l ipotesi che ci sia una relazione tra i due attributi si può visualizzare uno scatter plot.')\n",
    "acqua.plot.scatter('Oro','DurezzaAcqua')\n",
    "plt.show()\n",
    "print(f'Si può notare come il grafico evidenzia una relazione di tipo indiretto piuttosto forte, per cui possiamo dire che esiste una relazione di tipo indiretta tra i due attributi. L indice di correlazione lineare pari a {acqua.Oro.corr(acqua.DurezzaAcqua)} conferma tale ipotesi.')"
   ]
  },
  {
   "cell_type": "markdown",
   "metadata": {
    "solution": "shown"
   },
   "source": [
    "Per valutare un'eventuale relazione tra i due attributi tracciamo il diagramma di dispersione corrispondente."
   ]
  },
  {
   "cell_type": "code",
   "execution_count": 29,
   "metadata": {
    "solution": "shown"
   },
   "outputs": [
    {
     "data": {
      "image/png": "[encoded data removed]",
      "text/plain": [
       "<Figure size 432x288 with 1 Axes>"
      ]
     },
     "metadata": {
      "needs_background": "light"
     },
     "output_type": "display_data"
    }
   ],
   "source": [
    "acqua.plot.scatter('Oro', 'DurezzaAcqua')\n",
    "plt.show()"
   ]
  },
  {
   "cell_type": "markdown",
   "metadata": {
    "solution": "shown"
   },
   "source": [
    "In effetti il grafico evidenzia una relazione di tipo inverso con un andamento di carattere lineare. Il coefficiente di correlazione lineare ci permette di quantificare la forza di questa relazione:"
   ]
  },
  {
   "cell_type": "code",
   "execution_count": 30,
   "metadata": {
    "solution": "shown"
   },
   "outputs": [
    {
     "data": {
      "text/plain": [
       "-0.8427686305078547"
      ]
     },
     "execution_count": 30,
     "metadata": {},
     "output_type": "execute_result"
    }
   ],
   "source": [
    "acqua['Oro'].corr(acqua['DurezzaAcqua'])"
   ]
  },
  {
   "cell_type": "markdown",
   "metadata": {
    "solution": "hidden",
    "solution_first": true
   },
   "source": [
    "**3.4**\n",
    "_Che tipo di relazione avete riscontrato?_"
   ]
  },
  {
   "cell_type": "markdown",
   "metadata": {
    "solution": "hidden"
   },
   "source": [
    "Il fatto che il coefficiente di correlazione sia sufficientemente vicino a -1 conferma che tra i due attributi sussista una relazione lineare di tipo inverso e di carattere abbastanza forte."
   ]
  },
  {
   "cell_type": "markdown",
   "metadata": {
    "solution": "hidden",
    "solution_first": true
   },
   "source": [
    "**3.5**\n",
    "_Osservando i grafici prodotti nei primi due punti di questo esercizio, ai chimici viene il sospetto che non tutte le sorgenti siano caratterizzate dalla stessa durezza media dell'acqua, e in particolare che nel dataset ci siano due gruppi distinti dal punto di vista della durezza dell'acqua. Si valuti se questa ipotesi è condivisibile._"
   ]
  },
  {
   "cell_type": "markdown",
   "metadata": {
    "solution": "hidden"
   },
   "source": [
    "L'ipotesi che vi siano due gruppi distinti è corroborata dall'istogramma della durezza dell'acqua, che è interpretabile come la sovrapposizione di due campane."
   ]
  },
  {
   "cell_type": "markdown",
   "metadata": {
    "solution": "shown",
    "solution_first": true
   },
   "source": [
    "**3.6**\n",
    "_Si calcoli la durezza media dell'acqua per ogni sorgente rappresentata nel dataset._"
   ]
  },
  {
   "cell_type": "code",
   "execution_count": 44,
   "metadata": {},
   "outputs": [
    {
     "data": {
      "text/plain": [
       "NomeSorgente\n",
       "Sorgente1    21.009675\n",
       "Sorgente2    20.836725\n",
       "Sorgente3    20.696062\n",
       "Sorgente4    20.917371\n",
       "Sorgente5     7.754144\n",
       "Name: DurezzaAcqua, dtype: float64"
      ]
     },
     "execution_count": 44,
     "metadata": {},
     "output_type": "execute_result"
    }
   ],
   "source": [
    "acqua.groupby(['NomeSorgente']).DurezzaAcqua.mean()"
   ]
  },
  {
   "cell_type": "markdown",
   "metadata": {
    "solution": "shown"
   },
   "source": [
    "Il metodo `groupby` permette di suddividere un _dataframe_ in gruppi diversi in funzione del valore assunto da un particolare attributo. Invocando il metodo `mean` sul risultato è possibile calcolare automaticamente la media per gli attributi restanti."
   ]
  },
  {
   "cell_type": "code",
   "execution_count": 31,
   "metadata": {
    "solution": "shown"
   },
   "outputs": [
    {
     "data": {
      "text/html": [
       "<div>\n",
       "<style scoped>\n",
       "    .dataframe tbody tr th:only-of-type {\n",
       "        vertical-align: middle;\n",
       "    }\n",
       "\n",
       "    .dataframe tbody tr th {\n",
       "        vertical-align: top;\n",
       "    }\n",
       "\n",
       "    .dataframe thead th {\n",
       "        text-align: right;\n",
       "    }\n",
       "</style>\n",
       "<table border=\"1\" class=\"dataframe\">\n",
       "  <thead>\n",
       "    <tr style=\"text-align: right;\">\n",
       "      <th></th>\n",
       "      <th>Oro</th>\n",
       "      <th>DurezzaAcqua</th>\n",
       "    </tr>\n",
       "    <tr>\n",
       "      <th>NomeSorgente</th>\n",
       "      <th></th>\n",
       "      <th></th>\n",
       "    </tr>\n",
       "  </thead>\n",
       "  <tbody>\n",
       "    <tr>\n",
       "      <th>Sorgente1</th>\n",
       "      <td>0.970000</td>\n",
       "      <td>21.009675</td>\n",
       "    </tr>\n",
       "    <tr>\n",
       "      <th>Sorgente2</th>\n",
       "      <td>1.048000</td>\n",
       "      <td>20.836725</td>\n",
       "    </tr>\n",
       "    <tr>\n",
       "      <th>Sorgente3</th>\n",
       "      <td>1.120000</td>\n",
       "      <td>20.696062</td>\n",
       "    </tr>\n",
       "    <tr>\n",
       "      <th>Sorgente4</th>\n",
       "      <td>1.068000</td>\n",
       "      <td>20.917371</td>\n",
       "    </tr>\n",
       "    <tr>\n",
       "      <th>Sorgente5</th>\n",
       "      <td>4.228571</td>\n",
       "      <td>7.754144</td>\n",
       "    </tr>\n",
       "  </tbody>\n",
       "</table>\n",
       "</div>"
      ],
      "text/plain": [
       "                   Oro  DurezzaAcqua\n",
       "NomeSorgente                        \n",
       "Sorgente1     0.970000     21.009675\n",
       "Sorgente2     1.048000     20.836725\n",
       "Sorgente3     1.120000     20.696062\n",
       "Sorgente4     1.068000     20.917371\n",
       "Sorgente5     4.228571      7.754144"
      ]
     },
     "execution_count": 31,
     "metadata": {},
     "output_type": "execute_result"
    }
   ],
   "source": [
    "acqua.groupby('NomeSorgente').mean()"
   ]
  },
  {
   "cell_type": "markdown",
   "metadata": {
    "solution": "shown"
   },
   "source": [
    "Dal risultato si vede come le prime quattro sorgenti abbiano valori molto vicini per la media dell'attributo _DurezzaAcqua_, mentre l'ultima media risulta sensibilmente minore.\n",
    "\n",
    "Volendo si sarebbe potuto anche utilizzare un filtro, selezionando le righe del _dataset_ corrispondenti via via a una sorgente specifica per poi calcolare manualmente le singole medie."
   ]
  },
  {
   "cell_type": "code",
   "execution_count": 32,
   "metadata": {
    "solution": "hidden"
   },
   "outputs": [
    {
     "data": {
      "text/plain": [
       "Oro              0.970000\n",
       "DurezzaAcqua    21.009675\n",
       "dtype: float64"
      ]
     },
     "execution_count": 32,
     "metadata": {},
     "output_type": "execute_result"
    }
   ],
   "source": [
    "acqua[acqua['NomeSorgente']=='Sorgente1'].mean()"
   ]
  },
  {
   "cell_type": "markdown",
   "metadata": {
    "solution": "shown",
    "solution_first": true
   },
   "source": [
    "**3.7**\n",
    "_Dal punto precedente dovrebbe essere emerso che la sorgente 5 presenta una durezza dell'acqua nettamente inferiore a quella delle altre sorgenti, le quali invece hanno una durezza media abbastanza simile. Selezionate e memorizzate nella variabile_ `sorgente_5` _gli attributi Oro e DurezzaAcqua soltanto della  sorgente 5; selezionate e memorizzate nella variabile_ `altre_sorgenti` _i medesimi attributi per tutte le altre sorgenti._"
   ]
  },
  {
   "cell_type": "code",
   "execution_count": 49,
   "metadata": {},
   "outputs": [
    {
     "data": {
      "text/html": [
       "<div>\n",
       "<style scoped>\n",
       "    .dataframe tbody tr th:only-of-type {\n",
       "        vertical-align: middle;\n",
       "    }\n",
       "\n",
       "    .dataframe tbody tr th {\n",
       "        vertical-align: top;\n",
       "    }\n",
       "\n",
       "    .dataframe thead th {\n",
       "        text-align: right;\n",
       "    }\n",
       "</style>\n",
       "<table border=\"1\" class=\"dataframe\">\n",
       "  <thead>\n",
       "    <tr style=\"text-align: right;\">\n",
       "      <th></th>\n",
       "      <th>NomeSorgente</th>\n",
       "      <th>Oro</th>\n",
       "      <th>DurezzaAcqua</th>\n",
       "    </tr>\n",
       "  </thead>\n",
       "  <tbody>\n",
       "    <tr>\n",
       "      <th>0</th>\n",
       "      <td>Sorgente1</td>\n",
       "      <td>0</td>\n",
       "      <td>21.201381</td>\n",
       "    </tr>\n",
       "    <tr>\n",
       "      <th>1</th>\n",
       "      <td>Sorgente1</td>\n",
       "      <td>0</td>\n",
       "      <td>25.294662</td>\n",
       "    </tr>\n",
       "    <tr>\n",
       "      <th>2</th>\n",
       "      <td>Sorgente1</td>\n",
       "      <td>4</td>\n",
       "      <td>12.435279</td>\n",
       "    </tr>\n",
       "    <tr>\n",
       "      <th>3</th>\n",
       "      <td>Sorgente1</td>\n",
       "      <td>3</td>\n",
       "      <td>16.146828</td>\n",
       "    </tr>\n",
       "    <tr>\n",
       "      <th>4</th>\n",
       "      <td>Sorgente1</td>\n",
       "      <td>0</td>\n",
       "      <td>21.091517</td>\n",
       "    </tr>\n",
       "    <tr>\n",
       "      <th>...</th>\n",
       "      <td>...</td>\n",
       "      <td>...</td>\n",
       "      <td>...</td>\n",
       "    </tr>\n",
       "    <tr>\n",
       "      <th>1295</th>\n",
       "      <td>Sorgente4</td>\n",
       "      <td>2</td>\n",
       "      <td>16.587424</td>\n",
       "    </tr>\n",
       "    <tr>\n",
       "      <th>1296</th>\n",
       "      <td>Sorgente4</td>\n",
       "      <td>0</td>\n",
       "      <td>22.519519</td>\n",
       "    </tr>\n",
       "    <tr>\n",
       "      <th>1297</th>\n",
       "      <td>Sorgente4</td>\n",
       "      <td>4</td>\n",
       "      <td>15.428171</td>\n",
       "    </tr>\n",
       "    <tr>\n",
       "      <th>1298</th>\n",
       "      <td>Sorgente4</td>\n",
       "      <td>0</td>\n",
       "      <td>27.437145</td>\n",
       "    </tr>\n",
       "    <tr>\n",
       "      <th>1299</th>\n",
       "      <td>Sorgente4</td>\n",
       "      <td>1</td>\n",
       "      <td>18.809128</td>\n",
       "    </tr>\n",
       "  </tbody>\n",
       "</table>\n",
       "<p>1300 rows × 3 columns</p>\n",
       "</div>"
      ],
      "text/plain": [
       "     NomeSorgente  Oro  DurezzaAcqua\n",
       "0       Sorgente1    0     21.201381\n",
       "1       Sorgente1    0     25.294662\n",
       "2       Sorgente1    4     12.435279\n",
       "3       Sorgente1    3     16.146828\n",
       "4       Sorgente1    0     21.091517\n",
       "...           ...  ...           ...\n",
       "1295    Sorgente4    2     16.587424\n",
       "1296    Sorgente4    0     22.519519\n",
       "1297    Sorgente4    4     15.428171\n",
       "1298    Sorgente4    0     27.437145\n",
       "1299    Sorgente4    1     18.809128\n",
       "\n",
       "[1300 rows x 3 columns]"
      ]
     },
     "execution_count": 49,
     "metadata": {},
     "output_type": "execute_result"
    }
   ],
   "source": [
    "sorgente_5 = acqua[acqua['NomeSorgente'] == 'Sorgente5']\n",
    "altre_sorgenti = acqua[acqua['NomeSorgente'] != 'Sorgente5']\n",
    "altre_sorgenti"
   ]
  },
  {
   "cell_type": "markdown",
   "metadata": {
    "solution": "shown"
   },
   "source": [
    "Utilizzando due filtri analoghi a quello visto nel punto precedente è possibile suddividere l'insieme dei dati in due _dataframe_, il primo corrispondente a `'Sorgente5'` e l'altro relativo alle sorgenti rimanenti."
   ]
  },
  {
   "cell_type": "code",
   "execution_count": 33,
   "metadata": {
    "solution": "shown"
   },
   "outputs": [],
   "source": [
    "sorgente_5 = acqua[acqua['NomeSorgente']=='Sorgente5']\n",
    "altre_sorgenti = acqua[acqua['NomeSorgente']!='Sorgente5']"
   ]
  },
  {
   "cell_type": "markdown",
   "metadata": {
    "solution": "shown",
    "solution_first": true
   },
   "source": [
    "**3.8**\n",
    "_Si stimi il numero atteso di particelle di oro riscontrate in 5 litri di acqua nel caso della sorgente 5 e per tutte le altre sorgenti._"
   ]
  },
  {
   "cell_type": "code",
   "execution_count": 51,
   "metadata": {},
   "outputs": [
    {
     "name": "stdout",
     "output_type": "stream",
     "text": [
      "Numero atteso particelle di oro in 5 litri di acqua per sorgente 5: 4.228571428571429\n",
      "Numero atteso particelle di oro in 5 litri di acqua per altre sorgenti: 1.0476923076923077\n"
     ]
    }
   ],
   "source": [
    "print(f'Numero atteso particelle di oro in 5 litri di acqua per sorgente 5: {sorgente_5.Oro.mean()}')\n",
    "print(f'Numero atteso particelle di oro in 5 litri di acqua per altre sorgenti: {altre_sorgenti.Oro.mean()}')"
   ]
  },
  {
   "cell_type": "markdown",
   "metadata": {
    "solution": "shown"
   },
   "source": [
    "Le stime richieste si ottengono facilmente selezionando dai due _dataframe_ ottenuti al punto precedente l'attributo _Oro_ e calcolando le rispettive medie campionarie. Salviamo la stima relativa alla sorgente 5 in una variabile `num_particelle_5` (ci sarà utile a fine esercizio)."
   ]
  },
  {
   "cell_type": "code",
   "execution_count": 34,
   "metadata": {
    "solution": "shown"
   },
   "outputs": [
    {
     "data": {
      "text/plain": [
       "4.228571428571429"
      ]
     },
     "execution_count": 34,
     "metadata": {},
     "output_type": "execute_result"
    }
   ],
   "source": [
    "num_particelle_5 = sorgente_5['Oro'].mean()\n",
    "num_particelle_5"
   ]
  },
  {
   "cell_type": "code",
   "execution_count": 35,
   "metadata": {
    "solution": "shown"
   },
   "outputs": [
    {
     "data": {
      "text/plain": [
       "1.0476923076923077"
      ]
     },
     "execution_count": 35,
     "metadata": {},
     "output_type": "execute_result"
    }
   ],
   "source": [
    "altre_sorgenti['Oro'].mean()"
   ]
  },
  {
   "cell_type": "markdown",
   "metadata": {
    "solution": "shown",
    "solution_first": true
   },
   "source": [
    "**3.9**\n",
    "_La distribuzione delle frequenze osservate per la sorgente 5 è compatibile con un modello di Poisson?_"
   ]
  },
  {
   "cell_type": "code",
   "execution_count": 59,
   "metadata": {},
   "outputs": [
    {
     "data": {
      "image/png": "[encoded data removed]",
      "text/plain": [
       "<Figure size 640x480 with 1 Axes>"
      ]
     },
     "metadata": {},
     "output_type": "display_data"
    },
    {
     "name": "stdout",
     "output_type": "stream",
     "text": [
      "Il grafico ha un andamento assimilabile ad una distribuzione di Poisson. I valori di media (4.228571428571429) e varianza(4.38886614817847) molto simili confermano tale ipotesi.\n"
     ]
    }
   ],
   "source": [
    "s5_rel_freq = sorgente_5['Oro'].value_counts(normalize=True, sort=False)\n",
    "plt.vlines(s5_rel_freq.index, [0]*len(s5_rel_freq), s5_rel_freq.values)\n",
    "plt.plot(s5_rel_freq.index, s5_rel_freq.values, 'o')\n",
    "plt.show()\n",
    "print(f'Il grafico ha un andamento assimilabile ad una distribuzione di Poisson. I valori di media ({sorgente_5.Oro.mean()}) e varianza({sorgente_5.Oro.var()}) molto simili confermano tale ipotesi.')"
   ]
  },
  {
   "cell_type": "markdown",
   "metadata": {
    "solution": "shown"
   },
   "source": [
    "Riutilizziamo le stesse tecniche dell'esercizio 2.7. Visualizziamo innanzitutto il grafico delle frequenze."
   ]
  },
  {
   "cell_type": "code",
   "execution_count": 36,
   "metadata": {
    "solution": "shown"
   },
   "outputs": [
    {
     "name": "stderr",
     "output_type": "stream",
     "text": [
      "/home/malchiodi/share/anaconda3/lib/python3.7/site-packages/matplotlib/cbook/__init__.py:1377: FutureWarning: Support for multi-dimensional indexing (e.g. `obj[:, None]`) is deprecated and will be removed in a future version.  Convert to a numpy array before indexing instead.\n",
      "  x[:, None]\n",
      "/home/malchiodi/share/anaconda3/lib/python3.7/site-packages/matplotlib/axes/_base.py:237: FutureWarning: Support for multi-dimensional indexing (e.g. `obj[:, None]`) is deprecated and will be removed in a future version.  Convert to a numpy array before indexing instead.\n",
      "  x = x[:, np.newaxis]\n"
     ]
    },
    {
     "data": {
      "image/png": "[encoded data removed]",
      "text/plain": [
       "<Figure size 432x288 with 1 Axes>"
      ]
     },
     "metadata": {
      "needs_background": "light"
     },
     "output_type": "display_data"
    }
   ],
   "source": [
    "s5_rel_freq = sorgente_5['Oro'].value_counts(normalize=True, sort=False)\n",
    "plt.vlines(s5_rel_freq.index, [0]*len(s5_rel_freq), s5_rel_freq.values)\n",
    "plt.plot(s5_rel_freq.index, s5_rel_freq.values, 'o')\n",
    "plt.show()"
   ]
  },
  {
   "cell_type": "markdown",
   "metadata": {
    "solution": "shown"
   },
   "source": [
    "L'andamento unimodale è compatibile con il modello di Poisson; tale ipotesi è rafforzata dal fatto che stimando la media e la varianza si ottengono valori molto vicini tra loro:"
   ]
  },
  {
   "cell_type": "code",
   "execution_count": 37,
   "metadata": {
    "solution": "shown"
   },
   "outputs": [
    {
     "data": {
      "text/plain": [
       "(4.228571428571429, 4.38886614817847)"
      ]
     },
     "execution_count": 37,
     "metadata": {},
     "output_type": "execute_result"
    }
   ],
   "source": [
    "(sorgente_5['Oro'].mean(), sorgente_5['Oro'].var())"
   ]
  },
  {
   "cell_type": "markdown",
   "metadata": {
    "solution": "shown",
    "solution_first": true
   },
   "source": [
    "**3.10**\n",
    "_La distribuzione delle frequenze osservate per le altre sorgenti è compatibile con un modello di Poisson_"
   ]
  },
  {
   "cell_type": "markdown",
   "metadata": {
    "solution": "shown"
   },
   "source": [
    "Riapplichiamo la tecnica vista al punto precedente ma considerando ora le altre sorgenti."
   ]
  },
  {
   "cell_type": "code",
   "execution_count": 38,
   "metadata": {
    "solution": "shown"
   },
   "outputs": [
    {
     "data": {
      "image/png": "[encoded data removed]",
      "text/plain": [
       "<Figure size 432x288 with 1 Axes>"
      ]
     },
     "metadata": {
      "needs_background": "light"
     },
     "output_type": "display_data"
    }
   ],
   "source": [
    "altre_rel_freq = altre_sorgenti['Oro'].value_counts(normalize=True, sort=False)\n",
    "plt.vlines(altre_rel_freq.index, [0]*len(altre_rel_freq), altre_rel_freq.values)\n",
    "plt.plot(altre_rel_freq.index, altre_rel_freq.values, 'o')\n",
    "plt.show()"
   ]
  },
  {
   "cell_type": "markdown",
   "metadata": {
    "solution": "shown"
   },
   "source": [
    "Il grafico delle frequenze ha un andamento inizialmente crescente e poi decrescente. Le stime di media e varianza sono invece pari a"
   ]
  },
  {
   "cell_type": "code",
   "execution_count": 39,
   "metadata": {
    "solution": "shown"
   },
   "outputs": [
    {
     "data": {
      "text/plain": [
       "(1.0476923076923077, 0.9923349321963675)"
      ]
     },
     "execution_count": 39,
     "metadata": {},
     "output_type": "execute_result"
    }
   ],
   "source": [
    "(altre_sorgenti['Oro'].mean(), altre_sorgenti['Oro'].var())"
   ]
  },
  {
   "cell_type": "markdown",
   "metadata": {
    "solution": "hidden"
   },
   "source": [
    "Quindi anche per le altre sorgenti i dati osservati sono compatibili con un modello di Poisson."
   ]
  },
  {
   "cell_type": "markdown",
   "metadata": {
    "solution": "shown",
    "solution_first": true
   },
   "source": [
    "**3.11**\n",
    "_Durante l'attività di filtraggio dalla sorgente 5, una particella di oro ha inceppato il dispositivo di filtraggio dell'acqua. Si calcoli la probabilità di non trovare altre particelle di oro nei prossimi 10 litri di acqua, dopo aver sbloccato il dispositivo._"
   ]
  },
  {
   "cell_type": "markdown",
   "metadata": {
    "solution": "shown"
   },
   "source": [
    "Siccome il numero $X$ di particelle d'oro per cinque litri di acqua provenienti dalla sorgente 5 è descrivibile tramite un modello di Poisson, la quantità di litri di acqua da analizzare tra due scoperte successive di una particella è descrivibile tramite una legge esponenziale di parametro uguale al valore atteso di $X$ diviso per 5. Noi non conosciamo il valore atteso di $X$, ma lo abbiamo già stimato e a partire da tale stima possiamo ottenerne una per il parametro della legge esponenziale che ci interessa."
   ]
  },
  {
   "cell_type": "code",
   "execution_count": 40,
   "metadata": {
    "solution": "shown"
   },
   "outputs": [
    {
     "data": {
      "text/plain": [
       "0.8457142857142858"
      ]
     },
     "execution_count": 40,
     "metadata": {},
     "output_type": "execute_result"
    }
   ],
   "source": [
    "l_5 = sorgente_5['Oro'].mean()/5\n",
    "l_5"
   ]
  },
  {
   "cell_type": "markdown",
   "metadata": {
    "solution": "shown"
   },
   "source": [
    "Ora, indicata con $T$ la variabile aleatoria che corrisponde alla quantità di litri d'acqua da analizzare prima di trovare la prossima particella di oro, la probabilità di non trovare particelle nei prossimi dieci litri sarà pari a\n",
    "\n",
    "$$\\mathrm P(T > 10) = 1 -  \\mathrm P(T \\leq 10) = 1 - F_T(10)$$\n",
    "\n",
    "Per calcolare questa probabilità possiamo utilizzare il package `scipy.stats`, che mette a disposizione una classe `expon` per le distribuzioni esponenziali. Per motivi che esulano da questa esercitazione, la sua istanziazione richiede però di passare come valore per l'argomento `scale` l'inverso del parametro considerato."
   ]
  },
  {
   "cell_type": "code",
   "execution_count": 41,
   "metadata": {
    "solution": "shown"
   },
   "outputs": [],
   "source": [
    "T_5 = st.expon(scale=1/l_5)"
   ]
  },
  {
   "cell_type": "markdown",
   "metadata": {
    "solution": "shown"
   },
   "source": [
    "Il valore cercato sarà quindi pari a"
   ]
  },
  {
   "cell_type": "code",
   "execution_count": 42,
   "metadata": {
    "solution": "shown"
   },
   "outputs": [
    {
     "data": {
      "text/plain": [
       "0.00021237799893225606"
      ]
     },
     "execution_count": 42,
     "metadata": {},
     "output_type": "execute_result"
    }
   ],
   "source": [
    "1 - T_5.cdf(10)"
   ]
  },
  {
   "cell_type": "markdown",
   "metadata": {
    "solution": "shown",
    "solution_first": true
   },
   "source": [
    "**3.12**\n",
    "_Dal punto in cui il dispositivo applicato alla sorgente 5 ha individuato l'ultima particella di oro sono stati filtrati altri 5 litri di acqua senza trovare altro oro. Qual è la probabilità di non trovare oro ancora per i prossimi 10 litri di acqua?_"
   ]
  },
  {
   "cell_type": "markdown",
   "metadata": {
    "solution": "shown"
   },
   "source": [
    "La proprietà di assenza di memoria della distribuzione esponenziale ci permette di dire che la probabilità che non si trovino particelle nei dieci litri che seguono l'ultima scoperta è uguale alla probabilità che i primi dieci litri analizzati quando è partito il macchinario non abbiano portato a trovare alcuna particella. Tale probabilità è quindi quella calcolata al punto precedente."
   ]
  },
  {
   "cell_type": "markdown",
   "metadata": {
    "solution": "shown",
    "solution_first": true
   },
   "source": [
    "**3.13**\n",
    "_Si tracci il grafico della funzione di ripartizione della variabile casuale $Y=$ \"quantità di acqua da analizzare (espressa in litri) prima di incontrare la prossima particella di oro\" nel caso della sorgente 5 e per tutte le altre sorgenti._"
   ]
  },
  {
   "cell_type": "markdown",
   "metadata": {
    "solution": "shown"
   },
   "source": [
    "Per quanto visto ai punti precedenti, la variabile aleatoria $Y$ segue una legge esponenziale descritta dall'oggetto memorizzato in`T_5`. Il grafico della corrispondente funzione di ripartizione si ottiene nel modo seguente."
   ]
  },
  {
   "cell_type": "code",
   "execution_count": 43,
   "metadata": {
    "solution": "shown"
   },
   "outputs": [
    {
     "data": {
      "image/png": "[encoded data removed]",
      "text/plain": [
       "<Figure size 432x288 with 1 Axes>"
      ]
     },
     "metadata": {
      "needs_background": "light"
     },
     "output_type": "display_data"
    }
   ],
   "source": [
    "import numpy as np\n",
    "\n",
    "t = np.arange(0, 10, .1)\n",
    "plt.plot(t, T_5.cdf(t))\n",
    "plt.show()"
   ]
  },
  {
   "cell_type": "markdown",
   "metadata": {
    "solution": "shown"
   },
   "source": [
    "Per quanto riguarda le altre sorgenti, una volta verificata la validità dell'assunzione legata ai modelli di Poisson ed esponenziale (attività lasciata come esercizio) basta procedere in modo analogo a quanto visto sopra:"
   ]
  },
  {
   "cell_type": "code",
   "execution_count": 44,
   "metadata": {
    "scrolled": true,
    "solution": "hidden"
   },
   "outputs": [
    {
     "data": {
      "image/png": "[encoded data removed]",
      "text/plain": [
       "<Figure size 432x288 with 1 Axes>"
      ]
     },
     "metadata": {
      "needs_background": "light"
     },
     "output_type": "display_data"
    }
   ],
   "source": [
    "l_altre = altre_sorgenti['Oro'].mean()/5\n",
    "T_altre = st.expon(scale=1/l_altre)\n",
    "t = np.arange(0, 20, .1)\n",
    "plt.plot(t, T_altre.cdf(t))\n",
    "plt.show()"
   ]
  },
  {
   "cell_type": "markdown",
   "metadata": {},
   "source": [
    "**Esercizio 4**\n",
    "\n",
    "Si svolgano i seguenti punti.\n",
    "\n",
    "1. Secondo il titolare dell'azienda il valore atteso di particelle di oro riscontrate è abbastanza elevato da poter pensare di estrarre l'oro dall'acqua per venderlo. Prima di iniziare questa nuova attività è bene soppesare l'errore compiuto nella stima di tale parametro. Calcolare la probabilità che, per la sorgente 5, l'errore compiuto nella stima del valore atteso di particelle di oro riscontrate in 5 litri di acqua sia al più di 0.1 particelle, in eccesso o in difetto.\n",
    "2. Quanti litri di acqua si dovrebbero ancora analizzare affinché la probabilità che, per la sorgente 5, l'errore compiuto nella stima del valore atteso di particelle di oro riscontrate in 5 litri di acqua sia al più di 0.1 particelle, in eccesso o in difetto sia almeno uguale a 0.9?\n",
    "3. Per semplicità ipotizziamo che una particella estratta dalla sorgente 5 possa essere venduta a 5 euro e che il dispositivo per l'estrazione dell'oro abbia un costo fisso di 1000 euro. Stimare\n",
    "   - il guadagno atteso nel caso in cui si voglia estrarre l'oro da 1000 litri di acqua.\n",
    "   - la varianza del guadagno."
   ]
  },
  {
   "cell_type": "markdown",
   "metadata": {},
   "source": [
    "**Svolgimento**"
   ]
  },
  {
   "cell_type": "markdown",
   "metadata": {
    "solution": "shown",
    "solution_first": true
   },
   "source": [
    "**4.1**\n",
    "_Secondo il titolare dell'azienda il valore atteso di particelle di oro riscontrate è abbastanza elevato da poter pensare di estrarre l'oro dall'acqua per venderlo. Prima di iniziare questa nuova attività è bene soppesare l'errore compiuto nella stima di tale parametro. Calcolare la probabilità che, per la sorgente 5, l'errore compiuto nella stima del valore atteso di particelle di oro riscontrate in 5 litri di acqua sia al più di 0.1 particelle, in eccesso o in difetto._"
   ]
  },
  {
   "cell_type": "markdown",
   "metadata": {
    "solution": "shown"
   },
   "source": [
    "Indicando con $\\overline X$ la media campionaria, con $\\lambda$ il valore atteso che si vuole stimare e con $\\sigma_X$ la deviazione standard della popolazione, fissato un generico $\\epsilon > 0$ e applicando il teorema centrale del limite si ha:\n",
    "\n",
    "\\begin{align}\n",
    "\\mathrm P \\left(\\left|\\overline X - \\lambda \\right| < \\epsilon \\right) =& \\mathrm P \\left(-\\epsilon < \\overline X - \\lambda < \\epsilon \\right) \\\\\n",
    " =& \\mathrm P\\left(-\\frac{\\epsilon}{\\frac{\\sigma_X}{\\sqrt{n}}} < \\frac{\\overline X - \\lambda}{\\frac{\\sigma_X}{\\sqrt{n}}} < \\frac{\\epsilon}{\\frac{\\sigma_X}{\\sqrt{n}}}\\right) \\\\\n",
    " \\approx& \\mathrm P\\left(-\\frac{\\epsilon}{\\frac{\\sigma_X}{\\sqrt{n}}} < Z < \\frac{\\epsilon}{\\frac{\\sigma_X}{\\sqrt{n}}}\\right) \\\\\n",
    " =& \\Phi\\left(\\frac{\\epsilon}{\\frac{\\sigma_X}{\\sqrt{n}}}\\right) - \\Phi\\left(-\\frac{\\epsilon}{\\frac{\\sigma_X}{\\sqrt{n}}}\\right) \\\\\n",
    " =& \\Phi\\left(\\frac{\\epsilon}{\\frac{\\sigma_X}{\\sqrt{n}}}\\right) - \\left( 1 - \\Phi\\left(\\frac{\\epsilon}{\\frac{\\sigma_X}{\\sqrt{n}}}\\right) \\right) \\\\\n",
    " =& 2 \\Phi\\left(\\frac{\\epsilon}{\\frac{\\sigma_X}{\\sqrt{n}}}\\right) - 1\n",
    "\\end{align}\n",
    "\n",
    "Nel nostro caso $\\epsilon = 0.1$, $n$ è pari al numero di casi del _dataframe_ memorizzato in `sorgente_5` e $\\sigma_X$ può essere approssimato calcolando la deviazione standard campionaria:"
   ]
  },
  {
   "cell_type": "code",
   "execution_count": 45,
   "metadata": {
    "solution": "shown"
   },
   "outputs": [
    {
     "data": {
      "text/plain": [
       "350"
      ]
     },
     "execution_count": 45,
     "metadata": {},
     "output_type": "execute_result"
    }
   ],
   "source": [
    "sigma_x = sorgente_5['Oro'].std()\n",
    "eps = 0.1\n",
    "n = len(sorgente_5)\n",
    "n"
   ]
  },
  {
   "cell_type": "markdown",
   "metadata": {
    "solution": "shown"
   },
   "source": [
    "Pertanto la risposta alla domanda è la seguente:"
   ]
  },
  {
   "cell_type": "code",
   "execution_count": 46,
   "metadata": {
    "solution": "shown"
   },
   "outputs": [
    {
     "data": {
      "text/plain": [
       "0.6281498695096628"
      ]
     },
     "execution_count": 46,
     "metadata": {},
     "output_type": "execute_result"
    }
   ],
   "source": [
    "Z = st.norm()\n",
    "2 * Z.cdf(eps * n**0.5 / sigma_x) - 1"
   ]
  },
  {
   "cell_type": "markdown",
   "metadata": {
    "solution": "shown",
    "solution_first": true
   },
   "source": [
    "**4.2**\n",
    "_Quanti litri di acqua si dovrebbero ancora analizzare affinché la probabilità che, per la sorgente 5, l'errore compiuto nella stima del valore atteso di particelle di oro riscontrate in 5 litri di acqua sia al più di 0.1 particelle, in eccesso o in difetto sia almeno uguale a 0.9?_"
   ]
  },
  {
   "cell_type": "markdown",
   "metadata": {
    "solution": "shown"
   },
   "source": [
    "A partire da quanto visto nel punto precedente dovrà essere\n",
    "\n",
    "$$2 \\Phi\\left(\\frac{\\epsilon}{\\frac{\\sigma_X}{\\sqrt{n}}}\\right) - 1 > 0.9$$\n",
    "\n",
    "e quindi\n",
    "\n",
    "$$\\Phi\\left(\\frac{\\epsilon}{\\frac{\\sigma_X}{\\sqrt{n}}}\\right) > 0.95$$\n",
    "\n",
    "Calcolando membro a membro l'inverso di $\\Phi$ e risolvendo rispetto a $n$ si ottiene infine\n",
    "\n",
    "$$ n > \\left(\\frac{\\sigma_X}{\\epsilon}\\Phi^{-1}(0.95)\\right)^2$$\n",
    "\n",
    "Il calcolo di $\\Phi^{-1}$ corrisponde al calcolo dei quantili, quindi possiamo ottenere il valore `n_0` che indica il numero minimo di osservazioni da effettuare nel modo seguente:"
   ]
  },
  {
   "cell_type": "code",
   "execution_count": 47,
   "metadata": {
    "solution": "shown"
   },
   "outputs": [
    {
     "data": {
      "text/plain": [
       "1188"
      ]
     },
     "execution_count": 47,
     "metadata": {},
     "output_type": "execute_result"
    }
   ],
   "source": [
    "n_0 = math.ceil((sigma_x / eps * Z.ppf(0.95))**2)\n",
    "n_0"
   ]
  },
  {
   "cell_type": "markdown",
   "metadata": {
    "solution": "shown"
   },
   "source": [
    "Concludendo, sarà necessario effettuare ancora un numero di osservazioni pari a"
   ]
  },
  {
   "cell_type": "code",
   "execution_count": 48,
   "metadata": {
    "solution": "shown"
   },
   "outputs": [
    {
     "data": {
      "text/plain": [
       "838"
      ]
     },
     "execution_count": 48,
     "metadata": {},
     "output_type": "execute_result"
    }
   ],
   "source": [
    "n_0 - len(sorgente_5)"
   ]
  },
  {
   "cell_type": "markdown",
   "metadata": {
    "solution": "shown"
   },
   "source": [
    "che corrispondono a"
   ]
  },
  {
   "cell_type": "code",
   "execution_count": 49,
   "metadata": {
    "solution": "shown"
   },
   "outputs": [
    {
     "data": {
      "text/plain": [
       "4190"
      ]
     },
     "execution_count": 49,
     "metadata": {},
     "output_type": "execute_result"
    }
   ],
   "source": [
    "5 * (n_0 - len(sorgente_5))"
   ]
  },
  {
   "cell_type": "markdown",
   "metadata": {
    "solution": "hidden"
   },
   "source": [
    "litri di acqua."
   ]
  },
  {
   "cell_type": "markdown",
   "metadata": {
    "solution": "shown",
    "solution_first": true
   },
   "source": [
    "**4.3**\n",
    "_Per semplicità ipotizziamo che una particella estratta dalla sorgente 5 possa essere venduta a 1.5 euro e che il dispositivo per l'estrazione dell'oro abbia un costo fisso di 1000 euro. Stimare il guadagno atteso nel caso in cui si voglia estrarre l'oro da 1000 litri di acqua e la varianza del guadagno._"
   ]
  },
  {
   "cell_type": "markdown",
   "metadata": {
    "solution": "shown"
   },
   "source": [
    "L'oro estratto in 1000 litri di acqua della sorgente 5 corrisponde a 200 analisi fatte ognuna su cinque litri, e quindi il numero di particelle corrispondenti è pari alla somma di 200 variabili poissoniane $X_1, \\dots, X_{200}$ aventi tutte lo stesso parametro $\\lambda$ (la cui stima abbiamo precedentemente memorizzato nella variabile `num_particelle_5`). Tale somma $N$ avrà ancora distribuzione poissoniana con parametro uguale a $200 \\lambda$.\n",
    "\n",
    "Il guadagno sarà quindi pari a $G = 1.5 \\cdot N - 1000$ e dunque\n",
    "\n",
    "$$\\mathcal E(G) = 1.5 \\mathcal E(N) - 1000 = 1.5 \\cdot 200\\lambda - 1000 = 100(3 \\lambda - 10)$$\n",
    "\n",
    "Possiamo stimare il guadagno atteso come"
   ]
  },
  {
   "cell_type": "code",
   "execution_count": 50,
   "metadata": {
    "solution": "shown"
   },
   "outputs": [
    {
     "data": {
      "text/plain": [
       "268.57142857142867"
      ]
     },
     "execution_count": 50,
     "metadata": {},
     "output_type": "execute_result"
    }
   ],
   "source": [
    "100 * (3 * num_particelle_5 - 10)"
   ]
  },
  {
   "cell_type": "markdown",
   "metadata": {
    "solution": "shown"
   },
   "source": [
    "La varianza di $G$ sarà invece uguale a\n",
    "\n",
    "$$\\mathrm{Var}(G) = 1.5^2 \\mathrm{Var}(N) = 1.5^2 \\cdot 200 \\lambda$$\n",
    "\n",
    "e possiamo stimare questo valore con"
   ]
  },
  {
   "cell_type": "code",
   "execution_count": 51,
   "metadata": {
    "solution": "shown"
   },
   "outputs": [
    {
     "data": {
      "text/plain": [
       "1902.857142857143"
      ]
     },
     "execution_count": 51,
     "metadata": {},
     "output_type": "execute_result"
    }
   ],
   "source": [
    "var_g = 1.5**2 * 200 * num_particelle_5\n",
    "var_g"
   ]
  },
  {
   "cell_type": "markdown",
   "metadata": {
    "solution": "shown"
   },
   "source": [
    "il tutto corrisponde alla seguente deviazione standard"
   ]
  },
  {
   "cell_type": "code",
   "execution_count": 52,
   "metadata": {
    "solution": "shown"
   },
   "outputs": [
    {
     "data": {
      "text/plain": [
       "43.62175079999819"
      ]
     },
     "execution_count": 52,
     "metadata": {},
     "output_type": "execute_result"
    }
   ],
   "source": [
    "var_g**0.5"
   ]
  },
  {
   "cell_type": "markdown",
   "metadata": {
    "footer": true
   },
   "source": [
    "<hr style=\"width: 90%;\" align=\"left\" />\n",
    "<span style=\"font-size: 0.8rem;\">D. Malchiodi, Superhero data science. Vol 1: probabilità e statistica: Ripasso, 2017.</span>\n",
    "<br>\n",
    "<span style=\"font-size: 0.8rem;\">Powered by <img src=\"img/jupyter-logo.png\" style=\"height: 1rem; display: inline; margin-left: 0.5ex; margin-top: 0;\" alt=\"Jupyter Notebook\"></span>\n",
    "<div style=\"float: left; margin-top: 1ex;\">\n",
    "<img src=\"http://mirrors.creativecommons.org/presskit/icons/cc.large.png\" style=\"width: 1.5em; float: left; margin-right: 0.6ex; margin-top: 0;\">\n",
    "<img src=\"http://mirrors.creativecommons.org/presskit/icons/by.large.png\" style=\"width: 1.5em; float: left; margin-right: 0.6ex; margin-top: 0;\">\n",
    "<img src=\"http://mirrors.creativecommons.org/presskit/icons/nc.large.png\" style=\"width: 1.5em; float: left; margin-right: 0.6ex; margin-top: 0;\">\n",
    "<img src=\"http://mirrors.creativecommons.org/presskit/icons/nd.large.png\" style=\"width: 1.5em; float: left; margin-right: 0.6ex; margin-top: 0;\">\n",
    "<span style=\"font-size: 0.7rem; line-height: 0.7rem; vertical-align: middle;\">Quest'opera è distribuita con Licenza <a rel=\"license\" href=\"http://creativecommons.org/licenses/by-nc-nd/4.0/\">Creative Commons Attribuzione - Non commerciale - Non opere derivate 4.0 Internazionale</a></span>.\n",
    "div>"
   ]
  }
 ],
 "metadata": {
  "kernelspec": {
   "display_name": "Python 3",
   "language": "python",
   "name": "python3"
  },
  "language_info": {
   "codemirror_mode": {
    "name": "ipython",
    "version": 3
   },
   "file_extension": ".py",
   "mimetype": "text/x-python",
   "name": "python",
   "nbconvert_exporter": "python",
   "pygments_lexer": "ipython3",
   "version": "3.11.5"
  },
  "latex_envs": {
   "LaTeX_envs_menu_present": true,
   "autoclose": true,
   "autocomplete": true,
   "bibliofile": "biblio.bib",
   "cite_by": "apalike",
   "current_citInitial": 1,
   "eqLabelWithNumbers": true,
   "eqNumInitial": 1,
   "hotkeys": {
    "equation": "Ctrl-E",
    "itemize": "Ctrl-I"
   },
   "labels_anchors": false,
   "latex_user_defs": false,
   "report_style_numbering": false,
   "user_envs_cfg": false
  },
  "toc": {
   "base_numbering": 1,
   "nav_menu": {},
   "number_sections": true,
   "sideBar": false,
   "skip_h1_title": false,
   "title_cell": "Table of Contents",
   "title_sidebar": "Contents",
   "toc_cell": true,
   "toc_position": {},
   "toc_section_display": true,
   "toc_window_display": false
  }
 },
 "nbformat": 4,
 "nbformat_minor": 2
}
