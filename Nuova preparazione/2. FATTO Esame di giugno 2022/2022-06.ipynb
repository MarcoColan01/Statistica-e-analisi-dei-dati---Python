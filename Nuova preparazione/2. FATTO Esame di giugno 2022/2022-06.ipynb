{
 "cells": [
  {
   "cell_type": "markdown",
   "metadata": {},
   "source": [
    "## Esercizio 1\n",
    "Sia $X$ una variabile aleatoria distribuita secondo un modello Esponenziale di parametro $\\lambda$\n",
    "\n",
    "**_Punto 1._** $\\lambda$ può assumere un valore negativo? Perchè? Può assumere un valore non intero? Perchè?\n",
    "\n",
    "**_Punto 2._** Esprimere il valore atteso e la deviazione standard di $X$ in funzione di $\\lambda$\n",
    "\n",
    "**_Punto 3._** Esprimere la deviazione standard di $X$ in funzione del valore atteso di quest'ultima\n",
    "\n",
    "**_Punto 4._** Dato $\\alpha \\gt 0$, siano $Y = \\frac{X}{\\alpha}$ e $p(x) = P(Y \\gt x)$. Esprimere $p(x)$ in funzione di $\\lambda, \\alpha, x$\n",
    "\n",
    "**_Punto 5._** Fissato, solo nel resto di questo esercizio, $\\alpha =10, \\lambda=0.4$, tracciare il grafico di $p(x)$ al variare di $x$. Come avete scelto il valore massimo per $x$?\n",
    "\n",
    "**_Punto 6._** Utilizzare la disuguaglianza di Markov per trovare una maggiorazione di $p(x)$. La maggiorazione trovata può essere utilizzata per approssimare bene $p(x)$? Perchè?"
   ]
  },
  {
   "cell_type": "markdown",
   "metadata": {},
   "source": [
    "## Esercizio 2\n",
    "Per $n \\in \\mathbb{N}$ fissato, siano $X_1, \\dots X_n$ delle variabili aleatorie i.i.d. secondo un modello esponenziale di parametro $\\lambda$. Considereremo queste variabili come un campione estratto da una popolazione distribuita come la variabile aleatoria $X$ dell'esercizio 1.\n",
    "\n",
    "**_Punto 1._** Fissato, solo in questo punto, $n = 3$. La variabile aleatoria $T = \\frac{X_1-2X_2+X_3}{4}$ è un buon stimatore per $E(X)$? Perchè? Come cambiano le risposte se si considera $S = \\frac{X_1+2X_2+X_3}{4}$ al posto di T?\n",
    "\n",
    "Concentriamoci nel resto dell'esercizio sulla variabile aleatoria $\\overline X = \\frac{1}{n} \\sum_{i=1}^n X_i$\n",
    "\n",
    "**_Punto 2._** $\\overline X$ è distribuita secondo uno dei modelli che avete studiato? In caso negativo, esiste un modello che approssima in modo ragionevole la sua distribuzione? Motivare le risposte, specificando anche quali valori assumono eventuali parametri dei modelli considerati\n",
    "\n",
    "*_Punto 3._* $\\overline X$ è un buon stimatore per $\\mu = E(X)$? Se si, indicare di quali proprietà gode rispetto a $\\mu$, motivando le risposte\n",
    "\n",
    "**_Punto 4._** $\\overline X$ è un buon stimatore per la varianza $\\sigma^2 = Var(X)$? Se si, indicare di quali proprietà gode rispetto a $\\sigma^2$, motivando le risposte \n",
    "\n",
    "**_Punto 5._** $\\overline X$ è un buon stimatore per la deviazione standard $\\sigma = \\sqrt{Var(X)}$? Se si, indicare di quali proprietà gode rispetto a $\\sigma$, motivando le risposte\n",
    "\n",
    "**_Punto 6._** Esprimere in funzione di $\\lambda$ e $n$ il più piccolo valore $\\epsilon$ per il quale si può garantire che, con probabilità almeno pari a 0.9, l'errore (in valore assoluto) che si compie usando $\\overline X$ per stimare $\\mu$ sia $\\leq \\epsilon$"
   ]
  },
  {
   "cell_type": "code",
   "execution_count": null,
   "metadata": {},
   "outputs": [],
   "source": []
  }
 ],
 "metadata": {
  "kernelspec": {
   "display_name": "Python 3 (ipykernel)",
   "language": "python",
   "name": "python3"
  },
  "language_info": {
   "codemirror_mode": {
    "name": "ipython",
    "version": 3
   },
   "file_extension": ".py",
   "mimetype": "text/x-python",
   "name": "python",
   "nbconvert_exporter": "python",
   "pygments_lexer": "ipython3",
   "version": "3.8.13"
  },
  "latex_envs": {
   "LaTeX_envs_menu_present": true,
   "autoclose": false,
   "autocomplete": true,
   "bibliofile": "biblio.bib",
   "cite_by": "apalike",
   "current_citInitial": 1,
   "eqLabelWithNumbers": true,
   "eqNumInitial": 1,
   "hotkeys": {
    "equation": "Ctrl-E",
    "itemize": "Ctrl-I"
   },
   "labels_anchors": false,
   "latex_user_defs": false,
   "report_style_numbering": false,
   "user_envs_cfg": false
  },
  "toc": {
   "base_numbering": 1,
   "nav_menu": {},
   "number_sections": true,
   "sideBar": true,
   "skip_h1_title": false,
   "title_cell": "Table of Contents",
   "title_sidebar": "Contents",
   "toc_cell": false,
   "toc_position": {},
   "toc_section_display": true,
   "toc_window_display": false
  }
 },
 "nbformat": 4,
 "nbformat_minor": 2
}
