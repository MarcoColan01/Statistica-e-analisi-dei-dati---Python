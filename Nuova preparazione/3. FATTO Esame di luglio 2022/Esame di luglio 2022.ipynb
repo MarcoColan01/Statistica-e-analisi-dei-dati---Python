{
 "cells": [
  {
   "cell_type": "code",
   "execution_count": 1,
   "id": "a1158ea0",
   "metadata": {},
   "outputs": [],
   "source": [
    "import scipy.stats as st\n",
    "import matplotlib.pyplot as plt\n",
    "import pandas as pd\n",
    "import statsmodels.api as sm\n",
    "import numpy as np\n",
    "import math"
   ]
  },
  {
   "cell_type": "markdown",
   "id": "eb07085b",
   "metadata": {},
   "source": [
    "## Esercizio 1"
   ]
  },
  {
   "cell_type": "markdown",
   "id": "c97cb1c8",
   "metadata": {},
   "source": [
    "1.4 Massa di probabilità di X (poissoniana) con lambda = 0.9"
   ]
  },
  {
   "cell_type": "code",
   "execution_count": 5,
   "id": "cc43af8e",
   "metadata": {},
   "outputs": [
    {
     "data": {
      "image/png": "[encoded data removed]",
      "text/plain": [
       "<Figure size 640x480 with 1 Axes>"
      ]
     },
     "metadata": {},
     "output_type": "display_data"
    }
   ],
   "source": [
    "Z = st.poisson(2*0.9)\n",
    "x = np.arange(0, Z.ppf(0.99))\n",
    "y = Z.pmf(x)\n",
    "plt.vlines(x,0,y)\n",
    "plt.plot(x,y,'o')\n",
    "plt.show()"
   ]
  },
  {
   "cell_type": "markdown",
   "id": "f61cba21",
   "metadata": {},
   "source": [
    "## Esercizio 3"
   ]
  },
  {
   "cell_type": "code",
   "execution_count": 4,
   "id": "f99b5b7d",
   "metadata": {},
   "outputs": [
    {
     "data": {
      "text/html": [
       "<div>\n",
       "<style scoped>\n",
       "    .dataframe tbody tr th:only-of-type {\n",
       "        vertical-align: middle;\n",
       "    }\n",
       "\n",
       "    .dataframe tbody tr th {\n",
       "        vertical-align: top;\n",
       "    }\n",
       "\n",
       "    .dataframe thead th {\n",
       "        text-align: right;\n",
       "    }\n",
       "</style>\n",
       "<table border=\"1\" class=\"dataframe\">\n",
       "  <thead>\n",
       "    <tr style=\"text-align: right;\">\n",
       "      <th></th>\n",
       "      <th>temperatura</th>\n",
       "      <th>blocchidanneggiati</th>\n",
       "      <th>raffreddamento</th>\n",
       "    </tr>\n",
       "  </thead>\n",
       "  <tbody>\n",
       "    <tr>\n",
       "      <th>0</th>\n",
       "      <td>46.024489</td>\n",
       "      <td>0.0</td>\n",
       "      <td>1.0</td>\n",
       "    </tr>\n",
       "    <tr>\n",
       "      <th>1</th>\n",
       "      <td>83.225486</td>\n",
       "      <td>0.0</td>\n",
       "      <td>1.0</td>\n",
       "    </tr>\n",
       "    <tr>\n",
       "      <th>2</th>\n",
       "      <td>81.451565</td>\n",
       "      <td>0.0</td>\n",
       "      <td>NaN</td>\n",
       "    </tr>\n",
       "    <tr>\n",
       "      <th>3</th>\n",
       "      <td>54.427135</td>\n",
       "      <td>0.0</td>\n",
       "      <td>1.0</td>\n",
       "    </tr>\n",
       "    <tr>\n",
       "      <th>4</th>\n",
       "      <td>76.438674</td>\n",
       "      <td>0.0</td>\n",
       "      <td>1.0</td>\n",
       "    </tr>\n",
       "    <tr>\n",
       "      <th>...</th>\n",
       "      <td>...</td>\n",
       "      <td>...</td>\n",
       "      <td>...</td>\n",
       "    </tr>\n",
       "    <tr>\n",
       "      <th>1722</th>\n",
       "      <td>28.688900</td>\n",
       "      <td>5.0</td>\n",
       "      <td>0.0</td>\n",
       "    </tr>\n",
       "    <tr>\n",
       "      <th>1723</th>\n",
       "      <td>56.358840</td>\n",
       "      <td>5.0</td>\n",
       "      <td>0.0</td>\n",
       "    </tr>\n",
       "    <tr>\n",
       "      <th>1724</th>\n",
       "      <td>64.711851</td>\n",
       "      <td>6.0</td>\n",
       "      <td>0.0</td>\n",
       "    </tr>\n",
       "    <tr>\n",
       "      <th>1725</th>\n",
       "      <td>34.016859</td>\n",
       "      <td>6.0</td>\n",
       "      <td>0.0</td>\n",
       "    </tr>\n",
       "    <tr>\n",
       "      <th>1726</th>\n",
       "      <td>50.206145</td>\n",
       "      <td>6.0</td>\n",
       "      <td>0.0</td>\n",
       "    </tr>\n",
       "  </tbody>\n",
       "</table>\n",
       "<p>1727 rows × 3 columns</p>\n",
       "</div>"
      ],
      "text/plain": [
       "      temperatura  blocchidanneggiati  raffreddamento\n",
       "0       46.024489                 0.0             1.0\n",
       "1       83.225486                 0.0             1.0\n",
       "2       81.451565                 0.0             NaN\n",
       "3       54.427135                 0.0             1.0\n",
       "4       76.438674                 0.0             1.0\n",
       "...           ...                 ...             ...\n",
       "1722    28.688900                 5.0             0.0\n",
       "1723    56.358840                 5.0             0.0\n",
       "1724    64.711851                 6.0             0.0\n",
       "1725    34.016859                 6.0             0.0\n",
       "1726    50.206145                 6.0             0.0\n",
       "\n",
       "[1727 rows x 3 columns]"
      ]
     },
     "execution_count": 4,
     "metadata": {},
     "output_type": "execute_result"
    }
   ],
   "source": [
    "rilevazioni = pd.read_csv('rilevazioni.csv', sep = ';')\n",
    "rilevazioni"
   ]
  },
  {
   "cell_type": "markdown",
   "id": "1102c33c",
   "metadata": {},
   "source": [
    "3.1"
   ]
  },
  {
   "cell_type": "code",
   "execution_count": 12,
   "id": "e4c57ff3",
   "metadata": {},
   "outputs": [
    {
     "name": "stdout",
     "output_type": "stream",
     "text": [
      "Numero casi totali: 1727\n",
      "Numero casi contenenti un valore mancante: 5\n",
      "Attributo temperatura contiene 0 valori mancanti\n",
      "Attributo blocchidanneggiati contiene 0 valori mancanti\n",
      "Attributo raffreddamento contiene 5 valori mancanti\n"
     ]
    }
   ],
   "source": [
    "print(f'Numero casi totali: {len(rilevazioni)}')\n",
    "print(f'Numero casi contenenti un valore mancante: {len(rilevazioni)-len(rilevazioni.dropna())}')\n",
    "\n",
    "cont = 0\n",
    "for attributo in rilevazioni.columns:\n",
    "    print(f'Attributo {attributo} contiene {rilevazioni[attributo].isna().sum()} valori mancanti')\n"
   ]
  },
  {
   "cell_type": "markdown",
   "id": "b7eced38",
   "metadata": {},
   "source": [
    "3.2 \n",
    "La rappresentazione più appropriata è un diagramma a barre in quanto abbiamo valori numerici con solo due possibili valori."
   ]
  },
  {
   "cell_type": "code",
   "execution_count": 14,
   "id": "02ae9c35",
   "metadata": {},
   "outputs": [
    {
     "data": {
      "image/png": "[encoded data removed]",
      "text/plain": [
       "<Figure size 640x480 with 1 Axes>"
      ]
     },
     "metadata": {},
     "output_type": "display_data"
    }
   ],
   "source": [
    "rilevazioni.raffreddamento.value_counts().sort_index().plot.bar()\n",
    "plt.show()"
   ]
  },
  {
   "cell_type": "markdown",
   "id": "7cd4772b",
   "metadata": {},
   "source": [
    "3.3 \n",
    "Per valutare l'ipotesi che esista una relazione tra i due attributi, possiamo costruire lo scatter plot dei due attributi e commentarlo."
   ]
  },
  {
   "cell_type": "code",
   "execution_count": 17,
   "id": "ef7401e3",
   "metadata": {},
   "outputs": [
    {
     "data": {
      "image/png": "[encoded data removed]",
      "text/plain": [
       "<Figure size 640x480 with 1 Axes>"
      ]
     },
     "metadata": {},
     "output_type": "display_data"
    },
    {
     "data": {
      "text/plain": [
       "-0.04621947336116281"
      ]
     },
     "execution_count": 17,
     "metadata": {},
     "output_type": "execute_result"
    }
   ],
   "source": [
    "rilevazioni.plot.scatter('temperatura', 'raffreddamento')\n",
    "plt.show()\n",
    "print('Lo scatter plot mostra come non esista alcun tipo di relazione tra i due attributi, per cui dobbiamo confutare l ipotesi.')\n",
    "rilevazioni.temperatura.corr(rilevazioni.raffreddamento)\n",
    "print('Inoltre, l indice di correlazione lineare prossimo a 0 conferma tale ipotesi.')"
   ]
  },
  {
   "cell_type": "markdown",
   "id": "44fa112b",
   "metadata": {},
   "source": [
    "3.4\n",
    "blocchidanneggiati è un attributo di tipo quantitativo discreto, per cui la rappresentazione grafica più appropriata è un grafico a barre"
   ]
  },
  {
   "cell_type": "code",
   "execution_count": 19,
   "id": "f62d2801",
   "metadata": {},
   "outputs": [
    {
     "data": {
      "image/png": "[encoded data removed]",
      "text/plain": [
       "<Figure size 640x480 with 1 Axes>"
      ]
     },
     "metadata": {},
     "output_type": "display_data"
    },
    {
     "name": "stdout",
     "output_type": "stream",
     "text": [
      "L andamento del grafico ricorda quello della massa di probabilità di una distribuzione geometrica\n"
     ]
    }
   ],
   "source": [
    "rilevazioni.blocchidanneggiati.value_counts().plot.bar()\n",
    "plt.show()\n",
    "print('L andamento del grafico ricorda quello della massa di probabilità di una distribuzione geometrica')"
   ]
  },
  {
   "cell_type": "markdown",
   "id": "181e6aa4",
   "metadata": {},
   "source": [
    "3.5"
   ]
  },
  {
   "cell_type": "code",
   "execution_count": 26,
   "id": "d54fa569",
   "metadata": {},
   "outputs": [
    {
     "name": "stdout",
     "output_type": "stream",
     "text": [
      "P(D) = 0.4504921829762594\n"
     ]
    }
   ],
   "source": [
    "blocchi_raffr = pd.crosstab(index = rilevazioni['blocchidanneggiati'],\n",
    "                            columns= rilevazioni['raffreddamento'])\n",
    "\n",
    "blocchi_raffr\n",
    "\n",
    "R = len(rilevazioni[rilevazioni['raffreddamento'] == 1])\n",
    "D = len(rilevazioni[rilevazioni['blocchidanneggiati'] > 0])\n",
    "\n",
    "print(f'P(D) = {D/len(rilevazioni)}')\n",
    "print(f'P(R and D) = {}')"
   ]
  },
  {
   "cell_type": "markdown",
   "id": "90eec39f",
   "metadata": {},
   "source": [
    "## Esercizio 4"
   ]
  },
  {
   "cell_type": "markdown",
   "id": "a716c63b",
   "metadata": {},
   "source": [
    "4.1"
   ]
  },
  {
   "cell_type": "code",
   "execution_count": 31,
   "id": "61764951",
   "metadata": {},
   "outputs": [],
   "source": [
    "raffreddamento_si = rilevazioni[rilevazioni['raffreddamento'] == 1].blocchidanneggiati\n",
    "raffreddamento_no = rilevazioni[rilevazioni['raffreddamento'] == 0].blocchidanneggiati"
   ]
  },
  {
   "cell_type": "markdown",
   "id": "094f2bbb",
   "metadata": {},
   "source": [
    "4.2"
   ]
  },
  {
   "cell_type": "code",
   "execution_count": 34,
   "id": "7ab5ec78",
   "metadata": {},
   "outputs": [
    {
     "name": "stdout",
     "output_type": "stream",
     "text": [
      "Decile 0 : 0.0\n",
      "\n",
      "Decile 1 : 0.0\n",
      "\n",
      "Decile 2 : 1.0\n",
      "\n",
      "Decile 3 : 1.0\n",
      "\n",
      "Decile 4 : 1.0\n",
      "\n",
      "Decile 5 : 2.0\n",
      "\n",
      "Decile 6 : 2.0\n",
      "\n",
      "Decile 7 : 2.0\n",
      "\n",
      "Decile 8 : 3.0\n",
      "\n",
      "Decile 9 : 3.0\n",
      "\n",
      "Decile 10 : 6.0\n",
      "\n",
      "Decile 0 : 0.0\n",
      "\n",
      "Decile 1 : 0.0\n",
      "\n",
      "Decile 2 : 0.0\n",
      "\n",
      "Decile 3 : 0.0\n",
      "\n",
      "Decile 4 : 0.0\n",
      "\n",
      "Decile 5 : 0.0\n",
      "\n",
      "Decile 6 : 0.0\n",
      "\n",
      "Decile 7 : 0.0\n",
      "\n",
      "Decile 8 : 1.0\n",
      "\n",
      "Decile 9 : 1.0\n",
      "\n",
      "Decile 10 : 3.0\n",
      "\n"
     ]
    }
   ],
   "source": [
    "def decili(series):\n",
    "    for i in range (0,11):\n",
    "        print(f'Decile {i} : {series.quantile(i/10)}\\n')\n",
    "\n",
    "decili(raffreddamento_no)\n",
    "decili(raffreddamento_si)\n",
    "\n"
   ]
  },
  {
   "cell_type": "markdown",
   "id": "1ead97bb",
   "metadata": {},
   "source": [
    "4.3"
   ]
  },
  {
   "cell_type": "code",
   "execution_count": 35,
   "id": "3335798e",
   "metadata": {},
   "outputs": [
    {
     "data": {
      "text/plain": [
       "0.2994652406417112"
      ]
     },
     "execution_count": 35,
     "metadata": {},
     "output_type": "execute_result"
    }
   ],
   "source": [
    "raffreddamento_si.mean()"
   ]
  },
  {
   "cell_type": "markdown",
   "id": "b30bc4aa",
   "metadata": {},
   "source": [
    "4.4"
   ]
  },
  {
   "cell_type": "code",
   "execution_count": 39,
   "id": "588def95",
   "metadata": {},
   "outputs": [
    {
     "data": {
      "image/png": "[encoded data removed]",
      "text/plain": [
       "<Figure size 640x480 with 1 Axes>"
      ]
     },
     "metadata": {},
     "output_type": "display_data"
    },
    {
     "name": "stdout",
     "output_type": "stream",
     "text": [
      "Il qqplot ci permette di confrontare due campioni per valutare che essi seguano la stessa distribuzione. Come si può vedere, i punti ottenuti si adagiano bene sulla bisettrice di 45 gradi, escludendo eventuali outlier. Per cui possiamo validare l ipotesi che raffreddamento_si segua una distribuzione di Poisson.\n",
      "(0.2994652406417112, 0.29739489664976365) inoltre i valori di varianza e valore atteso molto simili confermano tale ipotesi.s\n"
     ]
    }
   ],
   "source": [
    "sm.qqplot(raffreddamento_si, dist = st.poisson(raffreddamento_si.mean()), line = '45')\n",
    "plt.show()\n",
    "print('Il qqplot ci permette di confrontare due campioni per valutare che essi seguano la stessa distribuzione. Come si può vedere, i punti ottenuti si adagiano bene sulla bisettrice di 45 gradi, escludendo eventuali outlier. Per cui possiamo validare l ipotesi che raffreddamento_si segua una distribuzione di Poisson.')\n",
    "print(f'{raffreddamento_si.mean(), raffreddamento_si.var() } inoltre i valori di varianza e valore atteso molto simili confermano tale ipotesi.')"
   ]
  },
  {
   "cell_type": "markdown",
   "id": "e78fec83",
   "metadata": {},
   "source": [
    "4.5"
   ]
  },
  {
   "cell_type": "code",
   "execution_count": 40,
   "id": "03f6fd49",
   "metadata": {},
   "outputs": [
    {
     "data": {
      "image/png": "[encoded data removed]",
      "text/plain": [
       "<Figure size 640x480 with 1 Axes>"
      ]
     },
     "metadata": {},
     "output_type": "display_data"
    },
    {
     "name": "stdout",
     "output_type": "stream",
     "text": [
      "Come si può vedere, anche qui i punti ottenuti si adagiano bene sulla bisettrice di 45 gradi, escludendo eventuali outlier. Per cui possiamo validare l ipotesi che raffreddamento_no segua una distribuzione di Poisson.\n",
      "(1.6433333333333333, 1.5453644963828603) inoltre i valori di varianza e valore atteso molto simili confermano tale ipotesi.\n"
     ]
    }
   ],
   "source": [
    "sm.qqplot(raffreddamento_no, dist = st.poisson(raffreddamento_no.mean()), line = '45')\n",
    "plt.show()\n",
    "print('Come si può vedere, qui i punti ottenuti non si adagiano bene sulla bisettrice di 45 gradi. Per cui possiamo confutare l ipotesi che raffreddamento_no segua una distribuzione di Poisson.')\n",
    "print(f'{raffreddamento_no.mean(), raffreddamento_no.var() } inoltre i valori di varianza e valore atteso piuttosto diversi confermano tale ipotesi.')"
   ]
  },
  {
   "cell_type": "markdown",
   "id": "26f8d48f",
   "metadata": {},
   "source": [
    "4.6"
   ]
  },
  {
   "cell_type": "code",
   "execution_count": 41,
   "id": "b7a66706",
   "metadata": {},
   "outputs": [
    {
     "name": "stdout",
     "output_type": "stream",
     "text": [
      "Stimatore per la varianza di Xsi: media campionaria = 0.2994652406417112\n",
      "Stimatore per la varianza di Xsi: radice quadrata della media campionaria = 0.547234173495873\n",
      "Stimatore per il parametro lambda di Xsi: media campionaria = 0.2994652406417112\n"
     ]
    }
   ],
   "source": [
    "print(f'Stimatore per la varianza di Xsi: media campionaria = {raffreddamento_si.mean()}')\n",
    "print(f'Stimatore per la varianza di Xsi: radice quadrata della media campionaria = {math.sqrt(raffreddamento_si.mean())}')\n",
    "print(f'Stimatore per il parametro lambda di Xsi: media campionaria = {raffreddamento_si.mean()}')\n",
    "\n"
   ]
  },
  {
   "cell_type": "markdown",
   "id": "0d7e9205",
   "metadata": {},
   "source": [
    "4.7"
   ]
  },
  {
   "cell_type": "code",
   "execution_count": 44,
   "id": "d8465871",
   "metadata": {},
   "outputs": [
    {
     "data": {
      "text/plain": [
       "8.134484197341862e-10"
      ]
     },
     "execution_count": 44,
     "metadata": {},
     "output_type": "execute_result"
    }
   ],
   "source": [
    "z = st.norm(0,1)\n",
    "n = math.sqrt(len(raffreddamento_si))*0.1\n",
    "1-(2*z.cdf(n/raffreddamento_si.std())-1)"
   ]
  },
  {
   "cell_type": "markdown",
   "id": "813c31d3",
   "metadata": {},
   "source": [
    "4.8"
   ]
  },
  {
   "cell_type": "code",
   "execution_count": 46,
   "id": "1c5424a0",
   "metadata": {},
   "outputs": [
    {
     "data": {
      "text/plain": [
       "0.6515679442508711"
      ]
     },
     "execution_count": 46,
     "metadata": {},
     "output_type": "execute_result"
    }
   ],
   "source": [
    "rilevazioni.raffreddamento.mean()"
   ]
  },
  {
   "cell_type": "markdown",
   "id": "df60adaa",
   "metadata": {},
   "source": [
    "4.9"
   ]
  },
  {
   "cell_type": "code",
   "execution_count": 47,
   "id": "c2f8b1c9",
   "metadata": {},
   "outputs": [
    {
     "name": "stdout",
     "output_type": "stream",
     "text": [
      "P(xsi > 4) = 1.565177694551334e-05\n",
      "P(xno > 4) = 0.02614944042142986\n"
     ]
    }
   ],
   "source": [
    "xsi = st.poisson(raffreddamento_si.mean())\n",
    "xno = st.poisson(raffreddamento_no.mean())\n",
    "\n",
    "print(f'P(xsi > 4) = {1-xsi.cdf(4)}')\n",
    "print(f'P(xno > 4) = {1-xno.cdf(4)}')"
   ]
  },
  {
   "cell_type": "code",
   "execution_count": 48,
   "id": "9fd3aca8",
   "metadata": {},
   "outputs": [
    {
     "name": "stdout",
     "output_type": "stream",
     "text": [
      "P(allarme) = 0.026165092198375373\n"
     ]
    }
   ],
   "source": [
    "print(f'P(allarme) = {(1-xsi.cdf(4))+(1-xno.cdf(4))}')"
   ]
  },
  {
   "cell_type": "code",
   "execution_count": null,
   "id": "c22a547c",
   "metadata": {},
   "outputs": [],
   "source": []
  }
 ],
 "metadata": {
  "kernelspec": {
   "display_name": "Python 3 (ipykernel)",
   "language": "python",
   "name": "python3"
  },
  "language_info": {
   "codemirror_mode": {
    "name": "ipython",
    "version": 3
   },
   "file_extension": ".py",
   "mimetype": "text/x-python",
   "name": "python",
   "nbconvert_exporter": "python",
   "pygments_lexer": "ipython3",
   "version": "3.11.5"
  }
 },
 "nbformat": 4,
 "nbformat_minor": 5
}
