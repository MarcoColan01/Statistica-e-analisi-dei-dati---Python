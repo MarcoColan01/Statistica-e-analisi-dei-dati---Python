{
 "cells": [
  {
   "cell_type": "code",
   "execution_count": 66,
   "id": "e39c2dd0",
   "metadata": {},
   "outputs": [
    {
     "data": {
      "text/html": [
       "<div>\n",
       "<style scoped>\n",
       "    .dataframe tbody tr th:only-of-type {\n",
       "        vertical-align: middle;\n",
       "    }\n",
       "\n",
       "    .dataframe tbody tr th {\n",
       "        vertical-align: top;\n",
       "    }\n",
       "\n",
       "    .dataframe thead th {\n",
       "        text-align: right;\n",
       "    }\n",
       "</style>\n",
       "<table border=\"1\" class=\"dataframe\">\n",
       "  <thead>\n",
       "    <tr style=\"text-align: right;\">\n",
       "      <th></th>\n",
       "      <th>giorno.settimana</th>\n",
       "      <th>peso.pescato</th>\n",
       "      <th>settore.di.pesca</th>\n",
       "      <th>settore.num</th>\n",
       "      <th>forza.del.mare</th>\n",
       "      <th>tempesta</th>\n",
       "    </tr>\n",
       "  </thead>\n",
       "  <tbody>\n",
       "    <tr>\n",
       "      <th>0</th>\n",
       "      <td>1</td>\n",
       "      <td>5.168068</td>\n",
       "      <td>A</td>\n",
       "      <td>1</td>\n",
       "      <td>7</td>\n",
       "      <td>1</td>\n",
       "    </tr>\n",
       "    <tr>\n",
       "      <th>1</th>\n",
       "      <td>1</td>\n",
       "      <td>4.074747</td>\n",
       "      <td>A</td>\n",
       "      <td>1</td>\n",
       "      <td>7</td>\n",
       "      <td>1</td>\n",
       "    </tr>\n",
       "    <tr>\n",
       "      <th>2</th>\n",
       "      <td>1</td>\n",
       "      <td>7.358404</td>\n",
       "      <td>A</td>\n",
       "      <td>1</td>\n",
       "      <td>5</td>\n",
       "      <td>1</td>\n",
       "    </tr>\n",
       "    <tr>\n",
       "      <th>3</th>\n",
       "      <td>1</td>\n",
       "      <td>5.022524</td>\n",
       "      <td>A</td>\n",
       "      <td>1</td>\n",
       "      <td>5</td>\n",
       "      <td>1</td>\n",
       "    </tr>\n",
       "    <tr>\n",
       "      <th>4</th>\n",
       "      <td>1</td>\n",
       "      <td>5.826922</td>\n",
       "      <td>A</td>\n",
       "      <td>1</td>\n",
       "      <td>5</td>\n",
       "      <td>1</td>\n",
       "    </tr>\n",
       "    <tr>\n",
       "      <th>...</th>\n",
       "      <td>...</td>\n",
       "      <td>...</td>\n",
       "      <td>...</td>\n",
       "      <td>...</td>\n",
       "      <td>...</td>\n",
       "      <td>...</td>\n",
       "    </tr>\n",
       "    <tr>\n",
       "      <th>250</th>\n",
       "      <td>5</td>\n",
       "      <td>13.314936</td>\n",
       "      <td>I</td>\n",
       "      <td>9</td>\n",
       "      <td>5</td>\n",
       "      <td>1</td>\n",
       "    </tr>\n",
       "    <tr>\n",
       "      <th>251</th>\n",
       "      <td>5</td>\n",
       "      <td>17.445849</td>\n",
       "      <td>I</td>\n",
       "      <td>9</td>\n",
       "      <td>3</td>\n",
       "      <td>0</td>\n",
       "    </tr>\n",
       "    <tr>\n",
       "      <th>252</th>\n",
       "      <td>5</td>\n",
       "      <td>19.351561</td>\n",
       "      <td>I</td>\n",
       "      <td>9</td>\n",
       "      <td>1</td>\n",
       "      <td>0</td>\n",
       "    </tr>\n",
       "    <tr>\n",
       "      <th>253</th>\n",
       "      <td>5</td>\n",
       "      <td>17.939520</td>\n",
       "      <td>I</td>\n",
       "      <td>9</td>\n",
       "      <td>1</td>\n",
       "      <td>0</td>\n",
       "    </tr>\n",
       "    <tr>\n",
       "      <th>254</th>\n",
       "      <td>5</td>\n",
       "      <td>19.182300</td>\n",
       "      <td>I</td>\n",
       "      <td>9</td>\n",
       "      <td>1</td>\n",
       "      <td>0</td>\n",
       "    </tr>\n",
       "  </tbody>\n",
       "</table>\n",
       "<p>255 rows × 6 columns</p>\n",
       "</div>"
      ],
      "text/plain": [
       "     giorno.settimana  peso.pescato settore.di.pesca  settore.num  \\\n",
       "0                   1      5.168068                A            1   \n",
       "1                   1      4.074747                A            1   \n",
       "2                   1      7.358404                A            1   \n",
       "3                   1      5.022524                A            1   \n",
       "4                   1      5.826922                A            1   \n",
       "..                ...           ...              ...          ...   \n",
       "250                 5     13.314936                I            9   \n",
       "251                 5     17.445849                I            9   \n",
       "252                 5     19.351561                I            9   \n",
       "253                 5     17.939520                I            9   \n",
       "254                 5     19.182300                I            9   \n",
       "\n",
       "     forza.del.mare  tempesta  \n",
       "0                 7         1  \n",
       "1                 7         1  \n",
       "2                 5         1  \n",
       "3                 5         1  \n",
       "4                 5         1  \n",
       "..              ...       ...  \n",
       "250               5         1  \n",
       "251               3         0  \n",
       "252               1         0  \n",
       "253               1         0  \n",
       "254               1         0  \n",
       "\n",
       "[255 rows x 6 columns]"
      ]
     },
     "execution_count": 66,
     "metadata": {},
     "output_type": "execute_result"
    }
   ],
   "source": [
    "import pandas as pd\n",
    "import matplotlib.pyplot as plt\n",
    "import numpy as np\n",
    "import statsmodels.api as sm\n",
    "import scipy.stats as st\n",
    "import math\n",
    "\n",
    "pesca = pd.read_csv('pesca.csv', sep=',', decimal='.')\n",
    "pesca"
   ]
  },
  {
   "cell_type": "code",
   "execution_count": 12,
   "id": "d5f72cb8",
   "metadata": {},
   "outputs": [],
   "source": [
    "#ESERCIZIO 2"
   ]
  },
  {
   "cell_type": "code",
   "execution_count": 14,
   "id": "d61261ff",
   "metadata": {},
   "outputs": [
    {
     "data": {
      "text/plain": [
       "5"
      ]
     },
     "execution_count": 14,
     "metadata": {},
     "output_type": "execute_result"
    }
   ],
   "source": [
    "#2.1 Quante sono le giornate lavorative in una settimana al mercato del pesce?\n",
    "len(pesca['giorno.settimana'].unique())"
   ]
  },
  {
   "cell_type": "code",
   "execution_count": 15,
   "id": "dc9dc040",
   "metadata": {},
   "outputs": [
    {
     "data": {
      "text/plain": [
       "255"
      ]
     },
     "execution_count": 15,
     "metadata": {},
     "output_type": "execute_result"
    }
   ],
   "source": [
    "#2.2 Per quanti giorni sono state raccolte le informazioni?\n",
    "len(pesca)"
   ]
  },
  {
   "cell_type": "code",
   "execution_count": 24,
   "id": "03d3afef",
   "metadata": {},
   "outputs": [
    {
     "name": "stdout",
     "output_type": "stream",
     "text": [
      "frequenza assoluta: \n",
      "94\n",
      "frequenza relativa: \n",
      "0.3686274509803922\n"
     ]
    }
   ],
   "source": [
    "'''2.3 Quante volte si è pescato in condizioni di tempesta? Dare una risposta \n",
    "in termini di frequenza sia assoluta, sia relativa.\n",
    "'''\n",
    "print(\"frequenza assoluta: \")\n",
    "print(len(pesca[pesca['tempesta'] == 1]))\n",
    "print(\"frequenza relativa: \")\n",
    "print(len(pesca[pesca['tempesta'] == 1])/len(pesca))\n"
   ]
  },
  {
   "cell_type": "code",
   "execution_count": 25,
   "id": "f6de65df",
   "metadata": {},
   "outputs": [
    {
     "data": {
      "image/png": "[encoded data removed]",
      "text/plain": [
       "<Figure size 640x480 with 1 Axes>"
      ]
     },
     "metadata": {},
     "output_type": "display_data"
    }
   ],
   "source": [
    "#2.4 Tracciare un grafico rappresentativo della frequenza di tempesta.\n",
    "pesca['tempesta'].value_counts().plot.bar()\n",
    "plt.show()"
   ]
  },
  {
   "cell_type": "code",
   "execution_count": 26,
   "id": "80dc1029",
   "metadata": {},
   "outputs": [
    {
     "data": {
      "text/plain": [
       "9"
      ]
     },
     "execution_count": 26,
     "metadata": {},
     "output_type": "execute_result"
    }
   ],
   "source": [
    "#2.5 Quanti sono i settori di pesca della parte di mare considerata?\n",
    "len(pesca['settore.di.pesca'].unique())"
   ]
  },
  {
   "cell_type": "code",
   "execution_count": 27,
   "id": "01268417",
   "metadata": {},
   "outputs": [
    {
     "name": "stdout",
     "output_type": "stream",
     "text": [
      "frequenza relativa:  0.1450980392156863\n"
     ]
    }
   ],
   "source": [
    "#2.6 Qual è la frequenza relativa del settore \"A\"?\n",
    "print(\"frequenza relativa: \", len(pesca[pesca['settore.di.pesca'] == \"A\"])/len(pesca))"
   ]
  },
  {
   "cell_type": "code",
   "execution_count": 29,
   "id": "a629d0a3",
   "metadata": {},
   "outputs": [
    {
     "data": {
      "text/html": [
       "<div>\n",
       "<style scoped>\n",
       "    .dataframe tbody tr th:only-of-type {\n",
       "        vertical-align: middle;\n",
       "    }\n",
       "\n",
       "    .dataframe tbody tr th {\n",
       "        vertical-align: top;\n",
       "    }\n",
       "\n",
       "    .dataframe thead th {\n",
       "        text-align: right;\n",
       "    }\n",
       "</style>\n",
       "<table border=\"1\" class=\"dataframe\">\n",
       "  <thead>\n",
       "    <tr style=\"text-align: right;\">\n",
       "      <th>tempesta</th>\n",
       "      <th>0</th>\n",
       "      <th>1</th>\n",
       "    </tr>\n",
       "    <tr>\n",
       "      <th>settore.di.pesca</th>\n",
       "      <th></th>\n",
       "      <th></th>\n",
       "    </tr>\n",
       "  </thead>\n",
       "  <tbody>\n",
       "    <tr>\n",
       "      <th>A</th>\n",
       "      <td>24</td>\n",
       "      <td>13</td>\n",
       "    </tr>\n",
       "    <tr>\n",
       "      <th>B</th>\n",
       "      <td>28</td>\n",
       "      <td>24</td>\n",
       "    </tr>\n",
       "    <tr>\n",
       "      <th>C</th>\n",
       "      <td>19</td>\n",
       "      <td>14</td>\n",
       "    </tr>\n",
       "    <tr>\n",
       "      <th>D</th>\n",
       "      <td>3</td>\n",
       "      <td>2</td>\n",
       "    </tr>\n",
       "    <tr>\n",
       "      <th>E</th>\n",
       "      <td>24</td>\n",
       "      <td>16</td>\n",
       "    </tr>\n",
       "    <tr>\n",
       "      <th>F</th>\n",
       "      <td>5</td>\n",
       "      <td>3</td>\n",
       "    </tr>\n",
       "    <tr>\n",
       "      <th>G</th>\n",
       "      <td>20</td>\n",
       "      <td>11</td>\n",
       "    </tr>\n",
       "    <tr>\n",
       "      <th>H</th>\n",
       "      <td>8</td>\n",
       "      <td>1</td>\n",
       "    </tr>\n",
       "    <tr>\n",
       "      <th>I</th>\n",
       "      <td>30</td>\n",
       "      <td>10</td>\n",
       "    </tr>\n",
       "  </tbody>\n",
       "</table>\n",
       "</div>"
      ],
      "text/plain": [
       "tempesta           0   1\n",
       "settore.di.pesca        \n",
       "A                 24  13\n",
       "B                 28  24\n",
       "C                 19  14\n",
       "D                  3   2\n",
       "E                 24  16\n",
       "F                  5   3\n",
       "G                 20  11\n",
       "H                  8   1\n",
       "I                 30  10"
      ]
     },
     "execution_count": 29,
     "metadata": {},
     "output_type": "execute_result"
    }
   ],
   "source": [
    "#2.7 Produrre la tabella delle frequenze congiunte tra settore.di.pesca e tempesta\n",
    "settore_tempesta = pd.crosstab(index=pesca['settore.di.pesca'],\n",
    "                              columns = pesca['tempesta'])\n",
    "settore_tempesta"
   ]
  },
  {
   "cell_type": "code",
   "execution_count": 32,
   "id": "85c3dfee",
   "metadata": {},
   "outputs": [
    {
     "data": {
      "text/plain": [
       "13"
      ]
     },
     "execution_count": 32,
     "metadata": {},
     "output_type": "execute_result"
    }
   ],
   "source": [
    "'''\n",
    "2.8 Utilizzare la tabella delle frequenze congiunte per stabilire, relativamente al\n",
    "settore di pesca \"A\", quanti sono stati i giorni di tempesta e quanti quelli\n",
    "senza tempesta.\n",
    "'''\n",
    "settore_tempesta.loc['A', 1]"
   ]
  },
  {
   "cell_type": "code",
   "execution_count": 33,
   "id": "f75f235d",
   "metadata": {},
   "outputs": [
    {
     "data": {
      "text/plain": [
       "'\\nSupponiamo, d’ora in poi, che sia verificata la condizione (realistica forse\\nsoltanto per alcune zone del pianeta) che le condizioni atmosferiche di un\\ndato giorno siano indipendenti dalle condizioni atmosferiche di un altro\\ngiorno.\\n'"
      ]
     },
     "execution_count": 33,
     "metadata": {},
     "output_type": "execute_result"
    }
   ],
   "source": [
    "'''\n",
    "Supponiamo, d’ora in poi, che sia verificata la condizione (realistica forse\n",
    "soltanto per alcune zone del pianeta) che le condizioni atmosferiche di un\n",
    "dato giorno siano indipendenti dalle condizioni atmosferiche di un altro\n",
    "giorno.\n",
    "'''"
   ]
  },
  {
   "cell_type": "code",
   "execution_count": 45,
   "id": "3bbaacf1",
   "metadata": {},
   "outputs": [
    {
     "data": {
      "text/plain": [
       "0.3686274509803922"
      ]
     },
     "execution_count": 45,
     "metadata": {},
     "output_type": "execute_result"
    }
   ],
   "source": [
    "#2.9 Sulla base dei dati a disposizione stimare la probabilità pT che oggi ci sia tempesta\n",
    "pT = pesca['tempesta'].mean()\n",
    "pT"
   ]
  },
  {
   "cell_type": "code",
   "execution_count": 36,
   "id": "362df4ac",
   "metadata": {},
   "outputs": [
    {
     "data": {
      "text/plain": [
       "255"
      ]
     },
     "execution_count": 36,
     "metadata": {},
     "output_type": "execute_result"
    }
   ],
   "source": [
    "#2.10 Qual è la taglia del campione che avete utilizzato nella stima di pT ?\n",
    "len(pesca)"
   ]
  },
  {
   "cell_type": "code",
   "execution_count": 47,
   "id": "6075d857",
   "metadata": {},
   "outputs": [
    {
     "data": {
      "text/plain": [
       "0.35135135135135137"
      ]
     },
     "execution_count": 47,
     "metadata": {},
     "output_type": "execute_result"
    }
   ],
   "source": [
    "#2.11 Stimare la probabilità pTA che ci sia tempesta nel settore \"A\".\n",
    "sA = pesca[pesca['settore.di.pesca'] == 'A']\n",
    "pTA = sA['tempesta'].mean()\n",
    "pTA"
   ]
  },
  {
   "cell_type": "code",
   "execution_count": 48,
   "id": "3558fe36",
   "metadata": {},
   "outputs": [
    {
     "data": {
      "text/plain": [
       "0.9531339850488787"
      ]
     },
     "execution_count": 48,
     "metadata": {},
     "output_type": "execute_result"
    }
   ],
   "source": [
    "'''\n",
    "2.12 Un pescatore dice che ieri ha incontrato condizioni di tempesta. Qual è la\n",
    "probabilità che abbia lavorato nel settore di pesca \"A\"?\n",
    "'''\n",
    "sA['tempesta'].mean()/pesca['tempesta'].mean()"
   ]
  },
  {
   "cell_type": "code",
   "execution_count": 49,
   "id": "d53b9c38",
   "metadata": {},
   "outputs": [
    {
     "data": {
      "text/plain": [
       "37"
      ]
     },
     "execution_count": 49,
     "metadata": {},
     "output_type": "execute_result"
    }
   ],
   "source": [
    "'''\n",
    "2.13 Qual è la taglia nA del campione che avete utilizzato al punto 11. per la\n",
    "stima della probabilità che ci sia tempesta nel settore \"A\"?\n",
    "'''\n",
    "len(sA)"
   ]
  },
  {
   "cell_type": "code",
   "execution_count": 51,
   "id": "81c8f6b1",
   "metadata": {},
   "outputs": [
    {
     "data": {
      "text/plain": [
       "0.36693450206963685"
      ]
     },
     "execution_count": 51,
     "metadata": {},
     "output_type": "execute_result"
    }
   ],
   "source": [
    "'''\n",
    "2.14 Si determini un limite inferiore per la probabilità di aver compiuto, nella\n",
    "stima di pTA, un errore, in eccesso o in difetto, minore o uguale di 0.1.\n",
    "'''\n",
    "1 - (sA['tempesta'].var())/(37*(0.1)**2)"
   ]
  },
  {
   "cell_type": "code",
   "execution_count": 52,
   "id": "293ad1f2",
   "metadata": {},
   "outputs": [],
   "source": [
    "#ESERCIZIO 3"
   ]
  },
  {
   "cell_type": "code",
   "execution_count": 54,
   "id": "0817b2c5",
   "metadata": {},
   "outputs": [
    {
     "name": "stdout",
     "output_type": "stream",
     "text": [
      "peso pescato è continuo\n"
     ]
    }
   ],
   "source": [
    "#3.1 Il carattere peso.pescato è discreto o continuo?\n",
    "pesca['peso.pescato']\n",
    "print('peso pescato è continuo')"
   ]
  },
  {
   "cell_type": "code",
   "execution_count": 56,
   "id": "df72e397",
   "metadata": {},
   "outputs": [
    {
     "name": "stdout",
     "output_type": "stream",
     "text": [
      "essendo peso.pescato continuo, il grafico adatto per la sua distribuzione è l'istogramma\n"
     ]
    },
    {
     "data": {
      "image/png": "[encoded data removed]",
      "text/plain": [
       "<Figure size 640x480 with 1 Axes>"
      ]
     },
     "metadata": {},
     "output_type": "display_data"
    }
   ],
   "source": [
    "#3.2 Si tracci il grafico che meglio rappresenta la distribuione del peso.pescato.\n",
    "print(\"essendo peso.pescato continuo, il grafico adatto per la sua distribuzione è l'istogramma\")\n",
    "pesca['peso.pescato'].hist()\n",
    "plt.show()"
   ]
  },
  {
   "cell_type": "code",
   "execution_count": 60,
   "id": "744b1523",
   "metadata": {},
   "outputs": [
    {
     "data": {
      "text/plain": [
       "37.64705882352941"
      ]
     },
     "execution_count": 60,
     "metadata": {},
     "output_type": "execute_result"
    }
   ],
   "source": [
    "'''\n",
    "3.3 Calcolare la percentuale di giorni in cui al mercato è arrivata una quantità\n",
    "di pescato compresa tra i 10 e i 15 quintali.\n",
    "'''\n",
    "pesca_10 = pesca[pesca['peso.pescato'] > 10]\n",
    "pesca_15 = pesca_10[pesca_10['peso.pescato'] < 15]\n",
    "(len(pesca_15)/len(pesca))*100"
   ]
  },
  {
   "cell_type": "code",
   "execution_count": 63,
   "id": "bf037c72",
   "metadata": {},
   "outputs": [
    {
     "name": "stdout",
     "output_type": "stream",
     "text": [
      "i parametri di una normale sono valore atteso e dev. standard, per cui\n",
      " 10.788632531936003 16.09024449815005\n"
     ]
    }
   ],
   "source": [
    "'''\n",
    "3.4 Determinare i parametri della variabile casuale normale che potrebbe descrivere\n",
    "il peso.pescato.\n",
    "'''\n",
    "\n",
    "mu = pesca['peso.pescato'].mean()\n",
    "sigma = pesca['peso.pescato'].var()\n",
    "\n",
    "print('i parametri di una normale sono valore atteso e dev. standard, per cui\\n', mu, sigma)"
   ]
  },
  {
   "cell_type": "code",
   "execution_count": 70,
   "id": "1e4c9012",
   "metadata": {},
   "outputs": [
    {
     "data": {
      "text/plain": [
       "0.4310460131061047"
      ]
     },
     "execution_count": 70,
     "metadata": {},
     "output_type": "execute_result"
    }
   ],
   "source": [
    "'''\n",
    "3.5 Secondo il modello identificato al punto precedente, calcolare la probabilità\n",
    "che al mercato arrivi giornalmente una quantità di pescato compresa tra i\n",
    "10 e i 15 quintali.\n",
    "'''\n",
    "Z = st.norm(mu, math.sqrt(sigma))\n",
    "Z.cdf(15) - Z.cdf(10)"
   ]
  },
  {
   "cell_type": "code",
   "execution_count": 71,
   "id": "3a963f24",
   "metadata": {},
   "outputs": [
    {
     "name": "stdout",
     "output_type": "stream",
     "text": [
      "si perchè quella del punto 3.5 è una approssimazione\n"
     ]
    }
   ],
   "source": [
    "'''\n",
    "3.6 Si possono confrontare le risposte dei punti 3. e 5.?\n",
    "'''\n",
    "print('si perchè quella del punto 3.5 è una approssimazione')"
   ]
  },
  {
   "cell_type": "code",
   "execution_count": 80,
   "id": "e2ebe936",
   "metadata": {},
   "outputs": [
    {
     "data": {
      "image/png": "[encoded data removed]",
      "text/plain": [
       "<Figure size 640x480 with 1 Axes>"
      ]
     },
     "metadata": {},
     "output_type": "display_data"
    },
    {
     "name": "stdout",
     "output_type": "stream",
     "text": [
      "lo scatter plot evidenza una relazione di tipo diretto tra i due attributi\n",
      "0.8412359096077456 l indice di correlazione campionaria\n",
      "vicino ad 1 conferma tale ipotesi\n"
     ]
    }
   ],
   "source": [
    "'''\n",
    "3.8 Prendiamo in considerazione i caratteri forza.del.mare e tempesta. Tracciare\n",
    "un grafico opportuno per poter individuare l’esistenza di una relazione tra\n",
    "i due caratteri.\n",
    "'''\n",
    "pesca.plot.scatter('forza.del.mare','tempesta')\n",
    "plt.show()\n",
    "print('lo scatter plot evidenza una relazione di tipo diretto tra i due attributi')\n",
    "print(pesca['forza.del.mare'].corr(pesca['tempesta']), 'l indice di correlazione campionaria\\nvicino ad 1 conferma tale ipotesi')"
   ]
  },
  {
   "cell_type": "code",
   "execution_count": 87,
   "id": "00c596f1",
   "metadata": {},
   "outputs": [
    {
     "data": {
      "text/plain": [
       "0.37180473880354103"
      ]
     },
     "execution_count": 87,
     "metadata": {},
     "output_type": "execute_result"
    }
   ],
   "source": [
    "'''\n",
    "3.11 In alcuni giorni non sono stati registrati valori per il carattere peso.pescato.\n",
    "Create una nuova variabile, chiamata dati_senza_NA, in cui memorizzare\n",
    "tutti i casi del dataset eccetto quelli che hanno il peso.pescato mancante e\n",
    "calcolate, a partire da questo nuovo dataset, il coefficiente di variazione del\n",
    "peso.pescato.\n",
    "'''\n",
    "dati_senza_NA = pesca.dropna()\n",
    "dati_senza_NA['peso.pescato'].std()/ dati_senza_NA['peso.pescato'].mean()"
   ]
  },
  {
   "cell_type": "code",
   "execution_count": null,
   "id": "767dff3e",
   "metadata": {},
   "outputs": [],
   "source": []
  }
 ],
 "metadata": {
  "kernelspec": {
   "display_name": "Python 3 (ipykernel)",
   "language": "python",
   "name": "python3"
  },
  "language_info": {
   "codemirror_mode": {
    "name": "ipython",
    "version": 3
   },
   "file_extension": ".py",
   "mimetype": "text/x-python",
   "name": "python",
   "nbconvert_exporter": "python",
   "pygments_lexer": "ipython3",
   "version": "3.9.13"
  }
 },
 "nbformat": 4,
 "nbformat_minor": 5
}
