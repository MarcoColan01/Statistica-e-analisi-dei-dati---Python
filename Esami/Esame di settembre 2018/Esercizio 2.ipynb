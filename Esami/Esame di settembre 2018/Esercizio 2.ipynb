{
 "cells": [
  {
   "cell_type": "code",
   "execution_count": 10,
   "id": "7596cee1",
   "metadata": {},
   "outputs": [],
   "source": [
    "import numpy as np \n",
    "import pandas as pd \n",
    "import scipy.stats as st\n",
    "import matplotlib.pyplot as plt \n",
    "from scipy.constants import golden \n",
    "\n",
    "plt.style.use('fivethirtyeight')\n",
    "plt.rc('figure', figsize = (5.0, 5.0/golden)) \n",
    "\n",
    "fin = pd.read_csv('finanziamenti.csv', delimiter = ';', decimal=\",\")"
   ]
  },
  {
   "cell_type": "code",
   "execution_count": 9,
   "id": "9adb13ee",
   "metadata": {},
   "outputs": [
    {
     "data": {
      "text/plain": [
       "1134"
      ]
     },
     "execution_count": 9,
     "metadata": {},
     "output_type": "execute_result"
    }
   ],
   "source": [
    "#2.1 Quanti sono i progetti che non hanno ancora sostenuto spese ?\n",
    "len(fin) - len(fin.dropna(subset = ['TotSpese']))"
   ]
  },
  {
   "cell_type": "code",
   "execution_count": 12,
   "id": "bc1a3972",
   "metadata": {},
   "outputs": [
    {
     "data": {
      "text/plain": [
       "(0.0005678277621445123, 6765.183171365392)"
      ]
     },
     "execution_count": 12,
     "metadata": {},
     "output_type": "execute_result"
    }
   ],
   "source": [
    "#2.2 Stimare la probabilità che, a distanza di un anno, non si siano ancora ottenute spese\n",
    "Z=st.norm()\n",
    "dev=fin['TotSpese'].std()\n",
    "(Z.ppf(1.95/2)*(len(fin))**0.5)/dev,(Z.ppf(1.95/2)*dev)/len(fin)**0.5"
   ]
  },
  {
   "cell_type": "code",
   "execution_count": 13,
   "id": "21d7e858",
   "metadata": {},
   "outputs": [
    {
     "name": "stdout",
     "output_type": "stream",
     "text": [
      "legge normale\n"
     ]
    }
   ],
   "source": [
    "'''\n",
    "2.3 Consideriamo lo spazio campionario che codifica i valori possibili per TotSpese. Tenendo conto che una\n",
    "variabile aleatoria è una funzione, definite opportunamente X in modo da legarla all'evento \"a un anno dalla\n",
    "assegnazione del finanziamento non si hanno ancora sostenuto spese.\"\n",
    "'''\n",
    "\n",
    "#2.4 Che legge segue X ?\n",
    "print('legge normale')"
   ]
  },
  {
   "cell_type": "code",
   "execution_count": 14,
   "id": "b03769b0",
   "metadata": {},
   "outputs": [
    {
     "data": {
      "text/plain": [
       "111540.26428966066"
      ]
     },
     "execution_count": 14,
     "metadata": {},
     "output_type": "execute_result"
    }
   ],
   "source": [
    "#2.5 Stima del parametro di tale legge\n",
    "fin['TotSpese'].mean()"
   ]
  },
  {
   "cell_type": "code",
   "execution_count": 15,
   "id": "2cd266e2",
   "metadata": {},
   "outputs": [
    {
     "ename": "AttributeError",
     "evalue": "module 'scipy.stats' has no attribute 'ppf'",
     "output_type": "error",
     "traceback": [
      "\u001b[1;31m---------------------------------------------------------------------------\u001b[0m",
      "\u001b[1;31mAttributeError\u001b[0m                            Traceback (most recent call last)",
      "\u001b[1;32m~\\AppData\\Local\\Temp\\ipykernel_6624\\3315962134.py\u001b[0m in \u001b[0;36m<module>\u001b[1;34m\u001b[0m\n\u001b[0;32m      2\u001b[0m \u001b[0mn\u001b[0m \u001b[1;33m=\u001b[0m \u001b[0mlen\u001b[0m\u001b[1;33m(\u001b[0m\u001b[0mfin\u001b[0m\u001b[1;33m)\u001b[0m\u001b[1;33m\u001b[0m\u001b[1;33m\u001b[0m\u001b[0m\n\u001b[0;32m      3\u001b[0m \u001b[0mX\u001b[0m \u001b[1;33m=\u001b[0m \u001b[0mst\u001b[0m\u001b[1;33m.\u001b[0m\u001b[0mnorm\u001b[0m\u001b[1;33m(\u001b[0m\u001b[1;33m)\u001b[0m\u001b[1;33m\u001b[0m\u001b[1;33m\u001b[0m\u001b[0m\n\u001b[1;32m----> 4\u001b[1;33m \u001b[0mphi\u001b[0m \u001b[1;33m=\u001b[0m \u001b[1;33m(\u001b[0m\u001b[0mst\u001b[0m\u001b[1;33m.\u001b[0m\u001b[0mppf\u001b[0m\u001b[1;33m(\u001b[0m\u001b[1;36m1.95\u001b[0m\u001b[1;33m/\u001b[0m\u001b[1;36m2\u001b[0m\u001b[1;33m)\u001b[0m\u001b[1;33m)\u001b[0m\u001b[1;33m\u001b[0m\u001b[1;33m\u001b[0m\u001b[0m\n\u001b[0m",
      "\u001b[1;31mAttributeError\u001b[0m: module 'scipy.stats' has no attribute 'ppf'"
     ]
    }
   ],
   "source": [
    "#2.6 Possiamo sbagliare nella stima con probabilità del 95 %. Qual'è il margine d'errore da tollerare ?\n",
    "n = len(fin)\n",
    "X = st.norm()\n",
    "phi = (st.ppf(1.95/2))"
   ]
  },
  {
   "cell_type": "code",
   "execution_count": null,
   "id": "fc915324",
   "metadata": {},
   "outputs": [],
   "source": []
  }
 ],
 "metadata": {
  "kernelspec": {
   "display_name": "Python 3 (ipykernel)",
   "language": "python",
   "name": "python3"
  },
  "language_info": {
   "codemirror_mode": {
    "name": "ipython",
    "version": 3
   },
   "file_extension": ".py",
   "mimetype": "text/x-python",
   "name": "python",
   "nbconvert_exporter": "python",
   "pygments_lexer": "ipython3",
   "version": "3.9.13"
  }
 },
 "nbformat": 4,
 "nbformat_minor": 5
}
