{
 "cells": [
  {
   "cell_type": "code",
   "execution_count": 1,
   "id": "eaf9e938",
   "metadata": {},
   "outputs": [],
   "source": [
    "import numpy as np \n",
    "import pandas as pd \n",
    "import matplotlib.pyplot as plt \n",
    "import scipy.stats as st\n",
    "import statsmodels.api as sm\n",
    "from scipy.constants import golden \n",
    "\n",
    "plt.style.use('fivethirtyeight')\n",
    "plt.rc('figure', figsize = (5.0, 5.0/golden)) \n",
    "\n",
    "parks = pd.read_csv('SF_Park_Scores.csv', sep = ',', decimal=\".\", parse_dates=True)\n",
    "#parks\n",
    "\n",
    "'''\n",
    "Ipotizziamo che la geografia della California sia fatta in modo tale che la differenza tra la Latitude di due punti\n",
    "nel suo territorio sia trascurabile. Ciò significa che è possibile esprimere approssimativamente la distanza tra\n",
    "due punti come la differenza tra i corrispondenti valori di Longitude. Chiamiamo distanza longitudinale relativa\n",
    "questa differenza (considereremo quindi, per semplicità, distanze con segni positivi e negativi) e misuriamo i\n",
    "suoi valori in gradi.\n",
    "'''"
   ]
  },
  {
   "cell_type": "code",
   "execution_count": null,
   "id": "f2a0439e",
   "metadata": {},
   "outputs": [],
   "source": [
    "'''\n",
    "2.1 Consideriamo i parchi di San Francisco come un campione casuale estratto dalla popolazione dei parchi\n",
    "delle grandi città della California. Indicate con A e B le variabili aleatorie che corrispondono alle longitudini\n",
    "di due parchi della California, calcolate la probabilità P(A􀀀B < 0:1) che la distanza longitudinale\n",
    "relativa tra i due parchi sia minore di 0.1 gradi (potete approssimare la varianza della longitudine con la\n",
    "stima trovata nell’Esercizio 2).\n",
    "'''"
   ]
  }
 ],
 "metadata": {
  "kernelspec": {
   "display_name": "Python 3 (ipykernel)",
   "language": "python",
   "name": "python3"
  },
  "language_info": {
   "codemirror_mode": {
    "name": "ipython",
    "version": 3
   },
   "file_extension": ".py",
   "mimetype": "text/x-python",
   "name": "python",
   "nbconvert_exporter": "python",
   "pygments_lexer": "ipython3",
   "version": "3.9.13"
  }
 },
 "nbformat": 4,
 "nbformat_minor": 5
}
