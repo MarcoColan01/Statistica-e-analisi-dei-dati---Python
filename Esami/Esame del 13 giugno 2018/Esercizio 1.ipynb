{
 "cells": [
  {
   "cell_type": "code",
   "execution_count": 15,
   "id": "066ab54e",
   "metadata": {},
   "outputs": [
    {
     "data": {
      "text/html": [
       "<div>\n",
       "<style scoped>\n",
       "    .dataframe tbody tr th:only-of-type {\n",
       "        vertical-align: middle;\n",
       "    }\n",
       "\n",
       "    .dataframe tbody tr th {\n",
       "        vertical-align: top;\n",
       "    }\n",
       "\n",
       "    .dataframe thead th {\n",
       "        text-align: right;\n",
       "    }\n",
       "</style>\n",
       "<table border=\"1\" class=\"dataframe\">\n",
       "  <thead>\n",
       "    <tr style=\"text-align: right;\">\n",
       "      <th></th>\n",
       "      <th>Cartella</th>\n",
       "      <th>IP</th>\n",
       "      <th>GravitaIP</th>\n",
       "      <th>EtaAnni</th>\n",
       "      <th>MORTE</th>\n",
       "      <th>MC</th>\n",
       "      <th>SURVIVALTIME</th>\n",
       "      <th>Terapia</th>\n",
       "      <th>Antiaritmico</th>\n",
       "      <th>PesoKg</th>\n",
       "      <th>VTricuspide</th>\n",
       "      <th>AsxAo</th>\n",
       "      <th>OndaE</th>\n",
       "      <th>OndaEA</th>\n",
       "      <th>FrazEspuls</th>\n",
       "      <th>FrazAccorc</th>\n",
       "      <th>EDVI</th>\n",
       "      <th>ESVI</th>\n",
       "      <th>Allodiast</th>\n",
       "      <th>Allosist</th>\n",
       "    </tr>\n",
       "  </thead>\n",
       "  <tbody>\n",
       "    <tr>\n",
       "      <th>0</th>\n",
       "      <td>S0601</td>\n",
       "      <td>NO</td>\n",
       "      <td>0</td>\n",
       "      <td>10.35</td>\n",
       "      <td>0</td>\n",
       "      <td>NaN</td>\n",
       "      <td>0</td>\n",
       "      <td>2</td>\n",
       "      <td>NO</td>\n",
       "      <td>5.25</td>\n",
       "      <td>0.00</td>\n",
       "      <td>2.50</td>\n",
       "      <td>1.15</td>\n",
       "      <td>0.97</td>\n",
       "      <td>70.0</td>\n",
       "      <td>37.0</td>\n",
       "      <td>78.69</td>\n",
       "      <td>23.75</td>\n",
       "      <td>1.58</td>\n",
       "      <td>0.99</td>\n",
       "    </tr>\n",
       "    <tr>\n",
       "      <th>1</th>\n",
       "      <td>C0621</td>\n",
       "      <td>NO</td>\n",
       "      <td>0</td>\n",
       "      <td>15.21</td>\n",
       "      <td>1</td>\n",
       "      <td>1.0</td>\n",
       "      <td>341</td>\n",
       "      <td>3</td>\n",
       "      <td>NO</td>\n",
       "      <td>6.00</td>\n",
       "      <td>0.00</td>\n",
       "      <td>1.61</td>\n",
       "      <td>1.50</td>\n",
       "      <td>1.47</td>\n",
       "      <td>83.0</td>\n",
       "      <td>51.0</td>\n",
       "      <td>130.58</td>\n",
       "      <td>23.88</td>\n",
       "      <td>1.94</td>\n",
       "      <td>0.99</td>\n",
       "    </tr>\n",
       "    <tr>\n",
       "      <th>2</th>\n",
       "      <td>B0918</td>\n",
       "      <td>NO</td>\n",
       "      <td>0</td>\n",
       "      <td>15.77</td>\n",
       "      <td>1</td>\n",
       "      <td>1.0</td>\n",
       "      <td>117</td>\n",
       "      <td>3</td>\n",
       "      <td>NO</td>\n",
       "      <td>3.20</td>\n",
       "      <td>0.00</td>\n",
       "      <td>2.50</td>\n",
       "      <td>1.87</td>\n",
       "      <td>2.08</td>\n",
       "      <td>91.0</td>\n",
       "      <td>62.0</td>\n",
       "      <td>180.35</td>\n",
       "      <td>16.22</td>\n",
       "      <td>2.21</td>\n",
       "      <td>0.84</td>\n",
       "    </tr>\n",
       "    <tr>\n",
       "      <th>3</th>\n",
       "      <td>R1009</td>\n",
       "      <td>NO</td>\n",
       "      <td>0</td>\n",
       "      <td>13.54</td>\n",
       "      <td>1</td>\n",
       "      <td>1.0</td>\n",
       "      <td>93</td>\n",
       "      <td>4</td>\n",
       "      <td>SI</td>\n",
       "      <td>26.50</td>\n",
       "      <td>0.00</td>\n",
       "      <td>3.07</td>\n",
       "      <td>2.28</td>\n",
       "      <td>2.85</td>\n",
       "      <td>75.0</td>\n",
       "      <td>44.0</td>\n",
       "      <td>234.17</td>\n",
       "      <td>40.15</td>\n",
       "      <td>2.09</td>\n",
       "      <td>1.16</td>\n",
       "    </tr>\n",
       "    <tr>\n",
       "      <th>4</th>\n",
       "      <td>R1513</td>\n",
       "      <td>NO</td>\n",
       "      <td>0</td>\n",
       "      <td>10.72</td>\n",
       "      <td>0</td>\n",
       "      <td>NaN</td>\n",
       "      <td>666</td>\n",
       "      <td>3</td>\n",
       "      <td>NO</td>\n",
       "      <td>11.00</td>\n",
       "      <td>0.00</td>\n",
       "      <td>2.54</td>\n",
       "      <td>0.75</td>\n",
       "      <td>0.86</td>\n",
       "      <td>69.0</td>\n",
       "      <td>38.0</td>\n",
       "      <td>139.84</td>\n",
       "      <td>43.89</td>\n",
       "      <td>1.98</td>\n",
       "      <td>1.23</td>\n",
       "    </tr>\n",
       "    <tr>\n",
       "      <th>...</th>\n",
       "      <td>...</td>\n",
       "      <td>...</td>\n",
       "      <td>...</td>\n",
       "      <td>...</td>\n",
       "      <td>...</td>\n",
       "      <td>...</td>\n",
       "      <td>...</td>\n",
       "      <td>...</td>\n",
       "      <td>...</td>\n",
       "      <td>...</td>\n",
       "      <td>...</td>\n",
       "      <td>...</td>\n",
       "      <td>...</td>\n",
       "      <td>...</td>\n",
       "      <td>...</td>\n",
       "      <td>...</td>\n",
       "      <td>...</td>\n",
       "      <td>...</td>\n",
       "      <td>...</td>\n",
       "      <td>...</td>\n",
       "    </tr>\n",
       "    <tr>\n",
       "      <th>156</th>\n",
       "      <td>G1006</td>\n",
       "      <td>SI</td>\n",
       "      <td>3</td>\n",
       "      <td>11.35</td>\n",
       "      <td>1</td>\n",
       "      <td>1.0</td>\n",
       "      <td>46</td>\n",
       "      <td>4</td>\n",
       "      <td>NO</td>\n",
       "      <td>8.80</td>\n",
       "      <td>4.51</td>\n",
       "      <td>2.77</td>\n",
       "      <td>1.74</td>\n",
       "      <td>NaN</td>\n",
       "      <td>78.0</td>\n",
       "      <td>46.0</td>\n",
       "      <td>260.51</td>\n",
       "      <td>41.33</td>\n",
       "      <td>2.23</td>\n",
       "      <td>1.21</td>\n",
       "    </tr>\n",
       "    <tr>\n",
       "      <th>157</th>\n",
       "      <td>A1403</td>\n",
       "      <td>SI</td>\n",
       "      <td>3</td>\n",
       "      <td>13.39</td>\n",
       "      <td>1</td>\n",
       "      <td>1.0</td>\n",
       "      <td>275</td>\n",
       "      <td>4</td>\n",
       "      <td>NO</td>\n",
       "      <td>8.00</td>\n",
       "      <td>4.54</td>\n",
       "      <td>2.49</td>\n",
       "      <td>NaN</td>\n",
       "      <td>NaN</td>\n",
       "      <td>74.0</td>\n",
       "      <td>41.0</td>\n",
       "      <td>104.55</td>\n",
       "      <td>29.51</td>\n",
       "      <td>1.76</td>\n",
       "      <td>1.03</td>\n",
       "    </tr>\n",
       "    <tr>\n",
       "      <th>158</th>\n",
       "      <td>Z1003</td>\n",
       "      <td>SI</td>\n",
       "      <td>3</td>\n",
       "      <td>12.40</td>\n",
       "      <td>1</td>\n",
       "      <td>1.0</td>\n",
       "      <td>43</td>\n",
       "      <td>3</td>\n",
       "      <td>NO</td>\n",
       "      <td>14.00</td>\n",
       "      <td>4.60</td>\n",
       "      <td>2.52</td>\n",
       "      <td>NaN</td>\n",
       "      <td>NaN</td>\n",
       "      <td>77.0</td>\n",
       "      <td>46.0</td>\n",
       "      <td>371.13</td>\n",
       "      <td>57.22</td>\n",
       "      <td>2.54</td>\n",
       "      <td>1.36</td>\n",
       "    </tr>\n",
       "    <tr>\n",
       "      <th>159</th>\n",
       "      <td>B1135</td>\n",
       "      <td>SI</td>\n",
       "      <td>3</td>\n",
       "      <td>14.19</td>\n",
       "      <td>1</td>\n",
       "      <td>1.0</td>\n",
       "      <td>269</td>\n",
       "      <td>4</td>\n",
       "      <td>NO</td>\n",
       "      <td>2.50</td>\n",
       "      <td>5.09</td>\n",
       "      <td>3.10</td>\n",
       "      <td>1.51</td>\n",
       "      <td>2.56</td>\n",
       "      <td>79.0</td>\n",
       "      <td>47.0</td>\n",
       "      <td>180.58</td>\n",
       "      <td>38.38</td>\n",
       "      <td>2.21</td>\n",
       "      <td>1.16</td>\n",
       "    </tr>\n",
       "    <tr>\n",
       "      <th>160</th>\n",
       "      <td>G0601</td>\n",
       "      <td>SI</td>\n",
       "      <td>3</td>\n",
       "      <td>14.06</td>\n",
       "      <td>1</td>\n",
       "      <td>1.0</td>\n",
       "      <td>659</td>\n",
       "      <td>2</td>\n",
       "      <td>NO</td>\n",
       "      <td>5.00</td>\n",
       "      <td>5.17</td>\n",
       "      <td>2.31</td>\n",
       "      <td>1.06</td>\n",
       "      <td>2.26</td>\n",
       "      <td>82.0</td>\n",
       "      <td>50.0</td>\n",
       "      <td>249.98</td>\n",
       "      <td>45.64</td>\n",
       "      <td>2.55</td>\n",
       "      <td>1.28</td>\n",
       "    </tr>\n",
       "  </tbody>\n",
       "</table>\n",
       "<p>161 rows × 20 columns</p>\n",
       "</div>"
      ],
      "text/plain": [
       "    Cartella  IP  GravitaIP  EtaAnni  MORTE   MC  SURVIVALTIME  Terapia  \\\n",
       "0      S0601  NO          0    10.35      0  NaN             0        2   \n",
       "1      C0621  NO          0    15.21      1  1.0           341        3   \n",
       "2      B0918  NO          0    15.77      1  1.0           117        3   \n",
       "3      R1009  NO          0    13.54      1  1.0            93        4   \n",
       "4      R1513  NO          0    10.72      0  NaN           666        3   \n",
       "..       ...  ..        ...      ...    ...  ...           ...      ...   \n",
       "156    G1006  SI          3    11.35      1  1.0            46        4   \n",
       "157    A1403  SI          3    13.39      1  1.0           275        4   \n",
       "158    Z1003  SI          3    12.40      1  1.0            43        3   \n",
       "159    B1135  SI          3    14.19      1  1.0           269        4   \n",
       "160    G0601  SI          3    14.06      1  1.0           659        2   \n",
       "\n",
       "    Antiaritmico  PesoKg  VTricuspide  AsxAo  OndaE  OndaEA  FrazEspuls  \\\n",
       "0             NO    5.25         0.00   2.50   1.15    0.97        70.0   \n",
       "1             NO    6.00         0.00   1.61   1.50    1.47        83.0   \n",
       "2             NO    3.20         0.00   2.50   1.87    2.08        91.0   \n",
       "3             SI   26.50         0.00   3.07   2.28    2.85        75.0   \n",
       "4             NO   11.00         0.00   2.54   0.75    0.86        69.0   \n",
       "..           ...     ...          ...    ...    ...     ...         ...   \n",
       "156           NO    8.80         4.51   2.77   1.74     NaN        78.0   \n",
       "157           NO    8.00         4.54   2.49    NaN     NaN        74.0   \n",
       "158           NO   14.00         4.60   2.52    NaN     NaN        77.0   \n",
       "159           NO    2.50         5.09   3.10   1.51    2.56        79.0   \n",
       "160           NO    5.00         5.17   2.31   1.06    2.26        82.0   \n",
       "\n",
       "     FrazAccorc    EDVI   ESVI  Allodiast  Allosist  \n",
       "0          37.0   78.69  23.75       1.58      0.99  \n",
       "1          51.0  130.58  23.88       1.94      0.99  \n",
       "2          62.0  180.35  16.22       2.21      0.84  \n",
       "3          44.0  234.17  40.15       2.09      1.16  \n",
       "4          38.0  139.84  43.89       1.98      1.23  \n",
       "..          ...     ...    ...        ...       ...  \n",
       "156        46.0  260.51  41.33       2.23      1.21  \n",
       "157        41.0  104.55  29.51       1.76      1.03  \n",
       "158        46.0  371.13  57.22       2.54      1.36  \n",
       "159        47.0  180.58  38.38       2.21      1.16  \n",
       "160        50.0  249.98  45.64       2.55      1.28  \n",
       "\n",
       "[161 rows x 20 columns]"
      ]
     },
     "execution_count": 15,
     "metadata": {},
     "output_type": "execute_result"
    }
   ],
   "source": [
    "import numpy as np \n",
    "import pandas as pd \n",
    "import matplotlib.pyplot as plt \n",
    "from scipy.constants import golden \n",
    "\n",
    "plt.style.use('fivethirtyeight')\n",
    "plt.rc('figure', figsize = (5.0, 5.0/golden)) \n",
    "\n",
    "cani = pd.read_csv('cani.csv', sep = ';', decimal=\",\", parse_dates=True)\n",
    "cani"
   ]
  },
  {
   "cell_type": "code",
   "execution_count": 2,
   "id": "03f9eaf5",
   "metadata": {},
   "outputs": [
    {
     "data": {
      "text/plain": [
       "161"
      ]
     },
     "execution_count": 2,
     "metadata": {},
     "output_type": "execute_result"
    }
   ],
   "source": [
    "#1.1 Quanti sono i cani seguiti dall'ambulatorio ?\n",
    "len(cani)"
   ]
  },
  {
   "cell_type": "code",
   "execution_count": 5,
   "id": "8317b60c",
   "metadata": {},
   "outputs": [
    {
     "data": {
      "text/plain": [
       "58"
      ]
     },
     "execution_count": 5,
     "metadata": {},
     "output_type": "execute_result"
    }
   ],
   "source": [
    "#1.2 Quanti cani soffrono di ipertensione ?\n",
    "len(cani[cani['IP'] == 'SI'])"
   ]
  },
  {
   "cell_type": "code",
   "execution_count": 6,
   "id": "918304c7",
   "metadata": {},
   "outputs": [],
   "source": [
    "#1.3 Consideriamo ora l'età dei pazienti"
   ]
  },
  {
   "cell_type": "code",
   "execution_count": 16,
   "id": "ca58567d",
   "metadata": {},
   "outputs": [
    {
     "data": {
      "image/png": "[encoded data removed]",
      "text/plain": [
       "<Figure size 500x309.017 with 1 Axes>"
      ]
     },
     "metadata": {},
     "output_type": "display_data"
    }
   ],
   "source": [
    "'''\n",
    "1.3.1 Tracciate un'istogramma dell'età dei cani, fissando a un anno l'ampiezza delle classi e \n",
    "considerando gli intervalli chiusi a sinistra e aperti a destra.\n",
    "'''\n",
    "età = cani['EtaAnni']\n",
    "bins = np.arange(0,età.max(),1)\n",
    "età.hist(bins = np.hstack(bins))\n",
    "plt.show()"
   ]
  },
  {
   "cell_type": "code",
   "execution_count": 17,
   "id": "6ef05bcc",
   "metadata": {},
   "outputs": [
    {
     "data": {
      "text/plain": [
       "32"
      ]
     },
     "execution_count": 17,
     "metadata": {},
     "output_type": "execute_result"
    }
   ],
   "source": [
    "#1.3.3 Quanti cani hanno età compresa tra 12 (inclusa) e 13 anni (esclusa) ?\n",
    "len(cani[(cani['EtaAnni'] >= 12) & (cani['EtaAnni'] <13)])"
   ]
  },
  {
   "cell_type": "code",
   "execution_count": 18,
   "id": "d1f7dff0",
   "metadata": {},
   "outputs": [
    {
     "data": {
      "text/plain": [
       "16.84"
      ]
     },
     "execution_count": 18,
     "metadata": {},
     "output_type": "execute_result"
    }
   ],
   "source": [
    "#1.3.4 Quanti hanni ha il cane più anziano ?\n",
    "cani.EtaAnni.max()"
   ]
  },
  {
   "cell_type": "code",
   "execution_count": 19,
   "id": "a4d75dc1",
   "metadata": {},
   "outputs": [
    {
     "data": {
      "text/plain": [
       "0    14.25\n",
       "1    14.73\n",
       "Name: EtaAnni, dtype: float64"
      ]
     },
     "execution_count": 19,
     "metadata": {},
     "output_type": "execute_result"
    }
   ],
   "source": [
    "#1.3.5 Qual'è l'età maggiormente rappresentata ?\n",
    "cani.EtaAnni.mode()"
   ]
  },
  {
   "cell_type": "code",
   "execution_count": 20,
   "id": "f608e4c7",
   "metadata": {},
   "outputs": [],
   "source": [
    "#1.4 Consideriamo le variabili MORTE e MC"
   ]
  },
  {
   "cell_type": "code",
   "execution_count": 21,
   "id": "c4ed9f44",
   "metadata": {},
   "outputs": [
    {
     "data": {
      "text/plain": [
       "87"
      ]
     },
     "execution_count": 21,
     "metadata": {},
     "output_type": "execute_result"
    }
   ],
   "source": [
    "#1.4.1 Quanti cani sono deceduti ?\n",
    "len(cani[cani['MC'] == 1])"
   ]
  },
  {
   "cell_type": "code",
   "execution_count": 25,
   "id": "62a59ce3",
   "metadata": {},
   "outputs": [
    {
     "name": "stdout",
     "output_type": "stream",
     "text": [
      "No, non sempre tale info è stata inserita.\n"
     ]
    },
    {
     "data": {
      "text/plain": [
       "46"
      ]
     },
     "execution_count": 25,
     "metadata": {},
     "output_type": "execute_result"
    }
   ],
   "source": [
    "'''\n",
    "1.4.2 Nell'inserire le info riguardo un cane deceduto, l'ispettore ha sempre specificato se la\n",
    "morte è avvenuta per cause cardiache o altre cause. Se no, in quanti casi l'operatore ha omesso\n",
    "tale info ?\n",
    "'''\n",
    "print('No, non sempre tale info è stata inserita.')\n",
    "len(cani['MC']) - len(cani['MC'].dropna())"
   ]
  },
  {
   "cell_type": "code",
   "execution_count": 29,
   "id": "d68e6016",
   "metadata": {},
   "outputs": [
    {
     "data": {
      "text/plain": [
       "0"
      ]
     },
     "execution_count": 29,
     "metadata": {},
     "output_type": "execute_result"
    }
   ],
   "source": [
    "#1.4.3 Controllare che non vi siano casi di cane ancora vivo ma segnato come morto cardiaco.\n",
    "len(cani[(cani['MORTE'] == 0) & cani['MC'] == 1])"
   ]
  },
  {
   "cell_type": "code",
   "execution_count": 30,
   "id": "e800a1e9",
   "metadata": {},
   "outputs": [
    {
     "data": {
      "text/plain": [
       "87"
      ]
     },
     "execution_count": 30,
     "metadata": {},
     "output_type": "execute_result"
    }
   ],
   "source": [
    "#1.4.4 Quanti cani sono morti per cause cardiache ?\n",
    "len(cani[(cani['MORTE'] == 1) & cani['MC'] == 1])"
   ]
  },
  {
   "cell_type": "code",
   "execution_count": 31,
   "id": "2b382c8b",
   "metadata": {},
   "outputs": [
    {
     "data": {
      "text/plain": [
       "73.72881355932203"
      ]
     },
     "execution_count": 31,
     "metadata": {},
     "output_type": "execute_result"
    }
   ],
   "source": [
    "#1.4.5 Tra le morti, che percentuale è stata per cause cardiache ?\n",
    "(len(cani[(cani['MORTE'] == 1) & cani['MC'] == 1]) / len(cani[cani['MORTE'] == 1]))*100"
   ]
  },
  {
   "cell_type": "code",
   "execution_count": 32,
   "id": "93bc1bba",
   "metadata": {},
   "outputs": [],
   "source": [
    "#1.5 Consideriamo ora GravitaIP"
   ]
  },
  {
   "cell_type": "code",
   "execution_count": 34,
   "id": "3c0c5ded",
   "metadata": {},
   "outputs": [
    {
     "data": {
      "text/plain": [
       "array([0, 1, 2, 3], dtype=int64)"
      ]
     },
     "execution_count": 34,
     "metadata": {},
     "output_type": "execute_result"
    }
   ],
   "source": [
    "#1.5.2 Quali valori può assumere ?\n",
    "cani.GravitaIP.unique()"
   ]
  },
  {
   "cell_type": "code",
   "execution_count": 35,
   "id": "ad5b44ad",
   "metadata": {},
   "outputs": [
    {
     "data": {
      "text/html": [
       "<div>\n",
       "<style scoped>\n",
       "    .dataframe tbody tr th:only-of-type {\n",
       "        vertical-align: middle;\n",
       "    }\n",
       "\n",
       "    .dataframe tbody tr th {\n",
       "        vertical-align: top;\n",
       "    }\n",
       "\n",
       "    .dataframe thead th {\n",
       "        text-align: right;\n",
       "    }\n",
       "</style>\n",
       "<table border=\"1\" class=\"dataframe\">\n",
       "  <thead>\n",
       "    <tr style=\"text-align: right;\">\n",
       "      <th></th>\n",
       "      <th>Frequenze relative</th>\n",
       "    </tr>\n",
       "    <tr>\n",
       "      <th>GravitaIP</th>\n",
       "      <th></th>\n",
       "    </tr>\n",
       "  </thead>\n",
       "  <tbody>\n",
       "    <tr>\n",
       "      <th>0</th>\n",
       "      <td>0.639752</td>\n",
       "    </tr>\n",
       "    <tr>\n",
       "      <th>1</th>\n",
       "      <td>0.180124</td>\n",
       "    </tr>\n",
       "    <tr>\n",
       "      <th>2</th>\n",
       "      <td>0.111801</td>\n",
       "    </tr>\n",
       "    <tr>\n",
       "      <th>3</th>\n",
       "      <td>0.068323</td>\n",
       "    </tr>\n",
       "  </tbody>\n",
       "</table>\n",
       "</div>"
      ],
      "text/plain": [
       "           Frequenze relative\n",
       "GravitaIP                    \n",
       "0                    0.639752\n",
       "1                    0.180124\n",
       "2                    0.111801\n",
       "3                    0.068323"
      ]
     },
     "execution_count": 35,
     "metadata": {},
     "output_type": "execute_result"
    }
   ],
   "source": [
    "#1.5.3 Tabella frequenze relative di GravitaIP\n",
    "gravita_rel = pd.crosstab(index=cani.GravitaIP, columns = 'Frequenze relative', colnames = [''], normalize = 'all')\n",
    "gravita_rel"
   ]
  },
  {
   "cell_type": "code",
   "execution_count": 38,
   "id": "168cd93e",
   "metadata": {},
   "outputs": [
    {
     "data": {
      "image/png": "[encoded data removed]",
      "text/plain": [
       "<Figure size 500x309.017 with 1 Axes>"
      ]
     },
     "metadata": {},
     "output_type": "display_data"
    }
   ],
   "source": [
    "#1.5.4 Grafico opportuno che descriva la gravità dell'ipertensione\n",
    "gravita_rel.plot.bar()\n",
    "plt.show()"
   ]
  },
  {
   "cell_type": "code",
   "execution_count": 39,
   "id": "3fbb9d8d",
   "metadata": {},
   "outputs": [],
   "source": [
    "#1.6 Consideriamo ora il carattere SURVIVALTIME"
   ]
  },
  {
   "cell_type": "code",
   "execution_count": 42,
   "id": "68d16173",
   "metadata": {},
   "outputs": [
    {
     "data": {
      "text/plain": [
       "0.6511627906976745"
      ]
     },
     "execution_count": 42,
     "metadata": {},
     "output_type": "execute_result"
    }
   ],
   "source": [
    "#1.6.1 Quale percentuale di cani ancora vivi è in cura presso l'ambulatorio da meno di un anno ?\n",
    "len(cani[(cani['MORTE'] == 0)&(cani['SURVIVALTIME'] < 365)])/len(cani[cani['MORTE'] == 0])"
   ]
  },
  {
   "cell_type": "code",
   "execution_count": 43,
   "id": "b6b8525b",
   "metadata": {},
   "outputs": [
    {
     "data": {
      "text/plain": [
       "0.1016949152542373"
      ]
     },
     "execution_count": 43,
     "metadata": {},
     "output_type": "execute_result"
    }
   ],
   "source": [
    "#1.6.1 Quale percentuale di cani deceduti è sopravvissuta più di 3 anni ?\n",
    "len(cani[(cani['MORTE'] == 1)&(cani['SURVIVALTIME'] > 1095)])/len(cani[cani['MORTE'] == 1])"
   ]
  },
  {
   "cell_type": "code",
   "execution_count": null,
   "id": "56af70c0",
   "metadata": {},
   "outputs": [],
   "source": []
  }
 ],
 "metadata": {
  "kernelspec": {
   "display_name": "Python 3 (ipykernel)",
   "language": "python",
   "name": "python3"
  },
  "language_info": {
   "codemirror_mode": {
    "name": "ipython",
    "version": 3
   },
   "file_extension": ".py",
   "mimetype": "text/x-python",
   "name": "python",
   "nbconvert_exporter": "python",
   "pygments_lexer": "ipython3",
   "version": "3.9.13"
  }
 },
 "nbformat": 4,
 "nbformat_minor": 5
}
