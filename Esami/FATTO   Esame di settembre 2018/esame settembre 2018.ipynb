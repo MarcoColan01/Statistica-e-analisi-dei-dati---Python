{
 "cells": [
  {
   "cell_type": "code",
   "execution_count": 60,
   "id": "43ea493e",
   "metadata": {},
   "outputs": [],
   "source": [
    "import scipy.stats as st\n",
    "import matplotlib.pyplot as plt\n",
    "import pandas as pd\n",
    "import statsmodels.api as sm\n",
    "import numpy as np\n",
    "import math"
   ]
  },
  {
   "cell_type": "code",
   "execution_count": 2,
   "id": "33401811",
   "metadata": {},
   "outputs": [],
   "source": [
    "#ESERCIZIO 0"
   ]
  },
  {
   "cell_type": "code",
   "execution_count": 5,
   "id": "b198d7f7",
   "metadata": {},
   "outputs": [
    {
     "data": {
      "image/png": "[encoded data removed]",
      "text/plain": [
       "<Figure size 640x480 with 1 Axes>"
      ]
     },
     "metadata": {},
     "output_type": "display_data"
    }
   ],
   "source": [
    "#0.4 \n",
    "data = {'variabile_binomiale': [0, 1, 2, 3, 4, 5]}\n",
    "df = pd.DataFrame(data)\n",
    "\n",
    "# Definire i parametri della distribuzione binomiale\n",
    "k = 50  # numero di tentativi\n",
    "p = 0.3  # probabilità di successo in ogni tentativo\n",
    "\n",
    "# Calcolare la funzione di massa di probabilità (PMF)\n",
    "Y=st.binom(50,0.3)\n",
    "x=np.arange(0,50)\n",
    "plt.vlines(x,0,Y.pmf(x))\n",
    "plt.plot(x,Y.pmf(x),'o')\n",
    "plt.show()"
   ]
  },
  {
   "cell_type": "code",
   "execution_count": 6,
   "id": "29c0a6dd",
   "metadata": {},
   "outputs": [],
   "source": [
    "#ESERCIZIO 1"
   ]
  },
  {
   "cell_type": "code",
   "execution_count": 7,
   "id": "0d98be52",
   "metadata": {},
   "outputs": [
    {
     "data": {
      "text/html": [
       "<div>\n",
       "<style scoped>\n",
       "    .dataframe tbody tr th:only-of-type {\n",
       "        vertical-align: middle;\n",
       "    }\n",
       "\n",
       "    .dataframe tbody tr th {\n",
       "        vertical-align: top;\n",
       "    }\n",
       "\n",
       "    .dataframe thead th {\n",
       "        text-align: right;\n",
       "    }\n",
       "</style>\n",
       "<table border=\"1\" class=\"dataframe\">\n",
       "  <thead>\n",
       "    <tr style=\"text-align: right;\">\n",
       "      <th></th>\n",
       "      <th>TemaPrioritario</th>\n",
       "      <th>FONTE</th>\n",
       "      <th>CodiceCategoria</th>\n",
       "      <th>CATEGORIA</th>\n",
       "      <th>UNITA</th>\n",
       "      <th>FinProvincia</th>\n",
       "      <th>FinRegione</th>\n",
       "      <th>TotSpese</th>\n",
       "    </tr>\n",
       "    <tr>\n",
       "      <th>id</th>\n",
       "      <th></th>\n",
       "      <th></th>\n",
       "      <th></th>\n",
       "      <th></th>\n",
       "      <th></th>\n",
       "      <th></th>\n",
       "      <th></th>\n",
       "      <th></th>\n",
       "    </tr>\n",
       "  </thead>\n",
       "  <tbody>\n",
       "    <tr>\n",
       "      <th>4</th>\n",
       "      <td>5</td>\n",
       "      <td>Compet. per le imprese</td>\n",
       "      <td>18</td>\n",
       "      <td>TECNOLOGIE INFORMATICHE</td>\n",
       "      <td>ASSISI</td>\n",
       "      <td>22356.25</td>\n",
       "      <td>22356.25</td>\n",
       "      <td>83037.5</td>\n",
       "    </tr>\n",
       "    <tr>\n",
       "      <th>38</th>\n",
       "      <td>5</td>\n",
       "      <td>Compet. per le imprese</td>\n",
       "      <td>40</td>\n",
       "      <td>OPERE E INFRASTRUTTURE PER LA RICERCA</td>\n",
       "      <td>ASSISI</td>\n",
       "      <td>99750.00</td>\n",
       "      <td>99750.00</td>\n",
       "      <td>370500.0</td>\n",
       "    </tr>\n",
       "    <tr>\n",
       "      <th>39</th>\n",
       "      <td>11</td>\n",
       "      <td>Agenda digitale</td>\n",
       "      <td>40</td>\n",
       "      <td>OPERE E INFRASTRUTTURE PER LA RICERCA</td>\n",
       "      <td>ASSISI</td>\n",
       "      <td>3802.90</td>\n",
       "      <td>3802.90</td>\n",
       "      <td>18423.2</td>\n",
       "    </tr>\n",
       "    <tr>\n",
       "      <th>43</th>\n",
       "      <td>4</td>\n",
       "      <td>Ricerca e innovazione</td>\n",
       "      <td>18</td>\n",
       "      <td>TECNOLOGIE INFORMATICHE</td>\n",
       "      <td>ASSISI</td>\n",
       "      <td>193020.00</td>\n",
       "      <td>193020.00</td>\n",
       "      <td>474360.0</td>\n",
       "    </tr>\n",
       "    <tr>\n",
       "      <th>73</th>\n",
       "      <td>6</td>\n",
       "      <td>Ricerca e innovazione</td>\n",
       "      <td>39</td>\n",
       "      <td>OPERE, IMPIANTI ED ATTREZZATURE PER ATTIVITA' ...</td>\n",
       "      <td>ASSISI</td>\n",
       "      <td>10688.70</td>\n",
       "      <td>10688.70</td>\n",
       "      <td>NaN</td>\n",
       "    </tr>\n",
       "    <tr>\n",
       "      <th>...</th>\n",
       "      <td>...</td>\n",
       "      <td>...</td>\n",
       "      <td>...</td>\n",
       "      <td>...</td>\n",
       "      <td>...</td>\n",
       "      <td>...</td>\n",
       "      <td>...</td>\n",
       "      <td>...</td>\n",
       "    </tr>\n",
       "    <tr>\n",
       "      <th>3306</th>\n",
       "      <td>43</td>\n",
       "      <td>Energia e efficienza energetica</td>\n",
       "      <td>8</td>\n",
       "      <td>SOCIALI E SCOLASTICHE</td>\n",
       "      <td>UMBERTIDE</td>\n",
       "      <td>116836.55</td>\n",
       "      <td>116836.55</td>\n",
       "      <td>NaN</td>\n",
       "    </tr>\n",
       "    <tr>\n",
       "      <th>3313</th>\n",
       "      <td>61</td>\n",
       "      <td>Rinnovamento urbano  e rurale</td>\n",
       "      <td>6</td>\n",
       "      <td>PRODUZIONE  DI ENERGIA</td>\n",
       "      <td>UMBERTIDE</td>\n",
       "      <td>89297.33</td>\n",
       "      <td>89297.33</td>\n",
       "      <td>NaN</td>\n",
       "    </tr>\n",
       "    <tr>\n",
       "      <th>3314</th>\n",
       "      <td>61</td>\n",
       "      <td>Rinnovamento urbano  e rurale</td>\n",
       "      <td>99</td>\n",
       "      <td>ALTRE INFRASTRUTTURE SOCIALI</td>\n",
       "      <td>UMBERTIDE</td>\n",
       "      <td>125582.65</td>\n",
       "      <td>125582.66</td>\n",
       "      <td>NaN</td>\n",
       "    </tr>\n",
       "    <tr>\n",
       "      <th>3507</th>\n",
       "      <td>61</td>\n",
       "      <td>Rinnovamento urbano  e rurale</td>\n",
       "      <td>12</td>\n",
       "      <td>SPORT, SPETTACOLO E TEMPO LIBERO</td>\n",
       "      <td>UMBERTIDE</td>\n",
       "      <td>512767.96</td>\n",
       "      <td>512767.95</td>\n",
       "      <td>NaN</td>\n",
       "    </tr>\n",
       "    <tr>\n",
       "      <th>3609</th>\n",
       "      <td>7</td>\n",
       "      <td>Ricerca e innovazione</td>\n",
       "      <td>25</td>\n",
       "      <td>SERVIZI ALLE IMPRESE DEL COMMERCIO</td>\n",
       "      <td>UMBERTIDE</td>\n",
       "      <td>74662.50</td>\n",
       "      <td>74662.50</td>\n",
       "      <td>447975.0</td>\n",
       "    </tr>\n",
       "  </tbody>\n",
       "</table>\n",
       "<p>3668 rows × 8 columns</p>\n",
       "</div>"
      ],
      "text/plain": [
       "      TemaPrioritario                            FONTE  CodiceCategoria  \\\n",
       "id                                                                        \n",
       "4                   5           Compet. per le imprese               18   \n",
       "38                  5           Compet. per le imprese               40   \n",
       "39                 11                  Agenda digitale               40   \n",
       "43                  4            Ricerca e innovazione               18   \n",
       "73                  6            Ricerca e innovazione               39   \n",
       "...               ...                              ...              ...   \n",
       "3306               43  Energia e efficienza energetica                8   \n",
       "3313               61    Rinnovamento urbano  e rurale                6   \n",
       "3314               61    Rinnovamento urbano  e rurale               99   \n",
       "3507               61    Rinnovamento urbano  e rurale               12   \n",
       "3609                7            Ricerca e innovazione               25   \n",
       "\n",
       "                                              CATEGORIA      UNITA  \\\n",
       "id                                                                   \n",
       "4                               TECNOLOGIE INFORMATICHE     ASSISI   \n",
       "38                OPERE E INFRASTRUTTURE PER LA RICERCA     ASSISI   \n",
       "39                OPERE E INFRASTRUTTURE PER LA RICERCA     ASSISI   \n",
       "43                              TECNOLOGIE INFORMATICHE     ASSISI   \n",
       "73    OPERE, IMPIANTI ED ATTREZZATURE PER ATTIVITA' ...     ASSISI   \n",
       "...                                                 ...        ...   \n",
       "3306                              SOCIALI E SCOLASTICHE  UMBERTIDE   \n",
       "3313                             PRODUZIONE  DI ENERGIA  UMBERTIDE   \n",
       "3314                       ALTRE INFRASTRUTTURE SOCIALI  UMBERTIDE   \n",
       "3507                   SPORT, SPETTACOLO E TEMPO LIBERO  UMBERTIDE   \n",
       "3609                 SERVIZI ALLE IMPRESE DEL COMMERCIO  UMBERTIDE   \n",
       "\n",
       "      FinProvincia  FinRegione  TotSpese  \n",
       "id                                        \n",
       "4         22356.25    22356.25   83037.5  \n",
       "38        99750.00    99750.00  370500.0  \n",
       "39         3802.90     3802.90   18423.2  \n",
       "43       193020.00   193020.00  474360.0  \n",
       "73        10688.70    10688.70       NaN  \n",
       "...            ...         ...       ...  \n",
       "3306     116836.55   116836.55       NaN  \n",
       "3313      89297.33    89297.33       NaN  \n",
       "3314     125582.65   125582.66       NaN  \n",
       "3507     512767.96   512767.95       NaN  \n",
       "3609      74662.50    74662.50  447975.0  \n",
       "\n",
       "[3668 rows x 8 columns]"
      ]
     },
     "execution_count": 7,
     "metadata": {},
     "output_type": "execute_result"
    }
   ],
   "source": [
    "finanziamenti = pd.read_csv('finanziamenti.csv', decimal = ',', sep = ';', index_col = 0)\n",
    "finanziamenti"
   ]
  },
  {
   "cell_type": "code",
   "execution_count": 9,
   "id": "1c291255",
   "metadata": {},
   "outputs": [
    {
     "name": "stdout",
     "output_type": "stream",
     "text": [
      "id\n",
      "4       18\n",
      "38      40\n",
      "39      40\n",
      "43      18\n",
      "73      39\n",
      "        ..\n",
      "3306     8\n",
      "3313     6\n",
      "3314    99\n",
      "3507    12\n",
      "3609    25\n",
      "Name: CodiceCategoria, Length: 3668, dtype: int64\n",
      "CodiceCategoria è nominale\n"
     ]
    }
   ],
   "source": [
    "#1.1 CodiceCategoria è nominale, ordinale o scalare?\n",
    "print(finanziamenti.CodiceCategoria)\n",
    "print('CodiceCategoria è nominale')"
   ]
  },
  {
   "cell_type": "code",
   "execution_count": 10,
   "id": "260fd067",
   "metadata": {},
   "outputs": [
    {
     "data": {
      "text/html": [
       "<div>\n",
       "<style scoped>\n",
       "    .dataframe tbody tr th:only-of-type {\n",
       "        vertical-align: middle;\n",
       "    }\n",
       "\n",
       "    .dataframe tbody tr th {\n",
       "        vertical-align: top;\n",
       "    }\n",
       "\n",
       "    .dataframe thead th {\n",
       "        text-align: right;\n",
       "    }\n",
       "</style>\n",
       "<table border=\"1\" class=\"dataframe\">\n",
       "  <thead>\n",
       "    <tr style=\"text-align: right;\">\n",
       "      <th>Frequenze assolute</th>\n",
       "      <th></th>\n",
       "    </tr>\n",
       "    <tr>\n",
       "      <th>UNITA</th>\n",
       "      <th></th>\n",
       "    </tr>\n",
       "  </thead>\n",
       "  <tbody>\n",
       "    <tr>\n",
       "      <th>ASSISI</th>\n",
       "      <td>243</td>\n",
       "    </tr>\n",
       "    <tr>\n",
       "      <th>CASCIA</th>\n",
       "      <td>13</td>\n",
       "    </tr>\n",
       "    <tr>\n",
       "      <th>CASTIGLIONE DEL L</th>\n",
       "      <td>75</td>\n",
       "    </tr>\n",
       "    <tr>\n",
       "      <th>CHIUSI</th>\n",
       "      <td>30</td>\n",
       "    </tr>\n",
       "    <tr>\n",
       "      <th>CITTA DI CASTELLO</th>\n",
       "      <td>288</td>\n",
       "    </tr>\n",
       "    <tr>\n",
       "      <th>CORTONA</th>\n",
       "      <td>1</td>\n",
       "    </tr>\n",
       "    <tr>\n",
       "      <th>FOLIGNO</th>\n",
       "      <td>449</td>\n",
       "    </tr>\n",
       "    <tr>\n",
       "      <th>GUALDO TADINO</th>\n",
       "      <td>75</td>\n",
       "    </tr>\n",
       "    <tr>\n",
       "      <th>GUBBIO</th>\n",
       "      <td>76</td>\n",
       "    </tr>\n",
       "    <tr>\n",
       "      <th>NORCIA</th>\n",
       "      <td>28</td>\n",
       "    </tr>\n",
       "    <tr>\n",
       "      <th>ORVIETO</th>\n",
       "      <td>60</td>\n",
       "    </tr>\n",
       "    <tr>\n",
       "      <th>PERUGIA</th>\n",
       "      <td>1005</td>\n",
       "    </tr>\n",
       "    <tr>\n",
       "      <th>SLL MULTIPLO</th>\n",
       "      <td>5</td>\n",
       "    </tr>\n",
       "    <tr>\n",
       "      <th>SLL NON ATTRIBUIBILE</th>\n",
       "      <td>255</td>\n",
       "    </tr>\n",
       "    <tr>\n",
       "      <th>SPOLETO</th>\n",
       "      <td>186</td>\n",
       "    </tr>\n",
       "    <tr>\n",
       "      <th>TERNI</th>\n",
       "      <td>638</td>\n",
       "    </tr>\n",
       "    <tr>\n",
       "      <th>TODI</th>\n",
       "      <td>117</td>\n",
       "    </tr>\n",
       "    <tr>\n",
       "      <th>UMBERTIDE</th>\n",
       "      <td>124</td>\n",
       "    </tr>\n",
       "  </tbody>\n",
       "</table>\n",
       "</div>"
      ],
      "text/plain": [
       "Frequenze assolute        \n",
       "UNITA                     \n",
       "ASSISI                 243\n",
       "CASCIA                  13\n",
       "CASTIGLIONE DEL L       75\n",
       "CHIUSI                  30\n",
       "CITTA DI CASTELLO      288\n",
       "CORTONA                  1\n",
       "FOLIGNO                449\n",
       "GUALDO TADINO           75\n",
       "GUBBIO                  76\n",
       "NORCIA                  28\n",
       "ORVIETO                 60\n",
       "PERUGIA               1005\n",
       "SLL MULTIPLO             5\n",
       "SLL NON ATTRIBUIBILE   255\n",
       "SPOLETO                186\n",
       "TERNI                  638\n",
       "TODI                   117\n",
       "UMBERTIDE              124"
      ]
     },
     "execution_count": 10,
     "metadata": {},
     "output_type": "execute_result"
    }
   ],
   "source": [
    "#1.2 Tabella frequenze assolute di UNITA\n",
    "unita_abs = pd.crosstab(index = finanziamenti['UNITA'],\n",
    "                       colnames = ['Frequenze assolute'],\n",
    "                       columns = [''])\n",
    "unita_abs"
   ]
  },
  {
   "cell_type": "code",
   "execution_count": 11,
   "id": "ca5d32a6",
   "metadata": {},
   "outputs": [
    {
     "data": {
      "image/png": "[encoded data removed]",
      "text/plain": [
       "<Figure size 640x480 with 1 Axes>"
      ]
     },
     "metadata": {},
     "output_type": "display_data"
    }
   ],
   "source": [
    "#1.3 Grafico opportuno per descrivere UNITA\n",
    "unita_abs.plot.bar()\n",
    "plt.show()"
   ]
  },
  {
   "cell_type": "code",
   "execution_count": 12,
   "id": "dd91edd3",
   "metadata": {},
   "outputs": [],
   "source": [
    "#1.5 Prendiamo in considerazione la quota di finanziamento erogata dalla provincia"
   ]
  },
  {
   "cell_type": "code",
   "execution_count": 16,
   "id": "85089125",
   "metadata": {},
   "outputs": [
    {
     "data": {
      "text/plain": [
       "3284"
      ]
     },
     "execution_count": 16,
     "metadata": {},
     "output_type": "execute_result"
    }
   ],
   "source": [
    "'''\n",
    "1.5.1 Create una variabile progetti_a per i progetti A per i quali il finanziamento provinciale è minore di quello regionale, \n",
    "ed una variabile progetti_b per i progetti B per i quali il finanziamento provinciale è minore di quello regionale.\n",
    "'''\n",
    "progetti_a = finanziamenti[finanziamenti['FinProvincia'] < finanziamenti['FinRegione']]\n",
    "progetti_b = finanziamenti[finanziamenti['FinProvincia'] >= finanziamenti['FinRegione']]"
   ]
  },
  {
   "cell_type": "code",
   "execution_count": 18,
   "id": "7de44126",
   "metadata": {},
   "outputs": [
    {
     "name": "stdout",
     "output_type": "stream",
     "text": [
      "I progetti di tipo A sono 368 \n",
      "I progetti di tipo B sono 3284\n"
     ]
    }
   ],
   "source": [
    "#1.5.2 Quanti sono i progetti di tipo A? E quelli di tipo B?\n",
    "print('I progetti di tipo A sono', len(progetti_a), '\\nI progetti di tipo B sono', len(progetti_b))"
   ]
  },
  {
   "cell_type": "code",
   "execution_count": 19,
   "id": "39dad35c",
   "metadata": {},
   "outputs": [],
   "source": [
    "#1.6"
   ]
  },
  {
   "cell_type": "code",
   "execution_count": 20,
   "id": "0797f4f3",
   "metadata": {},
   "outputs": [
    {
     "data": {
      "text/html": [
       "<div>\n",
       "<style scoped>\n",
       "    .dataframe tbody tr th:only-of-type {\n",
       "        vertical-align: middle;\n",
       "    }\n",
       "\n",
       "    .dataframe tbody tr th {\n",
       "        vertical-align: top;\n",
       "    }\n",
       "\n",
       "    .dataframe thead th {\n",
       "        text-align: right;\n",
       "    }\n",
       "</style>\n",
       "<table border=\"1\" class=\"dataframe\">\n",
       "  <thead>\n",
       "    <tr style=\"text-align: right;\">\n",
       "      <th></th>\n",
       "      <th>TemaPrioritario</th>\n",
       "      <th>FONTE</th>\n",
       "      <th>CodiceCategoria</th>\n",
       "      <th>CATEGORIA</th>\n",
       "      <th>UNITA</th>\n",
       "      <th>FinProvincia</th>\n",
       "      <th>FinRegione</th>\n",
       "      <th>TotSpese</th>\n",
       "    </tr>\n",
       "    <tr>\n",
       "      <th>id</th>\n",
       "      <th></th>\n",
       "      <th></th>\n",
       "      <th></th>\n",
       "      <th></th>\n",
       "      <th></th>\n",
       "      <th></th>\n",
       "      <th></th>\n",
       "      <th></th>\n",
       "    </tr>\n",
       "  </thead>\n",
       "  <tbody>\n",
       "    <tr>\n",
       "      <th>3198</th>\n",
       "      <td>61</td>\n",
       "      <td>Rinnovamento urbano  e rurale</td>\n",
       "      <td>42</td>\n",
       "      <td>STRUTTURE ED ATTREZZATURE PER IL COMMERCIO E I...</td>\n",
       "      <td>CITTA DI CASTELLO</td>\n",
       "      <td>819.98</td>\n",
       "      <td>819.99</td>\n",
       "      <td>3826.61</td>\n",
       "    </tr>\n",
       "    <tr>\n",
       "      <th>3199</th>\n",
       "      <td>61</td>\n",
       "      <td>Rinnovamento urbano  e rurale</td>\n",
       "      <td>42</td>\n",
       "      <td>STRUTTURE ED ATTREZZATURE PER IL COMMERCIO E I...</td>\n",
       "      <td>CITTA DI CASTELLO</td>\n",
       "      <td>945.71</td>\n",
       "      <td>945.72</td>\n",
       "      <td>4413.35</td>\n",
       "    </tr>\n",
       "    <tr>\n",
       "      <th>3215</th>\n",
       "      <td>61</td>\n",
       "      <td>Rinnovamento urbano  e rurale</td>\n",
       "      <td>42</td>\n",
       "      <td>STRUTTURE ED ATTREZZATURE PER IL COMMERCIO E I...</td>\n",
       "      <td>CITTA DI CASTELLO</td>\n",
       "      <td>753.66</td>\n",
       "      <td>753.67</td>\n",
       "      <td>3517.09</td>\n",
       "    </tr>\n",
       "    <tr>\n",
       "      <th>3224</th>\n",
       "      <td>61</td>\n",
       "      <td>Rinnovamento urbano  e rurale</td>\n",
       "      <td>42</td>\n",
       "      <td>STRUTTURE ED ATTREZZATURE PER IL COMMERCIO E I...</td>\n",
       "      <td>CITTA DI CASTELLO</td>\n",
       "      <td>883.79</td>\n",
       "      <td>883.80</td>\n",
       "      <td>4124.39</td>\n",
       "    </tr>\n",
       "    <tr>\n",
       "      <th>1173</th>\n",
       "      <td>5</td>\n",
       "      <td>Compet. per le imprese</td>\n",
       "      <td>40</td>\n",
       "      <td>OPERE E INFRASTRUTTURE PER LA RICERCA</td>\n",
       "      <td>FOLIGNO</td>\n",
       "      <td>861.60</td>\n",
       "      <td>1138.40</td>\n",
       "      <td>2000.00</td>\n",
       "    </tr>\n",
       "    <tr>\n",
       "      <th>3454</th>\n",
       "      <td>61</td>\n",
       "      <td>Rinnovamento urbano  e rurale</td>\n",
       "      <td>42</td>\n",
       "      <td>STRUTTURE ED ATTREZZATURE PER IL COMMERCIO E I...</td>\n",
       "      <td>FOLIGNO</td>\n",
       "      <td>879.49</td>\n",
       "      <td>879.50</td>\n",
       "      <td>NaN</td>\n",
       "    </tr>\n",
       "    <tr>\n",
       "      <th>2155</th>\n",
       "      <td>61</td>\n",
       "      <td>Rinnovamento urbano  e rurale</td>\n",
       "      <td>42</td>\n",
       "      <td>STRUTTURE ED ATTREZZATURE PER IL COMMERCIO E I...</td>\n",
       "      <td>PERUGIA</td>\n",
       "      <td>995.74</td>\n",
       "      <td>995.75</td>\n",
       "      <td>4646.81</td>\n",
       "    </tr>\n",
       "    <tr>\n",
       "      <th>1989</th>\n",
       "      <td>86</td>\n",
       "      <td>Rafforzamento capacitÃ  della PA</td>\n",
       "      <td>41</td>\n",
       "      <td>SERVIZI DI ASSISTENZA TECNICA ALLA P.A.</td>\n",
       "      <td>SLL NON ATTRIBUIBILE</td>\n",
       "      <td>361.17</td>\n",
       "      <td>361.18</td>\n",
       "      <td>NaN</td>\n",
       "    </tr>\n",
       "    <tr>\n",
       "      <th>1990</th>\n",
       "      <td>86</td>\n",
       "      <td>Rafforzamento capacitÃ  della PA</td>\n",
       "      <td>41</td>\n",
       "      <td>SERVIZI DI ASSISTENZA TECNICA ALLA P.A.</td>\n",
       "      <td>SLL NON ATTRIBUIBILE</td>\n",
       "      <td>270.99</td>\n",
       "      <td>271.00</td>\n",
       "      <td>NaN</td>\n",
       "    </tr>\n",
       "    <tr>\n",
       "      <th>2230</th>\n",
       "      <td>86</td>\n",
       "      <td>Rafforzamento capacitÃ  della PA</td>\n",
       "      <td>41</td>\n",
       "      <td>SERVIZI DI ASSISTENZA TECNICA ALLA P.A.</td>\n",
       "      <td>SLL NON ATTRIBUIBILE</td>\n",
       "      <td>432.10</td>\n",
       "      <td>432.11</td>\n",
       "      <td>NaN</td>\n",
       "    </tr>\n",
       "    <tr>\n",
       "      <th>2828</th>\n",
       "      <td>86</td>\n",
       "      <td>Rafforzamento capacitÃ  della PA</td>\n",
       "      <td>41</td>\n",
       "      <td>SERVIZI DI ASSISTENZA TECNICA ALLA P.A.</td>\n",
       "      <td>SLL NON ATTRIBUIBILE</td>\n",
       "      <td>307.55</td>\n",
       "      <td>307.56</td>\n",
       "      <td>NaN</td>\n",
       "    </tr>\n",
       "    <tr>\n",
       "      <th>3282</th>\n",
       "      <td>86</td>\n",
       "      <td>Rafforzamento capacitÃ  della PA</td>\n",
       "      <td>41</td>\n",
       "      <td>SERVIZI DI ASSISTENZA TECNICA ALLA P.A.</td>\n",
       "      <td>SLL NON ATTRIBUIBILE</td>\n",
       "      <td>277.22</td>\n",
       "      <td>366.28</td>\n",
       "      <td>NaN</td>\n",
       "    </tr>\n",
       "    <tr>\n",
       "      <th>3393</th>\n",
       "      <td>85</td>\n",
       "      <td>Rafforzamento capacitÃ  della PA</td>\n",
       "      <td>41</td>\n",
       "      <td>SERVIZI DI ASSISTENZA TECNICA ALLA P.A.</td>\n",
       "      <td>SLL NON ATTRIBUIBILE</td>\n",
       "      <td>369.63</td>\n",
       "      <td>488.37</td>\n",
       "      <td>NaN</td>\n",
       "    </tr>\n",
       "    <tr>\n",
       "      <th>3394</th>\n",
       "      <td>86</td>\n",
       "      <td>Rafforzamento capacitÃ  della PA</td>\n",
       "      <td>41</td>\n",
       "      <td>SERVIZI DI ASSISTENZA TECNICA ALLA P.A.</td>\n",
       "      <td>SLL NON ATTRIBUIBILE</td>\n",
       "      <td>769.59</td>\n",
       "      <td>1016.83</td>\n",
       "      <td>NaN</td>\n",
       "    </tr>\n",
       "    <tr>\n",
       "      <th>3400</th>\n",
       "      <td>85</td>\n",
       "      <td>Rafforzamento capacitÃ  della PA</td>\n",
       "      <td>41</td>\n",
       "      <td>SERVIZI DI ASSISTENZA TECNICA ALLA P.A.</td>\n",
       "      <td>SLL NON ATTRIBUIBILE</td>\n",
       "      <td>702.62</td>\n",
       "      <td>928.34</td>\n",
       "      <td>NaN</td>\n",
       "    </tr>\n",
       "    <tr>\n",
       "      <th>3467</th>\n",
       "      <td>85</td>\n",
       "      <td>Rafforzamento capacitÃ  della PA</td>\n",
       "      <td>41</td>\n",
       "      <td>SERVIZI DI ASSISTENZA TECNICA ALLA P.A.</td>\n",
       "      <td>SLL NON ATTRIBUIBILE</td>\n",
       "      <td>903.54</td>\n",
       "      <td>1193.82</td>\n",
       "      <td>NaN</td>\n",
       "    </tr>\n",
       "    <tr>\n",
       "      <th>3311</th>\n",
       "      <td>61</td>\n",
       "      <td>Rinnovamento urbano  e rurale</td>\n",
       "      <td>42</td>\n",
       "      <td>STRUTTURE ED ATTREZZATURE PER IL COMMERCIO E I...</td>\n",
       "      <td>TERNI</td>\n",
       "      <td>453.80</td>\n",
       "      <td>453.81</td>\n",
       "      <td>2117.74</td>\n",
       "    </tr>\n",
       "    <tr>\n",
       "      <th>3319</th>\n",
       "      <td>61</td>\n",
       "      <td>Rinnovamento urbano  e rurale</td>\n",
       "      <td>42</td>\n",
       "      <td>STRUTTURE ED ATTREZZATURE PER IL COMMERCIO E I...</td>\n",
       "      <td>TERNI</td>\n",
       "      <td>801.44</td>\n",
       "      <td>801.45</td>\n",
       "      <td>3740.06</td>\n",
       "    </tr>\n",
       "    <tr>\n",
       "      <th>3022</th>\n",
       "      <td>61</td>\n",
       "      <td>Rinnovamento urbano  e rurale</td>\n",
       "      <td>42</td>\n",
       "      <td>STRUTTURE ED ATTREZZATURE PER IL COMMERCIO E I...</td>\n",
       "      <td>UMBERTIDE</td>\n",
       "      <td>311.58</td>\n",
       "      <td>311.59</td>\n",
       "      <td>NaN</td>\n",
       "    </tr>\n",
       "  </tbody>\n",
       "</table>\n",
       "</div>"
      ],
      "text/plain": [
       "      TemaPrioritario                             FONTE  CodiceCategoria  \\\n",
       "id                                                                         \n",
       "3198               61     Rinnovamento urbano  e rurale               42   \n",
       "3199               61     Rinnovamento urbano  e rurale               42   \n",
       "3215               61     Rinnovamento urbano  e rurale               42   \n",
       "3224               61     Rinnovamento urbano  e rurale               42   \n",
       "1173                5            Compet. per le imprese               40   \n",
       "3454               61     Rinnovamento urbano  e rurale               42   \n",
       "2155               61     Rinnovamento urbano  e rurale               42   \n",
       "1989               86  Rafforzamento capacitÃ  della PA               41   \n",
       "1990               86  Rafforzamento capacitÃ  della PA               41   \n",
       "2230               86  Rafforzamento capacitÃ  della PA               41   \n",
       "2828               86  Rafforzamento capacitÃ  della PA               41   \n",
       "3282               86  Rafforzamento capacitÃ  della PA               41   \n",
       "3393               85  Rafforzamento capacitÃ  della PA               41   \n",
       "3394               86  Rafforzamento capacitÃ  della PA               41   \n",
       "3400               85  Rafforzamento capacitÃ  della PA               41   \n",
       "3467               85  Rafforzamento capacitÃ  della PA               41   \n",
       "3311               61     Rinnovamento urbano  e rurale               42   \n",
       "3319               61     Rinnovamento urbano  e rurale               42   \n",
       "3022               61     Rinnovamento urbano  e rurale               42   \n",
       "\n",
       "                                              CATEGORIA                 UNITA  \\\n",
       "id                                                                              \n",
       "3198  STRUTTURE ED ATTREZZATURE PER IL COMMERCIO E I...     CITTA DI CASTELLO   \n",
       "3199  STRUTTURE ED ATTREZZATURE PER IL COMMERCIO E I...     CITTA DI CASTELLO   \n",
       "3215  STRUTTURE ED ATTREZZATURE PER IL COMMERCIO E I...     CITTA DI CASTELLO   \n",
       "3224  STRUTTURE ED ATTREZZATURE PER IL COMMERCIO E I...     CITTA DI CASTELLO   \n",
       "1173              OPERE E INFRASTRUTTURE PER LA RICERCA               FOLIGNO   \n",
       "3454  STRUTTURE ED ATTREZZATURE PER IL COMMERCIO E I...               FOLIGNO   \n",
       "2155  STRUTTURE ED ATTREZZATURE PER IL COMMERCIO E I...               PERUGIA   \n",
       "1989            SERVIZI DI ASSISTENZA TECNICA ALLA P.A.  SLL NON ATTRIBUIBILE   \n",
       "1990            SERVIZI DI ASSISTENZA TECNICA ALLA P.A.  SLL NON ATTRIBUIBILE   \n",
       "2230            SERVIZI DI ASSISTENZA TECNICA ALLA P.A.  SLL NON ATTRIBUIBILE   \n",
       "2828            SERVIZI DI ASSISTENZA TECNICA ALLA P.A.  SLL NON ATTRIBUIBILE   \n",
       "3282            SERVIZI DI ASSISTENZA TECNICA ALLA P.A.  SLL NON ATTRIBUIBILE   \n",
       "3393            SERVIZI DI ASSISTENZA TECNICA ALLA P.A.  SLL NON ATTRIBUIBILE   \n",
       "3394            SERVIZI DI ASSISTENZA TECNICA ALLA P.A.  SLL NON ATTRIBUIBILE   \n",
       "3400            SERVIZI DI ASSISTENZA TECNICA ALLA P.A.  SLL NON ATTRIBUIBILE   \n",
       "3467            SERVIZI DI ASSISTENZA TECNICA ALLA P.A.  SLL NON ATTRIBUIBILE   \n",
       "3311  STRUTTURE ED ATTREZZATURE PER IL COMMERCIO E I...                 TERNI   \n",
       "3319  STRUTTURE ED ATTREZZATURE PER IL COMMERCIO E I...                 TERNI   \n",
       "3022  STRUTTURE ED ATTREZZATURE PER IL COMMERCIO E I...             UMBERTIDE   \n",
       "\n",
       "      FinProvincia  FinRegione  TotSpese  \n",
       "id                                        \n",
       "3198        819.98      819.99   3826.61  \n",
       "3199        945.71      945.72   4413.35  \n",
       "3215        753.66      753.67   3517.09  \n",
       "3224        883.79      883.80   4124.39  \n",
       "1173        861.60     1138.40   2000.00  \n",
       "3454        879.49      879.50       NaN  \n",
       "2155        995.74      995.75   4646.81  \n",
       "1989        361.17      361.18       NaN  \n",
       "1990        270.99      271.00       NaN  \n",
       "2230        432.10      432.11       NaN  \n",
       "2828        307.55      307.56       NaN  \n",
       "3282        277.22      366.28       NaN  \n",
       "3393        369.63      488.37       NaN  \n",
       "3394        769.59     1016.83       NaN  \n",
       "3400        702.62      928.34       NaN  \n",
       "3467        903.54     1193.82       NaN  \n",
       "3311        453.80      453.81   2117.74  \n",
       "3319        801.44      801.45   3740.06  \n",
       "3022        311.58      311.59       NaN  "
      ]
     },
     "execution_count": 20,
     "metadata": {},
     "output_type": "execute_result"
    }
   ],
   "source": [
    "'''\n",
    "1.6.1 Selezionate i progetti di tipo A che hanno ricevuto un finanziamento provinciale compreso tra 200 euro (incluso) e 1000\n",
    "euro (escluso) e salvate tale selezione in una variabile chiamata selezione_progetti_a\n",
    "'''\n",
    "app = progetti_a[progetti_a['FinProvincia'] >= 200]\n",
    "selezione_progetti_a = app[app['FinProvincia'] < 1000]\n",
    "selezione_progetti_a"
   ]
  },
  {
   "cell_type": "code",
   "execution_count": 24,
   "id": "afab5120",
   "metadata": {},
   "outputs": [
    {
     "data": {
      "image/png": "[encoded data removed]",
      "text/plain": [
       "<Figure size 640x480 with 1 Axes>"
      ]
     },
     "metadata": {},
     "output_type": "display_data"
    }
   ],
   "source": [
    "#1.6.2 Tracciare l'istogramma del finanziamento provinciale di tali progetti, imponendo classi di ampiezza di 100 euro\n",
    "selezione_progetti_a['FinProvincia'].hist(bins = np.arange(0,1001, 100))\n",
    "plt.show()"
   ]
  },
  {
   "cell_type": "code",
   "execution_count": 25,
   "id": "f7ec4dd4",
   "metadata": {},
   "outputs": [
    {
     "data": {
      "image/png": "[encoded data removed]",
      "text/plain": [
       "<Figure size 640x480 with 1 Axes>"
      ]
     },
     "metadata": {},
     "output_type": "display_data"
    }
   ],
   "source": [
    "#1.6.3 Tracciare anche il boxplot per la medesima quantità\n",
    "selezione_progetti_a['FinProvincia'].plot.box()\n",
    "plt.show()"
   ]
  },
  {
   "cell_type": "code",
   "execution_count": 26,
   "id": "986509eb",
   "metadata": {},
   "outputs": [
    {
     "name": "stdout",
     "output_type": "stream",
     "text": [
      "Tra i due, l istogramma è quello maggiormente informativo perchè mostra che i dati seguono una distribuzione bimodale.\n"
     ]
    }
   ],
   "source": [
    "#1.6.4 Tra i due grafici di sopra, quale ritenete maggiormente informativo e perchè?\n",
    "print('Tra i due, l istogramma è quello maggiormente informativo perchè mostra che i dati seguono una distribuzione bimodale.')"
   ]
  },
  {
   "cell_type": "code",
   "execution_count": 27,
   "id": "a310520c",
   "metadata": {},
   "outputs": [
    {
     "name": "stdout",
     "output_type": "stream",
     "text": [
      "Importo medio: 636.9052631578948 \n",
      "Deviazione standard: 264.80233322588253\n"
     ]
    }
   ],
   "source": [
    "#1.6.5 Tra i progetti di selezione_progetti_a, qual'è stato l'importo medio erogato dalla provincia? Deviazione standard?\n",
    "print('Importo medio:', selezione_progetti_a['FinProvincia'].mean(), \n",
    "      \"\\nDeviazione standard:\", selezione_progetti_a['FinProvincia'].std())"
   ]
  },
  {
   "cell_type": "code",
   "execution_count": 28,
   "id": "caa2017a",
   "metadata": {},
   "outputs": [
    {
     "data": {
      "text/plain": [
       "0"
      ]
     },
     "execution_count": 28,
     "metadata": {},
     "output_type": "execute_result"
    }
   ],
   "source": [
    "#1.6.6 Quanti hanno ricevuto un finanziamento provinciale compreso tra 500 e 700 euro?\n",
    "app = selezione_progetti_a[selezione_progetti_a['FinProvincia'] > 500]\n",
    "len(app[app['FinProvincia'] < 700])"
   ]
  },
  {
   "cell_type": "code",
   "execution_count": 33,
   "id": "cf24e375",
   "metadata": {},
   "outputs": [
    {
     "data": {
      "image/png": "[encoded data removed]",
      "text/plain": [
       "<Figure size 640x480 with 1 Axes>"
      ]
     },
     "metadata": {},
     "output_type": "display_data"
    },
    {
     "name": "stdout",
     "output_type": "stream",
     "text": [
      "0.6964011723762348\n",
      "Lo scatter plot evidenzia l esistenza di una relazione diretta abbastanza forte tra i due attributi, e l indice \n",
      "di correlazione abbastanza vicino ad 1 conferma tale ipotesi\n"
     ]
    }
   ],
   "source": [
    "'''\n",
    "1.6.7 Usare un grafico e un indice numerico per evidenziare l'esistenza di una relazione tra finanziamento provinciale e spese \n",
    "sostenute\n",
    "'''\n",
    "selezione_progetti_a.plot.scatter('FinProvincia', 'TotSpese')\n",
    "plt.show()\n",
    "print(selezione_progetti_a['FinProvincia'].corr(selezione_progetti_a['TotSpese']))\n",
    "print('Lo scatter plot evidenzia l esistenza di una relazione diretta abbastanza forte tra i due attributi, e l indice \\ndi correlazione abbastanza vicino ad 1 conferma tale ipotesi')"
   ]
  },
  {
   "cell_type": "code",
   "execution_count": 38,
   "id": "a5b9a7f8",
   "metadata": {},
   "outputs": [
    {
     "data": {
      "image/png": "[encoded data removed]",
      "text/plain": [
       "<Figure size 640x480 with 1 Axes>"
      ]
     },
     "metadata": {},
     "output_type": "display_data"
    },
    {
     "name": "stdout",
     "output_type": "stream",
     "text": [
      "0.9999999999078262\n",
      "Lo scatter plot, in questo caso, rimane simile a prima a meno dell outlier eliminato, possiamo invece osservare che\n",
      "l indice di correlazione è molto più vicino ad 1, per cui la relazione di tipo diretta\n",
      "è più forte di quella di prima.\n"
     ]
    }
   ],
   "source": [
    "'''\n",
    "1.6.8 Nell'esercizio precedente dovrebbe essere chiaramente visibile la presenza di almeno un progetto che si discosta \n",
    "dall'andamento generale. Eliminate tali progetti dall'insieme di dati e ripetere le domande del punto precedente \n",
    "'''\n",
    "selezione_progetti_a_filter = selezione_progetti_a[selezione_progetti_a['TotSpese'] > 2000]\n",
    "selezione_progetti_a_filter.plot.scatter('FinProvincia', 'TotSpese')\n",
    "plt.show()\n",
    "print(selezione_progetti_a_filter['FinProvincia'].corr(selezione_progetti_a_filter['TotSpese']))\n",
    "print('Lo scatter plot, in questo caso, rimane simile a prima a meno dell outlier eliminato, possiamo invece osservare che\\nl indice di correlazione è molto più vicino ad 1, per cui la relazione di tipo diretta\\nè più forte di quella di prima.')"
   ]
  },
  {
   "cell_type": "code",
   "execution_count": 39,
   "id": "8e15071f",
   "metadata": {},
   "outputs": [],
   "source": [
    "'''\n",
    "ESERCIZIO 2\n",
    "Ritorniamo al dataset completo. I suoi dati costituiscono una fotografia della situazione contabile dopo un anno \n",
    "dall'assegnazione del finanziamento, dove TotSpese indica le spese sostenute da allora (può essere mancante).\n",
    "'''"
   ]
  },
  {
   "cell_type": "code",
   "execution_count": 52,
   "id": "0125bc9e",
   "metadata": {},
   "outputs": [
    {
     "data": {
      "text/plain": [
       "0.6908396946564885"
      ]
     },
     "execution_count": 52,
     "metadata": {},
     "output_type": "execute_result"
    }
   ],
   "source": [
    "#2.1 Quanti sono i progetti che non hanno ancora sostenuto spese?\n",
    "len(finanziamenti.dropna(subset=['TotSpese'])) / len(finanziamenti)"
   ]
  },
  {
   "cell_type": "code",
   "execution_count": 44,
   "id": "dc7facb1",
   "metadata": {},
   "outputs": [
    {
     "data": {
      "text/plain": [
       "0.0005678277621445123"
      ]
     },
     "execution_count": 44,
     "metadata": {},
     "output_type": "execute_result"
    }
   ],
   "source": [
    "#2.2 Stimare la probabilità che, a distanza di un anno dall'assegnazione del finanziamento, non si siano ancora sostenute spese\n"
   ]
  },
  {
   "cell_type": "code",
   "execution_count": 58,
   "id": "ec688a63",
   "metadata": {},
   "outputs": [
    {
     "name": "stdout",
     "output_type": "stream",
     "text": [
      "X è distribuita secondo un modello bernoulliano\n"
     ]
    }
   ],
   "source": [
    "'''\n",
    "2.3 Consideriamo lo spazio campionario O = R U {NA} che codifica i valori possibili per l'attributo TotSpese. Considerando che\n",
    "una variabile aleatoria è una funzione X : O -> R, definire opportunamente X così da legarla all'evento \"a un anno\n",
    "dall'assegnazione del finanziamento il progetto non ha ancora sostenuto spese.\"\n",
    "'''\n",
    "print('X è distribuita secondo un modello bernoulliano')"
   ]
  },
  {
   "cell_type": "code",
   "execution_count": 59,
   "id": "e531c28b",
   "metadata": {},
   "outputs": [
    {
     "data": {
      "text/plain": [
       "111540.26428966066"
      ]
     },
     "execution_count": 59,
     "metadata": {},
     "output_type": "execute_result"
    }
   ],
   "source": [
    "#2.5 Fornire una stima del parametro di tale legge\n",
    "finanziamenti['TotSpese'].mean()"
   ]
  },
  {
   "cell_type": "code",
   "execution_count": 66,
   "id": "9f0acac7",
   "metadata": {},
   "outputs": [
    {
     "data": {
      "text/plain": [
       "6765.183171365392"
      ]
     },
     "execution_count": 66,
     "metadata": {},
     "output_type": "execute_result"
    }
   ],
   "source": [
    "#2.6 Accettiamo di sbagliare la stima col 95% di probabilità. Qual'è il margine di errore da tollerare?\n",
    "a = finanziamenti['TotSpese'].std() / math.sqrt(len(finanziamenti))\n",
    "Z = st.norm()\n",
    "a * Z.ppf(1- 0.05/2)"
   ]
  },
  {
   "cell_type": "code",
   "execution_count": null,
   "id": "53ff89c3",
   "metadata": {},
   "outputs": [],
   "source": []
  }
 ],
 "metadata": {
  "kernelspec": {
   "display_name": "Python 3 (ipykernel)",
   "language": "python",
   "name": "python3"
  },
  "language_info": {
   "codemirror_mode": {
    "name": "ipython",
    "version": 3
   },
   "file_extension": ".py",
   "mimetype": "text/x-python",
   "name": "python",
   "nbconvert_exporter": "python",
   "pygments_lexer": "ipython3",
   "version": "3.9.13"
  }
 },
 "nbformat": 4,
 "nbformat_minor": 5
}
