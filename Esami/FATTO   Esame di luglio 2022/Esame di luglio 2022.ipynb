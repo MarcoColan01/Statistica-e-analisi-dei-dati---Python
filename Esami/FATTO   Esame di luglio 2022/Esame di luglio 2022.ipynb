{
 "cells": [
  {
   "cell_type": "code",
   "execution_count": 1,
   "id": "a1158ea0",
   "metadata": {},
   "outputs": [],
   "source": [
    "import scipy.stats as st\n",
    "import matplotlib.pyplot as plt\n",
    "import pandas as pd\n",
    "import statsmodels.api as sm\n",
    "import numpy as np\n",
    "import math"
   ]
  },
  {
   "cell_type": "code",
   "execution_count": 2,
   "id": "90a5df1c",
   "metadata": {},
   "outputs": [],
   "source": [
    "#ESERCIZIO 1"
   ]
  },
  {
   "cell_type": "code",
   "execution_count": 5,
   "id": "cc43af8e",
   "metadata": {},
   "outputs": [
    {
     "data": {
      "image/png": "[encoded data removed]",
      "text/plain": [
       "<Figure size 640x480 with 1 Axes>"
      ]
     },
     "metadata": {},
     "output_type": "display_data"
    }
   ],
   "source": [
    "#1.4 Massa di probabilità di X (poissoniana) con lambda = 0.9\n",
    "l = 0.9\n",
    "Q = st.poisson(2*l)\n",
    "x_max = Q.ppf(0.9999)\n",
    "values = range(0, int(x_max) + 1) # aggiungo uno perché l'estremo superiore viene escluso dal range\n",
    "plt.vlines(values, 0, Q.pmf(values)) # grafico a bastoncini perché lavoriamo con parametri naturali, quindi barre aventi spessore o linee poligonali potrebbero confondere l'osservatore, dando un senso di falsa continuità\n",
    "plt.plot(values, Q.pmf(values), 'o')\n",
    "plt.show()"
   ]
  },
  {
   "cell_type": "code",
   "execution_count": 6,
   "id": "5730b9af",
   "metadata": {},
   "outputs": [],
   "source": [
    "#ESERCIZIO 2"
   ]
  },
  {
   "cell_type": "code",
   "execution_count": 25,
   "id": "a3a128b4",
   "metadata": {},
   "outputs": [
    {
     "data": {
      "text/html": [
       "<div>\n",
       "<style scoped>\n",
       "    .dataframe tbody tr th:only-of-type {\n",
       "        vertical-align: middle;\n",
       "    }\n",
       "\n",
       "    .dataframe tbody tr th {\n",
       "        vertical-align: top;\n",
       "    }\n",
       "\n",
       "    .dataframe thead th {\n",
       "        text-align: right;\n",
       "    }\n",
       "</style>\n",
       "<table border=\"1\" class=\"dataframe\">\n",
       "  <thead>\n",
       "    <tr style=\"text-align: right;\">\n",
       "      <th></th>\n",
       "      <th>temperatura</th>\n",
       "      <th>blocchidanneggiati</th>\n",
       "      <th>raffreddamento</th>\n",
       "    </tr>\n",
       "  </thead>\n",
       "  <tbody>\n",
       "    <tr>\n",
       "      <th>0</th>\n",
       "      <td>46.024489</td>\n",
       "      <td>0.0</td>\n",
       "      <td>1.0</td>\n",
       "    </tr>\n",
       "    <tr>\n",
       "      <th>1</th>\n",
       "      <td>83.225486</td>\n",
       "      <td>0.0</td>\n",
       "      <td>1.0</td>\n",
       "    </tr>\n",
       "    <tr>\n",
       "      <th>2</th>\n",
       "      <td>81.451565</td>\n",
       "      <td>0.0</td>\n",
       "      <td>NaN</td>\n",
       "    </tr>\n",
       "    <tr>\n",
       "      <th>3</th>\n",
       "      <td>54.427135</td>\n",
       "      <td>0.0</td>\n",
       "      <td>1.0</td>\n",
       "    </tr>\n",
       "    <tr>\n",
       "      <th>4</th>\n",
       "      <td>76.438674</td>\n",
       "      <td>0.0</td>\n",
       "      <td>1.0</td>\n",
       "    </tr>\n",
       "    <tr>\n",
       "      <th>...</th>\n",
       "      <td>...</td>\n",
       "      <td>...</td>\n",
       "      <td>...</td>\n",
       "    </tr>\n",
       "    <tr>\n",
       "      <th>1722</th>\n",
       "      <td>28.688900</td>\n",
       "      <td>5.0</td>\n",
       "      <td>0.0</td>\n",
       "    </tr>\n",
       "    <tr>\n",
       "      <th>1723</th>\n",
       "      <td>56.358840</td>\n",
       "      <td>5.0</td>\n",
       "      <td>0.0</td>\n",
       "    </tr>\n",
       "    <tr>\n",
       "      <th>1724</th>\n",
       "      <td>64.711851</td>\n",
       "      <td>6.0</td>\n",
       "      <td>0.0</td>\n",
       "    </tr>\n",
       "    <tr>\n",
       "      <th>1725</th>\n",
       "      <td>34.016859</td>\n",
       "      <td>6.0</td>\n",
       "      <td>0.0</td>\n",
       "    </tr>\n",
       "    <tr>\n",
       "      <th>1726</th>\n",
       "      <td>50.206145</td>\n",
       "      <td>6.0</td>\n",
       "      <td>0.0</td>\n",
       "    </tr>\n",
       "  </tbody>\n",
       "</table>\n",
       "<p>1727 rows × 3 columns</p>\n",
       "</div>"
      ],
      "text/plain": [
       "      temperatura  blocchidanneggiati  raffreddamento\n",
       "0       46.024489                 0.0             1.0\n",
       "1       83.225486                 0.0             1.0\n",
       "2       81.451565                 0.0             NaN\n",
       "3       54.427135                 0.0             1.0\n",
       "4       76.438674                 0.0             1.0\n",
       "...           ...                 ...             ...\n",
       "1722    28.688900                 5.0             0.0\n",
       "1723    56.358840                 5.0             0.0\n",
       "1724    64.711851                 6.0             0.0\n",
       "1725    34.016859                 6.0             0.0\n",
       "1726    50.206145                 6.0             0.0\n",
       "\n",
       "[1727 rows x 3 columns]"
      ]
     },
     "execution_count": 25,
     "metadata": {},
     "output_type": "execute_result"
    }
   ],
   "source": [
    "rilevazioni = pd.read_csv('rilevazioni.csv',sep = ';', decimal = '.')\n",
    "rilevazioni"
   ]
  },
  {
   "cell_type": "code",
   "execution_count": 8,
   "id": "d0a00af4",
   "metadata": {},
   "outputs": [],
   "source": [
    "#1.1 Scrivete del codice che dica"
   ]
  },
  {
   "cell_type": "code",
   "execution_count": 14,
   "id": "20d100cc",
   "metadata": {},
   "outputs": [
    {
     "name": "stdout",
     "output_type": "stream",
     "text": [
      "1727\n",
      "5\n",
      "blocchidanneggiati    False\n",
      "raffreddamento         True\n",
      "dtype: bool\n"
     ]
    }
   ],
   "source": [
    "#1.1.1 Quanti casi sono contenuti nel dataset\n",
    "print(len(rilevazioni))\n",
    "\n",
    "#1.1.2 Quanti casi contengono almeno un valore mancante\n",
    "print(len(rilevazioni) - len(rilevazioni.dropna()))\n",
    "\n",
    "#1.1.3 Quali attributi contengono almeno un valore mancante\n",
    "print(pd.isnull(rilevazioni).any())"
   ]
  },
  {
   "cell_type": "code",
   "execution_count": 23,
   "id": "11b33ab8",
   "metadata": {},
   "outputs": [
    {
     "data": {
      "image/png": "[encoded data removed]",
      "text/plain": [
       "<Figure size 640x480 with 1 Axes>"
      ]
     },
     "metadata": {},
     "output_type": "display_data"
    },
    {
     "name": "stdout",
     "output_type": "stream",
     "text": [
      "Uso un grafico a torta perchè l attributo è binario.\n"
     ]
    }
   ],
   "source": [
    "#1.2 Descrivere l'attributo raffreddamento usando la rappresentazione grafica più opportuna, giustificando.\n",
    "raff_freq = rilevazioni['raffreddamento'].value_counts(normalize=True).sort_index()\n",
    "plt.pie(raff_freq, labels=['senza raffreddamento', 'con raffreddamento'])\n",
    "plt.show()\n",
    "print('Uso un grafico a torta perchè l attributo è binario.')"
   ]
  },
  {
   "cell_type": "code",
   "execution_count": 30,
   "id": "1ed45feb",
   "metadata": {},
   "outputs": [
    {
     "data": {
      "image/png": "[encoded data removed]",
      "text/plain": [
       "<Figure size 640x480 with 1 Axes>"
      ]
     },
     "metadata": {},
     "output_type": "display_data"
    },
    {
     "name": "stdout",
     "output_type": "stream",
     "text": [
      "Usando uno scatter plot si nota come non esista alcun tipo di relazione tra la \n",
      "temperatura e l accensione del sistema di raffreddamento.\n",
      "-0.046219473361162826\n",
      "Indice di correlazione tra i due attributi tendente a 0 conferma tale ipotesi.\n"
     ]
    }
   ],
   "source": [
    "#1.3 Valutare l'ipotesi che la temperatura influisca sull'accensione del sistema di raffreddamento\n",
    "rilevazioni.plot.scatter('temperatura','raffreddamento')\n",
    "plt.show()\n",
    "print('Usando uno scatter plot si nota come non esista alcun tipo di relazione tra la \\ntemperatura e l accensione del sistema di raffreddamento.')\n",
    "print(rilevazioni['temperatura'].corr(rilevazioni['raffreddamento']))\n",
    "print('Indice di correlazione tra i due attributi tendente a 0 conferma tale ipotesi.')"
   ]
  },
  {
   "cell_type": "code",
   "execution_count": 34,
   "id": "18fc9a84",
   "metadata": {},
   "outputs": [
    {
     "data": {
      "image/png": "[encoded data removed]",
      "text/plain": [
       "<Figure size 640x480 with 1 Axes>"
      ]
     },
     "metadata": {},
     "output_type": "display_data"
    },
    {
     "name": "stdout",
     "output_type": "stream",
     "text": [
      "Usiamo un grafico a bastoncini perchè l attributo è discreto (o numerabile)\n"
     ]
    }
   ],
   "source": [
    "#1.4  Visualizzare graficamente l'attributo blocchidanneggiati, giustificando\n",
    "blocchi_freq = rilevazioni['blocchidanneggiati'].value_counts(normalize=True).sort_index() \n",
    "plt.vlines(blocchi_freq.index, 0, blocchi_freq.values) \n",
    "plt.plot(blocchi_freq.index, blocchi_freq.values, 'o')\n",
    "plt.show()\n",
    "print('Usiamo un grafico a bastoncini perchè l attributo è discreto (o numerabile)')"
   ]
  },
  {
   "cell_type": "code",
   "execution_count": 38,
   "id": "2d254db2",
   "metadata": {},
   "outputs": [
    {
     "data": {
      "text/html": [
       "<div>\n",
       "<style scoped>\n",
       "    .dataframe tbody tr th:only-of-type {\n",
       "        vertical-align: middle;\n",
       "    }\n",
       "\n",
       "    .dataframe tbody tr th {\n",
       "        vertical-align: top;\n",
       "    }\n",
       "\n",
       "    .dataframe thead th {\n",
       "        text-align: right;\n",
       "    }\n",
       "</style>\n",
       "<table border=\"1\" class=\"dataframe\">\n",
       "  <thead>\n",
       "    <tr style=\"text-align: right;\">\n",
       "      <th>raffreddamento</th>\n",
       "      <th>0.0</th>\n",
       "      <th>1.0</th>\n",
       "      <th>All</th>\n",
       "    </tr>\n",
       "    <tr>\n",
       "      <th>blocchidanneggiati</th>\n",
       "      <th></th>\n",
       "      <th></th>\n",
       "      <th></th>\n",
       "    </tr>\n",
       "  </thead>\n",
       "  <tbody>\n",
       "    <tr>\n",
       "      <th>0.0</th>\n",
       "      <td>116</td>\n",
       "      <td>830</td>\n",
       "      <td>946</td>\n",
       "    </tr>\n",
       "    <tr>\n",
       "      <th>1.0</th>\n",
       "      <td>181</td>\n",
       "      <td>253</td>\n",
       "      <td>434</td>\n",
       "    </tr>\n",
       "    <tr>\n",
       "      <th>2.0</th>\n",
       "      <td>166</td>\n",
       "      <td>34</td>\n",
       "      <td>200</td>\n",
       "    </tr>\n",
       "    <tr>\n",
       "      <th>3.0</th>\n",
       "      <td>89</td>\n",
       "      <td>5</td>\n",
       "      <td>94</td>\n",
       "    </tr>\n",
       "    <tr>\n",
       "      <th>4.0</th>\n",
       "      <td>37</td>\n",
       "      <td>0</td>\n",
       "      <td>37</td>\n",
       "    </tr>\n",
       "    <tr>\n",
       "      <th>5.0</th>\n",
       "      <td>8</td>\n",
       "      <td>0</td>\n",
       "      <td>8</td>\n",
       "    </tr>\n",
       "    <tr>\n",
       "      <th>6.0</th>\n",
       "      <td>3</td>\n",
       "      <td>0</td>\n",
       "      <td>3</td>\n",
       "    </tr>\n",
       "    <tr>\n",
       "      <th>All</th>\n",
       "      <td>600</td>\n",
       "      <td>1122</td>\n",
       "      <td>1722</td>\n",
       "    </tr>\n",
       "  </tbody>\n",
       "</table>\n",
       "</div>"
      ],
      "text/plain": [
       "raffreddamento      0.0   1.0   All\n",
       "blocchidanneggiati                 \n",
       "0.0                 116   830   946\n",
       "1.0                 181   253   434\n",
       "2.0                 166    34   200\n",
       "3.0                  89     5    94\n",
       "4.0                  37     0    37\n",
       "5.0                   8     0     8\n",
       "6.0                   3     0     3\n",
       "All                 600  1122  1722"
      ]
     },
     "execution_count": 38,
     "metadata": {},
     "output_type": "execute_result"
    }
   ],
   "source": [
    "'''\n",
    "1.5 Generate una tabella che mostri le frequenze congiunte degli attributi blocchidanneggiati e raffreddamento. \n",
    "Indicando con R l'evento che si verifica quando il sistema di raffreddamento automatico è stato attivato durante \n",
    "un'ora e con D l'evento che si verifica quando in un'ora risultano danneggiati dei blocchi del disco fisso, usate \n",
    "la tabella generata per calcolare le seguenti probabilità: \n",
    "i.   P(D)\n",
    "ii.  P(R unito D), \n",
    "iii. P(D|R), \n",
    "iv.  P(R|D complemento). \n",
    "Le probabilità che avete calcolato devono sommare a uno? Perché?\n",
    "'''\n",
    "\n",
    "blocchi_raff = pd.crosstab(index = rilevazioni['blocchidanneggiati'],\n",
    "                          columns = rilevazioni['raffreddamento'],\n",
    "                          margins = True)\n",
    "blocchi_raff"
   ]
  },
  {
   "cell_type": "code",
   "execution_count": 45,
   "id": "7691f4d7",
   "metadata": {},
   "outputs": [
    {
     "name": "stdout",
     "output_type": "stream",
     "text": [
      "P(D) = 0.45063879210220675\n",
      "P(R unito D) = 0.16957026713124274\n",
      "P(D|R) = 0.26024955436720143\n",
      "P(R|D complemento) = 0.8773784355179705\n"
     ]
    }
   ],
   "source": [
    "print('P(D) =', (1722 - 946)/1722)\n",
    "print('P(R unito D) =', ((1122-830)/(1722-946)) * ((1722 - 946)/1722))\n",
    "print('P(D|R) =', (1122-830)/(1122))\n",
    "print('P(R|D complemento) =',830/946)"
   ]
  },
  {
   "cell_type": "code",
   "execution_count": 46,
   "id": "9dac578f",
   "metadata": {},
   "outputs": [],
   "source": [
    "#ESERCIZIO 4\n",
    "#Concentriamoci su blocchidanneggiati"
   ]
  },
  {
   "cell_type": "code",
   "execution_count": 81,
   "id": "cfacf52c",
   "metadata": {},
   "outputs": [
    {
     "data": {
      "text/plain": [
       "0       0.0\n",
       "1       0.0\n",
       "3       0.0\n",
       "4       0.0\n",
       "5       0.0\n",
       "       ... \n",
       "1120    3.0\n",
       "1121    3.0\n",
       "1122    3.0\n",
       "1123    3.0\n",
       "1124    3.0\n",
       "Name: blocchidanneggiati, Length: 1122, dtype: float64"
      ]
     },
     "execution_count": 81,
     "metadata": {},
     "output_type": "execute_result"
    }
   ],
   "source": [
    "#4.1 Memorizzare in raffreddamento_si e raffreddamento_no i valori di blocchidanneggiati nei due casi di raffreddamento\n",
    "raffreddamento_si = rilevazioni[rilevazioni['raffreddamento'] == 1]['blocchidanneggiati']\n",
    "raffreddamento_no = rilevazioni[rilevazioni['raffreddamento'] == 0]['blocchidanneggiati']\n",
    "raffreddamento_si"
   ]
  },
  {
   "cell_type": "code",
   "execution_count": 64,
   "id": "ec04cda3",
   "metadata": {},
   "outputs": [
    {
     "data": {
      "image/png": "[encoded data removed]",
      "text/plain": [
       "<Figure size 640x480 with 1 Axes>"
      ]
     },
     "metadata": {},
     "output_type": "display_data"
    }
   ],
   "source": [
    "'''\n",
    "4.2 Calcolate i decili empirici (i quantili di livello uguale a i/10 per i = 0,...,10) separatamente per i dati \n",
    "contenuti in `raffreddamento_si` e `raffreddamento_no` e disegnate i punti le cui ascisse e ordinate corrispondono, \n",
    "rispettivamente, ai valori ottenuti, raggruppati per livello. Usate il grafico ottenuto per confermare o confutare \n",
    "l'ipotesi che la distribuzione del numero di blocchi danneggiati sia dipendente dal funzionamento del sistema di \n",
    "raffreddamento automatico, motivando il vostro ragionamento. Integrate la vostra analisi con altri metodi che \n",
    "ritenete opportuni.\n",
    "'''\n",
    "\n",
    "decili = [i/10 for i in range(0,11)]\n",
    "decili_raffsi = raffreddamento_si.quantile(decili)\n",
    "decili_raffno = raffreddamento_no.quantile(decili)\n",
    "\n",
    "plt.plot(decili_raffsi, decili_raffno, 'o')\n",
    "plt.show()"
   ]
  },
  {
   "cell_type": "code",
   "execution_count": 65,
   "id": "ea001e88",
   "metadata": {},
   "outputs": [
    {
     "data": {
      "text/plain": [
       "0.2994652406417112"
      ]
     },
     "execution_count": 65,
     "metadata": {},
     "output_type": "execute_result"
    }
   ],
   "source": [
    "'''\n",
    "4.3 Supponendo che i valori di raff_si siano assimilabili ad un campione estratto da una popolazione \n",
    "descritta da Xsi, stimarne il valore atteso\n",
    "'''\n",
    "raffreddamento_si.mean()"
   ]
  },
  {
   "cell_type": "code",
   "execution_count": 68,
   "id": "5904f376",
   "metadata": {},
   "outputs": [
    {
     "data": {
      "image/png": "[encoded data removed]",
      "text/plain": [
       "<Figure size 640x480 with 1 Axes>"
      ]
     },
     "metadata": {},
     "output_type": "display_data"
    },
    {
     "name": "stdout",
     "output_type": "stream",
     "text": [
      "Come si vede dal grafico, i punti si distribuiscono sulla bisettrice, il che conferma l ipotesi.\n",
      "0.2994652406417112 0.29739489664976254\n",
      "Inoltre i valori molto simili di valore atteso e varianza rafforzano ulteriormente questa ipotesi.\n"
     ]
    }
   ],
   "source": [
    "#4.4 Confermare che i valori di raffreddamento_si siano descritti da una distribuzione di Poisson\n",
    "X = st.poisson(raffreddamento_si.mean())\n",
    "quantili = np.arange(0.01, 1.01, 0.01)\n",
    "plt.plot(X.ppf(quantili), raffreddamento_si.quantile(quantili), 'o', alpha=0.3) \n",
    "plt.plot([0, 2], [0, 2])\n",
    "plt.show()\n",
    "print('Come si vede dal grafico, i punti si distribuiscono sulla bisettrice, il che conferma l ipotesi.')\n",
    "print(raffreddamento_si.mean(), raffreddamento_si.var())\n",
    "print('Inoltre i valori molto simili di valore atteso e varianza rafforzano ulteriormente questa ipotesi.')"
   ]
  },
  {
   "cell_type": "code",
   "execution_count": 70,
   "id": "e7290d08",
   "metadata": {},
   "outputs": [
    {
     "data": {
      "image/png": "[encoded data removed]",
      "text/plain": [
       "<Figure size 640x480 with 1 Axes>"
      ]
     },
     "metadata": {},
     "output_type": "display_data"
    },
    {
     "name": "stdout",
     "output_type": "stream",
     "text": [
      "Come si vede dal grafico, i punti si distribuiscono sulla bisettrice, il che conferma l ipotesi.\n",
      "1.6433333333333333 1.5453644963828614\n",
      "Inoltre i valori molto simili di valore atteso e varianza rafforzano ulteriormente questa ipotesi.\n"
     ]
    }
   ],
   "source": [
    "#4.5 Ripetere le analisi fatte al punto precedente ma stavolta per raffreddamento_no\n",
    "X = st.poisson(raffreddamento_no.mean())\n",
    "quantili = np.arange(0.01, 1.01, 0.01)\n",
    "plt.plot(X.ppf(quantili), raffreddamento_no.quantile(quantili), 'o', alpha=0.3) \n",
    "plt.plot([0, 5], [0, 5])\n",
    "plt.show()\n",
    "print('Come si vede dal grafico, i punti si distribuiscono sulla bisettrice, il che conferma l ipotesi.')\n",
    "print(raffreddamento_no.mean(), raffreddamento_no.var())\n",
    "print('Inoltre i valori molto simili di valore atteso e varianza rafforzano ulteriormente questa ipotesi.')"
   ]
  },
  {
   "cell_type": "code",
   "execution_count": 72,
   "id": "24504470",
   "metadata": {},
   "outputs": [
    {
     "name": "stdout",
     "output_type": "stream",
     "text": [
      "Stimatore per la varianza di Xsi: 0.29739489664976254\n",
      "Stimatore per la deviazione standard di Xsi: 0.5453392491374177\n",
      "Stimatore per il parametro lambda_si: 0.2994652406417112\n",
      "Il primo e il terzo stimatore sono non distorti e tutti e 3 sono consistenti in media quadratica.\n"
     ]
    }
   ],
   "source": [
    "'''\n",
    "4.6 Indicare se esiste uno stimatore non distorto per:\n",
    "La varianza di Xsi\n",
    "La deviazione standard di Xsi\n",
    "Il parametro lambda_si\n",
    "Di quali proprietà godono questi stimatori?\n",
    "'''\n",
    "print('Stimatore per la varianza di Xsi:', raffreddamento_si.var())  #Varianza campionaria\n",
    "print('Stimatore per la deviazione standard di Xsi:', math.sqrt(raffreddamento_si.var()))  #Radice quadrata della var. camp.\n",
    "print('Stimatore per il parametro lambda_si:', raffreddamento_si.mean())  #Valore atteso in un modello di Poisson = parametro\n",
    "print('Il primo e il terzo stimatore sono non distorti e tutti e 3 sono consistenti in media quadratica.')"
   ]
  },
  {
   "cell_type": "code",
   "execution_count": 78,
   "id": "67ee98eb",
   "metadata": {},
   "outputs": [
    {
     "data": {
      "text/plain": [
       "9.298299907811725e-10"
      ]
     },
     "execution_count": 78,
     "metadata": {},
     "output_type": "execute_result"
    }
   ],
   "source": [
    "#4.7 Con quale probabilità potete garantire che la stima al punto 3 disti in valore assoluto dal valore sconosciuto più di 0.1?\n",
    "Z = st.norm()\n",
    "arg = (0.1/math.sqrt(raffreddamento_si.mean()))*math.sqrt(len(raffreddamento_si))\n",
    "(1 - (2*Z.cdf(arg)-1)) "
   ]
  },
  {
   "cell_type": "code",
   "execution_count": 79,
   "id": "20312bbb",
   "metadata": {},
   "outputs": [
    {
     "data": {
      "text/plain": [
       "0.6496815286624203"
      ]
     },
     "execution_count": 79,
     "metadata": {},
     "output_type": "execute_result"
    }
   ],
   "source": [
    "#4.8 Stima probabilità che il sistema di raffreddamento sia in funzione\n",
    "len(raffreddamento_si) / len(rilevazioni)"
   ]
  },
  {
   "cell_type": "code",
   "execution_count": 83,
   "id": "8d1d5c84",
   "metadata": {},
   "outputs": [
    {
     "name": "stdout",
     "output_type": "stream",
     "text": [
      "Per raffreddamento attivo: 1.565177694551334e-05\n",
      "Per raffreddamento NON attivo: 0.02614944042142986\n"
     ]
    }
   ],
   "source": [
    "'''\n",
    "4.9 Sostituendo a lambda_SI e lambda_NO delle opportune stime che potete ricavare dai dati a \n",
    "disposizione, calcolate la probabilità che in un'ora si danneggino più di quattro blocchi, considerando \n",
    "separatamente i due casi nei quali rispettivamente il sistema di raffreddamento è in funzione oppure no.\n",
    "'''\n",
    "Xsi = st.poisson(raffreddamento_si.mean())\n",
    "Xno = st.poisson(raffreddamento_no.mean())\n",
    "print('Per raffreddamento attivo:',1- Xsi.cdf(4))\n",
    "print('Per raffreddamento NON attivo:',1- Xno.cdf(4))"
   ]
  },
  {
   "cell_type": "code",
   "execution_count": 84,
   "id": "6f632c53",
   "metadata": {},
   "outputs": [
    {
     "data": {
      "text/plain": [
       "0.0011760210899806056"
      ]
     },
     "execution_count": 84,
     "metadata": {},
     "output_type": "execute_result"
    }
   ],
   "source": [
    "'''\n",
    "4.10 Se in un'ora di funzionamento si danneggiano più di quattro blocchi, il sistema di rilevazione genera \n",
    "un allarme. Qual è la probabilità che questo allarme venga generato?\n",
    "'''\n",
    "X = st.poisson(rilevazioni.blocchidanneggiati.mean())\n",
    "1 - X.cdf(4)"
   ]
  },
  {
   "cell_type": "code",
   "execution_count": null,
   "id": "eccada44",
   "metadata": {},
   "outputs": [],
   "source": []
  }
 ],
 "metadata": {
  "kernelspec": {
   "display_name": "Python 3 (ipykernel)",
   "language": "python",
   "name": "python3"
  },
  "language_info": {
   "codemirror_mode": {
    "name": "ipython",
    "version": 3
   },
   "file_extension": ".py",
   "mimetype": "text/x-python",
   "name": "python",
   "nbconvert_exporter": "python",
   "pygments_lexer": "ipython3",
   "version": "3.9.13"
  }
 },
 "nbformat": 4,
 "nbformat_minor": 5
}
