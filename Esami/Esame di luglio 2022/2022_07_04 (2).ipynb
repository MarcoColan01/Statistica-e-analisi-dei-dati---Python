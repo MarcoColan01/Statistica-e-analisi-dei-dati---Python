{
 "cells": [
  {
   "cell_type": "markdown",
   "id": "4fc994d8",
   "metadata": {},
   "source": [
    "## Esercizio 1\n",
    "Sia $X$ una variabile aleatoria distribuita secondo un modello di Poisson di parametro $\\lambda$.\n",
    "\n",
    "**1.** $\\lambda$ può assumere un valore maggiore di 1? Perché? E può assumere un valore negativo? Perché?"
   ]
  },
  {
   "cell_type": "markdown",
   "id": "ba7b963e",
   "metadata": {},
   "source": [
    "**2.** Esprimete il valore atteso e la deviazione standard di $X$ in funzione di $\\lambda$. Esprimete successivamente la varianza di $X$ in funzione del valore atteso di quest'ultima."
   ]
  },
  {
   "cell_type": "markdown",
   "id": "fafd9bf9",
   "metadata": {},
   "source": [
    "**3.** Sia $Y$ un'altra variabile aleatoria distribuita come $X$ e da essa indipendente. Dato un generico __numero naturale__ $x$, indichiamo con $p(x)$ la probabilità dell'evento $X + Y = x$. Esprimete $p(x)$ in funzione di $\\lambda$ e $x$."
   ]
  },
  {
   "cell_type": "markdown",
   "id": "75a8d0fe",
   "metadata": {},
   "source": [
    "**4.** Fissiamo, __solo in questo punto__, $\\lambda = 0.9$. Utilizzando il computer visualizzate graficamente l'andamento di $p(x)$ al variare di $x$, scegliendo __opportunamente__ il tipo di grafico da generare e motivando la scelta fatta. Come avete scelto il valore massimo per $x$?"
   ]
  },
  {
   "cell_type": "markdown",
   "id": "823526be",
   "metadata": {},
   "source": [
    "**5.** Date $n$ variabili aleatorie $X_1,...,X_n$ indipendenti e identicamente distribuite come $X$, indichiamo con $S$ la somma $\\sum_{i=1}^{n} X_i$. Che distribuzione segue $S$?"
   ]
  },
  {
   "cell_type": "markdown",
   "id": "4e9ccfd0",
   "metadata": {},
   "source": [
    "## Esercizio 2\n",
    "Per $n \\in \\mathbb{N}$ fissato, sia $X_1,...,X_n$ un campione aleatorio estratto da una popolazione modellata tramite la variabile aleatoria $X$ descritta nell'esercizio 1.\n",
    "\n",
    "**1.** Fissiamo, __solo in questo punto__, $n=3$. La variabile aleatoria $T = (X_1 + X_2 - X_3)$ è uno stimatore deviato per $\\lambda$? Perché? Come cambiano (se cambiano) le risposte a queste due domande considerando $U = \\frac{1}{5}(2X_1 + 2X_2 + X_3)$ al posto di $T$? Possiamo valutare se questi stimatori godono della proprietà di consistenza in media quadratica?"
   ]
  },
  {
   "cell_type": "markdown",
   "id": "cff50125",
   "metadata": {},
   "source": [
    "Concentriamoci, nel resto di questo esercizio, sulla variabile aleatoria $\\overline{X} = \\frac{1}{n}\\sum_{i = 1}^{n}X_i$."
   ]
  },
  {
   "cell_type": "markdown",
   "id": "1d70448d",
   "metadata": {},
   "source": [
    "**2.** $\\overline{X}$ è distribuita secondo uno dei modelli che avete studiato? Indipendentemente dalla risposta data alla domanda precedente, siete in grado di esprimere la probabilità $P(\\overline{X} = x)$ in funzione di $\\lambda$?"
   ]
  },
  {
   "cell_type": "markdown",
   "id": "7eda5542",
   "metadata": {},
   "source": [
    "**3.** Esiste un modello che approssima in modo ragionevole la distribuzione di $\\overline{X}$? Motivate la vostra risposta, specificando anche quali valori assumono eventuali parametri del modello considerato."
   ]
  },
  {
   "cell_type": "markdown",
   "id": "3aa78afd",
   "metadata": {},
   "source": [
    "**4.** $\\overline{X}$ è uno stimatore non deviato per $\\mu = E(X)$? Calcolate il suo bias e il suo MSE e dite se esso gode anche della proprietà di consistenza in media quadratica."
   ]
  },
  {
   "cell_type": "markdown",
   "id": "4bcf4a48",
   "metadata": {},
   "source": [
    "**5.** $\\overline{X}$ è uno stimatore non deviato per $\\sigma ^2 = Var(X)$? Calcolate il suo bias e il suo MSE e dite se esso gode anche della proprietà di consistenza in media quadratica."
   ]
  },
  {
   "cell_type": "markdown",
   "id": "caa8c866",
   "metadata": {},
   "source": [
    "**6.** $\\overline{X}$ è uno stimatore non deviato per $\\sigma = \\sqrt {Var(X)}$? Calcolate il suo bias e il suo MSE e dite se esso gode anche della proprietà di consistenza in media quadratica."
   ]
  },
  {
   "cell_type": "markdown",
   "id": "86a1536b",
   "metadata": {},
   "source": [
    "**7.** Supponiamo, __solo in questo punto__, che $n = 1125$. Indicare, in funzione di $\\epsilon$ e $\\lambda$, la probabilità che l'errore (in valore assoluto) che si compie usando $\\overline{X}$ per stimare $\\lambda$ sia minore o uguale a $\\epsilon$."
   ]
  },
  {
   "cell_type": "markdown",
   "id": "e147cd9b",
   "metadata": {},
   "source": [
    "## Esercizio 3\n",
    "Collegatevi al sito [upload.di.unimi.it](https://upload.di.unimi.it), selezionate l'esame di _Statistica e analisi dei dati_ per l'appello odierno e scaricate il file `rilevazioni.csv`. Questo file contiene le seguenti informazioni raccolte da un ipotetico fornitore di computer i cui modelli sono dotati di sensori interni che eseguono delle rilevazioni ogni ora:\n",
    "- _blocchidanneggiati_: numero di blocchi dell'hard disk che si sono danneggiati nell'ora considerata;\n",
    "- _temperatura_: media della temperatura interna del computer, misurata in gradi centigradi e riferita all'ora considerata;\n",
    "- _raffreddamento_: valore binario che indica se il sistema di raffreddamento automatico addizionale è stato attivato almeno una volta nell'ora considerata (0: sistema non attivato, 1: sistema attivato).\n",
    "\n",
    "In questo file il carattere `;` separa le colonne.\n",
    "\n",
    "**1.** Scrivete ed eseguite del codice il cui output indichi quanti casi sono contenuti nel _dataset_, quanti casi contengono almeno un valore mancante e quali sono gli attributi per i quali è presente almeno un valore mancante."
   ]
  },
  {
   "cell_type": "markdown",
   "id": "409a4579",
   "metadata": {},
   "source": [
    "**2.** Descrivete l'attributo _raffreddamento_ utilizzando la rappresentazione grafica che ritenete più adeguata, motivando la scelta fatta e commentando i risultati ottenuti."
   ]
  },
  {
   "cell_type": "markdown",
   "id": "3dc901cf",
   "metadata": {},
   "source": [
    "**3.** Valutare l'ipotesi che la temperatura influisca sull'accensione del sistema automatico di raffreddamento, commentando i risultati ottenuti. Quali strumenti avete utilizzato per valutare questa ipotesi? Perché?"
   ]
  },
  {
   "cell_type": "markdown",
   "id": "cc461b28",
   "metadata": {},
   "source": [
    "**4.** Visualizzate graficamente l'attributo _blocchidanneggiati_ (tenendo presente il tipo di questo attributo), commentando i risultati ottenuti e giustificando la scelta del tipo di grafico realizzato."
   ]
  },
  {
   "cell_type": "markdown",
   "id": "25f84b23",
   "metadata": {},
   "source": [
    "**5.** Generate una tabella che mostri le frequenze congiunte degli attributi _blocchidanneggiati_ e _raffreddamento_. Indicando con $R$ l'evento che si verifica quando il sistema di raffreddamento automatico è stato attivato durante un'ora e con $D$ l'evento che si verifica quando in un'ora risultano danneggiati dei blocchi del disco fisso, usate la tabella generata per calcolare le seguenti probabilità: i. $P(D)$, ii. $P(R \\cap D)$, iii. $P(D|R)$, iv. $P(R|\\overline{D})$. Le probabilità che avete calcolato devono sommare a uno? Perché?"
   ]
  },
  {
   "cell_type": "markdown",
   "id": "31155c21",
   "metadata": {},
   "source": [
    "## Esercizio 4\n",
    "In questo esercizio ci concentreremo sui valori dell'attributo _blocchidanneggiati_.\n",
    "\n",
    "**1.** Memorizzate in due variabili `raffreddamento_si` e `raffreddamento_no` i valori dell'attributo *blocchidanneggiati* che si riferiscono, rispettivamente, ai casi in cui il sistema di raffreddamento automatico è attivato oppure no."
   ]
  },
  {
   "cell_type": "markdown",
   "id": "440ffd18",
   "metadata": {},
   "source": [
    "**2.** Calcolate i decili empirici (i quantili di livello uguale a $i/10$ per $i = 0,...,10$) separatamente per i dati contenuti in `raffreddamento_si` e `raffreddamento_no` e disegnate i punti le cui ascisse e ordinate corrispondono, rispettivamente, ai valori ottenuti, raggruppati per livello. Usate il grafico ottenuto per confermare o confutare l'ipotesi che la distribuzione del numero di blocchi danneggiati sia dipendente dal funzionamento del sistema di raffreddamento automatico, motivando il vostro ragionamento. Integrate la vostra analisi con altri metodi che ritenete opportuni."
   ]
  },
  {
   "cell_type": "markdown",
   "id": "ff0c7db0",
   "metadata": {},
   "source": [
    "**3.** Supponendo che i valori contenuti in `raffreddamento_si` siano assimilabili a un campione estratto da una popolazione descritta da una variabile aleatoria $X_{SI}$, stimate il valore atteso di quest'ultima."
   ]
  },
  {
   "cell_type": "markdown",
   "id": "e4c0001b",
   "metadata": {},
   "source": [
    "**4.** Confermate l'ipotesi che i valori contenuti in `raffreddamento_si` siano descritti da una distribuzione appartenente al modello di Poisson (suggerimento: potete utilizzare una tecnica analoga a quella descritta nel punto 2 di questo esercizio, sostituendo i quantili empirici di `raffreddamento_no` con dei quantili teorici opportunamente calcolati)."
   ]
  },
  {
   "cell_type": "markdown",
   "id": "79ce0a95",
   "metadata": {},
   "source": [
    "**5.** Ripetere le analisi fatte al punto precedente, considerando i dati contenuti in `raffreddamento_no`."
   ]
  },
  {
   "cell_type": "markdown",
   "id": "6f0dd76e",
   "metadata": {},
   "source": [
    "**6.** Indicate, se esiste, uno stimatore non deviato per: i. la varianza di $X_{SI}$, ii. la deviazione standard di $X_{SI}$, iii. il parametro $\\lambda_{SI}$. Di quali proprietà godono gli stimatori che avete indicato?"
   ]
  },
  {
   "cell_type": "markdown",
   "id": "da8c6ee9",
   "metadata": {},
   "source": [
    "**7.** Con quale probabilità potete garantire che la stima fatta al punto 3 disti in valore assoluto dal valore sconosciuto più di 0.1?"
   ]
  },
  {
   "cell_type": "markdown",
   "id": "5656d6ca",
   "metadata": {},
   "source": [
    "**8.** Stimate la probabilità che il sistema di raffreddamento automatico sia in funzione."
   ]
  },
  {
   "cell_type": "markdown",
   "id": "ff435ba6",
   "metadata": {},
   "source": [
    "**9.** Sostituendo a $\\lambda_{SI}$ e $\\lambda_{NO}$ delle opportune stime che potete ricavare dai dati a disposizione, calcolate la probabilità che in un'ora si danneggino più di quattro blocchi, considerando separatamente i due casi nei quali rispettivamente il sistema di raffreddamento è in funzione oppure no."
   ]
  },
  {
   "cell_type": "markdown",
   "id": "762bf50b",
   "metadata": {},
   "source": [
    "**10.** Se in un'ora di funzionamento si danneggiano più di quattro blocchi, il sistema di rilevazione genera un allarme. Qual è la probabilità che questo allarme venga generato?"
   ]
  },
  {
   "cell_type": "markdown",
   "id": "a1fd5663",
   "metadata": {},
   "source": [
    "**11.** Se l'allarme descritto al punto precedente viene attivato più di sette volte in un anno, il produttore sostituisce gratuitamente l'intero computer. All'inizio dell'anno sono stati venduti 7500 computer: supponendo che l'emissione dell'allarme in un giorno sia indipendente da ciò che succede negli altri giorni, qual è il numero atteso di computer che il produttore dovrà sostituire a fine anno?"
   ]
  }
 ],
 "metadata": {
  "kernelspec": {
   "display_name": "Python 3 (ipykernel)",
   "language": "python",
   "name": "python3"
  },
  "language_info": {
   "codemirror_mode": {
    "name": "ipython",
    "version": 3
   },
   "file_extension": ".py",
   "mimetype": "text/x-python",
   "name": "python",
   "nbconvert_exporter": "python",
   "pygments_lexer": "ipython3",
   "version": "3.9.12"
  }
 },
 "nbformat": 4,
 "nbformat_minor": 5
}
