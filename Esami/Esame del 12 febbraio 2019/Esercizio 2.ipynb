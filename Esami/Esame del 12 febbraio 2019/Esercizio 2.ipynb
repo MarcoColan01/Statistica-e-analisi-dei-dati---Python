{
 "cells": [
  {
   "cell_type": "code",
   "execution_count": 2,
   "id": "2c14f8ed",
   "metadata": {},
   "outputs": [],
   "source": [
    "import numpy as np \n",
    "import pandas as pd \n",
    "import matplotlib.pyplot as plt \n",
    "from scipy.constants import golden \n",
    "\n",
    "plt.style.use('fivethirtyeight')\n",
    "plt.rc('figure', figsize = (5.0, 5.0/golden)) \n",
    "\n",
    "cars = pd.read_csv('carsharing.csv', delimiter = ';', decimal=\",\")\n",
    "\n",
    "#cars"
   ]
  },
  {
   "cell_type": "code",
   "execution_count": null,
   "id": "64bd771c",
   "metadata": {},
   "outputs": [],
   "source": []
  },
  {
   "cell_type": "code",
   "execution_count": 10,
   "id": "bcc458ce",
   "metadata": {},
   "outputs": [
    {
     "data": {
      "image/png": "[encoded data removed]",
      "text/plain": [
       "<Figure size 500x309.017 with 1 Axes>"
      ]
     },
     "metadata": {},
     "output_type": "display_data"
    }
   ],
   "source": [
    "#2.2 Tracciate il boxplot della distanza nel caso di utilizzo in orario di punta e orario non di punta\n",
    "plt.boxplot([cars[cars['RushHour'] == 1].Distance, cars[cars['RushHour'] == 0].Distance], labels = ['RushHour', 'No RushHour'])\n",
    "plt.show()"
   ]
  },
  {
   "cell_type": "code",
   "execution_count": 12,
   "id": "489dfc7f",
   "metadata": {},
   "outputs": [
    {
     "name": "stdout",
     "output_type": "stream",
     "text": [
      "Negli orari di punta sono privilegiati spostamenti più brevi mentre in quelli non di punta spostamenti meno brevi: ciò lo si evince guardando la mediana dei due boxplot.\n"
     ]
    }
   ],
   "source": [
    "'''\n",
    "2.3 Ispezionando i due grafici ottenuti al punto precedente, dite se negli orari di punta sono\n",
    "privilegiati spostamenti \"più brevi\" oppure \"più lunghi\" rispetto agli orari non di punta,\n",
    "giustificando la risposta.\n",
    "'''\n",
    "print('Negli orari di punta sono privilegiati spostamenti più brevi mentre in quelli non di punta spostamenti meno brevi: ciò lo si evince guardando la mediana dei due boxplot.')"
   ]
  },
  {
   "cell_type": "code",
   "execution_count": 15,
   "id": "0e5b874c",
   "metadata": {},
   "outputs": [
    {
     "name": "stdout",
     "output_type": "stream",
     "text": [
      "3.3193548387096796 13.487428571428563\n",
      "Le due medie sono compatibili con le informazioni visualizzate dall istogramma\n"
     ]
    }
   ],
   "source": [
    "#2.4 Media dei due gruppi di orario\n",
    "print(cars[cars['RushHour'] == 1].Distance.mean(), cars[cars['RushHour'] == 0].Distance.mean())\n",
    "print('Le due medie sono compatibili con le informazioni visualizzate dall istogramma')"
   ]
  },
  {
   "cell_type": "code",
   "execution_count": null,
   "id": "2aaea067",
   "metadata": {},
   "outputs": [],
   "source": []
  }
 ],
 "metadata": {
  "kernelspec": {
   "display_name": "Python 3 (ipykernel)",
   "language": "python",
   "name": "python3"
  },
  "language_info": {
   "codemirror_mode": {
    "name": "ipython",
    "version": 3
   },
   "file_extension": ".py",
   "mimetype": "text/x-python",
   "name": "python",
   "nbconvert_exporter": "python",
   "pygments_lexer": "ipython3",
   "version": "3.9.13"
  }
 },
 "nbformat": 4,
 "nbformat_minor": 5
}
