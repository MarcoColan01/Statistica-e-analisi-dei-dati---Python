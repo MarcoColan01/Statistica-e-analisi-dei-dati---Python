{
 "cells": [
  {
   "cell_type": "code",
   "execution_count": 1,
   "id": "0399f307",
   "metadata": {},
   "outputs": [],
   "source": [
    "import scipy.stats as st\n",
    "import matplotlib.pyplot as plt\n",
    "import pandas as pd\n",
    "import statsmodels.api as sm\n",
    "import numpy as np\n",
    "import math"
   ]
  },
  {
   "cell_type": "code",
   "execution_count": 2,
   "id": "57619257",
   "metadata": {},
   "outputs": [],
   "source": [
    "#ESERCIZIO 2"
   ]
  },
  {
   "cell_type": "code",
   "execution_count": 3,
   "id": "061e47a6",
   "metadata": {},
   "outputs": [
    {
     "data": {
      "image/png": "[encoded data removed]",
      "text/plain": [
       "<Figure size 640x480 with 1 Axes>"
      ]
     },
     "metadata": {},
     "output_type": "display_data"
    }
   ],
   "source": [
    "#2.4 Grafico della densità di probabilità di una esponenziale di parametro 0.1\n",
    "nu = 0.1\n",
    "y = st.expon(nu)\n",
    "x = np.arange(y.ppf(0.01),y.ppf(0.99))\n",
    "plt.plot(x,y.pdf(x))\n",
    "plt.show()"
   ]
  },
  {
   "cell_type": "code",
   "execution_count": 4,
   "id": "0dd67903",
   "metadata": {},
   "outputs": [],
   "source": [
    "#ESERCIZIO 3"
   ]
  },
  {
   "cell_type": "code",
   "execution_count": 5,
   "id": "e313e2b8",
   "metadata": {},
   "outputs": [
    {
     "data": {
      "text/html": [
       "<div>\n",
       "<style scoped>\n",
       "    .dataframe tbody tr th:only-of-type {\n",
       "        vertical-align: middle;\n",
       "    }\n",
       "\n",
       "    .dataframe tbody tr th {\n",
       "        vertical-align: top;\n",
       "    }\n",
       "\n",
       "    .dataframe thead th {\n",
       "        text-align: right;\n",
       "    }\n",
       "</style>\n",
       "<table border=\"1\" class=\"dataframe\">\n",
       "  <thead>\n",
       "    <tr style=\"text-align: right;\">\n",
       "      <th></th>\n",
       "      <th>CarIdentifier</th>\n",
       "      <th>TimeFrame</th>\n",
       "      <th>RushHour</th>\n",
       "      <th>PremiumCustomer</th>\n",
       "      <th>Distance</th>\n",
       "      <th>Time</th>\n",
       "    </tr>\n",
       "  </thead>\n",
       "  <tbody>\n",
       "    <tr>\n",
       "      <th>0</th>\n",
       "      <td>102</td>\n",
       "      <td>FRAME D</td>\n",
       "      <td>1</td>\n",
       "      <td>1</td>\n",
       "      <td>3.0</td>\n",
       "      <td>7.9</td>\n",
       "    </tr>\n",
       "    <tr>\n",
       "      <th>1</th>\n",
       "      <td>103</td>\n",
       "      <td>FRAME D</td>\n",
       "      <td>1</td>\n",
       "      <td>1</td>\n",
       "      <td>5.3</td>\n",
       "      <td>13.9</td>\n",
       "    </tr>\n",
       "    <tr>\n",
       "      <th>2</th>\n",
       "      <td>105</td>\n",
       "      <td>FRAME D</td>\n",
       "      <td>1</td>\n",
       "      <td>-1</td>\n",
       "      <td>0.4</td>\n",
       "      <td>4.1</td>\n",
       "    </tr>\n",
       "    <tr>\n",
       "      <th>3</th>\n",
       "      <td>110</td>\n",
       "      <td>FRAME D</td>\n",
       "      <td>1</td>\n",
       "      <td>1</td>\n",
       "      <td>2.8</td>\n",
       "      <td>5.0</td>\n",
       "    </tr>\n",
       "    <tr>\n",
       "      <th>4</th>\n",
       "      <td>110</td>\n",
       "      <td>FRAME B</td>\n",
       "      <td>1</td>\n",
       "      <td>-1</td>\n",
       "      <td>2.7</td>\n",
       "      <td>5.6</td>\n",
       "    </tr>\n",
       "    <tr>\n",
       "      <th>...</th>\n",
       "      <td>...</td>\n",
       "      <td>...</td>\n",
       "      <td>...</td>\n",
       "      <td>...</td>\n",
       "      <td>...</td>\n",
       "      <td>...</td>\n",
       "    </tr>\n",
       "    <tr>\n",
       "      <th>387</th>\n",
       "      <td>996</td>\n",
       "      <td>FRAME C</td>\n",
       "      <td>0</td>\n",
       "      <td>-1</td>\n",
       "      <td>12.5</td>\n",
       "      <td>13.1</td>\n",
       "    </tr>\n",
       "    <tr>\n",
       "      <th>388</th>\n",
       "      <td>996</td>\n",
       "      <td>FRAME A</td>\n",
       "      <td>0</td>\n",
       "      <td>1</td>\n",
       "      <td>14.5</td>\n",
       "      <td>17.0</td>\n",
       "    </tr>\n",
       "    <tr>\n",
       "      <th>389</th>\n",
       "      <td>996</td>\n",
       "      <td>FRAME C</td>\n",
       "      <td>0</td>\n",
       "      <td>-1</td>\n",
       "      <td>9.8</td>\n",
       "      <td>17.8</td>\n",
       "    </tr>\n",
       "    <tr>\n",
       "      <th>390</th>\n",
       "      <td>997</td>\n",
       "      <td>FRAME B</td>\n",
       "      <td>1</td>\n",
       "      <td>-1</td>\n",
       "      <td>1.8</td>\n",
       "      <td>4.0</td>\n",
       "    </tr>\n",
       "    <tr>\n",
       "      <th>391</th>\n",
       "      <td>997</td>\n",
       "      <td>FRAME C</td>\n",
       "      <td>0</td>\n",
       "      <td>1</td>\n",
       "      <td>18.6</td>\n",
       "      <td>17.5</td>\n",
       "    </tr>\n",
       "  </tbody>\n",
       "</table>\n",
       "<p>392 rows × 6 columns</p>\n",
       "</div>"
      ],
      "text/plain": [
       "     CarIdentifier TimeFrame  RushHour  PremiumCustomer  Distance  Time\n",
       "0              102   FRAME D         1                1       3.0   7.9\n",
       "1              103   FRAME D         1                1       5.3  13.9\n",
       "2              105   FRAME D         1               -1       0.4   4.1\n",
       "3              110   FRAME D         1                1       2.8   5.0\n",
       "4              110   FRAME B         1               -1       2.7   5.6\n",
       "..             ...       ...       ...              ...       ...   ...\n",
       "387            996   FRAME C         0               -1      12.5  13.1\n",
       "388            996   FRAME A         0                1      14.5  17.0\n",
       "389            996   FRAME C         0               -1       9.8  17.8\n",
       "390            997   FRAME B         1               -1       1.8   4.0\n",
       "391            997   FRAME C         0                1      18.6  17.5\n",
       "\n",
       "[392 rows x 6 columns]"
      ]
     },
     "execution_count": 5,
     "metadata": {},
     "output_type": "execute_result"
    }
   ],
   "source": [
    "cars = pd.read_csv('carsharing.csv', sep = ';', decimal = ',')\n",
    "cars"
   ]
  },
  {
   "cell_type": "code",
   "execution_count": 6,
   "id": "b5b57e42",
   "metadata": {},
   "outputs": [
    {
     "data": {
      "text/plain": [
       "392"
      ]
     },
     "execution_count": 6,
     "metadata": {},
     "output_type": "execute_result"
    }
   ],
   "source": [
    "#3.1 Quanti casi contiene il file?\n",
    "len(cars)"
   ]
  },
  {
   "cell_type": "code",
   "execution_count": 7,
   "id": "dc7db94e",
   "metadata": {},
   "outputs": [],
   "source": [
    "#3.2 Analizziamo l'uso del car sharing nelle diverse fasce orarie e negli orari di maggior o minor traffico"
   ]
  },
  {
   "cell_type": "code",
   "execution_count": 10,
   "id": "d267fa95",
   "metadata": {},
   "outputs": [
    {
     "name": "stdout",
     "output_type": "stream",
     "text": [
      "0      FRAME D\n",
      "1      FRAME D\n",
      "2      FRAME D\n",
      "3      FRAME D\n",
      "4      FRAME B\n",
      "        ...   \n",
      "387    FRAME C\n",
      "388    FRAME A\n",
      "389    FRAME C\n",
      "390    FRAME B\n",
      "391    FRAME C\n",
      "Name: TimeFrame, Length: 392, dtype: object\n",
      "TimeFrame è quantitativo ordinale.\n"
     ]
    }
   ],
   "source": [
    "#3.2.1 TimeFrame è nominale, ordinale o scalare? Giustificate\n",
    "print(cars.TimeFrame)\n",
    "print('TimeFrame è quantitativo ordinale.')"
   ]
  },
  {
   "cell_type": "code",
   "execution_count": 11,
   "id": "67fcce18",
   "metadata": {},
   "outputs": [
    {
     "data": {
      "text/plain": [
       "5"
      ]
     },
     "execution_count": 11,
     "metadata": {},
     "output_type": "execute_result"
    }
   ],
   "source": [
    "#3.2.2 In quante fasce orarie è stata suddivisa la giornata?\n",
    "len(cars.TimeFrame.unique())"
   ]
  },
  {
   "cell_type": "code",
   "execution_count": 12,
   "id": "b6032fcc",
   "metadata": {},
   "outputs": [
    {
     "data": {
      "text/plain": [
       "0    FRAME B\n",
       "Name: TimeFrame, dtype: object"
      ]
     },
     "execution_count": 12,
     "metadata": {},
     "output_type": "execute_result"
    }
   ],
   "source": [
    "#3.2.3 In quali fasce orarie il servizio di car sharing è stato maggiormente usato?\n",
    "cars.TimeFrame.mode()"
   ]
  },
  {
   "cell_type": "code",
   "execution_count": 13,
   "id": "a7beb81b",
   "metadata": {},
   "outputs": [
    {
     "data": {
      "text/html": [
       "<div>\n",
       "<style scoped>\n",
       "    .dataframe tbody tr th:only-of-type {\n",
       "        vertical-align: middle;\n",
       "    }\n",
       "\n",
       "    .dataframe tbody tr th {\n",
       "        vertical-align: top;\n",
       "    }\n",
       "\n",
       "    .dataframe thead th {\n",
       "        text-align: right;\n",
       "    }\n",
       "</style>\n",
       "<table border=\"1\" class=\"dataframe\">\n",
       "  <thead>\n",
       "    <tr style=\"text-align: right;\">\n",
       "      <th>RushHour</th>\n",
       "      <th>0</th>\n",
       "      <th>1</th>\n",
       "    </tr>\n",
       "    <tr>\n",
       "      <th>TimeFrame</th>\n",
       "      <th></th>\n",
       "      <th></th>\n",
       "    </tr>\n",
       "  </thead>\n",
       "  <tbody>\n",
       "    <tr>\n",
       "      <th>FRAME A</th>\n",
       "      <td>47</td>\n",
       "      <td>0</td>\n",
       "    </tr>\n",
       "    <tr>\n",
       "      <th>FRAME B</th>\n",
       "      <td>0</td>\n",
       "      <td>123</td>\n",
       "    </tr>\n",
       "    <tr>\n",
       "      <th>FRAME C</th>\n",
       "      <td>107</td>\n",
       "      <td>0</td>\n",
       "    </tr>\n",
       "    <tr>\n",
       "      <th>FRAME D</th>\n",
       "      <td>0</td>\n",
       "      <td>94</td>\n",
       "    </tr>\n",
       "    <tr>\n",
       "      <th>FRAME E</th>\n",
       "      <td>21</td>\n",
       "      <td>0</td>\n",
       "    </tr>\n",
       "  </tbody>\n",
       "</table>\n",
       "</div>"
      ],
      "text/plain": [
       "RushHour     0    1\n",
       "TimeFrame          \n",
       "FRAME A     47    0\n",
       "FRAME B      0  123\n",
       "FRAME C    107    0\n",
       "FRAME D      0   94\n",
       "FRAME E     21    0"
      ]
     },
     "execution_count": 13,
     "metadata": {},
     "output_type": "execute_result"
    }
   ],
   "source": [
    "#3.2.4 Tabella delle frequenze congiunte di TimeFrame e RushHour\n",
    "fasce_rh = pd.crosstab(index = cars.TimeFrame,\n",
    "                      columns = cars.RushHour)\n",
    "fasce_rh"
   ]
  },
  {
   "cell_type": "code",
   "execution_count": 14,
   "id": "028a4fdb",
   "metadata": {},
   "outputs": [
    {
     "name": "stdout",
     "output_type": "stream",
     "text": [
      "Leggendo la tabella di sopra, le fasce orarie corrispondenti agli orari di punta sono la B e la D.\n"
     ]
    }
   ],
   "source": [
    "#3.2.5 Quali sono le fasce orarie corrispondenti agli orari di punta? (leggi tabella)\n",
    "print('Leggendo la tabella di sopra, le fasce orarie corrispondenti agli orari di punta sono la B e la D.')"
   ]
  },
  {
   "cell_type": "code",
   "execution_count": 15,
   "id": "17dd2ea5",
   "metadata": {},
   "outputs": [],
   "source": [
    "#3.3 Consideriamo ora i clienti Premium (Premium = 1)"
   ]
  },
  {
   "cell_type": "code",
   "execution_count": 16,
   "id": "10a1fe32",
   "metadata": {},
   "outputs": [
    {
     "data": {
      "text/plain": [
       "227"
      ]
     },
     "execution_count": 16,
     "metadata": {},
     "output_type": "execute_result"
    }
   ],
   "source": [
    "#3.3.1 Quanti sono?\n",
    "len(cars[cars['PremiumCustomer'] == 1])"
   ]
  },
  {
   "cell_type": "code",
   "execution_count": 17,
   "id": "9de64224",
   "metadata": {},
   "outputs": [
    {
     "data": {
      "text/plain": [
       "8.437444933920705"
      ]
     },
     "execution_count": 17,
     "metadata": {},
     "output_type": "execute_result"
    }
   ],
   "source": [
    "#3.3.2 Stima distanza media percorsa da un cliente Premium\n",
    "cars[cars['PremiumCustomer'] == 1]['Distance'].mean()"
   ]
  },
  {
   "cell_type": "code",
   "execution_count": 20,
   "id": "a0c595b3",
   "metadata": {},
   "outputs": [
    {
     "data": {
      "text/plain": [
       "0.15816326530612246"
      ]
     },
     "execution_count": 20,
     "metadata": {},
     "output_type": "execute_result"
    }
   ],
   "source": [
    "#3.3.3 Stima probabilità p che un nuovo cliente si iscriva al programma Premium\n",
    "cars.PremiumCustomer.mean()"
   ]
  },
  {
   "cell_type": "code",
   "execution_count": 21,
   "id": "5a56812f",
   "metadata": {},
   "outputs": [
    {
     "name": "stdout",
     "output_type": "stream",
     "text": [
      "La media campionaria\n"
     ]
    }
   ],
   "source": [
    "#3.3.4 Che stimatore avete usato al punto precedente?\n",
    "print('La media campionaria')"
   ]
  },
  {
   "cell_type": "code",
   "execution_count": 23,
   "id": "06baabbe",
   "metadata": {},
   "outputs": [
    {
     "data": {
      "text/plain": [
       "0.5591053442021559"
      ]
     },
     "execution_count": 23,
     "metadata": {},
     "output_type": "execute_result"
    }
   ],
   "source": [
    "#3.3.5 Approssimazione probabilità di compiere nella stima di p un errore al più uguale a 0.05\n",
    "Z = st.norm()\n",
    "2*Z.cdf(0.05*math.sqrt(len(cars[cars['PremiumCustomer'] == 1]))/cars.PremiumCustomer.std())-1"
   ]
  },
  {
   "cell_type": "code",
   "execution_count": 24,
   "id": "fe4b6cca",
   "metadata": {},
   "outputs": [],
   "source": [
    "#3.4 Ritorniamo a considerare il dataset completo e consideriamo la distanza percorsa (Distance)"
   ]
  },
  {
   "cell_type": "code",
   "execution_count": 25,
   "id": "c83509a1",
   "metadata": {},
   "outputs": [
    {
     "data": {
      "image/png": "[encoded data removed]",
      "text/plain": [
       "<Figure size 640x480 with 1 Axes>"
      ]
     },
     "metadata": {},
     "output_type": "display_data"
    }
   ],
   "source": [
    "#3.4.1 Tracciare il boxplot del carattere\n",
    "cars.Distance.plot.box()\n",
    "plt.show()"
   ]
  },
  {
   "cell_type": "code",
   "execution_count": 31,
   "id": "045b59dd",
   "metadata": {},
   "outputs": [
    {
     "name": "stdout",
     "output_type": "stream",
     "text": [
      "count    392.000000\n",
      "mean       7.858673\n",
      "std        6.805123\n",
      "min        0.100000\n",
      "25%        1.575000\n",
      "50%        5.750000\n",
      "75%       14.025000\n",
      "max       24.000000\n",
      "Name: Distance, dtype: float64\n",
      "median: 5.75\n",
      "range interquantile: 12.45\n"
     ]
    }
   ],
   "source": [
    "'''\n",
    "3.4.2 In base ai risultati del punto di prima, calcolate gli indici di centralità e dispersione che \n",
    "meglio caratterizzano la distanza percorsa\n",
    "'''\n",
    "print(cars.Distance.describe())\n",
    "print('median:',cars.Distance.median())\n",
    "print('range interquantile:',cars.Distance.quantile(0.75) - cars.Distance.quantile(0.25))"
   ]
  },
  {
   "cell_type": "code",
   "execution_count": 34,
   "id": "a074bf16",
   "metadata": {},
   "outputs": [
    {
     "data": {
      "image/png": "[encoded data removed]",
      "text/plain": [
       "<Figure size 640x480 with 1 Axes>"
      ]
     },
     "metadata": {},
     "output_type": "display_data"
    },
    {
     "name": "stdout",
     "output_type": "stream",
     "text": [
      "Lo scatter plot evidenzia una doppia relazione: una di tipo abbastanza diretto e una non propriamente diretta, per cui si può\n",
      "dire che non vi è alcun tipo di relazione tra i due attributi.\n",
      "0.6273992247694647\n",
      "Indice di correlazione non molto prossimo a 1 o -1 conferma tale ipotesi.\n"
     ]
    }
   ],
   "source": [
    "#3.4.3-4 Vi è una qualche relazione tra distanza percorsa e tempo impiegato?\n",
    "cars.plot.scatter('Distance', 'Time')\n",
    "plt.show()\n",
    "print('Lo scatter plot evidenzia una doppia relazione: una di tipo abbastanza diretto e una non propriamente diretta, per cui si può\\ndire che non vi è alcun tipo di relazione tra i due attributi.')\n",
    "print(cars.Distance.corr(cars.Time))\n",
    "print('Indice di correlazione non molto prossimo a 1 o -1 conferma tale ipotesi.')"
   ]
  },
  {
   "cell_type": "code",
   "execution_count": 37,
   "id": "2450d4d7",
   "metadata": {},
   "outputs": [],
   "source": [
    "#3.5 Analizziamo ora la distanza percorsa in ogni uso del servizio negli orari di punta\n",
    "cars_rh = cars[cars['RushHour'] == 1]"
   ]
  },
  {
   "cell_type": "code",
   "execution_count": 39,
   "id": "72fbad2f",
   "metadata": {},
   "outputs": [
    {
     "data": {
      "image/png": "[encoded data removed]",
      "text/plain": [
       "<Figure size 640x480 with 1 Axes>"
      ]
     },
     "metadata": {},
     "output_type": "display_data"
    }
   ],
   "source": [
    "#3.5.1 Grafico rappresentativo della distanza percorsa negli orari di punta\n",
    "cars_rh.Distance.hist()\n",
    "plt.show()"
   ]
  },
  {
   "cell_type": "code",
   "execution_count": 41,
   "id": "a2fd4dab",
   "metadata": {},
   "outputs": [
    {
     "name": "stdout",
     "output_type": "stream",
     "text": [
      "L istogramma prodotto prima evidenzia come i valori di distanza negli orari di punta non assumono la forma a campana che\n",
      "caratterizza le distribuzioni normali, per cui non è assimilabile ad un modello normale.\n",
      "3.3193548387096796 2.1\n",
      "I valori di media e mediana non simili confermano tale ipotesi.\n"
     ]
    }
   ],
   "source": [
    "#3.5.2 è plausibile che la distanza negli orari di punta segua una legge normale? \n",
    "print('L istogramma prodotto prima evidenzia come i valori di distanza negli orari di punta non assumono la forma a campana che\\ncaratterizza le distribuzioni normali, per cui non è assimilabile ad un modello normale.')\n",
    "print(cars_rh.Distance.mean(), cars_rh.Distance.median())\n",
    "print('I valori di media e mediana non simili confermano tale ipotesi.')"
   ]
  },
  {
   "cell_type": "code",
   "execution_count": 42,
   "id": "b3e351d0",
   "metadata": {},
   "outputs": [
    {
     "name": "stdout",
     "output_type": "stream",
     "text": [
      "3.3193548387096796 3.711106147915895\n"
     ]
    }
   ],
   "source": [
    "#3.5.3 Stimare valore atteso e deviazione standard della distanza negli orari di punta\n",
    "print(cars_rh.Distance.mean(), cars_rh.Distance.std())"
   ]
  },
  {
   "cell_type": "code",
   "execution_count": 44,
   "id": "7583e3bd",
   "metadata": {},
   "outputs": [
    {
     "name": "stdout",
     "output_type": "stream",
     "text": [
      "Osservando l istogramma prodotto prima, si nota come esso assuma un decadimento di tipo esponenziale, il quale caratterizza le distribuzioni esponenziali: per cui è plausibile assimilare la distanza percorsa negli orari di punta ad un modello\n",
      "esponenziale.\n"
     ]
    }
   ],
   "source": [
    "#3.5.4 Esiste un modello probabilistico per la distanza percorsa negli orari di punta?\n",
    "print('Osservando l istogramma prodotto prima, si nota come esso assuma un decadimento di tipo esponenziale, il quale caratterizza le distribuzioni esponenziali: per cui è plausibile assimilare la distanza percorsa negli orari di punta ad un modello\\nesponenziale.')"
   ]
  },
  {
   "cell_type": "code",
   "execution_count": 46,
   "id": "b77fdbec",
   "metadata": {},
   "outputs": [
    {
     "name": "stdout",
     "output_type": "stream",
     "text": [
      "I valori molto simili di valore atteso e deviazione standard confermano l ipotesi di un modello esponenziale, poichè in un\n",
      "modello esponenziale valore atteso e deviazione standard coincidono o comunque sono molto simili.\n"
     ]
    }
   ],
   "source": [
    "#3.5.5 Le stime di valore atteso e dev std prodotte prima confermano l'ipotesi al punto precedente?\n",
    "print('I valori molto simili di valore atteso e deviazione standard confermano l ipotesi di un modello esponenziale, poichè in un\\nmodello esponenziale valore atteso e deviazione standard coincidono o comunque sono molto simili.')"
   ]
  },
  {
   "cell_type": "code",
   "execution_count": null,
   "id": "a5b9bcd1",
   "metadata": {},
   "outputs": [],
   "source": []
  }
 ],
 "metadata": {
  "kernelspec": {
   "display_name": "Python 3 (ipykernel)",
   "language": "python",
   "name": "python3"
  },
  "language_info": {
   "codemirror_mode": {
    "name": "ipython",
    "version": 3
   },
   "file_extension": ".py",
   "mimetype": "text/x-python",
   "name": "python",
   "nbconvert_exporter": "python",
   "pygments_lexer": "ipython3",
   "version": "3.9.13"
  }
 },
 "nbformat": 4,
 "nbformat_minor": 5
}
