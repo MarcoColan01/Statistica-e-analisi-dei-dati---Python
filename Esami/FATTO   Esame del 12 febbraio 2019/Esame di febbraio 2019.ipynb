{
 "cells": [
  {
   "cell_type": "code",
   "execution_count": 1,
   "id": "ba590b6f",
   "metadata": {},
   "outputs": [],
   "source": [
    "import scipy.stats as st\n",
    "import matplotlib.pyplot as plt\n",
    "import pandas as pd\n",
    "import statsmodels.api as sm\n",
    "import numpy as np\n",
    "import math"
   ]
  },
  {
   "cell_type": "code",
   "execution_count": 2,
   "id": "c7b09056",
   "metadata": {},
   "outputs": [
    {
     "data": {
      "text/html": [
       "<div>\n",
       "<style scoped>\n",
       "    .dataframe tbody tr th:only-of-type {\n",
       "        vertical-align: middle;\n",
       "    }\n",
       "\n",
       "    .dataframe tbody tr th {\n",
       "        vertical-align: top;\n",
       "    }\n",
       "\n",
       "    .dataframe thead th {\n",
       "        text-align: right;\n",
       "    }\n",
       "</style>\n",
       "<table border=\"1\" class=\"dataframe\">\n",
       "  <thead>\n",
       "    <tr style=\"text-align: right;\">\n",
       "      <th></th>\n",
       "      <th>CarIdentifier</th>\n",
       "      <th>TimeFrame</th>\n",
       "      <th>RushHour</th>\n",
       "      <th>PremiumCustomer</th>\n",
       "      <th>Distance</th>\n",
       "      <th>Time</th>\n",
       "    </tr>\n",
       "  </thead>\n",
       "  <tbody>\n",
       "    <tr>\n",
       "      <th>0</th>\n",
       "      <td>102</td>\n",
       "      <td>FRAME D</td>\n",
       "      <td>1</td>\n",
       "      <td>1</td>\n",
       "      <td>3.0</td>\n",
       "      <td>7.9</td>\n",
       "    </tr>\n",
       "    <tr>\n",
       "      <th>1</th>\n",
       "      <td>103</td>\n",
       "      <td>FRAME D</td>\n",
       "      <td>1</td>\n",
       "      <td>1</td>\n",
       "      <td>5.3</td>\n",
       "      <td>13.9</td>\n",
       "    </tr>\n",
       "    <tr>\n",
       "      <th>2</th>\n",
       "      <td>105</td>\n",
       "      <td>FRAME D</td>\n",
       "      <td>1</td>\n",
       "      <td>-1</td>\n",
       "      <td>0.4</td>\n",
       "      <td>4.1</td>\n",
       "    </tr>\n",
       "    <tr>\n",
       "      <th>3</th>\n",
       "      <td>110</td>\n",
       "      <td>FRAME D</td>\n",
       "      <td>1</td>\n",
       "      <td>1</td>\n",
       "      <td>2.8</td>\n",
       "      <td>5.0</td>\n",
       "    </tr>\n",
       "    <tr>\n",
       "      <th>4</th>\n",
       "      <td>110</td>\n",
       "      <td>FRAME B</td>\n",
       "      <td>1</td>\n",
       "      <td>-1</td>\n",
       "      <td>2.7</td>\n",
       "      <td>5.6</td>\n",
       "    </tr>\n",
       "    <tr>\n",
       "      <th>...</th>\n",
       "      <td>...</td>\n",
       "      <td>...</td>\n",
       "      <td>...</td>\n",
       "      <td>...</td>\n",
       "      <td>...</td>\n",
       "      <td>...</td>\n",
       "    </tr>\n",
       "    <tr>\n",
       "      <th>387</th>\n",
       "      <td>996</td>\n",
       "      <td>FRAME C</td>\n",
       "      <td>0</td>\n",
       "      <td>-1</td>\n",
       "      <td>12.5</td>\n",
       "      <td>13.1</td>\n",
       "    </tr>\n",
       "    <tr>\n",
       "      <th>388</th>\n",
       "      <td>996</td>\n",
       "      <td>FRAME A</td>\n",
       "      <td>0</td>\n",
       "      <td>1</td>\n",
       "      <td>14.5</td>\n",
       "      <td>17.0</td>\n",
       "    </tr>\n",
       "    <tr>\n",
       "      <th>389</th>\n",
       "      <td>996</td>\n",
       "      <td>FRAME C</td>\n",
       "      <td>0</td>\n",
       "      <td>-1</td>\n",
       "      <td>9.8</td>\n",
       "      <td>17.8</td>\n",
       "    </tr>\n",
       "    <tr>\n",
       "      <th>390</th>\n",
       "      <td>997</td>\n",
       "      <td>FRAME B</td>\n",
       "      <td>1</td>\n",
       "      <td>-1</td>\n",
       "      <td>1.8</td>\n",
       "      <td>4.0</td>\n",
       "    </tr>\n",
       "    <tr>\n",
       "      <th>391</th>\n",
       "      <td>997</td>\n",
       "      <td>FRAME C</td>\n",
       "      <td>0</td>\n",
       "      <td>1</td>\n",
       "      <td>18.6</td>\n",
       "      <td>17.5</td>\n",
       "    </tr>\n",
       "  </tbody>\n",
       "</table>\n",
       "<p>392 rows × 6 columns</p>\n",
       "</div>"
      ],
      "text/plain": [
       "     CarIdentifier TimeFrame  RushHour  PremiumCustomer  Distance  Time\n",
       "0              102   FRAME D         1                1       3.0   7.9\n",
       "1              103   FRAME D         1                1       5.3  13.9\n",
       "2              105   FRAME D         1               -1       0.4   4.1\n",
       "3              110   FRAME D         1                1       2.8   5.0\n",
       "4              110   FRAME B         1               -1       2.7   5.6\n",
       "..             ...       ...       ...              ...       ...   ...\n",
       "387            996   FRAME C         0               -1      12.5  13.1\n",
       "388            996   FRAME A         0                1      14.5  17.0\n",
       "389            996   FRAME C         0               -1       9.8  17.8\n",
       "390            997   FRAME B         1               -1       1.8   4.0\n",
       "391            997   FRAME C         0                1      18.6  17.5\n",
       "\n",
       "[392 rows x 6 columns]"
      ]
     },
     "execution_count": 2,
     "metadata": {},
     "output_type": "execute_result"
    }
   ],
   "source": [
    "#ESERCIZIO 2\n",
    "cars = pd.read_csv('carsharing.csv', sep = ';', decimal = ',')\n",
    "cars"
   ]
  },
  {
   "cell_type": "code",
   "execution_count": 3,
   "id": "75eeb3da",
   "metadata": {},
   "outputs": [
    {
     "name": "stdout",
     "output_type": "stream",
     "text": [
      "0       3.0\n",
      "1       5.3\n",
      "2       0.4\n",
      "3       2.8\n",
      "4       2.7\n",
      "       ... \n",
      "387    12.5\n",
      "388    14.5\n",
      "389     9.8\n",
      "390     1.8\n",
      "391    18.6\n",
      "Name: Distance, Length: 392, dtype: float64\n",
      "Distance è scalare.\n"
     ]
    }
   ],
   "source": [
    "#2.1 Distance è ordinale, nominale o scalare?\n",
    "print(cars.Distance)\n",
    "print('Distance è scalare.')"
   ]
  },
  {
   "cell_type": "code",
   "execution_count": 6,
   "id": "89484551",
   "metadata": {},
   "outputs": [
    {
     "data": {
      "image/png": "[encoded data removed]",
      "text/plain": [
       "<Figure size 640x480 with 1 Axes>"
      ]
     },
     "metadata": {},
     "output_type": "display_data"
    }
   ],
   "source": [
    "#2.2 Tracciate nella stessa figura il boxplot della distanza in orario di punta e in orario non di punta\n",
    "plt.boxplot([cars[cars['RushHour'] == 1]['Distance'],cars[cars['RushHour'] == 0]['Distance']], labels=['Rush','No Rush'])\n",
    "plt.show()"
   ]
  },
  {
   "cell_type": "code",
   "execution_count": 7,
   "id": "3af7da82",
   "metadata": {},
   "outputs": [
    {
     "name": "stdout",
     "output_type": "stream",
     "text": [
      "Osservando i due box plot, si nota come negli orari di punta sono preferiti spostamenti più brevi rispetto agli orari\n",
      "non di punta, come si può vedere dal 3o quartile di Rush e il 1o quartile di No Rush.\n"
     ]
    }
   ],
   "source": [
    "'''\n",
    "2.3 Dai grafici di prima si può dire che negli orari di punta sono preferiti spostamenti più brevi oppure \n",
    "più lunghi rispetto agli orari non di punta? '''\n",
    "print('Osservando i due box plot, si nota come negli orari di punta sono preferiti spostamenti più brevi rispetto agli orari\\nnon di punta, come si può vedere dal 3o quartile di Rush e il 1o quartile di No Rush.')"
   ]
  },
  {
   "cell_type": "code",
   "execution_count": 11,
   "id": "6046d056",
   "metadata": {},
   "outputs": [
    {
     "data": {
      "image/png": "[encoded data removed]",
      "text/plain": [
       "<Figure size 640x480 with 1 Axes>"
      ]
     },
     "metadata": {},
     "output_type": "display_data"
    },
    {
     "name": "stdout",
     "output_type": "stream",
     "text": [
      "Distanza media Rush: 3.3193548387096796\n",
      "Distanza media NO Rush: 13.487428571428563\n",
      "Guardando l istogramma e le due medie calcolate, si nota bene come la media della distanza negli orari di punta sia\n",
      "più bassa (spostamenti brevi), mentre negli orari non di punta è più alta (spostamenti più lunghi),\n"
     ]
    }
   ],
   "source": [
    "#2.4 Dall'istogramma della distanza si possono evidenziare due gruppi ben distinti\n",
    "cars.Distance.hist()\n",
    "plt.show()\n",
    "\n",
    "#Calcolare distanza media dei due gruppi (orario di punta e no) e commentate l'istogramma usando queste due info\n",
    "print('Distanza media Rush:', cars[cars['RushHour'] == 1]['Distance'].mean())\n",
    "print('Distanza media NO Rush:', cars[cars['RushHour'] == 0]['Distance'].mean())\n",
    "print('Guardando l istogramma e le due medie calcolate, si nota bene come la media della distanza negli orari di punta sia\\npiù bassa (spostamenti brevi), mentre negli orari non di punta è più alta (spostamenti più lunghi),')"
   ]
  },
  {
   "cell_type": "code",
   "execution_count": 12,
   "id": "ec3bd0cd",
   "metadata": {},
   "outputs": [],
   "source": [
    "#ESERCIZIO 3"
   ]
  },
  {
   "cell_type": "code",
   "execution_count": 13,
   "id": "de6b736b",
   "metadata": {},
   "outputs": [
    {
     "data": {
      "text/html": [
       "<div>\n",
       "<style scoped>\n",
       "    .dataframe tbody tr th:only-of-type {\n",
       "        vertical-align: middle;\n",
       "    }\n",
       "\n",
       "    .dataframe tbody tr th {\n",
       "        vertical-align: top;\n",
       "    }\n",
       "\n",
       "    .dataframe thead th {\n",
       "        text-align: right;\n",
       "    }\n",
       "</style>\n",
       "<table border=\"1\" class=\"dataframe\">\n",
       "  <thead>\n",
       "    <tr style=\"text-align: right;\">\n",
       "      <th></th>\n",
       "      <th>CarIdentifier</th>\n",
       "      <th>TimeFrame</th>\n",
       "      <th>RushHour</th>\n",
       "      <th>PremiumCustomer</th>\n",
       "      <th>Distance</th>\n",
       "      <th>Time</th>\n",
       "    </tr>\n",
       "  </thead>\n",
       "  <tbody>\n",
       "    <tr>\n",
       "      <th>2</th>\n",
       "      <td>105</td>\n",
       "      <td>FRAME D</td>\n",
       "      <td>1</td>\n",
       "      <td>-1</td>\n",
       "      <td>0.4</td>\n",
       "      <td>4.1</td>\n",
       "    </tr>\n",
       "    <tr>\n",
       "      <th>10</th>\n",
       "      <td>121</td>\n",
       "      <td>FRAME B</td>\n",
       "      <td>1</td>\n",
       "      <td>1</td>\n",
       "      <td>0.8</td>\n",
       "      <td>4.4</td>\n",
       "    </tr>\n",
       "    <tr>\n",
       "      <th>13</th>\n",
       "      <td>127</td>\n",
       "      <td>FRAME B</td>\n",
       "      <td>1</td>\n",
       "      <td>1</td>\n",
       "      <td>0.1</td>\n",
       "      <td>3.6</td>\n",
       "    </tr>\n",
       "    <tr>\n",
       "      <th>14</th>\n",
       "      <td>128</td>\n",
       "      <td>FRAME B</td>\n",
       "      <td>1</td>\n",
       "      <td>-1</td>\n",
       "      <td>1.0</td>\n",
       "      <td>4.4</td>\n",
       "    </tr>\n",
       "    <tr>\n",
       "      <th>15</th>\n",
       "      <td>133</td>\n",
       "      <td>FRAME D</td>\n",
       "      <td>1</td>\n",
       "      <td>-1</td>\n",
       "      <td>1.2</td>\n",
       "      <td>3.8</td>\n",
       "    </tr>\n",
       "    <tr>\n",
       "      <th>...</th>\n",
       "      <td>...</td>\n",
       "      <td>...</td>\n",
       "      <td>...</td>\n",
       "      <td>...</td>\n",
       "      <td>...</td>\n",
       "      <td>...</td>\n",
       "    </tr>\n",
       "    <tr>\n",
       "      <th>367</th>\n",
       "      <td>960</td>\n",
       "      <td>FRAME D</td>\n",
       "      <td>1</td>\n",
       "      <td>1</td>\n",
       "      <td>1.3</td>\n",
       "      <td>4.2</td>\n",
       "    </tr>\n",
       "    <tr>\n",
       "      <th>371</th>\n",
       "      <td>972</td>\n",
       "      <td>FRAME D</td>\n",
       "      <td>1</td>\n",
       "      <td>1</td>\n",
       "      <td>0.6</td>\n",
       "      <td>4.4</td>\n",
       "    </tr>\n",
       "    <tr>\n",
       "      <th>378</th>\n",
       "      <td>983</td>\n",
       "      <td>FRAME D</td>\n",
       "      <td>1</td>\n",
       "      <td>-1</td>\n",
       "      <td>1.2</td>\n",
       "      <td>3.9</td>\n",
       "    </tr>\n",
       "    <tr>\n",
       "      <th>381</th>\n",
       "      <td>987</td>\n",
       "      <td>FRAME A</td>\n",
       "      <td>0</td>\n",
       "      <td>1</td>\n",
       "      <td>0.9</td>\n",
       "      <td>2.4</td>\n",
       "    </tr>\n",
       "    <tr>\n",
       "      <th>384</th>\n",
       "      <td>991</td>\n",
       "      <td>FRAME D</td>\n",
       "      <td>1</td>\n",
       "      <td>-1</td>\n",
       "      <td>1.0</td>\n",
       "      <td>3.9</td>\n",
       "    </tr>\n",
       "  </tbody>\n",
       "</table>\n",
       "<p>94 rows × 6 columns</p>\n",
       "</div>"
      ],
      "text/plain": [
       "     CarIdentifier TimeFrame  RushHour  PremiumCustomer  Distance  Time\n",
       "2              105   FRAME D         1               -1       0.4   4.1\n",
       "10             121   FRAME B         1                1       0.8   4.4\n",
       "13             127   FRAME B         1                1       0.1   3.6\n",
       "14             128   FRAME B         1               -1       1.0   4.4\n",
       "15             133   FRAME D         1               -1       1.2   3.8\n",
       "..             ...       ...       ...              ...       ...   ...\n",
       "367            960   FRAME D         1                1       1.3   4.2\n",
       "371            972   FRAME D         1                1       0.6   4.4\n",
       "378            983   FRAME D         1               -1       1.2   3.9\n",
       "381            987   FRAME A         0                1       0.9   2.4\n",
       "384            991   FRAME D         1               -1       1.0   3.9\n",
       "\n",
       "[94 rows x 6 columns]"
      ]
     },
     "execution_count": 13,
     "metadata": {},
     "output_type": "execute_result"
    }
   ],
   "source": [
    "#3.1 Salvate in tragittibrevi tutti i casi in cui la distanza percorsa è stata inferiore a 1.5 km\n",
    "tragittibrevi = cars[cars['Distance'] < 1.5]\n",
    "tragittibrevi"
   ]
  },
  {
   "cell_type": "code",
   "execution_count": 14,
   "id": "b41d9200",
   "metadata": {},
   "outputs": [
    {
     "data": {
      "image/png": "[encoded data removed]",
      "text/plain": [
       "<Figure size 640x480 with 1 Axes>"
      ]
     },
     "metadata": {},
     "output_type": "display_data"
    }
   ],
   "source": [
    "#3.2 Tracciare il grafico di dispersione della distanza e del tempo per i tragitti brevi\n",
    "tragittibrevi.plot.scatter('Distance', 'Time')\n",
    "plt.show()"
   ]
  },
  {
   "cell_type": "code",
   "execution_count": 16,
   "id": "4266d2f6",
   "metadata": {},
   "outputs": [
    {
     "name": "stdout",
     "output_type": "stream",
     "text": [
      "Osservando lo scatter plot, si nota come non esiste alcun tipo di relazione tra i due attributi\n",
      "0.036911315256573624\n",
      "L indice di correlazione tendente a 0 conferma tale ipotesi.\n"
     ]
    }
   ],
   "source": [
    "#3.3 Commentate il grafico precedente per concludere se, tra i due attributi, esiste un qualche tipo di relazione\n",
    "print('Osservando lo scatter plot, si nota come non esiste alcun tipo di relazione tra i due attributi')\n",
    "print(tragittibrevi['Distance'].corr(tragittibrevi['Time']))\n",
    "print('L indice di correlazione tendente a 0 conferma tale ipotesi.')"
   ]
  },
  {
   "cell_type": "code",
   "execution_count": 17,
   "id": "9d8298b3",
   "metadata": {},
   "outputs": [],
   "source": [
    "#ESERCIZIO 4\n",
    "#Concentriamoci ora sulla distanza percorsa negli orari non di punta"
   ]
  },
  {
   "cell_type": "code",
   "execution_count": 20,
   "id": "dee7fb53",
   "metadata": {},
   "outputs": [
    {
     "data": {
      "image/png": "[encoded data removed]",
      "text/plain": [
       "<Figure size 640x480 with 2 Axes>"
      ]
     },
     "metadata": {},
     "output_type": "display_data"
    }
   ],
   "source": [
    "#4.1 Tracciate un grafico opportuno per descivere la distanza negli orari non di punta\n",
    "plt.subplot(1,2,1)\n",
    "cars[cars['RushHour'] == 0]['Distance'].hist(bins=20)\n",
    "plt.subplot(1,2,2)\n",
    "cars[cars['RushHour'] == 0]['Distance'].plot.box()\n",
    "plt.show()"
   ]
  },
  {
   "cell_type": "code",
   "execution_count": 23,
   "id": "eae74d31",
   "metadata": {},
   "outputs": [
    {
     "data": {
      "image/png": "[encoded data removed]",
      "text/plain": [
       "<Figure size 640x480 with 1 Axes>"
      ]
     },
     "metadata": {},
     "output_type": "display_data"
    },
    {
     "name": "stdout",
     "output_type": "stream",
     "text": [
      "Il QQ-plot evidenzia come i valori della distanza in orari non di punta si distribuisce in modo quasi uniforme sulla\n",
      "bisettrice, il che suggerisce un modello normale.\n",
      "13.487428571428563 14.4\n",
      "Inoltre, i valori molto simili di media e mediana rafforzano ulteriormente questa ipotesi.\n"
     ]
    }
   ],
   "source": [
    "#4.2 La distanza negli orari non di punta segue una legge normale? Giustificate\n",
    "sm.qqplot(cars[cars['RushHour'] == 0]['Distance'], line = '45', fit = True)\n",
    "plt.show()\n",
    "print('Il QQ-plot evidenzia come i valori della distanza in orari non di punta si distribuisce in modo quasi uniforme sulla\\nbisettrice, il che suggerisce un modello normale.')\n",
    "print(cars[cars['RushHour'] == 0]['Distance'].mean(), cars[cars['RushHour'] == 0]['Distance'].median())\n",
    "print('Inoltre, i valori molto simili di media e mediana rafforzano ulteriormente questa ipotesi.')"
   ]
  },
  {
   "cell_type": "code",
   "execution_count": 24,
   "id": "80b818c3",
   "metadata": {},
   "outputs": [],
   "source": [
    "#ESERCIZIO 5"
   ]
  },
  {
   "cell_type": "code",
   "execution_count": 26,
   "id": "e7631b06",
   "metadata": {},
   "outputs": [
    {
     "data": {
      "text/plain": [
       "0.5535714285714286"
      ]
     },
     "execution_count": 26,
     "metadata": {},
     "output_type": "execute_result"
    }
   ],
   "source": [
    "#5.1 Stima probabilità p che un'auto venga usata in un orario di punta\n",
    "p = cars.RushHour.mean()\n",
    "p"
   ]
  },
  {
   "cell_type": "code",
   "execution_count": 27,
   "id": "fd9f116a",
   "metadata": {},
   "outputs": [
    {
     "name": "stdout",
     "output_type": "stream",
     "text": [
      "La media campionaria\n"
     ]
    }
   ],
   "source": [
    "#5.2 Che stimatore avete usato prima?\n",
    "print('La media campionaria')"
   ]
  },
  {
   "cell_type": "code",
   "execution_count": 28,
   "id": "a3d0353c",
   "metadata": {},
   "outputs": [
    {
     "data": {
      "text/plain": [
       "392"
      ]
     },
     "execution_count": 28,
     "metadata": {},
     "output_type": "execute_result"
    }
   ],
   "source": [
    "#5.3 Qual'è la numerosità del campione a disposizione?\n",
    "n = len(cars.dropna())\n",
    "n"
   ]
  },
  {
   "cell_type": "code",
   "execution_count": 31,
   "id": "2c578339",
   "metadata": {},
   "outputs": [
    {
     "data": {
      "text/plain": [
       "0.9532789660906438"
      ]
     },
     "execution_count": 31,
     "metadata": {},
     "output_type": "execute_result"
    }
   ],
   "source": [
    "#5.4 Maggiorazione probabilità che nella stima di p si sia fatto un errore al più uguale a 0.05\n",
    "Z = st.norm()\n",
    "2*Z.cdf(0.05*math.sqrt(n)/cars.RushHour.std())-1"
   ]
  },
  {
   "cell_type": "code",
   "execution_count": 32,
   "id": "8ceb933a",
   "metadata": {},
   "outputs": [],
   "source": [
    "#ESERCIZIO 6"
   ]
  },
  {
   "cell_type": "code",
   "execution_count": 37,
   "id": "97686505",
   "metadata": {},
   "outputs": [
    {
     "data": {
      "text/plain": [
       "0.7380952380952381"
      ]
     },
     "execution_count": 37,
     "metadata": {},
     "output_type": "execute_result"
    }
   ],
   "source": [
    "'''\n",
    "Usando altre info non presenti nel dataset, si è stimato che:\n",
    "    1) P(AutoIncidente) = 0.15\n",
    "    2) P(Orario di punta incidente) = 0.2\n",
    "Un'auto oggi non è disponibile perchè ieri ha subito un indicente. Stimare la probabilità che l'incidente sia \n",
    "avvenuto in orario di punta\n",
    "'''\n",
    "a = 0.15\n",
    "r = 0.2\n",
    "n = len(cars[cars['RushHour'] == 1])\n",
    "(r*(len(cars[cars['RushHour'] == 1])/len(cars)))/a"
   ]
  },
  {
   "cell_type": "code",
   "execution_count": null,
   "id": "2c53c0c3",
   "metadata": {},
   "outputs": [],
   "source": []
  }
 ],
 "metadata": {
  "kernelspec": {
   "display_name": "Python 3 (ipykernel)",
   "language": "python",
   "name": "python3"
  },
  "language_info": {
   "codemirror_mode": {
    "name": "ipython",
    "version": 3
   },
   "file_extension": ".py",
   "mimetype": "text/x-python",
   "name": "python",
   "nbconvert_exporter": "python",
   "pygments_lexer": "ipython3",
   "version": "3.9.13"
  }
 },
 "nbformat": 4,
 "nbformat_minor": 5
}
