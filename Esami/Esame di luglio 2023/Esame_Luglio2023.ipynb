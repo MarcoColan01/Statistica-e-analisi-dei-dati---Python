{
 "cells": [
  {
   "cell_type": "markdown",
   "id": "8afa67d6",
   "metadata": {},
   "source": [
    "# ESAME DI LUGLIO 2023"
   ]
  },
  {
   "cell_type": "markdown",
   "id": "3f69446a",
   "metadata": {},
   "source": [
    "## Esercizio 1\n",
    "### Dato a=[0,3]"
   ]
  },
  {
   "cell_type": "markdown",
   "id": "b057335f",
   "metadata": {},
   "source": [
    "f(x;a)=(ax^2 + 1 - a/3)* I[0,1] (x)"
   ]
  },
  {
   "cell_type": "markdown",
   "id": "19b42198",
   "metadata": {},
   "source": [
    "1) Dimostrare che f è la funzione di densità di una variabile aleatoria continua, parametrizzata rispetto ad a"
   ]
  },
  {
   "cell_type": "markdown",
   "id": "6b043930",
   "metadata": {},
   "source": [
    "2) Supponendo solo in questo punto che a = 5/2, tracciare il grafico di f"
   ]
  },
  {
   "cell_type": "markdown",
   "id": "9e9bc867",
   "metadata": {},
   "source": [
    "Nel resto di questo esercizio supponiamo che X sia una variabile aleatoria la cui distribuzione è descritta dalla densità di probabilità di f"
   ]
  },
  {
   "cell_type": "markdown",
   "id": "c6cb774a",
   "metadata": {},
   "source": [
    "3) Qual è il supporto di X ? "
   ]
  },
  {
   "cell_type": "markdown",
   "id": "7e275453",
   "metadata": {},
   "source": [
    "4) Calcolare il valore atteso di X esprimendolo in funzione di a"
   ]
  },
  {
   "cell_type": "markdown",
   "id": "d92cf510",
   "metadata": {},
   "source": [
    "5) La descrizione data di f permette di dire che la distribuzione di X è approssimabile in modo accettabile usando il teorema centrale del limite? Giustificare il ragionamento"
   ]
  },
  {
   "cell_type": "markdown",
   "id": "8106725f",
   "metadata": {},
   "source": [
    "6) Calcolate la forma analitica della funzione di ripartizione di X, esprimendo i suoi valori in funzione dell'argomento indicato e del parametro a"
   ]
  },
  {
   "cell_type": "markdown",
   "id": "15646574",
   "metadata": {},
   "source": [
    "## Esercizio 2"
   ]
  },
  {
   "cell_type": "markdown",
   "id": "8b26f9b8",
   "metadata": {},
   "source": [
    "Supponiamo che la variabile aleatoria X definita nell'esercizio precedente descriva una popolazione dalla quale abbiamo estratto un campione modellato tramite n v.a. X1,...,Xn"
   ]
  },
  {
   "cell_type": "markdown",
   "id": "b08b2022",
   "metadata": {},
   "source": [
    "1) Indichiamo con T la media campionaria calcolata a partire da X1,...Xn . Dimostrare che la T è in generale uno stimatore distorto per il parametro 'a'"
   ]
  },
  {
   "cell_type": "markdown",
   "id": "cdb798f5",
   "metadata": {},
   "source": [
    "2) Applicando il metodo plug-in, ricavate uno stimatore S che risulti non distorto per 'a'"
   ]
  },
  {
   "cell_type": "markdown",
   "id": "f5bacffe",
   "metadata": {},
   "source": [
    "3) Calcolate il bias rispetto ad a, dello stimatore S che avete proposto al punto precedente"
   ]
  },
  {
   "cell_type": "markdown",
   "id": "b77b89a9",
   "metadata": {},
   "source": [
    "4) Calcolate lo scarto quadratico medio, rispetto ad 'a', dello stimatore S del punto 2 e determinate se questo gode della proprietà di consistenza in media quadratica"
   ]
  },
  {
   "cell_type": "markdown",
   "id": "5e0010ec",
   "metadata": {},
   "source": [
    "5) Applicando il teorema centrale del limite, determinate un'approssimazione per la distribuzione dello stimatore S proposto al punto 2, esprimendola in termini di 'a', deviazione standard e n, motivando il ragionamento"
   ]
  },
  {
   "cell_type": "markdown",
   "id": "74f9143b",
   "metadata": {},
   "source": [
    "6) Fissato 'e' > 0, esprimete in funzione di 'e', deviazione standard e n, la probabilità dell'evento che si verifica quando l'errore, in valore assoluto, che si compie usando S per stimare 'a', sia minore o uguale a 'e', giustificando i passaggi e eventuali approsimazioni che è necessario introdurre"
   ]
  },
  {
   "cell_type": "markdown",
   "id": "8833c5da",
   "metadata": {},
   "source": [
    "# Esercizio 3"
   ]
  },
  {
   "cell_type": "markdown",
   "id": "d6439cbe",
   "metadata": {},
   "source": [
    "Scaricare job-crash.csv, con il carattere ',' che separa le colonne, contiene informazioni raccolte da un ipotetico centro di elaborazione dati, relativamente al job la cui esecuzione è fallita:\n",
    "- cpu-time: tempo in cui il job è rimasto in esecuzione prima di fallire, misurato in secondi;\n",
    "- perc-completed: percentuale di completamento del job al momento del fallimento;\n",
    "- is-admin: valore binario che vale 1 se il job è stato eseguito da un utente con diritti di amministrazione e 0 altrimenti"
   ]
  },
  {
   "cell_type": "markdown",
   "id": "7904988f",
   "metadata": {},
   "source": [
    "1) Quali sono le durate minime e massime dei job contenuti nel dataset? Quali attributi contengono valori mancanti e nel caso quanti sono questi valori?"
   ]
  },
  {
   "cell_type": "markdown",
   "id": "0c685853",
   "metadata": {},
   "source": [
    "2) Valutare l'ipotesi che i valori dell'attributo cpu-time possano essere assimilati a un campione estratto da una popolazione distribuita secondo un modello normale, spiegando il ragionamento."
   ]
  },
  {
   "cell_type": "markdown",
   "id": "36716e5d",
   "metadata": {},
   "source": [
    "3) Valutare l'ipotesi che vi sia una relazione tra gli attributi cpu-time e perc-completed, motivando il procedimento effettuato e commentando i risultati ottenuti"
   ]
  },
  {
   "cell_type": "markdown",
   "id": "e1331a2b",
   "metadata": {},
   "source": [
    "4) (Prima metà della domanda vado a memoria) \n",
    "Creare 2 variabili job_admin e job_noadmin, dove rispettivamente metti tutte le righe che hanno isadmin uguale a 1, e le restanti nell'altro.\n",
    "Ripetere separatamente per queste 2 variabili l'analisi svolta nei punti 2 e 3 di questo esercizio, commentando i risulati ottenuti"
   ]
  },
  {
   "cell_type": "markdown",
   "id": "5eb6619b",
   "metadata": {},
   "source": [
    "5) Di che tipo è l'attributo perc-completed? Perché è adeguato visualizzare la sua distribuzione utilizzando un istogramma?"
   ]
  },
  {
   "cell_type": "markdown",
   "id": "a87603c2",
   "metadata": {},
   "source": [
    "6) (Prima metà della domanda vado a memoria) \n",
    "Per tutte e 3 le variabili(job, job_admin, job_noadmin): scegliere un numero di intervalli adeguato a visualizzare le distribuzioni e  avendo cura di utilizzare l'opzione 'density=True'. I risultati ottenuti evidenziano distribuzioni differenti per l'attributo nei 3 casi considetati?"
   ]
  },
  {
   "cell_type": "markdown",
   "id": "c26019ad",
   "metadata": {},
   "source": [
    "7) (Non sicuro al 100%, vale anche per le distribuzioni, ma il concetto è quello) Sulla base del punto precedente considerare se, e nel caso perché, segue una tra queste distribuzioni: geometrica, esponenziale, gaussiana, uniforme discreto"
   ]
  },
  {
   "cell_type": "markdown",
   "id": "d2225ca0",
   "metadata": {},
   "source": [
    "## Esercizio 4"
   ]
  },
  {
   "cell_type": "markdown",
   "id": "005e4c2c",
   "metadata": {},
   "source": [
    "In questo esercizio ci concentreremo sui valori dell'attributi perc-completed relativi all'intero dataset, e li interpreteremo come i valori assunti da un campione estratto da una popolazione distribuita come una variabile aleatoria X"
   ]
  },
  {
   "cell_type": "markdown",
   "id": "8d045a67",
   "metadata": {},
   "source": [
    "1) Quali argomentazioni potete portare per validare l'ipotesi che la distribuzione di X sia uguale a quella descritta dalla densità f definita nell'esercizio 1?"
   ]
  },
  {
   "cell_type": "markdown",
   "id": "cdd31548",
   "metadata": {},
   "source": [
    "2) Stimate il valore atteso E(X), specificando la dimensione del campione utilizzato e indicando eventuali proprietà dello stimatore utilizzato"
   ]
  },
  {
   "cell_type": "markdown",
   "id": "dedc0583",
   "metadata": {},
   "source": [
    "3) (Non era posta cosi ma il concetto era questo) Stimare 'a' utilizzando lo stimatore non distorto trovato nell'esercizio 1"
   ]
  },
  {
   "cell_type": "markdown",
   "id": "7f99b829",
   "metadata": {},
   "source": [
    "4) Utilizzate il valore stimato per 'a' per validare ulteriormente l'ipotesi che i valori dell'attributo perc-completed siano compatibili con densità f definita nell'esercizio 1"
   ]
  },
  {
   "cell_type": "markdown",
   "id": "cdcd9936",
   "metadata": {},
   "source": [
    "5) Vogliamo garantire che l'errore (in valore assoluto) fatto nella stima al punto 3 di questo esercizio sia minore o uguale di 'e' con probabilità almeno 0.9, quanto vale 'e'?"
   ]
  },
  {
   "cell_type": "markdown",
   "id": "f8c3d78b",
   "metadata": {},
   "source": [
    "(Vado a memoria per questa frase): Da qui consideriamo i job problematici, che sono quelli che hanno l'attributo di perc-completed tra il 50 e il 90 percento, estremi esclusi, e sono tra loro indipendenti"
   ]
  },
  {
   "cell_type": "markdown",
   "id": "3fa63573",
   "metadata": {},
   "source": [
    "6) (Anche per questa vado a memoria) Calcolare la probabilità che un job sia un job problematico"
   ]
  },
  {
   "cell_type": "markdown",
   "id": "511d2545",
   "metadata": {},
   "source": [
    "7) Calcolate la probabilità che cinque job differenti siano tutti problematici"
   ]
  },
  {
   "cell_type": "markdown",
   "id": "4e6bc728",
   "metadata": {},
   "source": [
    "8) Calcolate la probabilità che, dati cinque job differenti, almeno uno di essi sia problematico"
   ]
  }
 ],
 "metadata": {
  "kernelspec": {
   "display_name": "Python 3 (ipykernel)",
   "language": "python",
   "name": "python3"
  },
  "language_info": {
   "codemirror_mode": {
    "name": "ipython",
    "version": 3
   },
   "file_extension": ".py",
   "mimetype": "text/x-python",
   "name": "python",
   "nbconvert_exporter": "python",
   "pygments_lexer": "ipython3",
   "version": "3.9.13"
  }
 },
 "nbformat": 4,
 "nbformat_minor": 5
}
