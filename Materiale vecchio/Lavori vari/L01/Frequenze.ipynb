{
 "cells": [
  {
   "cell_type": "code",
   "execution_count": 2,
   "id": "7dade30f",
   "metadata": {},
   "outputs": [
    {
     "data": {
      "text/plain": [
       "[(1964, 1),\n",
       " (1940, 1),\n",
       " (1961, 1),\n",
       " (1981, 1),\n",
       " (1979, 1),\n",
       " (1962, 2),\n",
       " (1963, 2),\n",
       " (1941, 3),\n",
       " (None, 7)]"
      ]
     },
     "execution_count": 2,
     "metadata": {},
     "output_type": "execute_result"
    }
   ],
   "source": [
    "# Uso un dizionario per calcolare le frequenze all'interno di una lista\n",
    "def get_sorted_freq(frequenze):\n",
    "    freq = {}\n",
    "    for y in years:\n",
    "        if y in freq:\n",
    "            freq[y] += 1\n",
    "        else:\n",
    "            freq[y] = 1\n",
    "    return sorted(list(freq.items()), key = lambda p: p[1])\n",
    "\n",
    "names = ['Aquaman', 'Ant-Man', 'Batman', 'Black Widow',\n",
    "         'Captain America', 'Daredavil', 'Elektra', 'Flash',\n",
    "         'Green Arrow', 'Human Torch', 'Hancock', 'Iron Man',\n",
    "         'Mystique', 'Professor X', 'Rogue', 'Superman',\n",
    "         'Spider-Man', 'Thor', 'Northstar']\n",
    "\n",
    "years = [1941, 1962, None, None, 1941,\n",
    "         1964, None, 1940, 1941, 1961,\n",
    "         None, 1963, None, 1963, 1981,\n",
    "         None, None, 1962, 1979]\n",
    "get_sorted_freq(years)"
   ]
  },
  {
   "cell_type": "code",
   "execution_count": null,
   "id": "ea45d0cb",
   "metadata": {},
   "outputs": [],
   "source": []
  }
 ],
 "metadata": {
  "kernelspec": {
   "display_name": "Python 3 (ipykernel)",
   "language": "python",
   "name": "python3"
  },
  "language_info": {
   "codemirror_mode": {
    "name": "ipython",
    "version": 3
   },
   "file_extension": ".py",
   "mimetype": "text/x-python",
   "name": "python",
   "nbconvert_exporter": "python",
   "pygments_lexer": "ipython3",
   "version": "3.9.13"
  }
 },
 "nbformat": 4,
 "nbformat_minor": 5
}
