{
 "cells": [
  {
   "cell_type": "code",
   "execution_count": 1,
   "id": "d13106f5",
   "metadata": {},
   "outputs": [],
   "source": [
    "import numpy as np \n",
    "import pandas as pd \n",
    "import matplotlib.pyplot as plt \n",
    "from scipy.constants import golden \n",
    "\n",
    "plt.style.use('fivethirtyeight')\n",
    "plt.rc('figure', figsize = (5.0, 5.0/golden)) \n",
    "\n",
    "cars = pd.read_csv('mtcars2.txt', delimiter = '\\t', decimal=\",\")\n",
    "\n",
    "#cars"
   ]
  },
  {
   "cell_type": "code",
   "execution_count": 2,
   "id": "a741eb57",
   "metadata": {},
   "outputs": [
    {
     "data": {
      "text/plain": [
       "146.6875"
      ]
     },
     "execution_count": 2,
     "metadata": {},
     "output_type": "execute_result"
    }
   ],
   "source": [
    "#5.1 Calcolate la media di cilindrata\n",
    "cars.cilindrata.mean()"
   ]
  },
  {
   "cell_type": "code",
   "execution_count": 3,
   "id": "1d230fa3",
   "metadata": {},
   "outputs": [
    {
     "data": {
      "text/plain": [
       "68.56286848932059"
      ]
     },
     "execution_count": 3,
     "metadata": {},
     "output_type": "execute_result"
    }
   ],
   "source": [
    "#5.2 Calcolate la deviazione standard di cilindrata\n",
    "cars.cilindrata.std()"
   ]
  },
  {
   "cell_type": "code",
   "execution_count": 4,
   "id": "5b7a6da5",
   "metadata": {},
   "outputs": [
    {
     "data": {
      "text/plain": [
       "array([113.01662695, 120.36772381, 121.3729953 , 113.0766287 ,\n",
       "       171.13510972, 107.10922526, 213.85939308, 163.01454615,\n",
       "       150.63701151, 121.71877067, 222.82313698,  79.35733349,\n",
       "        39.86392663, 143.91358648, 139.25958105, 293.14210117,\n",
       "       149.22744358,  47.42520873, 239.27683158, 110.67924285,\n",
       "       120.33143654,  70.49718862, 121.90462414, 153.41814474,\n",
       "       120.7237358 , 280.59348411, 162.40995062,  95.60915755,\n",
       "       134.47790043, 138.25728896, 295.47678638, 157.66214105])"
      ]
     },
     "execution_count": 4,
     "metadata": {},
     "output_type": "execute_result"
    }
   ],
   "source": [
    "'''\n",
    "5.3 Generate un campione casuale di 32 elementi estratto da una popolazione normale di valore atteso e deviazione std\n",
    "uguali alla media e alla dev. std trovati prima e salvare tale campione nella variabile\n",
    "valoriSimulati\n",
    "'''\n",
    "\n",
    "import scipy.stats as st\n",
    "x = st.norm(cars.cilindrata.mean(), cars.cilindrata.std())\n",
    "valoriSimulati = x.rvs(32)\n",
    "valoriSimulati"
   ]
  },
  {
   "cell_type": "code",
   "execution_count": 5,
   "id": "b77c4fdd",
   "metadata": {
    "scrolled": true
   },
   "outputs": [
    {
     "data": {
      "text/plain": [
       "<matplotlib.collections.PathCollection at 0x278db1ea610>"
      ]
     },
     "execution_count": 5,
     "metadata": {},
     "output_type": "execute_result"
    },
    {
     "data": {
      "image/png": "[encoded data removed]",
      "text/plain": [
       "<Figure size 500x309.017 with 1 Axes>"
      ]
     },
     "metadata": {},
     "output_type": "display_data"
    }
   ],
   "source": [
    "#5.4 Tracciate il diagramma di dispersione tra cilindrata e valori simulati\n",
    "plt.scatter(cars.cilindrata, valoriSimulati)"
   ]
  },
  {
   "cell_type": "code",
   "execution_count": 14,
   "id": "fc93323c",
   "metadata": {},
   "outputs": [
    {
     "data": {
      "text/plain": [
       "array([ 39.86392663,  47.42520873,  70.49718862,  79.35733349,\n",
       "        95.60915755, 107.10922526, 110.67924285, 113.01662695,\n",
       "       113.0766287 , 120.33143654, 120.36772381, 120.7237358 ,\n",
       "       121.3729953 , 121.71877067, 121.90462414, 134.47790043,\n",
       "       138.25728896, 139.25958105, 143.91358648, 149.22744358,\n",
       "       150.63701151, 153.41814474, 157.66214105, 162.40995062,\n",
       "       163.01454615, 171.13510972, 213.85939308, 222.82313698,\n",
       "       239.27683158, 280.59348411, 293.14210117, 295.47678638])"
      ]
     },
     "execution_count": 14,
     "metadata": {},
     "output_type": "execute_result"
    }
   ],
   "source": [
    "#5.5 Ordinate in ordine crescente valoriSimulati e salvate il risultato in valoriSimulatiSorted\n",
    "valoriSimulatiSorted = np.sort(valoriSimulati)\n",
    "valoriSimulatiSorted"
   ]
  },
  {
   "cell_type": "code",
   "execution_count": 15,
   "id": "5d0c6523",
   "metadata": {},
   "outputs": [
    {
     "data": {
      "text/plain": [
       "18     52\n",
       "7      62\n",
       "19     65\n",
       "25     66\n",
       "17     66\n",
       "26     91\n",
       "2      93\n",
       "8      95\n",
       "20     97\n",
       "5     105\n",
       "31    109\n",
       "0     110\n",
       "1     110\n",
       "3     110\n",
       "27    113\n",
       "10    123\n",
       "9     123\n",
       "21    150\n",
       "22    150\n",
       "29    175\n",
       "24    175\n",
       "4     175\n",
       "12    180\n",
       "13    180\n",
       "11    180\n",
       "14    205\n",
       "15    215\n",
       "16    230\n",
       "23    245\n",
       "6     245\n",
       "28    264\n",
       "30    335\n",
       "Name: cilindrata, dtype: int64"
      ]
     },
     "execution_count": 15,
     "metadata": {},
     "output_type": "execute_result"
    }
   ],
   "source": [
    "#5.5 Ordinate in ordine crescente valoriSimulati e salvate il risultato in valoriSimulatiSorted\n",
    "cilindrateSorted = cars.cilindrata.sort_values()\n",
    "cilindrateSorted"
   ]
  },
  {
   "cell_type": "code",
   "execution_count": 17,
   "id": "e608b98d",
   "metadata": {},
   "outputs": [
    {
     "data": {
      "image/png": "[encoded data removed]",
      "text/plain": [
       "<Figure size 500x309.017 with 1 Axes>"
      ]
     },
     "metadata": {},
     "output_type": "display_data"
    }
   ],
   "source": [
    "#5.7 Tracciate il diagramma di dispersione tra valoriSimulatiSorted e cilindrateSorted\n",
    "plt.scatter(valoriSimulatiSorted, cilindrateSorted)\n",
    "plt.show()"
   ]
  },
  {
   "cell_type": "code",
   "execution_count": 18,
   "id": "6510cc21",
   "metadata": {},
   "outputs": [
    {
     "name": "stdout",
     "output_type": "stream",
     "text": [
      "si\n"
     ]
    }
   ],
   "source": [
    "#5.8.1 Cilindrata segue una legge normale ?\n",
    "print('si')"
   ]
  },
  {
   "cell_type": "code",
   "execution_count": 19,
   "id": "949052ae",
   "metadata": {},
   "outputs": [
    {
     "name": "stdout",
     "output_type": "stream",
     "text": [
      "si, come mostra il grafico\n"
     ]
    }
   ],
   "source": [
    "#5.8.2 Tra cilindrata e i valori simulati esiste una relazione lineare ?\n",
    "print('si, come mostra il grafico')"
   ]
  },
  {
   "cell_type": "code",
   "execution_count": null,
   "id": "21bddfc8",
   "metadata": {},
   "outputs": [],
   "source": []
  }
 ],
 "metadata": {
  "kernelspec": {
   "display_name": "Python 3 (ipykernel)",
   "language": "python",
   "name": "python3"
  },
  "language_info": {
   "codemirror_mode": {
    "name": "ipython",
    "version": 3
   },
   "file_extension": ".py",
   "mimetype": "text/x-python",
   "name": "python",
   "nbconvert_exporter": "python",
   "pygments_lexer": "ipython3",
   "version": "3.9.13"
  }
 },
 "nbformat": 4,
 "nbformat_minor": 5
}
