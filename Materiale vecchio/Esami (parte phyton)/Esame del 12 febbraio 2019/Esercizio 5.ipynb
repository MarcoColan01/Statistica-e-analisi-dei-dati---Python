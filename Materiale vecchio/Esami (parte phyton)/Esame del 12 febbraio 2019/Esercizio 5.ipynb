{
 "cells": [
  {
   "cell_type": "code",
   "execution_count": 5,
   "id": "2b12bdc1",
   "metadata": {},
   "outputs": [],
   "source": [
    "import numpy as np \n",
    "import pandas as pd \n",
    "import matplotlib.pyplot as plt \n",
    "from scipy.constants import golden \n",
    "import scipy.stats as st\n",
    "import statsmodels.api as sm\n",
    "\n",
    "plt.style.use('fivethirtyeight')\n",
    "plt.rc('figure', figsize = (5.0, 5.0/golden)) \n",
    "\n",
    "cars = pd.read_csv('carsharing.csv', delimiter = ';', decimal=\",\")"
   ]
  },
  {
   "cell_type": "code",
   "execution_count": 2,
   "id": "f4a4d8bb",
   "metadata": {},
   "outputs": [
    {
     "data": {
      "text/plain": [
       "0.5535714285714286"
      ]
     },
     "execution_count": 2,
     "metadata": {},
     "output_type": "execute_result"
    }
   ],
   "source": [
    "#5.1 Stima probabilità che un'auto venga usata in orario di punta.\n",
    "len(cars[cars['RushHour'] == 1])/len(cars)"
   ]
  },
  {
   "cell_type": "code",
   "execution_count": 3,
   "id": "c676cd8a",
   "metadata": {},
   "outputs": [
    {
     "name": "stdout",
     "output_type": "stream",
     "text": [
      "La media campionaria.\n"
     ]
    }
   ],
   "source": [
    "#5.2 Stimatore usato prima ?\n",
    "print('La media campionaria.')"
   ]
  },
  {
   "cell_type": "code",
   "execution_count": 4,
   "id": "3c5e4108",
   "metadata": {},
   "outputs": [
    {
     "data": {
      "text/plain": [
       "392"
      ]
     },
     "execution_count": 4,
     "metadata": {},
     "output_type": "execute_result"
    }
   ],
   "source": [
    "#5.3 Numerosità del campione usato prima\n",
    "len(cars)"
   ]
  },
  {
   "cell_type": "code",
   "execution_count": 12,
   "id": "4807179e",
   "metadata": {},
   "outputs": [
    {
     "data": {
      "text/plain": [
       "0.9532789660906438"
      ]
     },
     "execution_count": 12,
     "metadata": {},
     "output_type": "execute_result"
    }
   ],
   "source": [
    "#5.4 Minorazione della probabilità che nella stima di p abbiate compiuto un errore al più del 0.05\n",
    "Z = st.norm()\n",
    "import math \n",
    "sigma = cars['RushHour'].std()\n",
    "n = math.sqrt(len(cars))\n",
    "2*Z.cdf((0.05*n)/sigma)-1"
   ]
  },
  {
   "cell_type": "code",
   "execution_count": null,
   "id": "5018133b",
   "metadata": {},
   "outputs": [],
   "source": []
  }
 ],
 "metadata": {
  "kernelspec": {
   "display_name": "Python 3 (ipykernel)",
   "language": "python",
   "name": "python3"
  },
  "language_info": {
   "codemirror_mode": {
    "name": "ipython",
    "version": 3
   },
   "file_extension": ".py",
   "mimetype": "text/x-python",
   "name": "python",
   "nbconvert_exporter": "python",
   "pygments_lexer": "ipython3",
   "version": "3.9.13"
  }
 },
 "nbformat": 4,
 "nbformat_minor": 5
}
