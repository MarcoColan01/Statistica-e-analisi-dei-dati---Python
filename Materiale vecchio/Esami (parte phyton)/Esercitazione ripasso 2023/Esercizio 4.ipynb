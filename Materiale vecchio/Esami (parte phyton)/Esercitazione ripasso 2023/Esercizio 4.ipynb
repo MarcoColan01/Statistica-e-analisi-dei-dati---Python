{
 "cells": [
  {
   "cell_type": "code",
   "execution_count": 21,
   "id": "b58596ca",
   "metadata": {},
   "outputs": [],
   "source": [
    "import numpy as np \n",
    "import pandas as pd \n",
    "import matplotlib.pyplot as plt \n",
    "from scipy.constants import golden \n",
    "import scipy.stats as st\n",
    "import statsmodels.api as sm\n",
    "import numpy as np\n",
    "import math\n",
    "\n",
    "plt.style.use('fivethirtyeight')\n",
    "plt.rc('figure', figsize = (5.0, 5.0/golden)) \n",
    "\n",
    "ca = pd.read_csv('ComposizioneAcqua.csv', sep = ',', decimal=\".\", parse_dates=True)\n",
    "sorgente_5 = ca[ca['NomeSorgente'] == 'Sorgente5']"
   ]
  },
  {
   "cell_type": "code",
   "execution_count": 10,
   "id": "616af504",
   "metadata": {},
   "outputs": [
    {
     "data": {
      "text/plain": [
       "0.6281498695096628"
      ]
     },
     "execution_count": 10,
     "metadata": {},
     "output_type": "execute_result"
    }
   ],
   "source": [
    "'''\n",
    "4.1 Secondo il titolare dell'azienda il valore atteso di particelle di oro riscontrate è abbastanza \n",
    "elevato da poter pensare di estrarre l'oro dall'acqua per venderlo. Prima di iniziare questa nuova \n",
    "attività è bene soppesare l'errore compiuto nella stima di tale parametro. Calcolare la probabilità \n",
    "che, per la sorgente 5, l'errore compiuto nella stima del valore atteso di particelle di oro riscontrate \n",
    "in 5 litri di acqua sia al più di 0.1 particelle, in eccesso o in difetto.\n",
    "'''\n",
    "\n",
    "n = len(sorgente_5)\n",
    "sigma = sorgente_5['Oro'].std()\n",
    "eps = 0.1\n",
    "z = st.norm()\n",
    "2*z.cdf(eps*n**0.5 / sigma)-1"
   ]
  },
  {
   "cell_type": "code",
   "execution_count": 24,
   "id": "b35e41b6",
   "metadata": {},
   "outputs": [
    {
     "data": {
      "text/plain": [
       "4190"
      ]
     },
     "execution_count": 24,
     "metadata": {},
     "output_type": "execute_result"
    }
   ],
   "source": [
    "'''\n",
    "4.2 Quanti litri di acqua si dovrebbero ancora analizzare affinché la probabilità che, per la sorgente\n",
    "5, l'errore compiuto nella stima del valore atteso di particelle di oro riscontrate in 5 litri di acqua \n",
    "sia al più di 0.1 particelle, in eccesso o in difetto sia almeno uguale a 0.9?\n",
    "'''\n",
    "\n",
    "y = st.norm()\n",
    "l = math.ceil(((sorgente_5.Oro.std()*10) * y.ppf(0.95))**2)\n",
    "\n",
    "oss = l - len(sorgente_5)\n",
    "5*(oss)"
   ]
  },
  {
   "cell_type": "code",
   "execution_count": 25,
   "id": "794b3361",
   "metadata": {},
   "outputs": [
    {
     "data": {
      "text/plain": [
       "104000"
      ]
     },
     "execution_count": 25,
     "metadata": {},
     "output_type": "execute_result"
    }
   ],
   "source": [
    "'''\n",
    "4.3 \n",
    "Per semplicità ipotizziamo che una particella estratta dalla sorgente 5 possa essere venduta a 5 \n",
    "euro e che il dispositivo per l'estrazione dell'oro abbia un costo fisso di 1000 euro. Stimare\n",
    "    il guadagno atteso nel caso in cui si voglia estrarre l'oro da 1000 litri di acqua.\n",
    "    la varianza del guadagno.\n",
    "'''\n",
    "100*(3*len(sorgente_5)-10)"
   ]
  },
  {
   "cell_type": "code",
   "execution_count": null,
   "id": "0b5cd1f6",
   "metadata": {},
   "outputs": [],
   "source": []
  }
 ],
 "metadata": {
  "kernelspec": {
   "display_name": "Python 3 (ipykernel)",
   "language": "python",
   "name": "python3"
  },
  "language_info": {
   "codemirror_mode": {
    "name": "ipython",
    "version": 3
   },
   "file_extension": ".py",
   "mimetype": "text/x-python",
   "name": "python",
   "nbconvert_exporter": "python",
   "pygments_lexer": "ipython3",
   "version": "3.9.13"
  }
 },
 "nbformat": 4,
 "nbformat_minor": 5
}
