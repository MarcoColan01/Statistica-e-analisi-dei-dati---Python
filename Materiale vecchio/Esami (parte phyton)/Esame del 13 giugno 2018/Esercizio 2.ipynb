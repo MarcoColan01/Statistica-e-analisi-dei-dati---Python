{
 "cells": [
  {
   "cell_type": "code",
   "execution_count": 20,
   "id": "0b42f19e",
   "metadata": {},
   "outputs": [
    {
     "data": {
      "text/plain": [
       "467.1967063479367"
      ]
     },
     "execution_count": 20,
     "metadata": {},
     "output_type": "execute_result"
    }
   ],
   "source": [
    "import numpy as np \n",
    "import pandas as pd \n",
    "import matplotlib.pyplot as plt \n",
    "from scipy.constants import golden \n",
    "import scipy.stats as st\n",
    "\n",
    "plt.style.use('fivethirtyeight')\n",
    "plt.rc('figure', figsize = (5.0, 5.0/golden)) \n",
    "\n",
    "cani = pd.read_csv('cani.csv', sep = ';', decimal=\",\", parse_dates=True)"
   ]
  },
  {
   "cell_type": "code",
   "execution_count": 5,
   "id": "76d5a9c2",
   "metadata": {},
   "outputs": [
    {
     "data": {
      "image/png": "[encoded data removed]",
      "text/plain": [
       "<Figure size 500x309.017 with 1 Axes>"
      ]
     },
     "metadata": {},
     "output_type": "display_data"
    }
   ],
   "source": [
    "#2.1 Tracciare un grafico opportuno per descrivere il tempo di sopravvivenza\n",
    "cani_surv = cani.SURVIVALTIME\n",
    "bins = np.arange(0,cani_surv.max(),120)\n",
    "cani_surv.hist(bins = np.hstack(bins))\n",
    "plt.show()"
   ]
  },
  {
   "cell_type": "code",
   "execution_count": 6,
   "id": "d610d331",
   "metadata": {},
   "outputs": [
    {
     "data": {
      "text/plain": [
       "459.888198757764"
      ]
     },
     "execution_count": 6,
     "metadata": {},
     "output_type": "execute_result"
    }
   ],
   "source": [
    "#2.2 Stima del tempo di sopravvivenza atteso\n",
    "cani_surv.mean()"
   ]
  },
  {
   "cell_type": "code",
   "execution_count": 7,
   "id": "adb37892",
   "metadata": {},
   "outputs": [
    {
     "name": "stdout",
     "output_type": "stream",
     "text": [
      "è la media campionaria, definita come somma degli Xi per i = 1...n e poi divisa per n.\n"
     ]
    }
   ],
   "source": [
    "#2.3 Esprimete lo stimatore Tn usato al punto precedente\n",
    "print('è la media campionaria, definita come somma degli Xi per i = 1...n e poi divisa per n.')"
   ]
  },
  {
   "cell_type": "code",
   "execution_count": 8,
   "id": "216e2406",
   "metadata": {},
   "outputs": [
    {
     "name": "stdout",
     "output_type": "stream",
     "text": [
      "è uno stimatore non distorto perchè la media campionaria è sempre stimatore non distorto del valore atteso.\n"
     ]
    }
   ],
   "source": [
    "#2.4 Tale stimatore è non distorto ?\n",
    "print('è uno stimatore non distorto perchè la media campionaria è sempre stimatore non distorto del valore atteso.')"
   ]
  },
  {
   "cell_type": "code",
   "execution_count": 10,
   "id": "4534b9c5",
   "metadata": {},
   "outputs": [
    {
     "data": {
      "text/plain": [
       "36.82025860334422"
      ]
     },
     "execution_count": 10,
     "metadata": {},
     "output_type": "execute_result"
    }
   ],
   "source": [
    "#2.5-6 Deviazione standard di Tn\n",
    "import math\n",
    "dev = cani_surv.std()/math.sqrt(len(cani_surv))\n",
    "dev"
   ]
  },
  {
   "cell_type": "code",
   "execution_count": 31,
   "id": "41b0094c",
   "metadata": {},
   "outputs": [
    {
     "data": {
      "text/plain": [
       "164.04067877198327"
      ]
     },
     "execution_count": 31,
     "metadata": {},
     "output_type": "execute_result"
    }
   ],
   "source": [
    "'''\n",
    "2.7 Determinate un numero sufficiente di osservazioni affinchè, nella stima del tempo \n",
    "sopravvivenza atteso, si compia un errore al più di due mesi con probabilità >= 0.9\n",
    "'''\n",
    "z = st.norm()\n",
    "n=((z.ppf(0.95)*cani_surv.std())/60)**2\n",
    "n"
   ]
  },
  {
   "cell_type": "code",
   "execution_count": 32,
   "id": "630da899",
   "metadata": {},
   "outputs": [
    {
     "name": "stdout",
     "output_type": "stream",
     "text": [
      "La taglia del campione è 161 , non è quindi sufficiente a garantire le richieste del punto precedente.\n"
     ]
    }
   ],
   "source": [
    "#2.8 La taglia del campione è sufficiente a garantire le condizioni richieste al punto precedente ?\n",
    "print('La taglia del campione è', len(cani), ', non è quindi sufficiente a garantire le richieste del punto precedente.')"
   ]
  },
  {
   "cell_type": "code",
   "execution_count": 33,
   "id": "5f3b7106",
   "metadata": {},
   "outputs": [
    {
     "data": {
      "text/plain": [
       "1.2599676678294904"
      ]
     },
     "execution_count": 33,
     "metadata": {},
     "output_type": "execute_result"
    }
   ],
   "source": [
    "#2.9 Stimatore del tempo sopravvivenza atteso espresso in anni\n",
    "cani_surv.mean()/365"
   ]
  },
  {
   "cell_type": "code",
   "execution_count": 34,
   "id": "f3152ff1",
   "metadata": {},
   "outputs": [
    {
     "name": "stdout",
     "output_type": "stream",
     "text": [
      "è non distorto perchè la media campionaria è sempre stimatore non distorto del valore atteso.\n"
     ]
    }
   ],
   "source": [
    "#2.10 Lo stimatore proposto prima è non distorto ?\n",
    "print('è non distorto perchè la media campionaria è sempre stimatore non distorto del valore atteso.')"
   ]
  },
  {
   "cell_type": "code",
   "execution_count": null,
   "id": "ba7e923d",
   "metadata": {},
   "outputs": [],
   "source": []
  }
 ],
 "metadata": {
  "kernelspec": {
   "display_name": "Python 3 (ipykernel)",
   "language": "python",
   "name": "python3"
  },
  "language_info": {
   "codemirror_mode": {
    "name": "ipython",
    "version": 3
   },
   "file_extension": ".py",
   "mimetype": "text/x-python",
   "name": "python",
   "nbconvert_exporter": "python",
   "pygments_lexer": "ipython3",
   "version": "3.9.13"
  }
 },
 "nbformat": 4,
 "nbformat_minor": 5
}
