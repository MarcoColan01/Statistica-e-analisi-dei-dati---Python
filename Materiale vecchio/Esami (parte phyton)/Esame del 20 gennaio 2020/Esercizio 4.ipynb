{
 "cells": [
  {
   "cell_type": "code",
   "execution_count": 40,
   "id": "774b8690",
   "metadata": {},
   "outputs": [
    {
     "data": {
      "text/html": [
       "<div>\n",
       "<style scoped>\n",
       "    .dataframe tbody tr th:only-of-type {\n",
       "        vertical-align: middle;\n",
       "    }\n",
       "\n",
       "    .dataframe tbody tr th {\n",
       "        vertical-align: top;\n",
       "    }\n",
       "\n",
       "    .dataframe thead th {\n",
       "        text-align: right;\n",
       "    }\n",
       "</style>\n",
       "<table border=\"1\" class=\"dataframe\">\n",
       "  <thead>\n",
       "    <tr style=\"text-align: right;\">\n",
       "      <th></th>\n",
       "      <th>modello</th>\n",
       "      <th>consumo</th>\n",
       "      <th>cilindrata</th>\n",
       "      <th>peso</th>\n",
       "      <th>test400metri</th>\n",
       "      <th>trasmissione</th>\n",
       "      <th>marce</th>\n",
       "    </tr>\n",
       "  </thead>\n",
       "  <tbody>\n",
       "    <tr>\n",
       "      <th>0</th>\n",
       "      <td>Mazda RX4</td>\n",
       "      <td>21.00</td>\n",
       "      <td>110</td>\n",
       "      <td>2.620</td>\n",
       "      <td>16.46</td>\n",
       "      <td>1</td>\n",
       "      <td>4</td>\n",
       "    </tr>\n",
       "    <tr>\n",
       "      <th>1</th>\n",
       "      <td>Mazda RX4 Wag</td>\n",
       "      <td>21.00</td>\n",
       "      <td>110</td>\n",
       "      <td>2.875</td>\n",
       "      <td>17.02</td>\n",
       "      <td>1</td>\n",
       "      <td>4</td>\n",
       "    </tr>\n",
       "    <tr>\n",
       "      <th>2</th>\n",
       "      <td>Datsun 710</td>\n",
       "      <td>22.80</td>\n",
       "      <td>93</td>\n",
       "      <td>2.320</td>\n",
       "      <td>18.61</td>\n",
       "      <td>1</td>\n",
       "      <td>4</td>\n",
       "    </tr>\n",
       "    <tr>\n",
       "      <th>3</th>\n",
       "      <td>Hornet 4 Drive</td>\n",
       "      <td>21.40</td>\n",
       "      <td>110</td>\n",
       "      <td>3.215</td>\n",
       "      <td>19.44</td>\n",
       "      <td>0</td>\n",
       "      <td>3</td>\n",
       "    </tr>\n",
       "    <tr>\n",
       "      <th>4</th>\n",
       "      <td>Hornet Sportabout</td>\n",
       "      <td>18.70</td>\n",
       "      <td>175</td>\n",
       "      <td>3.440</td>\n",
       "      <td>17.02</td>\n",
       "      <td>0</td>\n",
       "      <td>3</td>\n",
       "    </tr>\n",
       "    <tr>\n",
       "      <th>5</th>\n",
       "      <td>Valiant</td>\n",
       "      <td>18.01</td>\n",
       "      <td>105</td>\n",
       "      <td>3.460</td>\n",
       "      <td>20.22</td>\n",
       "      <td>0</td>\n",
       "      <td>3</td>\n",
       "    </tr>\n",
       "    <tr>\n",
       "      <th>6</th>\n",
       "      <td>Duster 360</td>\n",
       "      <td>14.30</td>\n",
       "      <td>245</td>\n",
       "      <td>3.570</td>\n",
       "      <td>15.84</td>\n",
       "      <td>0</td>\n",
       "      <td>3</td>\n",
       "    </tr>\n",
       "    <tr>\n",
       "      <th>7</th>\n",
       "      <td>Merc 240D</td>\n",
       "      <td>24.40</td>\n",
       "      <td>62</td>\n",
       "      <td>3.190</td>\n",
       "      <td>20.00</td>\n",
       "      <td>0</td>\n",
       "      <td>4</td>\n",
       "    </tr>\n",
       "    <tr>\n",
       "      <th>8</th>\n",
       "      <td>Merc 230</td>\n",
       "      <td>22.80</td>\n",
       "      <td>95</td>\n",
       "      <td>3.150</td>\n",
       "      <td>22.90</td>\n",
       "      <td>0</td>\n",
       "      <td>4</td>\n",
       "    </tr>\n",
       "    <tr>\n",
       "      <th>9</th>\n",
       "      <td>Merc 280</td>\n",
       "      <td>19.20</td>\n",
       "      <td>123</td>\n",
       "      <td>3.440</td>\n",
       "      <td>18.30</td>\n",
       "      <td>0</td>\n",
       "      <td>4</td>\n",
       "    </tr>\n",
       "    <tr>\n",
       "      <th>10</th>\n",
       "      <td>Merc 280C</td>\n",
       "      <td>17.80</td>\n",
       "      <td>123</td>\n",
       "      <td>3.440</td>\n",
       "      <td>18.90</td>\n",
       "      <td>0</td>\n",
       "      <td>4</td>\n",
       "    </tr>\n",
       "    <tr>\n",
       "      <th>11</th>\n",
       "      <td>Merc 450SE</td>\n",
       "      <td>16.40</td>\n",
       "      <td>180</td>\n",
       "      <td>4.070</td>\n",
       "      <td>17.40</td>\n",
       "      <td>0</td>\n",
       "      <td>3</td>\n",
       "    </tr>\n",
       "    <tr>\n",
       "      <th>12</th>\n",
       "      <td>Merc 450SL</td>\n",
       "      <td>17.30</td>\n",
       "      <td>180</td>\n",
       "      <td>3.730</td>\n",
       "      <td>17.60</td>\n",
       "      <td>0</td>\n",
       "      <td>3</td>\n",
       "    </tr>\n",
       "    <tr>\n",
       "      <th>13</th>\n",
       "      <td>Merc 450SLC</td>\n",
       "      <td>15.20</td>\n",
       "      <td>180</td>\n",
       "      <td>3.780</td>\n",
       "      <td>18.00</td>\n",
       "      <td>0</td>\n",
       "      <td>3</td>\n",
       "    </tr>\n",
       "    <tr>\n",
       "      <th>14</th>\n",
       "      <td>Cadillac Fleetwood</td>\n",
       "      <td>10.40</td>\n",
       "      <td>205</td>\n",
       "      <td>5.250</td>\n",
       "      <td>17.98</td>\n",
       "      <td>0</td>\n",
       "      <td>3</td>\n",
       "    </tr>\n",
       "    <tr>\n",
       "      <th>15</th>\n",
       "      <td>Lincoln Continental</td>\n",
       "      <td>10.40</td>\n",
       "      <td>215</td>\n",
       "      <td>5.424</td>\n",
       "      <td>17.82</td>\n",
       "      <td>0</td>\n",
       "      <td>3</td>\n",
       "    </tr>\n",
       "    <tr>\n",
       "      <th>16</th>\n",
       "      <td>Chrysler Imperial</td>\n",
       "      <td>14.70</td>\n",
       "      <td>230</td>\n",
       "      <td>5.345</td>\n",
       "      <td>17.42</td>\n",
       "      <td>0</td>\n",
       "      <td>3</td>\n",
       "    </tr>\n",
       "    <tr>\n",
       "      <th>17</th>\n",
       "      <td>Fiat 128</td>\n",
       "      <td>32.40</td>\n",
       "      <td>66</td>\n",
       "      <td>2.200</td>\n",
       "      <td>19.47</td>\n",
       "      <td>1</td>\n",
       "      <td>4</td>\n",
       "    </tr>\n",
       "    <tr>\n",
       "      <th>18</th>\n",
       "      <td>Honda Civic</td>\n",
       "      <td>30.40</td>\n",
       "      <td>52</td>\n",
       "      <td>1.615</td>\n",
       "      <td>18.52</td>\n",
       "      <td>1</td>\n",
       "      <td>4</td>\n",
       "    </tr>\n",
       "    <tr>\n",
       "      <th>19</th>\n",
       "      <td>Toyota Corolla</td>\n",
       "      <td>33.90</td>\n",
       "      <td>65</td>\n",
       "      <td>1.835</td>\n",
       "      <td>19.90</td>\n",
       "      <td>1</td>\n",
       "      <td>4</td>\n",
       "    </tr>\n",
       "    <tr>\n",
       "      <th>20</th>\n",
       "      <td>Toyota Corona</td>\n",
       "      <td>21.50</td>\n",
       "      <td>97</td>\n",
       "      <td>2.465</td>\n",
       "      <td>20.01</td>\n",
       "      <td>0</td>\n",
       "      <td>3</td>\n",
       "    </tr>\n",
       "    <tr>\n",
       "      <th>21</th>\n",
       "      <td>Dodge Challenger</td>\n",
       "      <td>15.50</td>\n",
       "      <td>150</td>\n",
       "      <td>3.520</td>\n",
       "      <td>16.87</td>\n",
       "      <td>0</td>\n",
       "      <td>3</td>\n",
       "    </tr>\n",
       "    <tr>\n",
       "      <th>22</th>\n",
       "      <td>AMC Javelin</td>\n",
       "      <td>15.20</td>\n",
       "      <td>150</td>\n",
       "      <td>3.435</td>\n",
       "      <td>17.30</td>\n",
       "      <td>0</td>\n",
       "      <td>3</td>\n",
       "    </tr>\n",
       "    <tr>\n",
       "      <th>23</th>\n",
       "      <td>Camaro Z28</td>\n",
       "      <td>13.30</td>\n",
       "      <td>245</td>\n",
       "      <td>3.840</td>\n",
       "      <td>15.41</td>\n",
       "      <td>0</td>\n",
       "      <td>3</td>\n",
       "    </tr>\n",
       "    <tr>\n",
       "      <th>24</th>\n",
       "      <td>Pontiac Firebird</td>\n",
       "      <td>19.20</td>\n",
       "      <td>175</td>\n",
       "      <td>3.845</td>\n",
       "      <td>17.05</td>\n",
       "      <td>0</td>\n",
       "      <td>3</td>\n",
       "    </tr>\n",
       "    <tr>\n",
       "      <th>25</th>\n",
       "      <td>Fiat X1-9</td>\n",
       "      <td>27.30</td>\n",
       "      <td>66</td>\n",
       "      <td>1.935</td>\n",
       "      <td>18.90</td>\n",
       "      <td>1</td>\n",
       "      <td>4</td>\n",
       "    </tr>\n",
       "    <tr>\n",
       "      <th>26</th>\n",
       "      <td>Porsche 914-2</td>\n",
       "      <td>26.00</td>\n",
       "      <td>91</td>\n",
       "      <td>2.140</td>\n",
       "      <td>16.70</td>\n",
       "      <td>1</td>\n",
       "      <td>5</td>\n",
       "    </tr>\n",
       "    <tr>\n",
       "      <th>27</th>\n",
       "      <td>Lotus Europa</td>\n",
       "      <td>30.40</td>\n",
       "      <td>113</td>\n",
       "      <td>1.513</td>\n",
       "      <td>16.90</td>\n",
       "      <td>1</td>\n",
       "      <td>5</td>\n",
       "    </tr>\n",
       "    <tr>\n",
       "      <th>28</th>\n",
       "      <td>Ford Pantera L</td>\n",
       "      <td>15.80</td>\n",
       "      <td>264</td>\n",
       "      <td>3.170</td>\n",
       "      <td>14.50</td>\n",
       "      <td>1</td>\n",
       "      <td>5</td>\n",
       "    </tr>\n",
       "    <tr>\n",
       "      <th>29</th>\n",
       "      <td>Ferrari Dino</td>\n",
       "      <td>19.70</td>\n",
       "      <td>175</td>\n",
       "      <td>2.770</td>\n",
       "      <td>15.50</td>\n",
       "      <td>1</td>\n",
       "      <td>5</td>\n",
       "    </tr>\n",
       "    <tr>\n",
       "      <th>30</th>\n",
       "      <td>Maserati Bora</td>\n",
       "      <td>15.00</td>\n",
       "      <td>335</td>\n",
       "      <td>3.570</td>\n",
       "      <td>14.60</td>\n",
       "      <td>1</td>\n",
       "      <td>5</td>\n",
       "    </tr>\n",
       "    <tr>\n",
       "      <th>31</th>\n",
       "      <td>Volvo 142E</td>\n",
       "      <td>21.40</td>\n",
       "      <td>109</td>\n",
       "      <td>2.780</td>\n",
       "      <td>18.60</td>\n",
       "      <td>1</td>\n",
       "      <td>4</td>\n",
       "    </tr>\n",
       "  </tbody>\n",
       "</table>\n",
       "</div>"
      ],
      "text/plain": [
       "                modello  consumo  cilindrata   peso  test400metri  \\\n",
       "0             Mazda RX4    21.00         110  2.620         16.46   \n",
       "1         Mazda RX4 Wag    21.00         110  2.875         17.02   \n",
       "2            Datsun 710    22.80          93  2.320         18.61   \n",
       "3        Hornet 4 Drive    21.40         110  3.215         19.44   \n",
       "4     Hornet Sportabout    18.70         175  3.440         17.02   \n",
       "5               Valiant    18.01         105  3.460         20.22   \n",
       "6            Duster 360    14.30         245  3.570         15.84   \n",
       "7             Merc 240D    24.40          62  3.190         20.00   \n",
       "8              Merc 230    22.80          95  3.150         22.90   \n",
       "9              Merc 280    19.20         123  3.440         18.30   \n",
       "10            Merc 280C    17.80         123  3.440         18.90   \n",
       "11           Merc 450SE    16.40         180  4.070         17.40   \n",
       "12           Merc 450SL    17.30         180  3.730         17.60   \n",
       "13          Merc 450SLC    15.20         180  3.780         18.00   \n",
       "14   Cadillac Fleetwood    10.40         205  5.250         17.98   \n",
       "15  Lincoln Continental    10.40         215  5.424         17.82   \n",
       "16    Chrysler Imperial    14.70         230  5.345         17.42   \n",
       "17             Fiat 128    32.40          66  2.200         19.47   \n",
       "18          Honda Civic    30.40          52  1.615         18.52   \n",
       "19       Toyota Corolla    33.90          65  1.835         19.90   \n",
       "20        Toyota Corona    21.50          97  2.465         20.01   \n",
       "21     Dodge Challenger    15.50         150  3.520         16.87   \n",
       "22          AMC Javelin    15.20         150  3.435         17.30   \n",
       "23           Camaro Z28    13.30         245  3.840         15.41   \n",
       "24     Pontiac Firebird    19.20         175  3.845         17.05   \n",
       "25            Fiat X1-9    27.30          66  1.935         18.90   \n",
       "26        Porsche 914-2    26.00          91  2.140         16.70   \n",
       "27         Lotus Europa    30.40         113  1.513         16.90   \n",
       "28       Ford Pantera L    15.80         264  3.170         14.50   \n",
       "29         Ferrari Dino    19.70         175  2.770         15.50   \n",
       "30        Maserati Bora    15.00         335  3.570         14.60   \n",
       "31           Volvo 142E    21.40         109  2.780         18.60   \n",
       "\n",
       "    trasmissione  marce  \n",
       "0              1      4  \n",
       "1              1      4  \n",
       "2              1      4  \n",
       "3              0      3  \n",
       "4              0      3  \n",
       "5              0      3  \n",
       "6              0      3  \n",
       "7              0      4  \n",
       "8              0      4  \n",
       "9              0      4  \n",
       "10             0      4  \n",
       "11             0      3  \n",
       "12             0      3  \n",
       "13             0      3  \n",
       "14             0      3  \n",
       "15             0      3  \n",
       "16             0      3  \n",
       "17             1      4  \n",
       "18             1      4  \n",
       "19             1      4  \n",
       "20             0      3  \n",
       "21             0      3  \n",
       "22             0      3  \n",
       "23             0      3  \n",
       "24             0      3  \n",
       "25             1      4  \n",
       "26             1      5  \n",
       "27             1      5  \n",
       "28             1      5  \n",
       "29             1      5  \n",
       "30             1      5  \n",
       "31             1      4  "
      ]
     },
     "execution_count": 40,
     "metadata": {},
     "output_type": "execute_result"
    }
   ],
   "source": [
    "import numpy as np \n",
    "import pandas as pd \n",
    "import matplotlib.pyplot as plt \n",
    "from scipy.constants import golden \n",
    "\n",
    "plt.style.use('fivethirtyeight')\n",
    "plt.rc('figure', figsize = (5.0, 5.0/golden)) \n",
    "\n",
    "cars = pd.read_csv('mtcars.txt', delimiter = '\\t', decimal=\",\")\n",
    "\n",
    "cars"
   ]
  },
  {
   "cell_type": "code",
   "execution_count": 5,
   "id": "bd210de3",
   "metadata": {},
   "outputs": [
    {
     "data": {
      "text/plain": [
       "32"
      ]
     },
     "execution_count": 5,
     "metadata": {},
     "output_type": "execute_result"
    }
   ],
   "source": [
    "#4.2 Quante osservazioni contiene il dataset ?\n",
    "len(cars)"
   ]
  },
  {
   "cell_type": "code",
   "execution_count": 23,
   "id": "0f5305c2",
   "metadata": {},
   "outputs": [
    {
     "data": {
      "text/plain": [
       "0    3.44\n",
       "Name: peso, dtype: float64"
      ]
     },
     "execution_count": 23,
     "metadata": {},
     "output_type": "execute_result"
    }
   ],
   "source": [
    "#4.3 Qual'è la moda del carattere peso ?\n",
    "cars['peso'].mode()"
   ]
  },
  {
   "cell_type": "code",
   "execution_count": 25,
   "id": "3a316870",
   "metadata": {},
   "outputs": [
    {
     "data": {
      "text/plain": [
       "15    Lincoln Continental\n",
       "Name: modello, dtype: object"
      ]
     },
     "execution_count": 25,
     "metadata": {},
     "output_type": "execute_result"
    }
   ],
   "source": [
    "#4.4 Qual'è il modello di auto più pesante ?\n",
    "cars[cars.peso == cars.peso.max()].modello"
   ]
  },
  {
   "cell_type": "code",
   "execution_count": 26,
   "id": "6ecdad47",
   "metadata": {},
   "outputs": [
    {
     "data": {
      "text/plain": [
       "array([4, 3, 5], dtype=int64)"
      ]
     },
     "execution_count": 26,
     "metadata": {},
     "output_type": "execute_result"
    }
   ],
   "source": [
    "#4.5 Quali sono i valori possibili per il carattere marce ?\n",
    "cars['marce'].unique()"
   ]
  },
  {
   "cell_type": "code",
   "execution_count": 32,
   "id": "78ce7689",
   "metadata": {},
   "outputs": [
    {
     "name": "stdout",
     "output_type": "stream",
     "text": [
      "trasmissione   0  1\n",
      "marce              \n",
      "3             15  0\n",
      "4              4  8\n",
      "5              0  5 \n",
      "\n",
      " trasmissione        0        1\n",
      "marce                         \n",
      "3             0.46875  0.00000\n",
      "4             0.12500  0.25000\n",
      "5             0.00000  0.15625\n"
     ]
    }
   ],
   "source": [
    "'''\n",
    "4.6 Dei caratteri marce e trasmissione visualizzate:\n",
    "    4.6.1 La tabella delle frequenze congiunte relative \n",
    "    4.6.2 La tabella delle frequenze congiunte assolute\n",
    "'''\n",
    "marce_tras_abs = pd.crosstab(index = cars['marce'], columns = cars['trasmissione'])\n",
    "marce_tras_rel = pd.crosstab(index = cars['marce'], columns = cars['trasmissione'], normalize = 'all')\n",
    "\n",
    "print(marce_tras_abs, '\\n\\n', marce_tras_rel)"
   ]
  },
  {
   "cell_type": "code",
   "execution_count": null,
   "id": "8eaf3c98",
   "metadata": {},
   "outputs": [],
   "source": [
    "#4.7 Usate i dati delle due tabelle generate prima per rispondere a queste domande"
   ]
  },
  {
   "cell_type": "code",
   "execution_count": 33,
   "id": "6c0ed2c2",
   "metadata": {},
   "outputs": [
    {
     "name": "stdout",
     "output_type": "stream",
     "text": [
      "0\n"
     ]
    }
   ],
   "source": [
    "#4.7.1 Modelli di auto a 5 marce con trasmissione automatica\n",
    "print(0)"
   ]
  },
  {
   "cell_type": "code",
   "execution_count": 34,
   "id": "3c7ca4a3",
   "metadata": {},
   "outputs": [
    {
     "name": "stdout",
     "output_type": "stream",
     "text": [
      "5\n"
     ]
    }
   ],
   "source": [
    "#4.7.2 Modelli di auto a 5 marce con trasmissione manuale\n",
    "print(5)"
   ]
  },
  {
   "cell_type": "code",
   "execution_count": 35,
   "id": "9f64eabe",
   "metadata": {},
   "outputs": [
    {
     "name": "stdout",
     "output_type": "stream",
     "text": [
      "0\n"
     ]
    }
   ],
   "source": [
    "#4.7.3 Percentuale modelli con 5 marce e trasmissione automatica\n",
    "print(0)"
   ]
  },
  {
   "cell_type": "code",
   "execution_count": 38,
   "id": "19b27edb",
   "metadata": {},
   "outputs": [
    {
     "name": "stdout",
     "output_type": "stream",
     "text": [
      "15 %\n"
     ]
    }
   ],
   "source": [
    "#4.7.4 Percentuale modelli con 5 marce e trasmissione manuale\n",
    "print('15 %')"
   ]
  },
  {
   "cell_type": "code",
   "execution_count": 39,
   "id": "60fd80e4",
   "metadata": {},
   "outputs": [
    {
     "name": "stdout",
     "output_type": "stream",
     "text": [
      "37 %\n"
     ]
    }
   ],
   "source": [
    "#4.7.5 Percentuale modelli con 4 marce\n",
    "print('37 %')"
   ]
  },
  {
   "cell_type": "code",
   "execution_count": null,
   "id": "075dc30b",
   "metadata": {},
   "outputs": [],
   "source": [
    "#4.7.6 Percentuale modelli con 4 marce tra quelli manuali\n",
    "print('61 %')"
   ]
  }
 ],
 "metadata": {
  "kernelspec": {
   "display_name": "Python 3 (ipykernel)",
   "language": "python",
   "name": "python3"
  },
  "language_info": {
   "codemirror_mode": {
    "name": "ipython",
    "version": 3
   },
   "file_extension": ".py",
   "mimetype": "text/x-python",
   "name": "python",
   "nbconvert_exporter": "python",
   "pygments_lexer": "ipython3",
   "version": "3.9.13"
  }
 },
 "nbformat": 4,
 "nbformat_minor": 5
}
