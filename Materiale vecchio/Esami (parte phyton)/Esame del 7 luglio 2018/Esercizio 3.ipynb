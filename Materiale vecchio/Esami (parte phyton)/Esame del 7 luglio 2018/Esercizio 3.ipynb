{
 "cells": [
  {
   "cell_type": "code",
   "execution_count": 8,
   "id": "ace4e2a0",
   "metadata": {},
   "outputs": [],
   "source": [
    "import numpy as np \n",
    "import pandas as pd \n",
    "import matplotlib.pyplot as plt \n",
    "from scipy.constants import golden \n",
    "\n",
    "plt.style.use('fivethirtyeight')\n",
    "plt.rc('figure', figsize = (5.0, 5.0/golden)) \n",
    "\n",
    "cani = pd.read_csv('cani.csv', sep = ';', decimal=\",\", parse_dates=True)\n",
    "\n",
    "#Create una variabile che contenga le info sui cani morti e considerando solo i casi in cui MC e OndaEA non siano mancanti\n",
    "app = cani[cani['MORTE'] == 1]\n",
    "app2 = app.dropna(subset = ['MC']) \n",
    "caniM = app2.dropna(subset = ['OndaEA'])"
   ]
  },
  {
   "cell_type": "code",
   "execution_count": 9,
   "id": "79b49ceb",
   "metadata": {},
   "outputs": [
    {
     "data": {
      "image/png": "[encoded data removed]",
      "text/plain": [
       "<Figure size 500x309.017 with 1 Axes>"
      ]
     },
     "metadata": {},
     "output_type": "display_data"
    }
   ],
   "source": [
    "#3.2 Produrre il boxplot di OndaEA\n",
    "caniM['OndaEA'].plot.box()\n",
    "plt.show()"
   ]
  },
  {
   "cell_type": "code",
   "execution_count": 10,
   "id": "d3336a56",
   "metadata": {},
   "outputs": [
    {
     "data": {
      "text/plain": [
       "4.19"
      ]
     },
     "execution_count": 10,
     "metadata": {},
     "output_type": "execute_result"
    }
   ],
   "source": [
    "#3.3 Il grafico mostra un outlier. Determinare il valore di OndaEA per tale individuo.\n",
    "caniM['OndaEA'].max()"
   ]
  },
  {
   "cell_type": "code",
   "execution_count": 12,
   "id": "7e40b0f9",
   "metadata": {},
   "outputs": [
    {
     "name": "stdout",
     "output_type": "stream",
     "text": [
      "Sì\n"
     ]
    }
   ],
   "source": [
    "#3.4 L'outlier è un cane morto per cause cardiache ?\n",
    "caniM[caniM['OndaEA'] == 4.19].MC\n",
    "print('Sì')"
   ]
  },
  {
   "cell_type": "code",
   "execution_count": 14,
   "id": "7f829111",
   "metadata": {},
   "outputs": [
    {
     "data": {
      "text/plain": [
       "1.41"
      ]
     },
     "execution_count": 14,
     "metadata": {},
     "output_type": "execute_result"
    }
   ],
   "source": [
    "#3.5 Controllare che il terzo quantile, s, dell'ondaEA dei cani deceduti per cause cardiache è 1.41\n",
    "s = cani[cani['MC'] == 0].OndaEA.quantile(.75)\n",
    "s"
   ]
  },
  {
   "cell_type": "code",
   "execution_count": 15,
   "id": "d43fb48d",
   "metadata": {},
   "outputs": [
    {
     "name": "stdout",
     "output_type": "stream",
     "text": [
      "87 28\n"
     ]
    }
   ],
   "source": [
    "#3.6 Cani morti per cause cardiache e per cause non cardiache\n",
    "print(len(cani[cani['MC'] == 1]), len(cani[cani['MC'] == 0]))"
   ]
  },
  {
   "cell_type": "code",
   "execution_count": 33,
   "id": "5a8ba266",
   "metadata": {},
   "outputs": [
    {
     "name": "stdout",
     "output_type": "stream",
     "text": [
      "41 25\n"
     ]
    }
   ],
   "source": [
    "'''\n",
    "3.7 Nel dataset, quanti cani morti per cause cardiache avevano OndaEA >= s ?\n",
    "Quanti avevano OndaEA < s ?\n",
    "'''\n",
    "print(len(cani[(cani['MC'] == 1) & (cani['OndaEA'] >= s)]), len(caniM[(caniM['MC'] == 1) & (caniM['OndaEA'] < s)]))"
   ]
  },
  {
   "cell_type": "code",
   "execution_count": 34,
   "id": "935a7ce4",
   "metadata": {},
   "outputs": [
    {
     "name": "stdout",
     "output_type": "stream",
     "text": [
      "sensibilità: 0.8913043478260869 specificità: 0.32432432432432434\n"
     ]
    }
   ],
   "source": [
    "'''\n",
    "3.8 Usiamo s come soglia di un classificatore binario che discrimina tra morte cardiaca e non cardiaca. \n",
    "Calcolare sensibilità e specificità di tale classificatore.\n",
    "'''\n",
    "VP = len(cani[(cani['MC'] == 1) & (cani['OndaEA'] >= s)])\n",
    "FP = len(caniM[(caniM['MC'] == 1) & (caniM['OndaEA'] < s)])\n",
    "VN = len(cani[(cani['MC'] == 0) & (cani['OndaEA'] < s)])\n",
    "FN = len(cani[(cani['MC'] == 0) & (cani['OndaEA'] >= s)])\n",
    "\n",
    "sensibilita = VP/(VP+FN)\n",
    "specificita = VN/(VN+FP)\n",
    "print('sensibilità:', sensibilita, 'specificità:', specificita)\n"
   ]
  },
  {
   "cell_type": "code",
   "execution_count": null,
   "id": "f378fb82",
   "metadata": {},
   "outputs": [],
   "source": []
  }
 ],
 "metadata": {
  "kernelspec": {
   "display_name": "Python 3 (ipykernel)",
   "language": "python",
   "name": "python3"
  },
  "language_info": {
   "codemirror_mode": {
    "name": "ipython",
    "version": 3
   },
   "file_extension": ".py",
   "mimetype": "text/x-python",
   "name": "python",
   "nbconvert_exporter": "python",
   "pygments_lexer": "ipython3",
   "version": "3.9.13"
  }
 },
 "nbformat": 4,
 "nbformat_minor": 5
}
