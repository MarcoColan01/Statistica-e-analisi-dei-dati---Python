{
 "cells": [
  {
   "cell_type": "code",
   "execution_count": 1,
   "id": "7964dbe5",
   "metadata": {},
   "outputs": [
    {
     "data": {
      "text/html": [
       "<div>\n",
       "<style scoped>\n",
       "    .dataframe tbody tr th:only-of-type {\n",
       "        vertical-align: middle;\n",
       "    }\n",
       "\n",
       "    .dataframe tbody tr th {\n",
       "        vertical-align: top;\n",
       "    }\n",
       "\n",
       "    .dataframe thead th {\n",
       "        text-align: right;\n",
       "    }\n",
       "</style>\n",
       "<table border=\"1\" class=\"dataframe\">\n",
       "  <thead>\n",
       "    <tr style=\"text-align: right;\">\n",
       "      <th></th>\n",
       "      <th>Cartella</th>\n",
       "      <th>IP</th>\n",
       "      <th>GravitaIP</th>\n",
       "      <th>EtaAnni</th>\n",
       "      <th>MORTE</th>\n",
       "      <th>MC</th>\n",
       "      <th>SURVIVALTIME</th>\n",
       "      <th>Terapia</th>\n",
       "      <th>Antiaritmico</th>\n",
       "      <th>PesoKg</th>\n",
       "      <th>VTricuspide</th>\n",
       "      <th>AsxAo</th>\n",
       "      <th>OndaE</th>\n",
       "      <th>OndaEA</th>\n",
       "      <th>FrazEspuls</th>\n",
       "      <th>FrazAccorc</th>\n",
       "      <th>EDVI</th>\n",
       "      <th>ESVI</th>\n",
       "      <th>Allodiast</th>\n",
       "      <th>Allosist</th>\n",
       "    </tr>\n",
       "  </thead>\n",
       "  <tbody>\n",
       "    <tr>\n",
       "      <th>0</th>\n",
       "      <td>S0601</td>\n",
       "      <td>NO</td>\n",
       "      <td>0</td>\n",
       "      <td>10.35</td>\n",
       "      <td>0</td>\n",
       "      <td>NaN</td>\n",
       "      <td>0</td>\n",
       "      <td>2</td>\n",
       "      <td>NO</td>\n",
       "      <td>5.25</td>\n",
       "      <td>0.00</td>\n",
       "      <td>2.50</td>\n",
       "      <td>1.15</td>\n",
       "      <td>0.97</td>\n",
       "      <td>70.0</td>\n",
       "      <td>37.0</td>\n",
       "      <td>78.69</td>\n",
       "      <td>23.75</td>\n",
       "      <td>1.58</td>\n",
       "      <td>0.99</td>\n",
       "    </tr>\n",
       "    <tr>\n",
       "      <th>1</th>\n",
       "      <td>C0621</td>\n",
       "      <td>NO</td>\n",
       "      <td>0</td>\n",
       "      <td>15.21</td>\n",
       "      <td>1</td>\n",
       "      <td>1.0</td>\n",
       "      <td>341</td>\n",
       "      <td>3</td>\n",
       "      <td>NO</td>\n",
       "      <td>6.00</td>\n",
       "      <td>0.00</td>\n",
       "      <td>1.61</td>\n",
       "      <td>1.50</td>\n",
       "      <td>1.47</td>\n",
       "      <td>83.0</td>\n",
       "      <td>51.0</td>\n",
       "      <td>130.58</td>\n",
       "      <td>23.88</td>\n",
       "      <td>1.94</td>\n",
       "      <td>0.99</td>\n",
       "    </tr>\n",
       "    <tr>\n",
       "      <th>2</th>\n",
       "      <td>B0918</td>\n",
       "      <td>NO</td>\n",
       "      <td>0</td>\n",
       "      <td>15.77</td>\n",
       "      <td>1</td>\n",
       "      <td>1.0</td>\n",
       "      <td>117</td>\n",
       "      <td>3</td>\n",
       "      <td>NO</td>\n",
       "      <td>3.20</td>\n",
       "      <td>0.00</td>\n",
       "      <td>2.50</td>\n",
       "      <td>1.87</td>\n",
       "      <td>2.08</td>\n",
       "      <td>91.0</td>\n",
       "      <td>62.0</td>\n",
       "      <td>180.35</td>\n",
       "      <td>16.22</td>\n",
       "      <td>2.21</td>\n",
       "      <td>0.84</td>\n",
       "    </tr>\n",
       "    <tr>\n",
       "      <th>3</th>\n",
       "      <td>R1009</td>\n",
       "      <td>NO</td>\n",
       "      <td>0</td>\n",
       "      <td>13.54</td>\n",
       "      <td>1</td>\n",
       "      <td>1.0</td>\n",
       "      <td>93</td>\n",
       "      <td>4</td>\n",
       "      <td>SI</td>\n",
       "      <td>26.50</td>\n",
       "      <td>0.00</td>\n",
       "      <td>3.07</td>\n",
       "      <td>2.28</td>\n",
       "      <td>2.85</td>\n",
       "      <td>75.0</td>\n",
       "      <td>44.0</td>\n",
       "      <td>234.17</td>\n",
       "      <td>40.15</td>\n",
       "      <td>2.09</td>\n",
       "      <td>1.16</td>\n",
       "    </tr>\n",
       "    <tr>\n",
       "      <th>4</th>\n",
       "      <td>R1513</td>\n",
       "      <td>NO</td>\n",
       "      <td>0</td>\n",
       "      <td>10.72</td>\n",
       "      <td>0</td>\n",
       "      <td>NaN</td>\n",
       "      <td>666</td>\n",
       "      <td>3</td>\n",
       "      <td>NO</td>\n",
       "      <td>11.00</td>\n",
       "      <td>0.00</td>\n",
       "      <td>2.54</td>\n",
       "      <td>0.75</td>\n",
       "      <td>0.86</td>\n",
       "      <td>69.0</td>\n",
       "      <td>38.0</td>\n",
       "      <td>139.84</td>\n",
       "      <td>43.89</td>\n",
       "      <td>1.98</td>\n",
       "      <td>1.23</td>\n",
       "    </tr>\n",
       "    <tr>\n",
       "      <th>...</th>\n",
       "      <td>...</td>\n",
       "      <td>...</td>\n",
       "      <td>...</td>\n",
       "      <td>...</td>\n",
       "      <td>...</td>\n",
       "      <td>...</td>\n",
       "      <td>...</td>\n",
       "      <td>...</td>\n",
       "      <td>...</td>\n",
       "      <td>...</td>\n",
       "      <td>...</td>\n",
       "      <td>...</td>\n",
       "      <td>...</td>\n",
       "      <td>...</td>\n",
       "      <td>...</td>\n",
       "      <td>...</td>\n",
       "      <td>...</td>\n",
       "      <td>...</td>\n",
       "      <td>...</td>\n",
       "      <td>...</td>\n",
       "    </tr>\n",
       "    <tr>\n",
       "      <th>156</th>\n",
       "      <td>G1006</td>\n",
       "      <td>SI</td>\n",
       "      <td>3</td>\n",
       "      <td>11.35</td>\n",
       "      <td>1</td>\n",
       "      <td>1.0</td>\n",
       "      <td>46</td>\n",
       "      <td>4</td>\n",
       "      <td>NO</td>\n",
       "      <td>8.80</td>\n",
       "      <td>4.51</td>\n",
       "      <td>2.77</td>\n",
       "      <td>1.74</td>\n",
       "      <td>NaN</td>\n",
       "      <td>78.0</td>\n",
       "      <td>46.0</td>\n",
       "      <td>260.51</td>\n",
       "      <td>41.33</td>\n",
       "      <td>2.23</td>\n",
       "      <td>1.21</td>\n",
       "    </tr>\n",
       "    <tr>\n",
       "      <th>157</th>\n",
       "      <td>A1403</td>\n",
       "      <td>SI</td>\n",
       "      <td>3</td>\n",
       "      <td>13.39</td>\n",
       "      <td>1</td>\n",
       "      <td>1.0</td>\n",
       "      <td>275</td>\n",
       "      <td>4</td>\n",
       "      <td>NO</td>\n",
       "      <td>8.00</td>\n",
       "      <td>4.54</td>\n",
       "      <td>2.49</td>\n",
       "      <td>NaN</td>\n",
       "      <td>NaN</td>\n",
       "      <td>74.0</td>\n",
       "      <td>41.0</td>\n",
       "      <td>104.55</td>\n",
       "      <td>29.51</td>\n",
       "      <td>1.76</td>\n",
       "      <td>1.03</td>\n",
       "    </tr>\n",
       "    <tr>\n",
       "      <th>158</th>\n",
       "      <td>Z1003</td>\n",
       "      <td>SI</td>\n",
       "      <td>3</td>\n",
       "      <td>12.40</td>\n",
       "      <td>1</td>\n",
       "      <td>1.0</td>\n",
       "      <td>43</td>\n",
       "      <td>3</td>\n",
       "      <td>NO</td>\n",
       "      <td>14.00</td>\n",
       "      <td>4.60</td>\n",
       "      <td>2.52</td>\n",
       "      <td>NaN</td>\n",
       "      <td>NaN</td>\n",
       "      <td>77.0</td>\n",
       "      <td>46.0</td>\n",
       "      <td>371.13</td>\n",
       "      <td>57.22</td>\n",
       "      <td>2.54</td>\n",
       "      <td>1.36</td>\n",
       "    </tr>\n",
       "    <tr>\n",
       "      <th>159</th>\n",
       "      <td>B1135</td>\n",
       "      <td>SI</td>\n",
       "      <td>3</td>\n",
       "      <td>14.19</td>\n",
       "      <td>1</td>\n",
       "      <td>1.0</td>\n",
       "      <td>269</td>\n",
       "      <td>4</td>\n",
       "      <td>NO</td>\n",
       "      <td>2.50</td>\n",
       "      <td>5.09</td>\n",
       "      <td>3.10</td>\n",
       "      <td>1.51</td>\n",
       "      <td>2.56</td>\n",
       "      <td>79.0</td>\n",
       "      <td>47.0</td>\n",
       "      <td>180.58</td>\n",
       "      <td>38.38</td>\n",
       "      <td>2.21</td>\n",
       "      <td>1.16</td>\n",
       "    </tr>\n",
       "    <tr>\n",
       "      <th>160</th>\n",
       "      <td>G0601</td>\n",
       "      <td>SI</td>\n",
       "      <td>3</td>\n",
       "      <td>14.06</td>\n",
       "      <td>1</td>\n",
       "      <td>1.0</td>\n",
       "      <td>659</td>\n",
       "      <td>2</td>\n",
       "      <td>NO</td>\n",
       "      <td>5.00</td>\n",
       "      <td>5.17</td>\n",
       "      <td>2.31</td>\n",
       "      <td>1.06</td>\n",
       "      <td>2.26</td>\n",
       "      <td>82.0</td>\n",
       "      <td>50.0</td>\n",
       "      <td>249.98</td>\n",
       "      <td>45.64</td>\n",
       "      <td>2.55</td>\n",
       "      <td>1.28</td>\n",
       "    </tr>\n",
       "  </tbody>\n",
       "</table>\n",
       "<p>161 rows × 20 columns</p>\n",
       "</div>"
      ],
      "text/plain": [
       "    Cartella  IP  GravitaIP  EtaAnni  MORTE   MC  SURVIVALTIME  Terapia  \\\n",
       "0      S0601  NO          0    10.35      0  NaN             0        2   \n",
       "1      C0621  NO          0    15.21      1  1.0           341        3   \n",
       "2      B0918  NO          0    15.77      1  1.0           117        3   \n",
       "3      R1009  NO          0    13.54      1  1.0            93        4   \n",
       "4      R1513  NO          0    10.72      0  NaN           666        3   \n",
       "..       ...  ..        ...      ...    ...  ...           ...      ...   \n",
       "156    G1006  SI          3    11.35      1  1.0            46        4   \n",
       "157    A1403  SI          3    13.39      1  1.0           275        4   \n",
       "158    Z1003  SI          3    12.40      1  1.0            43        3   \n",
       "159    B1135  SI          3    14.19      1  1.0           269        4   \n",
       "160    G0601  SI          3    14.06      1  1.0           659        2   \n",
       "\n",
       "    Antiaritmico  PesoKg  VTricuspide  AsxAo  OndaE  OndaEA  FrazEspuls  \\\n",
       "0             NO    5.25         0.00   2.50   1.15    0.97        70.0   \n",
       "1             NO    6.00         0.00   1.61   1.50    1.47        83.0   \n",
       "2             NO    3.20         0.00   2.50   1.87    2.08        91.0   \n",
       "3             SI   26.50         0.00   3.07   2.28    2.85        75.0   \n",
       "4             NO   11.00         0.00   2.54   0.75    0.86        69.0   \n",
       "..           ...     ...          ...    ...    ...     ...         ...   \n",
       "156           NO    8.80         4.51   2.77   1.74     NaN        78.0   \n",
       "157           NO    8.00         4.54   2.49    NaN     NaN        74.0   \n",
       "158           NO   14.00         4.60   2.52    NaN     NaN        77.0   \n",
       "159           NO    2.50         5.09   3.10   1.51    2.56        79.0   \n",
       "160           NO    5.00         5.17   2.31   1.06    2.26        82.0   \n",
       "\n",
       "     FrazAccorc    EDVI   ESVI  Allodiast  Allosist  \n",
       "0          37.0   78.69  23.75       1.58      0.99  \n",
       "1          51.0  130.58  23.88       1.94      0.99  \n",
       "2          62.0  180.35  16.22       2.21      0.84  \n",
       "3          44.0  234.17  40.15       2.09      1.16  \n",
       "4          38.0  139.84  43.89       1.98      1.23  \n",
       "..          ...     ...    ...        ...       ...  \n",
       "156        46.0  260.51  41.33       2.23      1.21  \n",
       "157        41.0  104.55  29.51       1.76      1.03  \n",
       "158        46.0  371.13  57.22       2.54      1.36  \n",
       "159        47.0  180.58  38.38       2.21      1.16  \n",
       "160        50.0  249.98  45.64       2.55      1.28  \n",
       "\n",
       "[161 rows x 20 columns]"
      ]
     },
     "execution_count": 1,
     "metadata": {},
     "output_type": "execute_result"
    }
   ],
   "source": [
    "import numpy as np \n",
    "import pandas as pd \n",
    "import matplotlib.pyplot as plt \n",
    "from scipy.constants import golden \n",
    "\n",
    "plt.style.use('fivethirtyeight')\n",
    "plt.rc('figure', figsize = (5.0, 5.0/golden)) \n",
    "\n",
    "cani = pd.read_csv('cani.csv', sep = ';', decimal=\",\", parse_dates=True)\n",
    "cani"
   ]
  },
  {
   "cell_type": "code",
   "execution_count": 2,
   "id": "4f26acd7",
   "metadata": {},
   "outputs": [],
   "source": [
    "#1 Consideriamo l'assunzione di farmaci antiaritmici e la morte per cause cardiache"
   ]
  },
  {
   "cell_type": "code",
   "execution_count": 3,
   "id": "f4c7b211",
   "metadata": {},
   "outputs": [
    {
     "data": {
      "text/html": [
       "<div>\n",
       "<style scoped>\n",
       "    .dataframe tbody tr th:only-of-type {\n",
       "        vertical-align: middle;\n",
       "    }\n",
       "\n",
       "    .dataframe tbody tr th {\n",
       "        vertical-align: top;\n",
       "    }\n",
       "\n",
       "    .dataframe thead th {\n",
       "        text-align: right;\n",
       "    }\n",
       "</style>\n",
       "<table border=\"1\" class=\"dataframe\">\n",
       "  <thead>\n",
       "    <tr style=\"text-align: right;\">\n",
       "      <th></th>\n",
       "      <th>Frequenze assolute</th>\n",
       "    </tr>\n",
       "    <tr>\n",
       "      <th>Antiaritmico</th>\n",
       "      <th></th>\n",
       "    </tr>\n",
       "  </thead>\n",
       "  <tbody>\n",
       "    <tr>\n",
       "      <th>NO</th>\n",
       "      <td>150</td>\n",
       "    </tr>\n",
       "    <tr>\n",
       "      <th>SI</th>\n",
       "      <td>11</td>\n",
       "    </tr>\n",
       "  </tbody>\n",
       "</table>\n",
       "</div>"
      ],
      "text/plain": [
       "              Frequenze assolute\n",
       "Antiaritmico                    \n",
       "NO                           150\n",
       "SI                            11"
      ]
     },
     "execution_count": 3,
     "metadata": {},
     "output_type": "execute_result"
    }
   ],
   "source": [
    "#1.1 Tabella frequenze assolute di Antiaritmico\n",
    "antiA_abs = pd.crosstab(index = cani.Antiaritmico, columns = 'Frequenze assolute', colnames = [''])\n",
    "antiA_abs"
   ]
  },
  {
   "cell_type": "code",
   "execution_count": 5,
   "id": "f06f51ae",
   "metadata": {},
   "outputs": [
    {
     "data": {
      "text/plain": [
       "11"
      ]
     },
     "execution_count": 5,
     "metadata": {},
     "output_type": "execute_result"
    }
   ],
   "source": [
    "#1.2 Quanti sono i cani che assumono farmaci antiaritmici ?\n",
    "len(cani[cani['Antiaritmico'] == 'SI'])"
   ]
  },
  {
   "cell_type": "code",
   "execution_count": 8,
   "id": "485ac5b3",
   "metadata": {},
   "outputs": [
    {
     "name": "stdout",
     "output_type": "stream",
     "text": [
      "SI = 1\n",
      "NO = 0\n"
     ]
    }
   ],
   "source": [
    "#1.3 Con quale valore numerico mettereste in corrispondenza il si e con quale il no ?\n",
    "print('SI = 1\\nNO = 0')"
   ]
  },
  {
   "cell_type": "code",
   "execution_count": 9,
   "id": "b8b9c586",
   "metadata": {},
   "outputs": [
    {
     "data": {
      "text/html": [
       "<div>\n",
       "<style scoped>\n",
       "    .dataframe tbody tr th:only-of-type {\n",
       "        vertical-align: middle;\n",
       "    }\n",
       "\n",
       "    .dataframe tbody tr th {\n",
       "        vertical-align: top;\n",
       "    }\n",
       "\n",
       "    .dataframe thead th {\n",
       "        text-align: right;\n",
       "    }\n",
       "</style>\n",
       "<table border=\"1\" class=\"dataframe\">\n",
       "  <thead>\n",
       "    <tr style=\"text-align: right;\">\n",
       "      <th></th>\n",
       "      <th>0.0</th>\n",
       "      <th>1.0</th>\n",
       "    </tr>\n",
       "    <tr>\n",
       "      <th>Antiaritmico</th>\n",
       "      <th></th>\n",
       "      <th></th>\n",
       "    </tr>\n",
       "  </thead>\n",
       "  <tbody>\n",
       "    <tr>\n",
       "      <th>NO</th>\n",
       "      <td>28</td>\n",
       "      <td>78</td>\n",
       "    </tr>\n",
       "    <tr>\n",
       "      <th>SI</th>\n",
       "      <td>0</td>\n",
       "      <td>9</td>\n",
       "    </tr>\n",
       "  </tbody>\n",
       "</table>\n",
       "</div>"
      ],
      "text/plain": [
       "              0.0  1.0\n",
       "Antiaritmico          \n",
       "NO             28   78\n",
       "SI              0    9"
      ]
     },
     "execution_count": 9,
     "metadata": {},
     "output_type": "execute_result"
    }
   ],
   "source": [
    "#1.4 Tabella frequenze assolute congiunte di Antiaritmico e MC\n",
    "antiA_MC = pd.crosstab(index=cani.Antiaritmico, columns = cani.MC, colnames=[''])\n",
    "antiA_MC"
   ]
  },
  {
   "cell_type": "code",
   "execution_count": 11,
   "id": "92909f66",
   "metadata": {},
   "outputs": [
    {
     "data": {
      "text/plain": [
       "10.344827586206897"
      ]
     },
     "execution_count": 11,
     "metadata": {},
     "output_type": "execute_result"
    }
   ],
   "source": [
    "#1.5 Percentuale di cani morti per cause cardiache che assumeva farmaci antiaritmici\n",
    "app = cani[cani['MC'] == 1]\n",
    "app2 = app[app['Antiaritmico'] == 'SI']\n",
    "(len(app2)/len(app))*100"
   ]
  },
  {
   "cell_type": "code",
   "execution_count": 12,
   "id": "a5520947",
   "metadata": {},
   "outputs": [],
   "source": [
    "#2 Consideriamo SURVIVALTIME"
   ]
  },
  {
   "cell_type": "code",
   "execution_count": 13,
   "id": "f195a8e8",
   "metadata": {},
   "outputs": [
    {
     "data": {
      "image/png": "[encoded data removed]",
      "text/plain": [
       "<Figure size 500x309.017 with 1 Axes>"
      ]
     },
     "metadata": {},
     "output_type": "display_data"
    }
   ],
   "source": [
    "#2.1 Completate il boxplot di SURVIVALTIME coi valori degli estremi\n",
    "cani.SURVIVALTIME.plot.box()\n",
    "plt.show()"
   ]
  },
  {
   "cell_type": "code",
   "execution_count": 25,
   "id": "a9151284",
   "metadata": {},
   "outputs": [
    {
     "data": {
      "text/plain": [
       "81"
      ]
     },
     "execution_count": 25,
     "metadata": {},
     "output_type": "execute_result"
    }
   ],
   "source": [
    "#2.2 Quanti animali sono compresi all'interno della scatola (estremi inclusi ?)\n",
    "cani.SURVIVALTIME.quantile(.25), cani.SURVIVALTIME.quantile(.75)\n",
    "caniQ = cani[(cani['SURVIVALTIME'] >= 113) & (cani['SURVIVALTIME'] <= 711)]\n",
    "len(caniQ)"
   ]
  },
  {
   "cell_type": "code",
   "execution_count": 31,
   "id": "ea58a442",
   "metadata": {},
   "outputs": [
    {
     "data": {
      "image/png": "[encoded data removed]",
      "text/plain": [
       "<Figure size 500x309.017 with 1 Axes>"
      ]
     },
     "metadata": {},
     "output_type": "display_data"
    }
   ],
   "source": [
    "#2.3 Tracciare un grafico diverso dal boxplot che descriva il tempo di sopravvivenza dei cani considerati\n",
    "cani['SURVIVALTIME'].hist()\n",
    "plt.show()"
   ]
  },
  {
   "cell_type": "code",
   "execution_count": 32,
   "id": "8aecf796",
   "metadata": {},
   "outputs": [
    {
     "name": "stdout",
     "output_type": "stream",
     "text": [
      "Modello esponenziale, come si nota dal grafico prodotto prima.\n"
     ]
    }
   ],
   "source": [
    "#2.4 Modello teorico che descriva la v.a. X = 'tempo sopravvivenza dei cani che frequentano l ambulatorio'\n",
    "print('Modello esponenziale, come si nota dal grafico prodotto prima.')"
   ]
  },
  {
   "cell_type": "code",
   "execution_count": 33,
   "id": "3aa4f6ce",
   "metadata": {},
   "outputs": [
    {
     "data": {
      "text/plain": [
       "459.888198757764"
      ]
     },
     "execution_count": 33,
     "metadata": {},
     "output_type": "execute_result"
    }
   ],
   "source": [
    "#2.5 Tempo sopravvivenza medio\n",
    "cani.SURVIVALTIME.mean()"
   ]
  },
  {
   "cell_type": "code",
   "execution_count": 34,
   "id": "576a5abd",
   "metadata": {},
   "outputs": [
    {
     "data": {
      "text/plain": [
       "467.1967063479367"
      ]
     },
     "execution_count": 34,
     "metadata": {},
     "output_type": "execute_result"
    }
   ],
   "source": [
    "#2.6 Deviazione standard tempo di sopravvivenza\n",
    "cani.SURVIVALTIME.std()"
   ]
  },
  {
   "cell_type": "code",
   "execution_count": 37,
   "id": "d38bbb8c",
   "metadata": {},
   "outputs": [
    {
     "data": {
      "text/plain": [
       "0.0021744415331838686"
      ]
     },
     "execution_count": 37,
     "metadata": {},
     "output_type": "execute_result"
    }
   ],
   "source": [
    "#2.7 Il modello che avete proposto presenta uno o più parametri. Fornitene una stima\n",
    "par = 1 / cani.SURVIVALTIME.mean()\n",
    "par"
   ]
  },
  {
   "cell_type": "code",
   "execution_count": null,
   "id": "fbeed59d",
   "metadata": {},
   "outputs": [],
   "source": []
  }
 ],
 "metadata": {
  "kernelspec": {
   "display_name": "Python 3 (ipykernel)",
   "language": "python",
   "name": "python3"
  },
  "language_info": {
   "codemirror_mode": {
    "name": "ipython",
    "version": 3
   },
   "file_extension": ".py",
   "mimetype": "text/x-python",
   "name": "python",
   "nbconvert_exporter": "python",
   "pygments_lexer": "ipython3",
   "version": "3.9.13"
  }
 },
 "nbformat": 4,
 "nbformat_minor": 5
}
