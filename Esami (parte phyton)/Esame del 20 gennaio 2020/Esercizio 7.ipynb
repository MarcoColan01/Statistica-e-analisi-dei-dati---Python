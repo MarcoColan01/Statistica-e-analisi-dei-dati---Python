{
 "cells": [
  {
   "cell_type": "code",
   "execution_count": 4,
   "id": "7191785c",
   "metadata": {},
   "outputs": [],
   "source": [
    "import numpy as np \n",
    "import pandas as pd \n",
    "import matplotlib.pyplot as plt \n",
    "from scipy.constants import golden \n",
    "\n",
    "plt.style.use('fivethirtyeight')\n",
    "plt.rc('figure', figsize = (5.0, 5.0/golden)) \n",
    "\n",
    "cars = pd.read_csv('mtcars.txt', sep = '\\t', index_col = 0, decimal=\",\", dtype ={\n",
    "    'consumo':np.float64, 'cilindrata':np.float64, 'test400metri':np.float64\n",
    "})\n"
   ]
  },
  {
   "cell_type": "code",
   "execution_count": 5,
   "id": "9388c3f7",
   "metadata": {},
   "outputs": [
    {
     "data": {
      "text/html": [
       "<div>\n",
       "<style scoped>\n",
       "    .dataframe tbody tr th:only-of-type {\n",
       "        vertical-align: middle;\n",
       "    }\n",
       "\n",
       "    .dataframe tbody tr th {\n",
       "        vertical-align: top;\n",
       "    }\n",
       "\n",
       "    .dataframe thead th {\n",
       "        text-align: right;\n",
       "    }\n",
       "</style>\n",
       "<table border=\"1\" class=\"dataframe\">\n",
       "  <thead>\n",
       "    <tr style=\"text-align: right;\">\n",
       "      <th></th>\n",
       "      <th>consumo</th>\n",
       "      <th>cilindrata</th>\n",
       "      <th>peso</th>\n",
       "      <th>test400metri</th>\n",
       "      <th>trasmissione</th>\n",
       "      <th>marce</th>\n",
       "    </tr>\n",
       "    <tr>\n",
       "      <th>modello</th>\n",
       "      <th></th>\n",
       "      <th></th>\n",
       "      <th></th>\n",
       "      <th></th>\n",
       "      <th></th>\n",
       "      <th></th>\n",
       "    </tr>\n",
       "  </thead>\n",
       "  <tbody>\n",
       "    <tr>\n",
       "      <th>Duster 360</th>\n",
       "      <td>14.3</td>\n",
       "      <td>245.0</td>\n",
       "      <td>3.570</td>\n",
       "      <td>15.84</td>\n",
       "      <td>0</td>\n",
       "      <td>3</td>\n",
       "    </tr>\n",
       "    <tr>\n",
       "      <th>Cadillac Fleetwood</th>\n",
       "      <td>10.4</td>\n",
       "      <td>205.0</td>\n",
       "      <td>5.250</td>\n",
       "      <td>17.98</td>\n",
       "      <td>0</td>\n",
       "      <td>3</td>\n",
       "    </tr>\n",
       "    <tr>\n",
       "      <th>Lincoln Continental</th>\n",
       "      <td>10.4</td>\n",
       "      <td>215.0</td>\n",
       "      <td>5.424</td>\n",
       "      <td>17.82</td>\n",
       "      <td>0</td>\n",
       "      <td>3</td>\n",
       "    </tr>\n",
       "    <tr>\n",
       "      <th>Chrysler Imperial</th>\n",
       "      <td>14.7</td>\n",
       "      <td>230.0</td>\n",
       "      <td>5.345</td>\n",
       "      <td>17.42</td>\n",
       "      <td>0</td>\n",
       "      <td>3</td>\n",
       "    </tr>\n",
       "    <tr>\n",
       "      <th>Camaro Z28</th>\n",
       "      <td>13.3</td>\n",
       "      <td>245.0</td>\n",
       "      <td>3.840</td>\n",
       "      <td>15.41</td>\n",
       "      <td>0</td>\n",
       "      <td>3</td>\n",
       "    </tr>\n",
       "    <tr>\n",
       "      <th>Ford Pantera L</th>\n",
       "      <td>15.8</td>\n",
       "      <td>264.0</td>\n",
       "      <td>3.170</td>\n",
       "      <td>14.50</td>\n",
       "      <td>1</td>\n",
       "      <td>5</td>\n",
       "    </tr>\n",
       "    <tr>\n",
       "      <th>Maserati Bora</th>\n",
       "      <td>15.0</td>\n",
       "      <td>335.0</td>\n",
       "      <td>3.570</td>\n",
       "      <td>14.60</td>\n",
       "      <td>1</td>\n",
       "      <td>5</td>\n",
       "    </tr>\n",
       "  </tbody>\n",
       "</table>\n",
       "</div>"
      ],
      "text/plain": [
       "                     consumo  cilindrata   peso  test400metri  trasmissione  \\\n",
       "modello                                                                       \n",
       "Duster 360              14.3       245.0  3.570         15.84             0   \n",
       "Cadillac Fleetwood      10.4       205.0  5.250         17.98             0   \n",
       "Lincoln Continental     10.4       215.0  5.424         17.82             0   \n",
       "Chrysler Imperial       14.7       230.0  5.345         17.42             0   \n",
       "Camaro Z28              13.3       245.0  3.840         15.41             0   \n",
       "Ford Pantera L          15.8       264.0  3.170         14.50             1   \n",
       "Maserati Bora           15.0       335.0  3.570         14.60             1   \n",
       "\n",
       "                     marce  \n",
       "modello                     \n",
       "Duster 360               3  \n",
       "Cadillac Fleetwood       3  \n",
       "Lincoln Continental      3  \n",
       "Chrysler Imperial        3  \n",
       "Camaro Z28               3  \n",
       "Ford Pantera L           5  \n",
       "Maserati Bora            5  "
      ]
     },
     "execution_count": 5,
     "metadata": {},
     "output_type": "execute_result"
    }
   ],
   "source": [
    "# Punto 1: selezionate in una variabile bolidi i modelli di cilindrata superiore a 180\n",
    "cilindrate = cars['cilindrata']\n",
    "bolidi = cars[[y > 180 for y in cilindrate]]\n",
    "bolidi"
   ]
  },
  {
   "cell_type": "code",
   "execution_count": 27,
   "id": "e8adaf93",
   "metadata": {},
   "outputs": [
    {
     "data": {
      "text/plain": [
       "7"
      ]
     },
     "execution_count": 27,
     "metadata": {},
     "output_type": "execute_result"
    }
   ],
   "source": [
    "# Punto 2: quanti sono i casi selezionati ?\n",
    "len(bolidi)"
   ]
  },
  {
   "cell_type": "code",
   "execution_count": 6,
   "id": "b7427879",
   "metadata": {},
   "outputs": [
    {
     "name": "stdout",
     "output_type": "stream",
     "text": [
      "11.850000000000001 14.85\n"
     ]
    }
   ],
   "source": [
    "# Punto 3: calcolare il primo e terzo quantile dei consumi dei modelli selezionati\n",
    "consumobolidi = bolidi['consumo']\n",
    "\n",
    "print(consumobolidi.quantile(.25), consumobolidi.quantile(.75))"
   ]
  },
  {
   "cell_type": "code",
   "execution_count": 8,
   "id": "3c52abaa",
   "metadata": {},
   "outputs": [
    {
     "data": {
      "image/png": "[encoded data removed]",
      "text/plain": [
       "<Figure size 500x309.017 with 1 Axes>"
      ]
     },
     "metadata": {},
     "output_type": "display_data"
    },
    {
     "data": {
      "image/png": "[encoded data removed]",
      "text/plain": [
       "<Figure size 500x309.017 with 1 Axes>"
      ]
     },
     "metadata": {},
     "output_type": "display_data"
    }
   ],
   "source": [
    "# Punto 4: tracciate un grafico che vi sembra più adatto a comunicare l'info che questi modelli hanno consumi alti \n",
    "consumobolidi.plot.box()\n",
    "plt.show()\n",
    "\n",
    "nobolidi = cars[cars.cilindrata <= 180]\n",
    "data = [consumobolidi, nobolidi.consumo]\n",
    "\n",
    "fig, ax = plt.subplots()\n",
    "ax.boxplot(data)\n",
    "plt.show()"
   ]
  },
  {
   "cell_type": "code",
   "execution_count": null,
   "id": "1dd86b77",
   "metadata": {},
   "outputs": [],
   "source": []
  }
 ],
 "metadata": {
  "kernelspec": {
   "display_name": "Python 3 (ipykernel)",
   "language": "python",
   "name": "python3"
  },
  "language_info": {
   "codemirror_mode": {
    "name": "ipython",
    "version": 3
   },
   "file_extension": ".py",
   "mimetype": "text/x-python",
   "name": "python",
   "nbconvert_exporter": "python",
   "pygments_lexer": "ipython3",
   "version": "3.9.13"
  }
 },
 "nbformat": 4,
 "nbformat_minor": 5
}
