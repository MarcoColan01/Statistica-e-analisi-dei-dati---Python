{
 "cells": [
  {
   "cell_type": "code",
   "execution_count": 1,
   "id": "6612284a",
   "metadata": {},
   "outputs": [],
   "source": [
    "import numpy as np \n",
    "import pandas as pd \n",
    "import matplotlib.pyplot as plt \n",
    "from scipy.constants import golden \n",
    "import scipy.stats as st\n",
    "import statsmodels.api as sm\n",
    "\n",
    "plt.style.use('fivethirtyeight')\n",
    "plt.rc('figure', figsize = (5.0, 5.0/golden)) \n",
    "\n",
    "cars = pd.read_csv('carsharing.csv', delimiter = ';', decimal=\",\")"
   ]
  },
  {
   "cell_type": "code",
   "execution_count": 7,
   "id": "0fc33530",
   "metadata": {},
   "outputs": [
    {
     "name": "stdout",
     "output_type": "stream",
     "text": [
      "Probabilità che un auto oggi non sia disponibile perchè ieri ha fatto \n",
      "un incidente in orario di punta: 0.7380952380952381\n"
     ]
    }
   ],
   "source": [
    "'''\n",
    "Utilizzando altre informazioni riguardo al servizio di carsharing (non presenti nel dataset che\n",
    "vi abbiamo fornito), si è stimato che:\n",
    "    (i) la probabilità che un’auto subisca un incidente è 0.15;\n",
    "    (ii) la probabilità che in un orario di punta un’auto subisca un incidente è 0.2.\n",
    "Una data auto oggi non è disponibile perché ieri ha subito un incidente. Stimate la\n",
    "probabilità che l’incidente sia avvenuto in un orario di punta.\n",
    "'''\n",
    "a = 0.15\n",
    "b = cars['RushHour'].mean()\n",
    "\n",
    "p = ((0.2*b)/a)\n",
    "print('Probabilità che un auto oggi non sia disponibile perchè ieri ha fatto \\nun incidente in orario di punta:', p)"
   ]
  },
  {
   "cell_type": "code",
   "execution_count": null,
   "id": "b2425fe3",
   "metadata": {},
   "outputs": [],
   "source": []
  }
 ],
 "metadata": {
  "kernelspec": {
   "display_name": "Python 3 (ipykernel)",
   "language": "python",
   "name": "python3"
  },
  "language_info": {
   "codemirror_mode": {
    "name": "ipython",
    "version": 3
   },
   "file_extension": ".py",
   "mimetype": "text/x-python",
   "name": "python",
   "nbconvert_exporter": "python",
   "pygments_lexer": "ipython3",
   "version": "3.9.13"
  }
 },
 "nbformat": 4,
 "nbformat_minor": 5
}
