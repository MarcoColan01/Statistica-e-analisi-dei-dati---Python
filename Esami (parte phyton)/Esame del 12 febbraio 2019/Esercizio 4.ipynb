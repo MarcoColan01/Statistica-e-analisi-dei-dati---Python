{
 "cells": [
  {
   "cell_type": "code",
   "execution_count": 12,
   "id": "5b7786bd",
   "metadata": {},
   "outputs": [
    {
     "data": {
      "text/plain": [
       "5      11.8\n",
       "7       7.0\n",
       "9      13.1\n",
       "12     13.4\n",
       "16     18.5\n",
       "       ... \n",
       "383     7.7\n",
       "387    12.5\n",
       "388    14.5\n",
       "389     9.8\n",
       "391    18.6\n",
       "Name: Distance, Length: 175, dtype: float64"
      ]
     },
     "execution_count": 12,
     "metadata": {},
     "output_type": "execute_result"
    }
   ],
   "source": [
    "import numpy as np \n",
    "import pandas as pd \n",
    "import matplotlib.pyplot as plt \n",
    "from scipy.constants import golden \n",
    "from scipy.stats import norm\n",
    "\n",
    "plt.style.use('fivethirtyeight')\n",
    "plt.rc('figure', figsize = (5.0, 5.0/golden)) \n",
    "\n",
    "cs = pd.read_csv('carsharing.csv', delimiter = ';', decimal=\",\")\n",
    "\n",
    "cNOP = cs[cs['RushHour'] == 0]['Distance']\n",
    "cNOP"
   ]
  },
  {
   "cell_type": "code",
   "execution_count": 13,
   "id": "d520d79e",
   "metadata": {},
   "outputs": [
    {
     "data": {
      "image/png": "[encoded data removed]",
      "text/plain": [
       "<Figure size 500x309.017 with 2 Axes>"
      ]
     },
     "metadata": {},
     "output_type": "display_data"
    }
   ],
   "source": [
    "'''\n",
    "4.1 Tracciate un grafico opportuno che descriva la distanza percorsa negli orari non di punta.\n",
    "'''\n",
    "\n",
    "plt.subplot(1,2,1)\n",
    "cNOP.hist(bins=20)\n",
    "plt.subplot(1,2,2)\n",
    "\n",
    "cNOP.plot.box()\n",
    "plt.show()"
   ]
  },
  {
   "cell_type": "code",
   "execution_count": null,
   "id": "6d095a14",
   "metadata": {},
   "outputs": [],
   "source": []
  }
 ],
 "metadata": {
  "kernelspec": {
   "display_name": "Python 3 (ipykernel)",
   "language": "python",
   "name": "python3"
  },
  "language_info": {
   "codemirror_mode": {
    "name": "ipython",
    "version": 3
   },
   "file_extension": ".py",
   "mimetype": "text/x-python",
   "name": "python",
   "nbconvert_exporter": "python",
   "pygments_lexer": "ipython3",
   "version": "3.9.13"
  }
 },
 "nbformat": 4,
 "nbformat_minor": 5
}
