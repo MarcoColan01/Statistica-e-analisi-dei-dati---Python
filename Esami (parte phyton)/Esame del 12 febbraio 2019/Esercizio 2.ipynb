{
 "cells": [
  {
   "cell_type": "code",
   "execution_count": 2,
   "id": "c9ed2ef3",
   "metadata": {},
   "outputs": [
    {
     "data": {
      "text/html": [
       "<div>\n",
       "<style scoped>\n",
       "    .dataframe tbody tr th:only-of-type {\n",
       "        vertical-align: middle;\n",
       "    }\n",
       "\n",
       "    .dataframe tbody tr th {\n",
       "        vertical-align: top;\n",
       "    }\n",
       "\n",
       "    .dataframe thead th {\n",
       "        text-align: right;\n",
       "    }\n",
       "</style>\n",
       "<table border=\"1\" class=\"dataframe\">\n",
       "  <thead>\n",
       "    <tr style=\"text-align: right;\">\n",
       "      <th></th>\n",
       "      <th>CarIdentifier</th>\n",
       "      <th>TimeFrame</th>\n",
       "      <th>RushHour</th>\n",
       "      <th>PremiumCustomer</th>\n",
       "      <th>Distance</th>\n",
       "      <th>Time</th>\n",
       "    </tr>\n",
       "  </thead>\n",
       "  <tbody>\n",
       "    <tr>\n",
       "      <th>0</th>\n",
       "      <td>102</td>\n",
       "      <td>FRAME D</td>\n",
       "      <td>1</td>\n",
       "      <td>1</td>\n",
       "      <td>3.0</td>\n",
       "      <td>7.9</td>\n",
       "    </tr>\n",
       "    <tr>\n",
       "      <th>1</th>\n",
       "      <td>103</td>\n",
       "      <td>FRAME D</td>\n",
       "      <td>1</td>\n",
       "      <td>1</td>\n",
       "      <td>5.3</td>\n",
       "      <td>13.9</td>\n",
       "    </tr>\n",
       "    <tr>\n",
       "      <th>2</th>\n",
       "      <td>105</td>\n",
       "      <td>FRAME D</td>\n",
       "      <td>1</td>\n",
       "      <td>-1</td>\n",
       "      <td>0.4</td>\n",
       "      <td>4.1</td>\n",
       "    </tr>\n",
       "    <tr>\n",
       "      <th>3</th>\n",
       "      <td>110</td>\n",
       "      <td>FRAME D</td>\n",
       "      <td>1</td>\n",
       "      <td>1</td>\n",
       "      <td>2.8</td>\n",
       "      <td>5.0</td>\n",
       "    </tr>\n",
       "    <tr>\n",
       "      <th>4</th>\n",
       "      <td>110</td>\n",
       "      <td>FRAME B</td>\n",
       "      <td>1</td>\n",
       "      <td>-1</td>\n",
       "      <td>2.7</td>\n",
       "      <td>5.6</td>\n",
       "    </tr>\n",
       "    <tr>\n",
       "      <th>...</th>\n",
       "      <td>...</td>\n",
       "      <td>...</td>\n",
       "      <td>...</td>\n",
       "      <td>...</td>\n",
       "      <td>...</td>\n",
       "      <td>...</td>\n",
       "    </tr>\n",
       "    <tr>\n",
       "      <th>387</th>\n",
       "      <td>996</td>\n",
       "      <td>FRAME C</td>\n",
       "      <td>0</td>\n",
       "      <td>-1</td>\n",
       "      <td>12.5</td>\n",
       "      <td>13.1</td>\n",
       "    </tr>\n",
       "    <tr>\n",
       "      <th>388</th>\n",
       "      <td>996</td>\n",
       "      <td>FRAME A</td>\n",
       "      <td>0</td>\n",
       "      <td>1</td>\n",
       "      <td>14.5</td>\n",
       "      <td>17.0</td>\n",
       "    </tr>\n",
       "    <tr>\n",
       "      <th>389</th>\n",
       "      <td>996</td>\n",
       "      <td>FRAME C</td>\n",
       "      <td>0</td>\n",
       "      <td>-1</td>\n",
       "      <td>9.8</td>\n",
       "      <td>17.8</td>\n",
       "    </tr>\n",
       "    <tr>\n",
       "      <th>390</th>\n",
       "      <td>997</td>\n",
       "      <td>FRAME B</td>\n",
       "      <td>1</td>\n",
       "      <td>-1</td>\n",
       "      <td>1.8</td>\n",
       "      <td>4.0</td>\n",
       "    </tr>\n",
       "    <tr>\n",
       "      <th>391</th>\n",
       "      <td>997</td>\n",
       "      <td>FRAME C</td>\n",
       "      <td>0</td>\n",
       "      <td>1</td>\n",
       "      <td>18.6</td>\n",
       "      <td>17.5</td>\n",
       "    </tr>\n",
       "  </tbody>\n",
       "</table>\n",
       "<p>392 rows × 6 columns</p>\n",
       "</div>"
      ],
      "text/plain": [
       "     CarIdentifier TimeFrame  RushHour  PremiumCustomer  Distance  Time\n",
       "0              102   FRAME D         1                1       3.0   7.9\n",
       "1              103   FRAME D         1                1       5.3  13.9\n",
       "2              105   FRAME D         1               -1       0.4   4.1\n",
       "3              110   FRAME D         1                1       2.8   5.0\n",
       "4              110   FRAME B         1               -1       2.7   5.6\n",
       "..             ...       ...       ...              ...       ...   ...\n",
       "387            996   FRAME C         0               -1      12.5  13.1\n",
       "388            996   FRAME A         0                1      14.5  17.0\n",
       "389            996   FRAME C         0               -1       9.8  17.8\n",
       "390            997   FRAME B         1               -1       1.8   4.0\n",
       "391            997   FRAME C         0                1      18.6  17.5\n",
       "\n",
       "[392 rows x 6 columns]"
      ]
     },
     "execution_count": 2,
     "metadata": {},
     "output_type": "execute_result"
    }
   ],
   "source": [
    "import numpy as np \n",
    "import pandas as pd \n",
    "import matplotlib.pyplot as plt \n",
    "from scipy.constants import golden \n",
    "\n",
    "plt.style.use('fivethirtyeight')\n",
    "plt.rc('figure', figsize = (5.0, 5.0/golden)) \n",
    "\n",
    "cs = pd.read_csv('carsharing.csv', delimiter = ';', decimal=\",\")\n",
    "\n",
    "cs "
   ]
  },
  {
   "cell_type": "code",
   "execution_count": null,
   "id": "2d94ddd6",
   "metadata": {},
   "outputs": [],
   "source": [
    "'''1.1 Il carattere Distance è nominale, ordinale o scalare? Giustificate la risposta.\n",
    "Distance è scalare\n",
    "'''"
   ]
  },
  {
   "cell_type": "code",
   "execution_count": 14,
   "id": "dc7efeb5",
   "metadata": {},
   "outputs": [
    {
     "data": {
      "image/png": "[encoded data removed]",
      "text/plain": [
       "<Figure size 500x309.017 with 1 Axes>"
      ]
     },
     "metadata": {},
     "output_type": "display_data"
    }
   ],
   "source": [
    "'''1.2 Tracciate, possibilmente nella stessa figura, il box plot della distanza nel caso di utilizzo\n",
    "dell’auto in orario di punta (RushHour=1 ) e in orario non di punta (RushHour=0 ).'''\n",
    "carsOP = cs[cs['RushHour'] == 1]['Distance']\n",
    "carsNOP = cs[cs['RushHour'] == 0]['Distance']\n",
    "plt.boxplot([carsOP, carsNOP], labels = ['Rush', 'No Rush'])\n",
    "plt.show()"
   ]
  },
  {
   "cell_type": "code",
   "execution_count": null,
   "id": "77e03806",
   "metadata": {},
   "outputs": [],
   "source": [
    "'''\n",
    "1.3: Ispezionando i due grafici ottenuti al punto precedente, dite se negli orari di punta sono\n",
    "privilegiati spostamenti \"più brevi\" oppure \"più lunghi\" rispetto agli orari non di punta,\n",
    "giustificando la risposta.\n",
    "Negli orari di punta, sono privilegiati spostamenti minori mentre in quelli non di punta sono privilegiati\n",
    "spostamenti più brevi, come si evince dai box plot.\n",
    "'''"
   ]
  },
  {
   "cell_type": "code",
   "execution_count": 16,
   "id": "86ed908d",
   "metadata": {},
   "outputs": [
    {
     "name": "stdout",
     "output_type": "stream",
     "text": [
      "Media distanze in orari di punta:  3.3193548387096796 Media distanze in orari non di punta:  13.487428571428563\n",
      "La distanza è maggiore negli orari non di punta\n"
     ]
    }
   ],
   "source": [
    "'''\n",
    "1.4: In Figura 2 è mostrato l’istogramma della distanza percorsa. In tale grafico si può\n",
    "individuare la presenza di due gruppi abbastanza distinti.\n",
    "Calcolate la distanza media nei due gruppi di orario (di punta/non di punta) e commentate\n",
    "l’istogramma utilizzando queste due informazioni.\n",
    "'''\n",
    "print('Media distanze in orari di punta: ', carsOP.mean(), 'Media distanze in orari non di punta: ', carsNOP.mean())\n",
    "print('La distanza è maggiore negli orari non di punta')"
   ]
  },
  {
   "cell_type": "code",
   "execution_count": null,
   "id": "43061b62",
   "metadata": {},
   "outputs": [],
   "source": []
  }
 ],
 "metadata": {
  "kernelspec": {
   "display_name": "Python 3 (ipykernel)",
   "language": "python",
   "name": "python3"
  },
  "language_info": {
   "codemirror_mode": {
    "name": "ipython",
    "version": 3
   },
   "file_extension": ".py",
   "mimetype": "text/x-python",
   "name": "python",
   "nbconvert_exporter": "python",
   "pygments_lexer": "ipython3",
   "version": "3.9.13"
  }
 },
 "nbformat": 4,
 "nbformat_minor": 5
}
