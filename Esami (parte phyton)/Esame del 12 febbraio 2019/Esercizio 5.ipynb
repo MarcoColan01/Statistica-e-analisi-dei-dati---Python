{
 "cells": [
  {
   "cell_type": "code",
   "execution_count": 12,
   "id": "cd4109ba",
   "metadata": {},
   "outputs": [],
   "source": [
    "import numpy as np \n",
    "import pandas as pd \n",
    "import matplotlib.pyplot as plt \n",
    "import statsmodels.api as sm\n",
    "import scipy.stats as st\n",
    "\n",
    "plt.style.use('fivethirtyeight')\n",
    "plt.rc('figure', figsize = (5.0, 5.0/golden)) \n",
    "\n",
    "cs = pd.read_csv('carsharing.csv', delimiter = ';', decimal=\",\")"
   ]
  },
  {
   "cell_type": "code",
   "execution_count": 7,
   "id": "1c3165cb",
   "metadata": {},
   "outputs": [
    {
     "data": {
      "text/plain": [
       "0.5535714285714286"
      ]
     },
     "execution_count": 7,
     "metadata": {},
     "output_type": "execute_result"
    }
   ],
   "source": [
    "'''\n",
    "5.1 Stimate la probabilità p che un’auto venga utilizzata in un orario di punta.\n",
    "'''\n",
    "p = len(cs[cs['RushHour'] == 1]) / len(cs)\n",
    "p"
   ]
  },
  {
   "cell_type": "code",
   "execution_count": 8,
   "id": "b2f6a971",
   "metadata": {},
   "outputs": [
    {
     "name": "stdout",
     "output_type": "stream",
     "text": [
      "La media campionaria\n"
     ]
    }
   ],
   "source": [
    "'''\n",
    "5.2 Quale stimatore avete utilizzato al punto precedente?\n",
    "'''\n",
    "print('La media campionaria')"
   ]
  },
  {
   "cell_type": "code",
   "execution_count": 10,
   "id": "71c6a258",
   "metadata": {},
   "outputs": [
    {
     "data": {
      "text/plain": [
       "392"
      ]
     },
     "execution_count": 10,
     "metadata": {},
     "output_type": "execute_result"
    }
   ],
   "source": [
    "'''\n",
    "5.3 Qual è la numerosità del campione che avete a disposizione?\n",
    "'''\n",
    "len(cs)"
   ]
  },
  {
   "cell_type": "code",
   "execution_count": 15,
   "id": "046d5f7e",
   "metadata": {},
   "outputs": [
    {
     "data": {
      "text/plain": [
       "0.6799767876150911"
      ]
     },
     "execution_count": 15,
     "metadata": {},
     "output_type": "execute_result"
    }
   ],
   "source": [
    "'''\n",
    "5.4 Fornite una minorazione della probabilità che nella stima di p abbiate compiuto un errore\n",
    "al più uguale a 0.05\n",
    "'''\n",
    "p=0.05\n",
    "Z = st.norm()\n",
    "dev=cs['RushHour'].std()\n",
    "n = len(cs.dropna())\n",
    "x1 = (0.025*(n)**0.5)/dev\n",
    "Z.cdf(x1)-Z.cdf(-x1)"
   ]
  },
  {
   "cell_type": "code",
   "execution_count": null,
   "id": "f590042c",
   "metadata": {},
   "outputs": [],
   "source": []
  }
 ],
 "metadata": {
  "kernelspec": {
   "display_name": "Python 3 (ipykernel)",
   "language": "python",
   "name": "python3"
  },
  "language_info": {
   "codemirror_mode": {
    "name": "ipython",
    "version": 3
   },
   "file_extension": ".py",
   "mimetype": "text/x-python",
   "name": "python",
   "nbconvert_exporter": "python",
   "pygments_lexer": "ipython3",
   "version": "3.9.13"
  }
 },
 "nbformat": 4,
 "nbformat_minor": 5
}
