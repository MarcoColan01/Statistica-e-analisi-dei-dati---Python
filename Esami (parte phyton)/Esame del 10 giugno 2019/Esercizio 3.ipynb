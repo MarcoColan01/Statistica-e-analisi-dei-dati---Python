{
 "cells": [
  {
   "cell_type": "code",
   "execution_count": null,
   "id": "15dee2fc",
   "metadata": {},
   "outputs": [],
   "source": [
    "import numpy as np \n",
    "import pandas as pd \n",
    "import matplotlib.pyplot as plt \n",
    "from scipy.constants import golden \n",
    "\n",
    "plt.style.use('fivethirtyeight')\n",
    "plt.rc('figure', figsize = (5.0, 5.0/golden)) \n",
    "\n",
    "impianti = pd.read_csv('impianti.csv', delimiter = ';', decimal=\".\")\n",
    "\n",
    "impianti \n"
   ]
  },
  {
   "cell_type": "code",
   "execution_count": 2,
   "id": "f5b97a36",
   "metadata": {},
   "outputs": [
    {
     "data": {
      "text/plain": [
       "365775"
      ]
     },
     "execution_count": 2,
     "metadata": {},
     "output_type": "execute_result"
    }
   ],
   "source": [
    "#3.1 Quanti casi contiene il dataset ?\n",
    "len(impianti)"
   ]
  },
  {
   "cell_type": "code",
   "execution_count": null,
   "id": "a395ed75",
   "metadata": {},
   "outputs": [],
   "source": [
    "#3.2 Il carattere GENERATORE_POTENZA è nominale, ordinale o scalare ?\n",
    "print('Il carattere GENERATORE_POTENZA è nominale')"
   ]
  },
  {
   "cell_type": "code",
   "execution_count": 5,
   "id": "13067e47",
   "metadata": {},
   "outputs": [
    {
     "data": {
      "text/plain": [
       "0"
      ]
     },
     "execution_count": 5,
     "metadata": {},
     "output_type": "execute_result"
    }
   ],
   "source": [
    "#3.3 Quanti impianti sono stati installati prima del 1940 ?\n",
    "len(impianti[impianti['GENERATORE_DATA_INST'] < 1940])"
   ]
  },
  {
   "cell_type": "code",
   "execution_count": 10,
   "id": "d2d69ce3",
   "metadata": {},
   "outputs": [
    {
     "data": {
      "text/html": [
       "<div>\n",
       "<style scoped>\n",
       "    .dataframe tbody tr th:only-of-type {\n",
       "        vertical-align: middle;\n",
       "    }\n",
       "\n",
       "    .dataframe tbody tr th {\n",
       "        vertical-align: top;\n",
       "    }\n",
       "\n",
       "    .dataframe thead th {\n",
       "        text-align: right;\n",
       "    }\n",
       "</style>\n",
       "<table border=\"1\" class=\"dataframe\">\n",
       "  <thead>\n",
       "    <tr style=\"text-align: right;\">\n",
       "      <th></th>\n",
       "      <th>Unnamed: 0.1</th>\n",
       "      <th>Unnamed: 0</th>\n",
       "      <th>IDENTIFICATIVO_IMPIANTO</th>\n",
       "      <th>GENERATORI_NUMERO</th>\n",
       "      <th>EDIFICIO_CATEGORIA</th>\n",
       "      <th>GENERATORE_POTENZA</th>\n",
       "      <th>GENERATORE_COMBUSTIBILE</th>\n",
       "      <th>GENERATORE_DATA_INST</th>\n",
       "      <th>RAPPORTO_DI_CONTROLLO_DATA</th>\n",
       "      <th>RAP_DI_CONTROLLO_ESITO</th>\n",
       "      <th>ISPEZIONE_DATA</th>\n",
       "      <th>ISPEZIONE_ESITO</th>\n",
       "    </tr>\n",
       "  </thead>\n",
       "  <tbody>\n",
       "    <tr>\n",
       "      <th>0</th>\n",
       "      <td>4</td>\n",
       "      <td>4</td>\n",
       "      <td>2f0dc989c2291c7d3fa48f8208ec0ff89</td>\n",
       "      <td>3.0</td>\n",
       "      <td>E8</td>\n",
       "      <td>31.0</td>\n",
       "      <td>GAS NATURALE</td>\n",
       "      <td>2000</td>\n",
       "      <td>2015</td>\n",
       "      <td>Positivo</td>\n",
       "      <td>2019</td>\n",
       "      <td>Positivo</td>\n",
       "    </tr>\n",
       "    <tr>\n",
       "      <th>1</th>\n",
       "      <td>14</td>\n",
       "      <td>14</td>\n",
       "      <td>2eedc9b812095cad7f849fe228ec7ff89</td>\n",
       "      <td>1.0</td>\n",
       "      <td>E1</td>\n",
       "      <td>24.0</td>\n",
       "      <td>GAS NATURALE</td>\n",
       "      <td>2011</td>\n",
       "      <td>2018</td>\n",
       "      <td>Positivo</td>\n",
       "      <td>2007</td>\n",
       "      <td>Positivo</td>\n",
       "    </tr>\n",
       "    <tr>\n",
       "      <th>2</th>\n",
       "      <td>36</td>\n",
       "      <td>36</td>\n",
       "      <td>2f3d39bfc2094cbd5f34ffb2188c3ff89</td>\n",
       "      <td>1.0</td>\n",
       "      <td>E1</td>\n",
       "      <td>28.1</td>\n",
       "      <td>GAS NATURALE</td>\n",
       "      <td>2008</td>\n",
       "      <td>2018</td>\n",
       "      <td>Positivo</td>\n",
       "      <td>2015</td>\n",
       "      <td>Negativo</td>\n",
       "    </tr>\n",
       "    <tr>\n",
       "      <th>3</th>\n",
       "      <td>68</td>\n",
       "      <td>68</td>\n",
       "      <td>2f7a198812f96c0d6f340f72288c6ff89</td>\n",
       "      <td>1.0</td>\n",
       "      <td>E1</td>\n",
       "      <td>23.3</td>\n",
       "      <td>GAS NATURALE</td>\n",
       "      <td>1997</td>\n",
       "      <td>2018</td>\n",
       "      <td>Positivo</td>\n",
       "      <td>2013</td>\n",
       "      <td>Negativo</td>\n",
       "    </tr>\n",
       "    <tr>\n",
       "      <th>6</th>\n",
       "      <td>74</td>\n",
       "      <td>74</td>\n",
       "      <td>2f4de969c3995c5d6f940fc288fc4ff89</td>\n",
       "      <td>1.0</td>\n",
       "      <td>E1</td>\n",
       "      <td>23.3</td>\n",
       "      <td>GAS NATURALE</td>\n",
       "      <td>2006</td>\n",
       "      <td>2018</td>\n",
       "      <td>Positivo</td>\n",
       "      <td>2008</td>\n",
       "      <td>Positivo</td>\n",
       "    </tr>\n",
       "    <tr>\n",
       "      <th>...</th>\n",
       "      <td>...</td>\n",
       "      <td>...</td>\n",
       "      <td>...</td>\n",
       "      <td>...</td>\n",
       "      <td>...</td>\n",
       "      <td>...</td>\n",
       "      <td>...</td>\n",
       "      <td>...</td>\n",
       "      <td>...</td>\n",
       "      <td>...</td>\n",
       "      <td>...</td>\n",
       "      <td>...</td>\n",
       "    </tr>\n",
       "    <tr>\n",
       "      <th>365770</th>\n",
       "      <td>3297930</td>\n",
       "      <td>3297930</td>\n",
       "      <td>2f4c297843b93c6dcfb4aff278cc1ff89</td>\n",
       "      <td>1.0</td>\n",
       "      <td>E1</td>\n",
       "      <td>23.0</td>\n",
       "      <td>GAS NATURALE</td>\n",
       "      <td>2004</td>\n",
       "      <td>2017</td>\n",
       "      <td>Positivo</td>\n",
       "      <td>2013</td>\n",
       "      <td>Positivo</td>\n",
       "    </tr>\n",
       "    <tr>\n",
       "      <th>365771</th>\n",
       "      <td>3297931</td>\n",
       "      <td>3297931</td>\n",
       "      <td>2f4cf9b982e95cbd1ff4af9258ac4ff89</td>\n",
       "      <td>1.0</td>\n",
       "      <td>E1</td>\n",
       "      <td>27.9</td>\n",
       "      <td>GAS NATURALE</td>\n",
       "      <td>2008</td>\n",
       "      <td>2017</td>\n",
       "      <td>Positivo</td>\n",
       "      <td>2016</td>\n",
       "      <td>Positivo</td>\n",
       "    </tr>\n",
       "    <tr>\n",
       "      <th>365772</th>\n",
       "      <td>3297933</td>\n",
       "      <td>3297933</td>\n",
       "      <td>2f8ca9cf12796c2d7fa4ff8218cc0ff89</td>\n",
       "      <td>1.0</td>\n",
       "      <td>E1</td>\n",
       "      <td>27.9</td>\n",
       "      <td>GAS NATURALE</td>\n",
       "      <td>2004</td>\n",
       "      <td>2017</td>\n",
       "      <td>Positivo</td>\n",
       "      <td>2016</td>\n",
       "      <td>Positivo</td>\n",
       "    </tr>\n",
       "    <tr>\n",
       "      <th>365773</th>\n",
       "      <td>3297939</td>\n",
       "      <td>3297939</td>\n",
       "      <td>2efd29e802995c6ddf349f62789c7ff89</td>\n",
       "      <td>1.0</td>\n",
       "      <td>E1</td>\n",
       "      <td>26.0</td>\n",
       "      <td>GAS NATURALE</td>\n",
       "      <td>2014</td>\n",
       "      <td>2018</td>\n",
       "      <td>Positivo</td>\n",
       "      <td>2009</td>\n",
       "      <td>Positivo</td>\n",
       "    </tr>\n",
       "    <tr>\n",
       "      <th>365774</th>\n",
       "      <td>3297941</td>\n",
       "      <td>3297941</td>\n",
       "      <td>2f4d39d992794c5d3fa4bf8278fc7ff89</td>\n",
       "      <td>1.0</td>\n",
       "      <td>E1</td>\n",
       "      <td>24.0</td>\n",
       "      <td>GAS NATURALE</td>\n",
       "      <td>2010</td>\n",
       "      <td>2015</td>\n",
       "      <td>Positivo</td>\n",
       "      <td>2015</td>\n",
       "      <td>Positivo</td>\n",
       "    </tr>\n",
       "  </tbody>\n",
       "</table>\n",
       "<p>296968 rows × 12 columns</p>\n",
       "</div>"
      ],
      "text/plain": [
       "        Unnamed: 0.1  Unnamed: 0            IDENTIFICATIVO_IMPIANTO  \\\n",
       "0                  4           4  2f0dc989c2291c7d3fa48f8208ec0ff89   \n",
       "1                 14          14  2eedc9b812095cad7f849fe228ec7ff89   \n",
       "2                 36          36  2f3d39bfc2094cbd5f34ffb2188c3ff89   \n",
       "3                 68          68  2f7a198812f96c0d6f340f72288c6ff89   \n",
       "6                 74          74  2f4de969c3995c5d6f940fc288fc4ff89   \n",
       "...              ...         ...                                ...   \n",
       "365770       3297930     3297930  2f4c297843b93c6dcfb4aff278cc1ff89   \n",
       "365771       3297931     3297931  2f4cf9b982e95cbd1ff4af9258ac4ff89   \n",
       "365772       3297933     3297933  2f8ca9cf12796c2d7fa4ff8218cc0ff89   \n",
       "365773       3297939     3297939  2efd29e802995c6ddf349f62789c7ff89   \n",
       "365774       3297941     3297941  2f4d39d992794c5d3fa4bf8278fc7ff89   \n",
       "\n",
       "        GENERATORI_NUMERO EDIFICIO_CATEGORIA  GENERATORE_POTENZA  \\\n",
       "0                     3.0                 E8                31.0   \n",
       "1                     1.0                 E1                24.0   \n",
       "2                     1.0                 E1                28.1   \n",
       "3                     1.0                 E1                23.3   \n",
       "6                     1.0                 E1                23.3   \n",
       "...                   ...                ...                 ...   \n",
       "365770                1.0                 E1                23.0   \n",
       "365771                1.0                 E1                27.9   \n",
       "365772                1.0                 E1                27.9   \n",
       "365773                1.0                 E1                26.0   \n",
       "365774                1.0                 E1                24.0   \n",
       "\n",
       "       GENERATORE_COMBUSTIBILE  GENERATORE_DATA_INST  \\\n",
       "0                 GAS NATURALE                  2000   \n",
       "1                 GAS NATURALE                  2011   \n",
       "2                 GAS NATURALE                  2008   \n",
       "3                 GAS NATURALE                  1997   \n",
       "6                 GAS NATURALE                  2006   \n",
       "...                        ...                   ...   \n",
       "365770            GAS NATURALE                  2004   \n",
       "365771            GAS NATURALE                  2008   \n",
       "365772            GAS NATURALE                  2004   \n",
       "365773            GAS NATURALE                  2014   \n",
       "365774            GAS NATURALE                  2010   \n",
       "\n",
       "        RAPPORTO_DI_CONTROLLO_DATA RAP_DI_CONTROLLO_ESITO  ISPEZIONE_DATA  \\\n",
       "0                             2015               Positivo            2019   \n",
       "1                             2018               Positivo            2007   \n",
       "2                             2018               Positivo            2015   \n",
       "3                             2018               Positivo            2013   \n",
       "6                             2018               Positivo            2008   \n",
       "...                            ...                    ...             ...   \n",
       "365770                        2017               Positivo            2013   \n",
       "365771                        2017               Positivo            2016   \n",
       "365772                        2017               Positivo            2016   \n",
       "365773                        2018               Positivo            2009   \n",
       "365774                        2015               Positivo            2015   \n",
       "\n",
       "       ISPEZIONE_ESITO  \n",
       "0             Positivo  \n",
       "1             Positivo  \n",
       "2             Negativo  \n",
       "3             Negativo  \n",
       "6             Positivo  \n",
       "...                ...  \n",
       "365770        Positivo  \n",
       "365771        Positivo  \n",
       "365772        Positivo  \n",
       "365773        Positivo  \n",
       "365774        Positivo  \n",
       "\n",
       "[296968 rows x 12 columns]"
      ]
     },
     "execution_count": 10,
     "metadata": {},
     "output_type": "execute_result"
    }
   ],
   "source": [
    "'''\n",
    "3.4 Memorizzate in selezione i casi in cui la potenza dell'impianto di riscaldamento è tra i 15 e i 35 kW (estremi esclusi) \n",
    "e il combustibile usato è il gas naturale\n",
    "'''\n",
    "gN = impianti[impianti['GENERATORE_COMBUSTIBILE']== 'GAS NATURALE']\n",
    "gN15 = gN[gN['GENERATORE_POTENZA'] > 15]\n",
    "selezione = gN15[gN15['GENERATORE_POTENZA'] < 35]\n",
    "selezione"
   ]
  },
  {
   "cell_type": "code",
   "execution_count": 12,
   "id": "f60f76a2",
   "metadata": {},
   "outputs": [
    {
     "name": "stdout",
     "output_type": "stream",
     "text": [
      "eterogeneità di GENERATORE_COMBUSTIBILE è massima perchè abbiamo scelto solo i casi con combustibile = gas naturale\n"
     ]
    }
   ],
   "source": [
    "#3.5 Quanto vale in questa selezione l'eterogeneità del carattere GENERATORE_COMBUSTIBILE ? \n",
    "print('eterogeneità di GENERATORE_COMBUSTIBILE è massima perchè abbiamo scelto solo i casi con combustibile = gas naturale')"
   ]
  },
  {
   "cell_type": "code",
   "execution_count": 20,
   "id": "9e21eb5c",
   "metadata": {},
   "outputs": [
    {
     "data": {
      "text/plain": [
       "17"
      ]
     },
     "execution_count": 20,
     "metadata": {},
     "output_type": "execute_result"
    }
   ],
   "source": [
    "#3.6 Nella selezione effettuata quante sono le diverse categorie di edifici ?\n",
    "len(selezione['EDIFICIO_CATEGORIA'].unique())"
   ]
  },
  {
   "cell_type": "code",
   "execution_count": 25,
   "id": "1d4f4c48",
   "metadata": {},
   "outputs": [
    {
     "data": {
      "text/plain": [
       "0    E1\n",
       "Name: EDIFICIO_CATEGORIA, dtype: object"
      ]
     },
     "execution_count": 25,
     "metadata": {},
     "output_type": "execute_result"
    }
   ],
   "source": [
    "#3.7 Nella selezione effettuata qual'è la moda di EDIFICIO_CATEGORIA ?\n",
    "selezione['EDIFICIO_CATEGORIA'].mode()"
   ]
  },
  {
   "cell_type": "code",
   "execution_count": 26,
   "id": "f7fc35d7",
   "metadata": {},
   "outputs": [
    {
     "data": {
      "text/plain": [
       "185405"
      ]
     },
     "execution_count": 26,
     "metadata": {},
     "output_type": "execute_result"
    }
   ],
   "source": [
    "#3.8 Nella selezione effettuata quanti sono gli edifici di categoria E1 ? \n",
    "len(selezione[selezione['EDIFICIO_CATEGORIA'] == 'E1'])"
   ]
  },
  {
   "cell_type": "code",
   "execution_count": 27,
   "id": "1d0f9b00",
   "metadata": {},
   "outputs": [
    {
     "data": {
      "text/plain": [
       "62.43265267638264"
      ]
     },
     "execution_count": 27,
     "metadata": {},
     "output_type": "execute_result"
    }
   ],
   "source": [
    "#3.9 Quale percentuale della selezione effettuata corrisponde agli edifici considerati nel punto precedente ?\n",
    "(len(selezione[selezione['EDIFICIO_CATEGORIA'] == 'E1']) / len(selezione))*100"
   ]
  },
  {
   "cell_type": "code",
   "execution_count": null,
   "id": "ad35b093",
   "metadata": {},
   "outputs": [],
   "source": []
  }
 ],
 "metadata": {
  "kernelspec": {
   "display_name": "Python 3 (ipykernel)",
   "language": "python",
   "name": "python3"
  },
  "language_info": {
   "codemirror_mode": {
    "name": "ipython",
    "version": 3
   },
   "file_extension": ".py",
   "mimetype": "text/x-python",
   "name": "python",
   "nbconvert_exporter": "python",
   "pygments_lexer": "ipython3",
   "version": "3.9.13"
  }
 },
 "nbformat": 4,
 "nbformat_minor": 5
}
