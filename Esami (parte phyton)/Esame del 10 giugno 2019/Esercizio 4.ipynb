{
 "cells": [
  {
   "cell_type": "code",
   "execution_count": 2,
   "id": "8ad3c298",
   "metadata": {},
   "outputs": [
    {
     "data": {
      "text/html": [
       "<div>\n",
       "<style scoped>\n",
       "    .dataframe tbody tr th:only-of-type {\n",
       "        vertical-align: middle;\n",
       "    }\n",
       "\n",
       "    .dataframe tbody tr th {\n",
       "        vertical-align: top;\n",
       "    }\n",
       "\n",
       "    .dataframe thead th {\n",
       "        text-align: right;\n",
       "    }\n",
       "</style>\n",
       "<table border=\"1\" class=\"dataframe\">\n",
       "  <thead>\n",
       "    <tr style=\"text-align: right;\">\n",
       "      <th></th>\n",
       "      <th>Unnamed: 0.1</th>\n",
       "      <th>Unnamed: 0</th>\n",
       "      <th>IDENTIFICATIVO_IMPIANTO</th>\n",
       "      <th>GENERATORI_NUMERO</th>\n",
       "      <th>EDIFICIO_CATEGORIA</th>\n",
       "      <th>GENERATORE_POTENZA</th>\n",
       "      <th>GENERATORE_COMBUSTIBILE</th>\n",
       "      <th>GENERATORE_DATA_INST</th>\n",
       "      <th>RAPPORTO_DI_CONTROLLO_DATA</th>\n",
       "      <th>RAP_DI_CONTROLLO_ESITO</th>\n",
       "      <th>ISPEZIONE_DATA</th>\n",
       "      <th>ISPEZIONE_ESITO</th>\n",
       "    </tr>\n",
       "  </thead>\n",
       "  <tbody>\n",
       "    <tr>\n",
       "      <th>1</th>\n",
       "      <td>14</td>\n",
       "      <td>14</td>\n",
       "      <td>2eedc9b812095cad7f849fe228ec7ff89</td>\n",
       "      <td>1.0</td>\n",
       "      <td>E1</td>\n",
       "      <td>24.0</td>\n",
       "      <td>GAS NATURALE</td>\n",
       "      <td>2011</td>\n",
       "      <td>2018</td>\n",
       "      <td>Positivo</td>\n",
       "      <td>2007</td>\n",
       "      <td>Positivo</td>\n",
       "    </tr>\n",
       "    <tr>\n",
       "      <th>2</th>\n",
       "      <td>36</td>\n",
       "      <td>36</td>\n",
       "      <td>2f3d39bfc2094cbd5f34ffb2188c3ff89</td>\n",
       "      <td>1.0</td>\n",
       "      <td>E1</td>\n",
       "      <td>28.1</td>\n",
       "      <td>GAS NATURALE</td>\n",
       "      <td>2008</td>\n",
       "      <td>2018</td>\n",
       "      <td>Positivo</td>\n",
       "      <td>2015</td>\n",
       "      <td>Negativo</td>\n",
       "    </tr>\n",
       "    <tr>\n",
       "      <th>4</th>\n",
       "      <td>70</td>\n",
       "      <td>70</td>\n",
       "      <td>2f2d49f8d2995cad3f940f6258dc2ff89</td>\n",
       "      <td>1.0</td>\n",
       "      <td>E1</td>\n",
       "      <td>40.0</td>\n",
       "      <td>GASOLIO</td>\n",
       "      <td>2012</td>\n",
       "      <td>2017</td>\n",
       "      <td>Positivo</td>\n",
       "      <td>2016</td>\n",
       "      <td>Positivo</td>\n",
       "    </tr>\n",
       "    <tr>\n",
       "      <th>5</th>\n",
       "      <td>71</td>\n",
       "      <td>71</td>\n",
       "      <td>286ad9b9f5d95c5ddf34afb258fc3ff89</td>\n",
       "      <td>1.0</td>\n",
       "      <td>E1</td>\n",
       "      <td>62.0</td>\n",
       "      <td>GAS NATURALE</td>\n",
       "      <td>2006</td>\n",
       "      <td>2019</td>\n",
       "      <td>Positivo</td>\n",
       "      <td>2016</td>\n",
       "      <td>Positivo</td>\n",
       "    </tr>\n",
       "    <tr>\n",
       "      <th>6</th>\n",
       "      <td>74</td>\n",
       "      <td>74</td>\n",
       "      <td>2f4de969c3995c5d6f940fc288fc4ff89</td>\n",
       "      <td>1.0</td>\n",
       "      <td>E1</td>\n",
       "      <td>23.3</td>\n",
       "      <td>GAS NATURALE</td>\n",
       "      <td>2006</td>\n",
       "      <td>2018</td>\n",
       "      <td>Positivo</td>\n",
       "      <td>2008</td>\n",
       "      <td>Positivo</td>\n",
       "    </tr>\n",
       "    <tr>\n",
       "      <th>...</th>\n",
       "      <td>...</td>\n",
       "      <td>...</td>\n",
       "      <td>...</td>\n",
       "      <td>...</td>\n",
       "      <td>...</td>\n",
       "      <td>...</td>\n",
       "      <td>...</td>\n",
       "      <td>...</td>\n",
       "      <td>...</td>\n",
       "      <td>...</td>\n",
       "      <td>...</td>\n",
       "      <td>...</td>\n",
       "    </tr>\n",
       "    <tr>\n",
       "      <th>365770</th>\n",
       "      <td>3297930</td>\n",
       "      <td>3297930</td>\n",
       "      <td>2f4c297843b93c6dcfb4aff278cc1ff89</td>\n",
       "      <td>1.0</td>\n",
       "      <td>E1</td>\n",
       "      <td>23.0</td>\n",
       "      <td>GAS NATURALE</td>\n",
       "      <td>2004</td>\n",
       "      <td>2017</td>\n",
       "      <td>Positivo</td>\n",
       "      <td>2013</td>\n",
       "      <td>Positivo</td>\n",
       "    </tr>\n",
       "    <tr>\n",
       "      <th>365771</th>\n",
       "      <td>3297931</td>\n",
       "      <td>3297931</td>\n",
       "      <td>2f4cf9b982e95cbd1ff4af9258ac4ff89</td>\n",
       "      <td>1.0</td>\n",
       "      <td>E1</td>\n",
       "      <td>27.9</td>\n",
       "      <td>GAS NATURALE</td>\n",
       "      <td>2008</td>\n",
       "      <td>2017</td>\n",
       "      <td>Positivo</td>\n",
       "      <td>2016</td>\n",
       "      <td>Positivo</td>\n",
       "    </tr>\n",
       "    <tr>\n",
       "      <th>365772</th>\n",
       "      <td>3297933</td>\n",
       "      <td>3297933</td>\n",
       "      <td>2f8ca9cf12796c2d7fa4ff8218cc0ff89</td>\n",
       "      <td>1.0</td>\n",
       "      <td>E1</td>\n",
       "      <td>27.9</td>\n",
       "      <td>GAS NATURALE</td>\n",
       "      <td>2004</td>\n",
       "      <td>2017</td>\n",
       "      <td>Positivo</td>\n",
       "      <td>2016</td>\n",
       "      <td>Positivo</td>\n",
       "    </tr>\n",
       "    <tr>\n",
       "      <th>365773</th>\n",
       "      <td>3297939</td>\n",
       "      <td>3297939</td>\n",
       "      <td>2efd29e802995c6ddf349f62789c7ff89</td>\n",
       "      <td>1.0</td>\n",
       "      <td>E1</td>\n",
       "      <td>26.0</td>\n",
       "      <td>GAS NATURALE</td>\n",
       "      <td>2014</td>\n",
       "      <td>2018</td>\n",
       "      <td>Positivo</td>\n",
       "      <td>2009</td>\n",
       "      <td>Positivo</td>\n",
       "    </tr>\n",
       "    <tr>\n",
       "      <th>365774</th>\n",
       "      <td>3297941</td>\n",
       "      <td>3297941</td>\n",
       "      <td>2f4d39d992794c5d3fa4bf8278fc7ff89</td>\n",
       "      <td>1.0</td>\n",
       "      <td>E1</td>\n",
       "      <td>24.0</td>\n",
       "      <td>GAS NATURALE</td>\n",
       "      <td>2010</td>\n",
       "      <td>2015</td>\n",
       "      <td>Positivo</td>\n",
       "      <td>2015</td>\n",
       "      <td>Positivo</td>\n",
       "    </tr>\n",
       "  </tbody>\n",
       "</table>\n",
       "<p>265070 rows × 12 columns</p>\n",
       "</div>"
      ],
      "text/plain": [
       "        Unnamed: 0.1  Unnamed: 0            IDENTIFICATIVO_IMPIANTO  \\\n",
       "1                 14          14  2eedc9b812095cad7f849fe228ec7ff89   \n",
       "2                 36          36  2f3d39bfc2094cbd5f34ffb2188c3ff89   \n",
       "4                 70          70  2f2d49f8d2995cad3f940f6258dc2ff89   \n",
       "5                 71          71  286ad9b9f5d95c5ddf34afb258fc3ff89   \n",
       "6                 74          74  2f4de969c3995c5d6f940fc288fc4ff89   \n",
       "...              ...         ...                                ...   \n",
       "365770       3297930     3297930  2f4c297843b93c6dcfb4aff278cc1ff89   \n",
       "365771       3297931     3297931  2f4cf9b982e95cbd1ff4af9258ac4ff89   \n",
       "365772       3297933     3297933  2f8ca9cf12796c2d7fa4ff8218cc0ff89   \n",
       "365773       3297939     3297939  2efd29e802995c6ddf349f62789c7ff89   \n",
       "365774       3297941     3297941  2f4d39d992794c5d3fa4bf8278fc7ff89   \n",
       "\n",
       "        GENERATORI_NUMERO EDIFICIO_CATEGORIA  GENERATORE_POTENZA  \\\n",
       "1                     1.0                 E1                24.0   \n",
       "2                     1.0                 E1                28.1   \n",
       "4                     1.0                 E1                40.0   \n",
       "5                     1.0                 E1                62.0   \n",
       "6                     1.0                 E1                23.3   \n",
       "...                   ...                ...                 ...   \n",
       "365770                1.0                 E1                23.0   \n",
       "365771                1.0                 E1                27.9   \n",
       "365772                1.0                 E1                27.9   \n",
       "365773                1.0                 E1                26.0   \n",
       "365774                1.0                 E1                24.0   \n",
       "\n",
       "       GENERATORE_COMBUSTIBILE  GENERATORE_DATA_INST  \\\n",
       "1                 GAS NATURALE                  2011   \n",
       "2                 GAS NATURALE                  2008   \n",
       "4                      GASOLIO                  2012   \n",
       "5                 GAS NATURALE                  2006   \n",
       "6                 GAS NATURALE                  2006   \n",
       "...                        ...                   ...   \n",
       "365770            GAS NATURALE                  2004   \n",
       "365771            GAS NATURALE                  2008   \n",
       "365772            GAS NATURALE                  2004   \n",
       "365773            GAS NATURALE                  2014   \n",
       "365774            GAS NATURALE                  2010   \n",
       "\n",
       "        RAPPORTO_DI_CONTROLLO_DATA RAP_DI_CONTROLLO_ESITO  ISPEZIONE_DATA  \\\n",
       "1                             2018               Positivo            2007   \n",
       "2                             2018               Positivo            2015   \n",
       "4                             2017               Positivo            2016   \n",
       "5                             2019               Positivo            2016   \n",
       "6                             2018               Positivo            2008   \n",
       "...                            ...                    ...             ...   \n",
       "365770                        2017               Positivo            2013   \n",
       "365771                        2017               Positivo            2016   \n",
       "365772                        2017               Positivo            2016   \n",
       "365773                        2018               Positivo            2009   \n",
       "365774                        2015               Positivo            2015   \n",
       "\n",
       "       ISPEZIONE_ESITO  \n",
       "1             Positivo  \n",
       "2             Negativo  \n",
       "4             Positivo  \n",
       "5             Positivo  \n",
       "6             Positivo  \n",
       "...                ...  \n",
       "365770        Positivo  \n",
       "365771        Positivo  \n",
       "365772        Positivo  \n",
       "365773        Positivo  \n",
       "365774        Positivo  \n",
       "\n",
       "[265070 rows x 12 columns]"
      ]
     },
     "execution_count": 2,
     "metadata": {},
     "output_type": "execute_result"
    }
   ],
   "source": [
    "import numpy as np \n",
    "import pandas as pd \n",
    "import matplotlib.pyplot as plt \n",
    "from scipy.constants import golden \n",
    "\n",
    "plt.style.use('fivethirtyeight')\n",
    "plt.rc('figure', figsize = (5.0, 5.0/golden)) \n",
    "\n",
    "impianti = pd.read_csv('impianti.csv', delimiter = ';', decimal=\".\")\n",
    "\n",
    "'''\n",
    "Memorizzate in una variabile selezione gli impianti installati dopo l'anno 2000 e prima del 2019\n",
    "'''\n",
    "impianti\n",
    "a = impianti[impianti['GENERATORE_DATA_INST'] > 2000]\n",
    "selezione = a[a['GENERATORE_DATA_INST'] < 2019]\n",
    "selezione"
   ]
  },
  {
   "cell_type": "code",
   "execution_count": 5,
   "id": "b4d4f5c2",
   "metadata": {},
   "outputs": [
    {
     "data": {
      "image/png": "[encoded data removed]",
      "text/plain": [
       "<Figure size 500x309.017 with 1 Axes>"
      ]
     },
     "metadata": {},
     "output_type": "display_data"
    }
   ],
   "source": [
    "'''\n",
    "4.1 Tracciate un grafico di GENERATORE_DATA_INST che convinca che, a partire dal 2001 e fino al 2018, ogni anno \n",
    "è stato installato circa lo stesso numero di impianti\n",
    "'''\n",
    "\n",
    "sel1 = selezione[selezione['GENERATORE_DATA_INST'] >= 2001]\n",
    "sel2 = sel1[sel1['GENERATORE_DATA_INST'] <= 2018]\n",
    "sel2['GENERATORE_DATA_INST'].value_counts().plot.bar()\n",
    "plt.show()"
   ]
  },
  {
   "cell_type": "code",
   "execution_count": 6,
   "id": "d54d90b1",
   "metadata": {},
   "outputs": [
    {
     "name": "stdout",
     "output_type": "stream",
     "text": [
      "eterogeneità pari al numero di anni presi in considerazione, ossia 18\n"
     ]
    }
   ],
   "source": [
    "#4.2 Quanto vale in questa selezione l'eterogeneità di GENERATORE_DATA_INST ?\n",
    "print('eterogeneità pari al numero di anni presi in considerazione, ossia 18')"
   ]
  },
  {
   "cell_type": "code",
   "execution_count": 8,
   "id": "988d638a",
   "metadata": {},
   "outputs": [
    {
     "data": {
      "text/html": [
       "<div>\n",
       "<style scoped>\n",
       "    .dataframe tbody tr th:only-of-type {\n",
       "        vertical-align: middle;\n",
       "    }\n",
       "\n",
       "    .dataframe tbody tr th {\n",
       "        vertical-align: top;\n",
       "    }\n",
       "\n",
       "    .dataframe thead th {\n",
       "        text-align: right;\n",
       "    }\n",
       "</style>\n",
       "<table border=\"1\" class=\"dataframe\">\n",
       "  <thead>\n",
       "    <tr style=\"text-align: right;\">\n",
       "      <th></th>\n",
       "      <th>Frequenza relativa</th>\n",
       "    </tr>\n",
       "    <tr>\n",
       "      <th>ISPEZIONE_ESITO</th>\n",
       "      <th></th>\n",
       "    </tr>\n",
       "  </thead>\n",
       "  <tbody>\n",
       "    <tr>\n",
       "      <th>Negativo</th>\n",
       "      <td>0.236387</td>\n",
       "    </tr>\n",
       "    <tr>\n",
       "      <th>Positivo</th>\n",
       "      <td>0.763613</td>\n",
       "    </tr>\n",
       "  </tbody>\n",
       "</table>\n",
       "</div>"
      ],
      "text/plain": [
       "                 Frequenza relativa\n",
       "ISPEZIONE_ESITO                    \n",
       "Negativo                   0.236387\n",
       "Positivo                   0.763613"
      ]
     },
     "execution_count": 8,
     "metadata": {},
     "output_type": "execute_result"
    }
   ],
   "source": [
    "#4.3 Calcolate la tabella delle frequenze relative di ISPEZIONE_ESITO\n",
    "selezione_freq = pd.crosstab(index = selezione['ISPEZIONE_ESITO'], columns = ['Frequenza relativa'], colnames = [''])\n",
    "selezione_rel_freq = selezione_freq / selezione_freq.sum()\n",
    "selezione_rel_freq"
   ]
  },
  {
   "cell_type": "code",
   "execution_count": 9,
   "id": "b19cde66",
   "metadata": {},
   "outputs": [
    {
     "data": {
      "text/plain": [
       "76.3613385143547"
      ]
     },
     "execution_count": 9,
     "metadata": {},
     "output_type": "execute_result"
    }
   ],
   "source": [
    "#4.5 Percentuale impianti ispezionati che ha avuto ispezione con esito positivo \n",
    "(len(selezione[selezione['ISPEZIONE_ESITO'] == 'Positivo'])/len(selezione))*100"
   ]
  },
  {
   "cell_type": "code",
   "execution_count": 12,
   "id": "74d96aaa",
   "metadata": {},
   "outputs": [
    {
     "data": {
      "text/plain": [
       "0.763613385143547"
      ]
     },
     "execution_count": 12,
     "metadata": {},
     "output_type": "execute_result"
    }
   ],
   "source": [
    "'''\n",
    "4.6 L'impianto termico del mio condominio è stato ispezionato qualche anno fa, ricordo che era un anno successivo al 2000. \n",
    "Non è ancora stato ispezionato. Fornire una stima della probabilità p che, quando verrà ispezionato, l'impianto ottenga \n",
    "esito positivo\n",
    "'''\n",
    "\n",
    "m1 = selezione[selezione['GENERATORE_DATA_INST'] > 2000]\n",
    "p = len(m1[m1['ISPEZIONE_ESITO'] == 'Positivo'])/len(selezione)\n",
    "p"
   ]
  },
  {
   "cell_type": "code",
   "execution_count": 13,
   "id": "b9317951",
   "metadata": {},
   "outputs": [
    {
     "data": {
      "text/plain": [
       "202411"
      ]
     },
     "execution_count": 13,
     "metadata": {},
     "output_type": "execute_result"
    }
   ],
   "source": [
    "#4.7 Taglia del campione usato al punto precedente\n",
    "len(m1[m1['ISPEZIONE_ESITO'] == 'Positivo'])"
   ]
  },
  {
   "cell_type": "code",
   "execution_count": 14,
   "id": "d18a20dc",
   "metadata": {},
   "outputs": [
    {
     "name": "stdout",
     "output_type": "stream",
     "text": [
      "La media campionaria\n"
     ]
    }
   ],
   "source": [
    "#4.8 Quale stimatore avete usato per stimare p ? \n",
    "print('La media campionaria')"
   ]
  },
  {
   "cell_type": "code",
   "execution_count": null,
   "id": "e481b96f",
   "metadata": {},
   "outputs": [],
   "source": [
    "'''\n",
    "4.9 Fornire una condizione sufficiente per la taglia n del campione affinchè non sia inferiore a 0.95 la probabilità \n",
    "P(|Tn-p| <= 0.01)\n",
    "'''\n"
   ]
  }
 ],
 "metadata": {
  "kernelspec": {
   "display_name": "Python 3 (ipykernel)",
   "language": "python",
   "name": "python3"
  },
  "language_info": {
   "codemirror_mode": {
    "name": "ipython",
    "version": 3
   },
   "file_extension": ".py",
   "mimetype": "text/x-python",
   "name": "python",
   "nbconvert_exporter": "python",
   "pygments_lexer": "ipython3",
   "version": "3.9.13"
  }
 },
 "nbformat": 4,
 "nbformat_minor": 5
}
