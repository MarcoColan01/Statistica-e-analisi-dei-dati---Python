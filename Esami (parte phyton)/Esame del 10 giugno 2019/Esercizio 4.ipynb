{
 "cells": [
  {
   "cell_type": "code",
   "execution_count": 1,
   "id": "c4d4a147",
   "metadata": {},
   "outputs": [],
   "source": [
    "import numpy as np \n",
    "import pandas as pd \n",
    "import scipy.stats as st\n",
    "import matplotlib.pyplot as plt \n",
    "from scipy.constants import golden \n",
    "\n",
    "plt.style.use('fivethirtyeight')\n",
    "plt.rc('figure', figsize = (5.0, 5.0/golden)) \n",
    "\n",
    "impianti = pd.read_csv('impianti.csv', sep = ';', decimal=\".\", parse_dates=True)\n",
    "#impianti\n",
    "\n",
    "#memorizzate in selezione gli impianti installati dopo il 2000 e prima del 2019\n",
    "app = impianti[impianti['GENERATORE_DATA_INST'] > 2000]\n",
    "selezione = app[app['GENERATORE_DATA_INST'] < 2019]\n",
    "#selezione"
   ]
  },
  {
   "cell_type": "code",
   "execution_count": 3,
   "id": "d5ff68ee",
   "metadata": {},
   "outputs": [
    {
     "data": {
      "image/png": "[encoded data removed]",
      "text/plain": [
       "<Figure size 500x309.017 with 1 Axes>"
      ]
     },
     "metadata": {},
     "output_type": "display_data"
    }
   ],
   "source": [
    "#4.1 Tracciate un grafico del carattere GERERATORE_DATA_INST\n",
    "selezione.GENERATORE_DATA_INST.value_counts().plot.bar()\n",
    "plt.show()"
   ]
  },
  {
   "cell_type": "code",
   "execution_count": 4,
   "id": "17f1492e",
   "metadata": {},
   "outputs": [
    {
     "name": "stdout",
     "output_type": "stream",
     "text": [
      "eterogeneità pari agli anni presi in considerazione in questa selezione\n"
     ]
    }
   ],
   "source": [
    "#4.2 Eterogeneità di GENERATORE_DATA_INST\n",
    "print('eterogeneità pari agli anni presi in considerazione in questa selezione')"
   ]
  },
  {
   "cell_type": "code",
   "execution_count": 10,
   "id": "5e67ce0d",
   "metadata": {},
   "outputs": [
    {
     "data": {
      "text/html": [
       "<div>\n",
       "<style scoped>\n",
       "    .dataframe tbody tr th:only-of-type {\n",
       "        vertical-align: middle;\n",
       "    }\n",
       "\n",
       "    .dataframe tbody tr th {\n",
       "        vertical-align: top;\n",
       "    }\n",
       "\n",
       "    .dataframe thead th {\n",
       "        text-align: right;\n",
       "    }\n",
       "</style>\n",
       "<table border=\"1\" class=\"dataframe\">\n",
       "  <thead>\n",
       "    <tr style=\"text-align: right;\">\n",
       "      <th></th>\n",
       "      <th>Frequenze relative</th>\n",
       "    </tr>\n",
       "    <tr>\n",
       "      <th>ISPEZIONE_ESITO</th>\n",
       "      <th></th>\n",
       "    </tr>\n",
       "  </thead>\n",
       "  <tbody>\n",
       "    <tr>\n",
       "      <th>Negativo</th>\n",
       "      <td>0.236387</td>\n",
       "    </tr>\n",
       "    <tr>\n",
       "      <th>Positivo</th>\n",
       "      <td>0.763613</td>\n",
       "    </tr>\n",
       "  </tbody>\n",
       "</table>\n",
       "</div>"
      ],
      "text/plain": [
       "                 Frequenze relative\n",
       "ISPEZIONE_ESITO                    \n",
       "Negativo                   0.236387\n",
       "Positivo                   0.763613"
      ]
     },
     "execution_count": 10,
     "metadata": {},
     "output_type": "execute_result"
    }
   ],
   "source": [
    "#4.3 Tabella frequenze relative di ISPEZIONE_ESITO\n",
    "esito_rel = pd.crosstab(index = selezione.ISPEZIONE_ESITO, columns = 'Frequenze relative', normalize= 'all', colnames=[''])\n",
    "esito_rel"
   ]
  },
  {
   "cell_type": "code",
   "execution_count": 11,
   "id": "80cef6a7",
   "metadata": {},
   "outputs": [
    {
     "data": {
      "text/html": [
       "<div>\n",
       "<style scoped>\n",
       "    .dataframe tbody tr th:only-of-type {\n",
       "        vertical-align: middle;\n",
       "    }\n",
       "\n",
       "    .dataframe tbody tr th {\n",
       "        vertical-align: top;\n",
       "    }\n",
       "\n",
       "    .dataframe thead th {\n",
       "        text-align: right;\n",
       "    }\n",
       "</style>\n",
       "<table border=\"1\" class=\"dataframe\">\n",
       "  <thead>\n",
       "    <tr style=\"text-align: right;\">\n",
       "      <th></th>\n",
       "      <th>Frequenze relative</th>\n",
       "    </tr>\n",
       "    <tr>\n",
       "      <th>ISPEZIONE_ESITO</th>\n",
       "      <th></th>\n",
       "    </tr>\n",
       "  </thead>\n",
       "  <tbody>\n",
       "    <tr>\n",
       "      <th>Negativo</th>\n",
       "      <td>0.236387</td>\n",
       "    </tr>\n",
       "    <tr>\n",
       "      <th>Positivo</th>\n",
       "      <td>0.763613</td>\n",
       "    </tr>\n",
       "  </tbody>\n",
       "</table>\n",
       "</div>"
      ],
      "text/plain": [
       "                 Frequenze relative\n",
       "ISPEZIONE_ESITO                    \n",
       "Negativo                   0.236387\n",
       "Positivo                   0.763613"
      ]
     },
     "execution_count": 11,
     "metadata": {},
     "output_type": "execute_result"
    }
   ],
   "source": [
    "#4.4 Tabelle frequenze relative di ISPEZIONE_ESITO con anche i valori mancanti\n",
    "esito_rel2 = pd.crosstab(index = selezione.ISPEZIONE_ESITO.dropna(), columns = 'Frequenze relative', normalize= 'all', colnames=[''])\n",
    "esito_rel2"
   ]
  },
  {
   "cell_type": "code",
   "execution_count": 12,
   "id": "fde32969",
   "metadata": {},
   "outputs": [
    {
     "data": {
      "text/plain": [
       "76.3613385143547"
      ]
     },
     "execution_count": 12,
     "metadata": {},
     "output_type": "execute_result"
    }
   ],
   "source": [
    "#4.5 Percentuale di impianti ispezionati con esito positivo dell'ispezione\n",
    "(len(selezione[selezione['ISPEZIONE_ESITO'] == 'Positivo'])/len(selezione))*100"
   ]
  },
  {
   "cell_type": "code",
   "execution_count": 4,
   "id": "5cc9e951",
   "metadata": {},
   "outputs": [
    {
     "data": {
      "text/plain": [
       "0.763613385143547"
      ]
     },
     "execution_count": 4,
     "metadata": {},
     "output_type": "execute_result"
    }
   ],
   "source": [
    "'''\n",
    "4.6\n",
    "L'impianto termico del mio condominio è stato installato qualche anno fa, un anno successivo al 2000.\n",
    "Non è stato ancora ispezionato. Stimare la probabilità che, quando verrà ispezionato, l'impianto \n",
    "ottenga esito positivo\n",
    "'''\n",
    "\n",
    "p = len(selezione[selezione['ISPEZIONE_ESITO'] == 'Positivo'])/len(selezione)\n",
    "p"
   ]
  },
  {
   "cell_type": "code",
   "execution_count": 19,
   "id": "b5a13e4e",
   "metadata": {},
   "outputs": [
    {
     "data": {
      "text/plain": [
       "265070"
      ]
     },
     "execution_count": 19,
     "metadata": {},
     "output_type": "execute_result"
    }
   ],
   "source": [
    "#4.7 Taglia campione usato prima ?\n",
    "len(selezione)"
   ]
  },
  {
   "cell_type": "code",
   "execution_count": 20,
   "id": "006e1df4",
   "metadata": {},
   "outputs": [
    {
     "name": "stdout",
     "output_type": "stream",
     "text": [
      "La media campionaria\n"
     ]
    }
   ],
   "source": [
    "#4.8 Stimatore usato prima ?\n",
    "print('La media campionaria')"
   ]
  },
  {
   "cell_type": "code",
   "execution_count": 14,
   "id": "179067d6",
   "metadata": {},
   "outputs": [
    {
     "data": {
      "text/plain": [
       "50.379142579666826"
      ]
     },
     "execution_count": 14,
     "metadata": {},
     "output_type": "execute_result"
    }
   ],
   "source": [
    "'''\n",
    "4.9\n",
    "Condizione sufficiente per la taglia n affinchè non sia inferiore a 0.95 la probabilità \n",
    "P(|Tn-p| <= 0.01)\n",
    "'''\n",
    "import math\n",
    "z = st.norm()\n",
    "sigma = (math.sqrt(p*(1-p)))/0.01\n",
    "n = (z.ppf(0.525)*sigma)**2\n",
    "n*n"
   ]
  },
  {
   "cell_type": "code",
   "execution_count": null,
   "id": "8d597300",
   "metadata": {},
   "outputs": [],
   "source": []
  }
 ],
 "metadata": {
  "kernelspec": {
   "display_name": "Python 3 (ipykernel)",
   "language": "python",
   "name": "python3"
  },
  "language_info": {
   "codemirror_mode": {
    "name": "ipython",
    "version": 3
   },
   "file_extension": ".py",
   "mimetype": "text/x-python",
   "name": "python",
   "nbconvert_exporter": "python",
   "pygments_lexer": "ipython3",
   "version": "3.9.13"
  }
 },
 "nbformat": 4,
 "nbformat_minor": 5
}
