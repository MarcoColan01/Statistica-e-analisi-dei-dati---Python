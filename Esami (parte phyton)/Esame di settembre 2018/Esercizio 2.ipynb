{
 "cells": [
  {
   "cell_type": "code",
   "execution_count": 27,
   "id": "e8d0f84c",
   "metadata": {},
   "outputs": [],
   "source": [
    "import numpy as np \n",
    "import pandas as pd \n",
    "import matplotlib.pyplot as plt \n",
    "from scipy.constants import golden \n",
    "import scipy.stats as st\n",
    "\n",
    "plt.style.use('fivethirtyeight')\n",
    "plt.rc('figure', figsize = (5.0, 5.0/golden)) \n",
    "\n",
    "fin = pd.read_csv('finanziamenti.csv', sep = ';', index_col = 0, decimal=\",\", dtype ={\n",
    "    'FinProvincia':np.float64, 'FinRegione':np.float64, 'TotSpese':np.float64\n",
    "})"
   ]
  },
  {
   "cell_type": "code",
   "execution_count": 21,
   "id": "89e6d92b",
   "metadata": {},
   "outputs": [
    {
     "data": {
      "text/plain": [
       "1134"
      ]
     },
     "execution_count": 21,
     "metadata": {},
     "output_type": "execute_result"
    }
   ],
   "source": [
    "#6.1\n",
    "len(fin[fin['TotSpese'].isnull()])"
   ]
  },
  {
   "cell_type": "code",
   "execution_count": 22,
   "id": "7d5482af",
   "metadata": {},
   "outputs": [
    {
     "data": {
      "text/plain": [
       "0.30916030534351147"
      ]
     },
     "execution_count": 22,
     "metadata": {},
     "output_type": "execute_result"
    }
   ],
   "source": [
    "#6.2\n",
    "len(fin[fin['TotSpese'].isnull()]) / len(fin)"
   ]
  },
  {
   "cell_type": "code",
   "execution_count": 23,
   "id": "32e8041a",
   "metadata": {},
   "outputs": [
    {
     "data": {
      "text/plain": [
       "'\\nP(X = 0): probabilità che, dopo un anno, il progetto non ha subito spese\\nP(X=1): probabilità che, dopo un anno, il progetto ha subito spese\\n'"
      ]
     },
     "execution_count": 23,
     "metadata": {},
     "output_type": "execute_result"
    }
   ],
   "source": [
    "#6.3\n",
    "'''\n",
    "P(X = 0): probabilità che, dopo un anno, il progetto non ha subito spese\n",
    "P(X = 1): probabilità che, dopo un anno, il progetto ha subito spese\n",
    "'''"
   ]
  },
  {
   "cell_type": "code",
   "execution_count": null,
   "id": "c4f71a37",
   "metadata": {},
   "outputs": [],
   "source": [
    "#6.4\n",
    "'''\n",
    "Dato che gli esiti dell'esperimento sono solo successo o fallimento, X segue una legge bernoulliana.\n",
    "'''\n"
   ]
  },
  {
   "cell_type": "code",
   "execution_count": 24,
   "id": "17fb7b09",
   "metadata": {},
   "outputs": [
    {
     "data": {
      "text/plain": [
       "0.6908396946564885"
      ]
     },
     "execution_count": 24,
     "metadata": {},
     "output_type": "execute_result"
    }
   ],
   "source": [
    "#6.5\n",
    "1-len(fin[fin['TotSpese'].isnull()]) / len(fin)"
   ]
  },
  {
   "cell_type": "code",
   "execution_count": 29,
   "id": "e41d597f",
   "metadata": {},
   "outputs": [
    {
     "data": {
      "text/plain": [
       "0.014955947537824973"
      ]
     },
     "execution_count": 29,
     "metadata": {},
     "output_type": "execute_result"
    }
   ],
   "source": [
    "#6.6\n",
    "z = st.norm()\n",
    "prob = len(fin[fin['TotSpese'].isnull()]) / len(fin)\n",
    "sigma = ((1-prob)*(prob))**0.5\n",
    "radN = (len(fin))**0.5\n",
    "err = z.ppf(1.95/2)*sigma/radN\n",
    "err"
   ]
  },
  {
   "cell_type": "code",
   "execution_count": null,
   "id": "35becc22",
   "metadata": {},
   "outputs": [],
   "source": [
    "#6.7\n",
    "#seconda"
   ]
  },
  {
   "cell_type": "code",
   "execution_count": 34,
   "id": "83adebe7",
   "metadata": {},
   "outputs": [
    {
     "data": {
      "text/plain": [
       "array([ 0., nan])"
      ]
     },
     "execution_count": 34,
     "metadata": {},
     "output_type": "execute_result"
    }
   ],
   "source": [
    "#6.8\n",
    "\n",
    "k = len(fin)+50 \n",
    "k\n",
    "prob = 0,7\n",
    "y = st.binom(k,prob)"
   ]
  },
  {
   "cell_type": "code",
   "execution_count": null,
   "id": "457d034d",
   "metadata": {},
   "outputs": [],
   "source": []
  }
 ],
 "metadata": {
  "kernelspec": {
   "display_name": "Python 3 (ipykernel)",
   "language": "python",
   "name": "python3"
  },
  "language_info": {
   "codemirror_mode": {
    "name": "ipython",
    "version": 3
   },
   "file_extension": ".py",
   "mimetype": "text/x-python",
   "name": "python",
   "nbconvert_exporter": "python",
   "pygments_lexer": "ipython3",
   "version": "3.9.13"
  }
 },
 "nbformat": 4,
 "nbformat_minor": 5
}
