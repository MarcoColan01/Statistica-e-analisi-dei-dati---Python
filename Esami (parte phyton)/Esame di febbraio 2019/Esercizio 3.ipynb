{
 "cells": [
  {
   "cell_type": "code",
   "execution_count": 1,
   "id": "ebb29385",
   "metadata": {},
   "outputs": [
    {
     "data": {
      "text/html": [
       "<div>\n",
       "<style scoped>\n",
       "    .dataframe tbody tr th:only-of-type {\n",
       "        vertical-align: middle;\n",
       "    }\n",
       "\n",
       "    .dataframe tbody tr th {\n",
       "        vertical-align: top;\n",
       "    }\n",
       "\n",
       "    .dataframe thead th {\n",
       "        text-align: right;\n",
       "    }\n",
       "</style>\n",
       "<table border=\"1\" class=\"dataframe\">\n",
       "  <thead>\n",
       "    <tr style=\"text-align: right;\">\n",
       "      <th></th>\n",
       "      <th>giorno.settimana</th>\n",
       "      <th>peso.pescato</th>\n",
       "      <th>settore.di.pesca</th>\n",
       "      <th>settore.num</th>\n",
       "      <th>forza.del.mare</th>\n",
       "      <th>tempesta</th>\n",
       "    </tr>\n",
       "  </thead>\n",
       "  <tbody>\n",
       "    <tr>\n",
       "      <th>0</th>\n",
       "      <td>1</td>\n",
       "      <td>5.168068</td>\n",
       "      <td>A</td>\n",
       "      <td>1</td>\n",
       "      <td>7</td>\n",
       "      <td>1</td>\n",
       "    </tr>\n",
       "    <tr>\n",
       "      <th>1</th>\n",
       "      <td>1</td>\n",
       "      <td>4.074747</td>\n",
       "      <td>A</td>\n",
       "      <td>1</td>\n",
       "      <td>7</td>\n",
       "      <td>1</td>\n",
       "    </tr>\n",
       "    <tr>\n",
       "      <th>2</th>\n",
       "      <td>1</td>\n",
       "      <td>7.358404</td>\n",
       "      <td>A</td>\n",
       "      <td>1</td>\n",
       "      <td>5</td>\n",
       "      <td>1</td>\n",
       "    </tr>\n",
       "    <tr>\n",
       "      <th>3</th>\n",
       "      <td>1</td>\n",
       "      <td>5.022524</td>\n",
       "      <td>A</td>\n",
       "      <td>1</td>\n",
       "      <td>5</td>\n",
       "      <td>1</td>\n",
       "    </tr>\n",
       "    <tr>\n",
       "      <th>4</th>\n",
       "      <td>1</td>\n",
       "      <td>5.826922</td>\n",
       "      <td>A</td>\n",
       "      <td>1</td>\n",
       "      <td>5</td>\n",
       "      <td>1</td>\n",
       "    </tr>\n",
       "    <tr>\n",
       "      <th>...</th>\n",
       "      <td>...</td>\n",
       "      <td>...</td>\n",
       "      <td>...</td>\n",
       "      <td>...</td>\n",
       "      <td>...</td>\n",
       "      <td>...</td>\n",
       "    </tr>\n",
       "    <tr>\n",
       "      <th>250</th>\n",
       "      <td>5</td>\n",
       "      <td>13.314936</td>\n",
       "      <td>I</td>\n",
       "      <td>9</td>\n",
       "      <td>5</td>\n",
       "      <td>1</td>\n",
       "    </tr>\n",
       "    <tr>\n",
       "      <th>251</th>\n",
       "      <td>5</td>\n",
       "      <td>17.445849</td>\n",
       "      <td>I</td>\n",
       "      <td>9</td>\n",
       "      <td>3</td>\n",
       "      <td>0</td>\n",
       "    </tr>\n",
       "    <tr>\n",
       "      <th>252</th>\n",
       "      <td>5</td>\n",
       "      <td>19.351561</td>\n",
       "      <td>I</td>\n",
       "      <td>9</td>\n",
       "      <td>1</td>\n",
       "      <td>0</td>\n",
       "    </tr>\n",
       "    <tr>\n",
       "      <th>253</th>\n",
       "      <td>5</td>\n",
       "      <td>17.939520</td>\n",
       "      <td>I</td>\n",
       "      <td>9</td>\n",
       "      <td>1</td>\n",
       "      <td>0</td>\n",
       "    </tr>\n",
       "    <tr>\n",
       "      <th>254</th>\n",
       "      <td>5</td>\n",
       "      <td>19.182300</td>\n",
       "      <td>I</td>\n",
       "      <td>9</td>\n",
       "      <td>1</td>\n",
       "      <td>0</td>\n",
       "    </tr>\n",
       "  </tbody>\n",
       "</table>\n",
       "<p>255 rows × 6 columns</p>\n",
       "</div>"
      ],
      "text/plain": [
       "     giorno.settimana  peso.pescato settore.di.pesca  settore.num  \\\n",
       "0                   1      5.168068                A            1   \n",
       "1                   1      4.074747                A            1   \n",
       "2                   1      7.358404                A            1   \n",
       "3                   1      5.022524                A            1   \n",
       "4                   1      5.826922                A            1   \n",
       "..                ...           ...              ...          ...   \n",
       "250                 5     13.314936                I            9   \n",
       "251                 5     17.445849                I            9   \n",
       "252                 5     19.351561                I            9   \n",
       "253                 5     17.939520                I            9   \n",
       "254                 5     19.182300                I            9   \n",
       "\n",
       "     forza.del.mare  tempesta  \n",
       "0                 7         1  \n",
       "1                 7         1  \n",
       "2                 5         1  \n",
       "3                 5         1  \n",
       "4                 5         1  \n",
       "..              ...       ...  \n",
       "250               5         1  \n",
       "251               3         0  \n",
       "252               1         0  \n",
       "253               1         0  \n",
       "254               1         0  \n",
       "\n",
       "[255 rows x 6 columns]"
      ]
     },
     "execution_count": 1,
     "metadata": {},
     "output_type": "execute_result"
    }
   ],
   "source": [
    "import numpy as np \n",
    "import pandas as pd \n",
    "import matplotlib.pyplot as plt \n",
    "from scipy.constants import golden \n",
    "\n",
    "plt.style.use('fivethirtyeight')\n",
    "plt.rc('figure', figsize = (5.0, 5.0/golden)) \n",
    "\n",
    "pesca = pd.read_csv('pesca.csv', delimiter = ',', decimal=\".\")\n",
    "\n",
    "pesca \n"
   ]
  },
  {
   "cell_type": "code",
   "execution_count": 3,
   "id": "9845f7fe",
   "metadata": {},
   "outputs": [
    {
     "name": "stdout",
     "output_type": "stream",
     "text": [
      "peso.pescato è continuo\n"
     ]
    }
   ],
   "source": [
    "'''\n",
    "3.1 Il carattere peso.pescato è discreto o continuo?\n",
    "'''\n",
    "print('peso.pescato è continuo')"
   ]
  },
  {
   "cell_type": "code",
   "execution_count": 5,
   "id": "249bf424",
   "metadata": {},
   "outputs": [
    {
     "data": {
      "image/png": "[encoded data removed]",
      "text/plain": [
       "<Figure size 500x309.017 with 1 Axes>"
      ]
     },
     "metadata": {},
     "output_type": "display_data"
    }
   ],
   "source": [
    "#3.2 Si tracci il grafico che meglio rappresenta la distribuione del peso.pescato.\n",
    "pesca['peso.pescato'].hist()\n",
    "plt.show()"
   ]
  },
  {
   "cell_type": "code",
   "execution_count": 12,
   "id": "bff64752",
   "metadata": {},
   "outputs": [
    {
     "data": {
      "text/plain": [
       "37.64705882352941"
      ]
     },
     "execution_count": 12,
     "metadata": {},
     "output_type": "execute_result"
    }
   ],
   "source": [
    "#3.3 Calcolare la percentuale di giorni in cui al mercato è arrivata una quantità di pescato compresa tra i 10 e i 15 quintali.\n",
    "pesca10 = pesca[pesca['peso.pescato'] > 10]\n",
    "pesca20 = pesca10[pesca10['peso.pescato'] < 15]\n",
    "(len(pesca20) / len(pesca))*100"
   ]
  },
  {
   "cell_type": "code",
   "execution_count": 14,
   "id": "95fa00da",
   "metadata": {},
   "outputs": [
    {
     "name": "stdout",
     "output_type": "stream",
     "text": [
      "10.788632531936003\n",
      "16.09024449815005\n"
     ]
    }
   ],
   "source": [
    "#3.4 Determinare i parametri della variabile casuale normale che potrebbe descrivere il peso.pescato.\n",
    "print(pesca['peso.pescato'].mean())\n",
    "print(pesca['peso.pescato'].var())"
   ]
  },
  {
   "cell_type": "code",
   "execution_count": 16,
   "id": "867a2472",
   "metadata": {},
   "outputs": [
    {
     "data": {
      "text/plain": [
       "0.431590863816581"
      ]
     },
     "execution_count": 16,
     "metadata": {},
     "output_type": "execute_result"
    }
   ],
   "source": [
    "'''\n",
    "3.5 Secondo il modello identificato al punto precedente, calcolare la probabilità\n",
    "che al mercato arrivi giornalmente una quantità di pescato compresa tra i\n",
    "10 e i 15 quintali.\n",
    "'''\n",
    "\n",
    "from scipy.stats import norm\n",
    "X = norm(loc = 10.78, scale = 4)\n",
    "z = X.cdf(10)\n",
    "y = X.cdf(15)\n",
    "y-z"
   ]
  },
  {
   "cell_type": "code",
   "execution_count": null,
   "id": "7a52a9d8",
   "metadata": {},
   "outputs": [],
   "source": [
    "'''\n",
    "3.7 In Tabella 1 trovate la matrice di covarianza dei caratteri del dataset. Tra\n",
    "quali caratteri sussiste una relazione lineare pronunciata?\n",
    "'''\n",
    "print('esiste una relazione lineare pronunciata tra i caratteri  ')"
   ]
  }
 ],
 "metadata": {
  "kernelspec": {
   "display_name": "Python 3 (ipykernel)",
   "language": "python",
   "name": "python3"
  },
  "language_info": {
   "codemirror_mode": {
    "name": "ipython",
    "version": 3
   },
   "file_extension": ".py",
   "mimetype": "text/x-python",
   "name": "python",
   "nbconvert_exporter": "python",
   "pygments_lexer": "ipython3",
   "version": "3.9.13"
  }
 },
 "nbformat": 4,
 "nbformat_minor": 5
}
