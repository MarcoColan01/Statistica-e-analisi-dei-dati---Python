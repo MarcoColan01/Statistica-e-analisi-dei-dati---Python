{
 "cells": [
  {
   "cell_type": "code",
   "execution_count": 1,
   "id": "8212bbb6",
   "metadata": {},
   "outputs": [
    {
     "data": {
      "text/html": [
       "<div>\n",
       "<style scoped>\n",
       "    .dataframe tbody tr th:only-of-type {\n",
       "        vertical-align: middle;\n",
       "    }\n",
       "\n",
       "    .dataframe tbody tr th {\n",
       "        vertical-align: top;\n",
       "    }\n",
       "\n",
       "    .dataframe thead th {\n",
       "        text-align: right;\n",
       "    }\n",
       "</style>\n",
       "<table border=\"1\" class=\"dataframe\">\n",
       "  <thead>\n",
       "    <tr style=\"text-align: right;\">\n",
       "      <th></th>\n",
       "      <th>giorno.settimana</th>\n",
       "      <th>peso.pescato</th>\n",
       "      <th>settore.di.pesca</th>\n",
       "      <th>settore.num</th>\n",
       "      <th>forza.del.mare</th>\n",
       "      <th>tempesta</th>\n",
       "    </tr>\n",
       "  </thead>\n",
       "  <tbody>\n",
       "    <tr>\n",
       "      <th>0</th>\n",
       "      <td>1</td>\n",
       "      <td>5.168068</td>\n",
       "      <td>A</td>\n",
       "      <td>1</td>\n",
       "      <td>7</td>\n",
       "      <td>1</td>\n",
       "    </tr>\n",
       "    <tr>\n",
       "      <th>1</th>\n",
       "      <td>1</td>\n",
       "      <td>4.074747</td>\n",
       "      <td>A</td>\n",
       "      <td>1</td>\n",
       "      <td>7</td>\n",
       "      <td>1</td>\n",
       "    </tr>\n",
       "    <tr>\n",
       "      <th>2</th>\n",
       "      <td>1</td>\n",
       "      <td>7.358404</td>\n",
       "      <td>A</td>\n",
       "      <td>1</td>\n",
       "      <td>5</td>\n",
       "      <td>1</td>\n",
       "    </tr>\n",
       "    <tr>\n",
       "      <th>3</th>\n",
       "      <td>1</td>\n",
       "      <td>5.022524</td>\n",
       "      <td>A</td>\n",
       "      <td>1</td>\n",
       "      <td>5</td>\n",
       "      <td>1</td>\n",
       "    </tr>\n",
       "    <tr>\n",
       "      <th>4</th>\n",
       "      <td>1</td>\n",
       "      <td>5.826922</td>\n",
       "      <td>A</td>\n",
       "      <td>1</td>\n",
       "      <td>5</td>\n",
       "      <td>1</td>\n",
       "    </tr>\n",
       "    <tr>\n",
       "      <th>...</th>\n",
       "      <td>...</td>\n",
       "      <td>...</td>\n",
       "      <td>...</td>\n",
       "      <td>...</td>\n",
       "      <td>...</td>\n",
       "      <td>...</td>\n",
       "    </tr>\n",
       "    <tr>\n",
       "      <th>250</th>\n",
       "      <td>5</td>\n",
       "      <td>13.314936</td>\n",
       "      <td>I</td>\n",
       "      <td>9</td>\n",
       "      <td>5</td>\n",
       "      <td>1</td>\n",
       "    </tr>\n",
       "    <tr>\n",
       "      <th>251</th>\n",
       "      <td>5</td>\n",
       "      <td>17.445849</td>\n",
       "      <td>I</td>\n",
       "      <td>9</td>\n",
       "      <td>3</td>\n",
       "      <td>0</td>\n",
       "    </tr>\n",
       "    <tr>\n",
       "      <th>252</th>\n",
       "      <td>5</td>\n",
       "      <td>19.351561</td>\n",
       "      <td>I</td>\n",
       "      <td>9</td>\n",
       "      <td>1</td>\n",
       "      <td>0</td>\n",
       "    </tr>\n",
       "    <tr>\n",
       "      <th>253</th>\n",
       "      <td>5</td>\n",
       "      <td>17.939520</td>\n",
       "      <td>I</td>\n",
       "      <td>9</td>\n",
       "      <td>1</td>\n",
       "      <td>0</td>\n",
       "    </tr>\n",
       "    <tr>\n",
       "      <th>254</th>\n",
       "      <td>5</td>\n",
       "      <td>19.182300</td>\n",
       "      <td>I</td>\n",
       "      <td>9</td>\n",
       "      <td>1</td>\n",
       "      <td>0</td>\n",
       "    </tr>\n",
       "  </tbody>\n",
       "</table>\n",
       "<p>255 rows × 6 columns</p>\n",
       "</div>"
      ],
      "text/plain": [
       "     giorno.settimana  peso.pescato settore.di.pesca  settore.num  \\\n",
       "0                   1      5.168068                A            1   \n",
       "1                   1      4.074747                A            1   \n",
       "2                   1      7.358404                A            1   \n",
       "3                   1      5.022524                A            1   \n",
       "4                   1      5.826922                A            1   \n",
       "..                ...           ...              ...          ...   \n",
       "250                 5     13.314936                I            9   \n",
       "251                 5     17.445849                I            9   \n",
       "252                 5     19.351561                I            9   \n",
       "253                 5     17.939520                I            9   \n",
       "254                 5     19.182300                I            9   \n",
       "\n",
       "     forza.del.mare  tempesta  \n",
       "0                 7         1  \n",
       "1                 7         1  \n",
       "2                 5         1  \n",
       "3                 5         1  \n",
       "4                 5         1  \n",
       "..              ...       ...  \n",
       "250               5         1  \n",
       "251               3         0  \n",
       "252               1         0  \n",
       "253               1         0  \n",
       "254               1         0  \n",
       "\n",
       "[255 rows x 6 columns]"
      ]
     },
     "execution_count": 1,
     "metadata": {},
     "output_type": "execute_result"
    }
   ],
   "source": [
    "import numpy as np \n",
    "import pandas as pd \n",
    "import matplotlib.pyplot as plt \n",
    "from scipy.constants import golden \n",
    "\n",
    "plt.style.use('fivethirtyeight')\n",
    "plt.rc('figure', figsize = (5.0, 5.0/golden)) \n",
    "\n",
    "pesca = pd.read_csv('pesca.csv', delimiter = ',', decimal=\".\")\n",
    "\n",
    "pesca "
   ]
  },
  {
   "cell_type": "code",
   "execution_count": 2,
   "id": "cea5cf02",
   "metadata": {},
   "outputs": [
    {
     "data": {
      "text/plain": [
       "5"
      ]
     },
     "execution_count": 2,
     "metadata": {},
     "output_type": "execute_result"
    }
   ],
   "source": [
    "#2.1 Quante sono le giornate lavorative in una settimana al mercato del pesce?\n",
    "len(pesca['giorno.settimana'].unique())"
   ]
  },
  {
   "cell_type": "code",
   "execution_count": 3,
   "id": "31db61e0",
   "metadata": {},
   "outputs": [
    {
     "data": {
      "text/plain": [
       "255"
      ]
     },
     "execution_count": 3,
     "metadata": {},
     "output_type": "execute_result"
    }
   ],
   "source": [
    "#2.2 Per quanti giorni sono state raccolte le informazioni ?\n",
    "len(pesca)"
   ]
  },
  {
   "cell_type": "code",
   "execution_count": 8,
   "id": "c52dccb3",
   "metadata": {},
   "outputs": [
    {
     "name": "stdout",
     "output_type": "stream",
     "text": [
      "Frequenza assoluta:  94\n",
      "Frequenza relativa:  0.3686274509803922\n"
     ]
    }
   ],
   "source": [
    "#2.3 Quante volte si è pescato in condizioni di tempesta? Dare una risposta in termini di frequenza sia assoluta, sia relativa.\n",
    "print('Frequenza assoluta: ', len(pesca[pesca['tempesta']==1]))\n",
    "print('Frequenza relativa: ', len(pesca[pesca['tempesta']==1])/len(pesca))"
   ]
  },
  {
   "cell_type": "code",
   "execution_count": 9,
   "id": "c8598439",
   "metadata": {},
   "outputs": [
    {
     "data": {
      "image/png": "[encoded data removed]",
      "text/plain": [
       "<Figure size 500x309.017 with 1 Axes>"
      ]
     },
     "metadata": {},
     "output_type": "display_data"
    }
   ],
   "source": [
    "#2.4 Tracciare un grafico rappresentativo della frequenza di tempesta.\n",
    "pesca['tempesta'].value_counts().plot.bar()\n",
    "plt.show()"
   ]
  },
  {
   "cell_type": "code",
   "execution_count": 10,
   "id": "9fe1ba46",
   "metadata": {},
   "outputs": [
    {
     "data": {
      "text/plain": [
       "9"
      ]
     },
     "execution_count": 10,
     "metadata": {},
     "output_type": "execute_result"
    }
   ],
   "source": [
    "#2.5 Quanti sono i settori di pesca della parte di mare considerata?\n",
    "len(pesca['settore.num'].unique())"
   ]
  },
  {
   "cell_type": "code",
   "execution_count": 13,
   "id": "6b667d38",
   "metadata": {},
   "outputs": [
    {
     "data": {
      "text/plain": [
       "0.1450980392156863"
      ]
     },
     "execution_count": 13,
     "metadata": {},
     "output_type": "execute_result"
    }
   ],
   "source": [
    "#2.6 Qual è la frequenza relativa del settore \"A\"?\n",
    "len(pesca[pesca['settore.di.pesca'] == 'A'])/len(pesca)"
   ]
  },
  {
   "cell_type": "code",
   "execution_count": 15,
   "id": "aff2a7dc",
   "metadata": {},
   "outputs": [
    {
     "data": {
      "text/html": [
       "<div>\n",
       "<style scoped>\n",
       "    .dataframe tbody tr th:only-of-type {\n",
       "        vertical-align: middle;\n",
       "    }\n",
       "\n",
       "    .dataframe tbody tr th {\n",
       "        vertical-align: top;\n",
       "    }\n",
       "\n",
       "    .dataframe thead th {\n",
       "        text-align: right;\n",
       "    }\n",
       "</style>\n",
       "<table border=\"1\" class=\"dataframe\">\n",
       "  <thead>\n",
       "    <tr style=\"text-align: right;\">\n",
       "      <th>tempesta</th>\n",
       "      <th>0</th>\n",
       "      <th>1</th>\n",
       "    </tr>\n",
       "    <tr>\n",
       "      <th>settore.di.pesca</th>\n",
       "      <th></th>\n",
       "      <th></th>\n",
       "    </tr>\n",
       "  </thead>\n",
       "  <tbody>\n",
       "    <tr>\n",
       "      <th>A</th>\n",
       "      <td>24</td>\n",
       "      <td>13</td>\n",
       "    </tr>\n",
       "    <tr>\n",
       "      <th>B</th>\n",
       "      <td>28</td>\n",
       "      <td>24</td>\n",
       "    </tr>\n",
       "    <tr>\n",
       "      <th>C</th>\n",
       "      <td>19</td>\n",
       "      <td>14</td>\n",
       "    </tr>\n",
       "    <tr>\n",
       "      <th>D</th>\n",
       "      <td>3</td>\n",
       "      <td>2</td>\n",
       "    </tr>\n",
       "    <tr>\n",
       "      <th>E</th>\n",
       "      <td>24</td>\n",
       "      <td>16</td>\n",
       "    </tr>\n",
       "    <tr>\n",
       "      <th>F</th>\n",
       "      <td>5</td>\n",
       "      <td>3</td>\n",
       "    </tr>\n",
       "    <tr>\n",
       "      <th>G</th>\n",
       "      <td>20</td>\n",
       "      <td>11</td>\n",
       "    </tr>\n",
       "    <tr>\n",
       "      <th>H</th>\n",
       "      <td>8</td>\n",
       "      <td>1</td>\n",
       "    </tr>\n",
       "    <tr>\n",
       "      <th>I</th>\n",
       "      <td>30</td>\n",
       "      <td>10</td>\n",
       "    </tr>\n",
       "  </tbody>\n",
       "</table>\n",
       "</div>"
      ],
      "text/plain": [
       "tempesta           0   1\n",
       "settore.di.pesca        \n",
       "A                 24  13\n",
       "B                 28  24\n",
       "C                 19  14\n",
       "D                  3   2\n",
       "E                 24  16\n",
       "F                  5   3\n",
       "G                 20  11\n",
       "H                  8   1\n",
       "I                 30  10"
      ]
     },
     "execution_count": 15,
     "metadata": {},
     "output_type": "execute_result"
    }
   ],
   "source": [
    "#2.7 Produrre la tabella delle frequenze congiunte tra settore.di.pesca e tempesta.\n",
    "settore_tempestaCong = pd.crosstab(index=pesca['settore.di.pesca'], columns=pesca['tempesta'])\n",
    "settore_tempestaCong"
   ]
  },
  {
   "cell_type": "code",
   "execution_count": 25,
   "id": "d3752a5f",
   "metadata": {},
   "outputs": [
    {
     "name": "stdout",
     "output_type": "stream",
     "text": [
      "Giorni con tempesta nel settore A: 13\n",
      "Giorni senza tempesta nel settore A: 24\n"
     ]
    }
   ],
   "source": [
    "'''\n",
    "2.8 Utilizzare la tabella delle frequenze congiunte per stabilire, relativamente al settore di pesca \"A\", quanti sono \n",
    "stati i giorni di tempesta e quanti quelli senza tempesta.\n",
    "'''\n",
    "print('Giorni con tempesta nel settore A:',settore_tempestaCong.loc['A'][1])\n",
    "print('Giorni senza tempesta nel settore A:',settore_tempestaCong.loc['A'][0])"
   ]
  },
  {
   "cell_type": "code",
   "execution_count": 28,
   "id": "7ab7caf9",
   "metadata": {},
   "outputs": [
    {
     "data": {
      "text/plain": [
       "0.3686274509803922"
      ]
     },
     "execution_count": 28,
     "metadata": {},
     "output_type": "execute_result"
    }
   ],
   "source": [
    "'''\n",
    "2.9 Supponiamo, d’ora in poi, che sia verificata la condizione (realistica forse soltanto per alcune zone del pianeta) \n",
    "che le condizioni atmosferiche di un dato giorno siano indipendenti dalle condizioni atmosferiche di un altro giorno.\n",
    "Sulla base dei dati a disposizione stimare la probabilità pT che oggi ci sia tempesta.\n",
    "'''\n",
    "pT = len(pesca[pesca['tempesta'] == 1]) / len(pesca)\n",
    "pT"
   ]
  },
  {
   "cell_type": "code",
   "execution_count": 29,
   "id": "591d4b08",
   "metadata": {},
   "outputs": [
    {
     "data": {
      "text/plain": [
       "255"
      ]
     },
     "execution_count": 29,
     "metadata": {},
     "output_type": "execute_result"
    }
   ],
   "source": [
    "#2.10 Qual è la taglia del campione che avete utilizzato nella stima di pT ?\n",
    "len(pesca['tempesta'])"
   ]
  },
  {
   "cell_type": "code",
   "execution_count": 39,
   "id": "f39ebc80",
   "metadata": {},
   "outputs": [
    {
     "data": {
      "text/plain": [
       "0.35135135135135137"
      ]
     },
     "execution_count": 39,
     "metadata": {},
     "output_type": "execute_result"
    }
   ],
   "source": [
    "#2.11 Stimare la probabilità pTA che ci sia tempesta nel settore \"A\".\n",
    "pescaTemp = pesca[pesca['tempesta'] == 1]\n",
    "pTA = len(pescaTemp[pescaTemp['settore.di.pesca'] == 'A']) / len(pesca[pesca['settore.di.pesca'] == 'A'])\n",
    "pTA"
   ]
  },
  {
   "cell_type": "code",
   "execution_count": 42,
   "id": "31862649",
   "metadata": {},
   "outputs": [
    {
     "data": {
      "text/plain": [
       "0.9490196078431372"
      ]
     },
     "execution_count": 42,
     "metadata": {},
     "output_type": "execute_result"
    }
   ],
   "source": [
    "'''\n",
    "2.12 Un pescatore dice che ieri ha incontrato condizioni di tempesta. Qual è la probabilità che abbia lavorato \n",
    "nel settore di pesca \"A\"?\n",
    "'''\n",
    "pescatore = 1-len(pescaTemp[pescaTemp['settore.di.pesca'] == 'A'])/len(pesca)\n",
    "pescatore"
   ]
  },
  {
   "cell_type": "code",
   "execution_count": 48,
   "id": "757e1f6d",
   "metadata": {},
   "outputs": [
    {
     "data": {
      "text/plain": [
       "37"
      ]
     },
     "execution_count": 48,
     "metadata": {},
     "output_type": "execute_result"
    }
   ],
   "source": [
    "'''\n",
    "2.13 Qual è la taglia nA del campione che avete utilizzato al punto 11 per la\n",
    "stima della probabilità che ci sia tempesta nel settore \"A\"?\n",
    "'''\n",
    "nA = len(pesca[pesca['settore.di.pesca'] == 'A'].dropna())\n",
    "nA"
   ]
  },
  {
   "cell_type": "code",
   "execution_count": 49,
   "id": "8e2c9783",
   "metadata": {},
   "outputs": [
    {
     "name": "stderr",
     "output_type": "stream",
     "text": [
      "C:\\Users\\cola0\\AppData\\Local\\Temp\\ipykernel_27528\\1001979210.py:5: FutureWarning: Dropping of nuisance columns in DataFrame reductions (with 'numeric_only=None') is deprecated; in a future version this will raise TypeError.  Select only valid columns before calling the reduction.\n",
      "  pta = pescaTemp[pescaTemp['settore.di.pesca'] == 'A'].mean()\n",
      "C:\\Users\\cola0\\AppData\\Local\\Temp\\ipykernel_27528\\1001979210.py:6: FutureWarning: Dropping of nuisance columns in DataFrame reductions (with 'numeric_only=None') is deprecated; in a future version this will raise TypeError.  Select only valid columns before calling the reduction.\n",
      "  var = pescaTemp[pescaTemp['settore.di.pesca'] == 'A'].var()\n"
     ]
    },
    {
     "data": {
      "text/plain": [
       "giorno.settimana   -5.930007\n",
       "peso.pescato       -3.396466\n",
       "settore.num         1.000000\n",
       "forza.del.mare     -3.435204\n",
       "tempesta            1.000000\n",
       "dtype: float64"
      ]
     },
     "execution_count": 49,
     "metadata": {},
     "output_type": "execute_result"
    }
   ],
   "source": [
    "'''\n",
    "2.14 Si determini un limite inferiore per la probabilità di aver compiuto, nella\n",
    "stima di pTA, un errore, in eccesso o in difetto, minore o uguale di 0.1.\n",
    "'''\n",
    "pta = pescaTemp[pescaTemp['settore.di.pesca'] == 'A'].mean()\n",
    "var = pescaTemp[pescaTemp['settore.di.pesca'] == 'A'].var()\n",
    "1-(var/(37*(0.1)**2))"
   ]
  },
  {
   "cell_type": "code",
   "execution_count": null,
   "id": "0f8b3445",
   "metadata": {},
   "outputs": [],
   "source": []
  }
 ],
 "metadata": {
  "kernelspec": {
   "display_name": "Python 3 (ipykernel)",
   "language": "python",
   "name": "python3"
  },
  "language_info": {
   "codemirror_mode": {
    "name": "ipython",
    "version": 3
   },
   "file_extension": ".py",
   "mimetype": "text/x-python",
   "name": "python",
   "nbconvert_exporter": "python",
   "pygments_lexer": "ipython3",
   "version": "3.9.13"
  }
 },
 "nbformat": 4,
 "nbformat_minor": 5
}
