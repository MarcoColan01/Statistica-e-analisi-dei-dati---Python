{
 "cells": [
  {
   "cell_type": "code",
   "execution_count": 47,
   "id": "b9070251",
   "metadata": {},
   "outputs": [],
   "source": [
    "import numpy as np \n",
    "import pandas as pd \n",
    "import scipy.stats as st\n",
    "import matplotlib.pyplot as plt \n",
    "from scipy.constants import golden \n",
    "\n",
    "plt.style.use('fivethirtyeight')\n",
    "plt.rc('figure', figsize = (5.0, 5.0/golden)) \n",
    "\n",
    "cars = pd.read_csv('carsharing.csv', sep = ';', decimal=\",\", parse_dates=True)\n"
   ]
  },
  {
   "cell_type": "code",
   "execution_count": 3,
   "id": "dba306b9",
   "metadata": {},
   "outputs": [
    {
     "data": {
      "text/plain": [
       "392"
      ]
     },
     "execution_count": 3,
     "metadata": {},
     "output_type": "execute_result"
    }
   ],
   "source": [
    "#3.1 Quanti casi contiene il file ?\n",
    "len(cars)"
   ]
  },
  {
   "cell_type": "code",
   "execution_count": 4,
   "id": "c55e1601",
   "metadata": {},
   "outputs": [
    {
     "data": {
      "text/plain": [
       "5"
      ]
     },
     "execution_count": 4,
     "metadata": {},
     "output_type": "execute_result"
    }
   ],
   "source": [
    "#3.2.2 In quante fasce orarie è stata suddivisa una giornata ?\n",
    "len(cars.TimeFrame.unique())"
   ]
  },
  {
   "cell_type": "code",
   "execution_count": 8,
   "id": "302d8662",
   "metadata": {},
   "outputs": [
    {
     "data": {
      "text/plain": [
       "FRAME B    123\n",
       "FRAME C    107\n",
       "FRAME D     94\n",
       "FRAME A     47\n",
       "FRAME E     21\n",
       "Name: TimeFrame, dtype: int64"
      ]
     },
     "execution_count": 8,
     "metadata": {},
     "output_type": "execute_result"
    }
   ],
   "source": [
    "cars.TimeFrame.value_counts()"
   ]
  },
  {
   "cell_type": "code",
   "execution_count": 9,
   "id": "b77847fb",
   "metadata": {},
   "outputs": [
    {
     "data": {
      "text/html": [
       "<div>\n",
       "<style scoped>\n",
       "    .dataframe tbody tr th:only-of-type {\n",
       "        vertical-align: middle;\n",
       "    }\n",
       "\n",
       "    .dataframe tbody tr th {\n",
       "        vertical-align: top;\n",
       "    }\n",
       "\n",
       "    .dataframe thead th {\n",
       "        text-align: right;\n",
       "    }\n",
       "</style>\n",
       "<table border=\"1\" class=\"dataframe\">\n",
       "  <thead>\n",
       "    <tr style=\"text-align: right;\">\n",
       "      <th></th>\n",
       "      <th>0</th>\n",
       "      <th>1</th>\n",
       "    </tr>\n",
       "    <tr>\n",
       "      <th>TimeFrame</th>\n",
       "      <th></th>\n",
       "      <th></th>\n",
       "    </tr>\n",
       "  </thead>\n",
       "  <tbody>\n",
       "    <tr>\n",
       "      <th>FRAME A</th>\n",
       "      <td>47</td>\n",
       "      <td>0</td>\n",
       "    </tr>\n",
       "    <tr>\n",
       "      <th>FRAME B</th>\n",
       "      <td>0</td>\n",
       "      <td>123</td>\n",
       "    </tr>\n",
       "    <tr>\n",
       "      <th>FRAME C</th>\n",
       "      <td>107</td>\n",
       "      <td>0</td>\n",
       "    </tr>\n",
       "    <tr>\n",
       "      <th>FRAME D</th>\n",
       "      <td>0</td>\n",
       "      <td>94</td>\n",
       "    </tr>\n",
       "    <tr>\n",
       "      <th>FRAME E</th>\n",
       "      <td>21</td>\n",
       "      <td>0</td>\n",
       "    </tr>\n",
       "  </tbody>\n",
       "</table>\n",
       "</div>"
      ],
      "text/plain": [
       "             0    1\n",
       "TimeFrame          \n",
       "FRAME A     47    0\n",
       "FRAME B      0  123\n",
       "FRAME C    107    0\n",
       "FRAME D      0   94\n",
       "FRAME E     21    0"
      ]
     },
     "execution_count": 9,
     "metadata": {},
     "output_type": "execute_result"
    }
   ],
   "source": [
    "#3.2.4 Tabella frequenze congiunte di TimeFrame e RushHour\n",
    "fasce_rh = pd.crosstab(index = cars.TimeFrame, columns = cars.RushHour, colnames = [''])\n",
    "fasce_rh"
   ]
  },
  {
   "cell_type": "code",
   "execution_count": 10,
   "id": "8f816649",
   "metadata": {},
   "outputs": [
    {
     "name": "stdout",
     "output_type": "stream",
     "text": [
      "Sono le fasce B e D.\n"
     ]
    }
   ],
   "source": [
    "#3.2.5 Leggendo la tabella di prima, quali sono le fasce orarie corrispondenti ad orari di punta\n",
    "print('Sono le fasce B e D.')"
   ]
  },
  {
   "cell_type": "code",
   "execution_count": 15,
   "id": "b7c10747",
   "metadata": {},
   "outputs": [],
   "source": [
    "#3.3 Consideriamo ora solo i clienti che hanno aderito al programma premium\n",
    "cars_pr = cars[cars['PremiumCustomer'] == 1]\n",
    "#cars_pr"
   ]
  },
  {
   "cell_type": "code",
   "execution_count": 16,
   "id": "c763ed88",
   "metadata": {},
   "outputs": [
    {
     "data": {
      "text/plain": [
       "227"
      ]
     },
     "execution_count": 16,
     "metadata": {},
     "output_type": "execute_result"
    }
   ],
   "source": [
    "#3.3.1 Quanti sono ?\n",
    "len(cars_pr)"
   ]
  },
  {
   "cell_type": "code",
   "execution_count": 17,
   "id": "6c1cb0e5",
   "metadata": {},
   "outputs": [
    {
     "data": {
      "text/plain": [
       "8.437444933920705"
      ]
     },
     "execution_count": 17,
     "metadata": {},
     "output_type": "execute_result"
    }
   ],
   "source": [
    "#3.3.2 Stima distanza media dei clienti premium\n",
    "cars_pr.Distance.mean()"
   ]
  },
  {
   "cell_type": "code",
   "execution_count": 18,
   "id": "d94bc3cf",
   "metadata": {},
   "outputs": [
    {
     "data": {
      "text/plain": [
       "0.5790816326530612"
      ]
     },
     "execution_count": 18,
     "metadata": {},
     "output_type": "execute_result"
    }
   ],
   "source": [
    "#3.3.3 Stima probabilità che un nuovo cliente si iscriva a premium\n",
    "len(cars_pr)/len(cars)"
   ]
  },
  {
   "cell_type": "code",
   "execution_count": 19,
   "id": "c6c33bcb",
   "metadata": {},
   "outputs": [
    {
     "name": "stdout",
     "output_type": "stream",
     "text": [
      "Media campionaria\n"
     ]
    }
   ],
   "source": [
    "#3.3.4 Stimatore usato prima ?\n",
    "print('Media campionaria')"
   ]
  },
  {
   "cell_type": "code",
   "execution_count": 29,
   "id": "6a972283",
   "metadata": {},
   "outputs": [
    {
     "data": {
      "text/plain": [
       "0.002573522754265589"
      ]
     },
     "execution_count": 29,
     "metadata": {},
     "output_type": "execute_result"
    }
   ],
   "source": [
    "#3.3.5 Approssimazione probabilità di sbagliare la stima di p di al più 0.05\n",
    "#CONTROLLARE PERCHè LUI FA DEV STD MA LA FORMULA è CON LA VARIANZA\n",
    "sigma = cars.PremiumCustomer.var()\n",
    "1-(sigma/(len(cars.PremiumCustomer)*(0.05**2)))"
   ]
  },
  {
   "cell_type": "code",
   "execution_count": 30,
   "id": "604c82af",
   "metadata": {},
   "outputs": [],
   "source": [
    "#3.4 Studiamo ora la distanza in ogni uso del dataset completo\n"
   ]
  },
  {
   "cell_type": "code",
   "execution_count": 31,
   "id": "ba6bc201",
   "metadata": {},
   "outputs": [
    {
     "data": {
      "image/png": "[encoded data removed]",
      "text/plain": [
       "<Figure size 500x309.017 with 1 Axes>"
      ]
     },
     "metadata": {},
     "output_type": "display_data"
    }
   ],
   "source": [
    "#3.4.1 Boxplot della distanza\n",
    "cars.Distance.plot.box()\n",
    "plt.show()"
   ]
  },
  {
   "cell_type": "code",
   "execution_count": 35,
   "id": "23e44782",
   "metadata": {},
   "outputs": [
    {
     "name": "stdout",
     "output_type": "stream",
     "text": [
      "Mediana: 5.75\n",
      "Range interquentile: 12.45\n"
     ]
    }
   ],
   "source": [
    "#3.4.2 Quali sono gli indici di centralità e dispersione che meglio caratterizzano la distanza\n",
    "print('Mediana:', cars.Distance.median())\n",
    "print('Range interquentile:', cars.Distance.quantile(.75)-cars.Distance.quantile(0.25))"
   ]
  },
  {
   "cell_type": "code",
   "execution_count": 37,
   "id": "5169ac79",
   "metadata": {},
   "outputs": [
    {
     "data": {
      "image/png": "[encoded data removed]",
      "text/plain": [
       "<Figure size 500x309.017 with 1 Axes>"
      ]
     },
     "metadata": {},
     "output_type": "display_data"
    },
    {
     "name": "stdout",
     "output_type": "stream",
     "text": [
      "Non vi è alcuna relazione tra distanza e tempo impiegato, come si evince dal grafico.\n"
     ]
    }
   ],
   "source": [
    "#3.4.3 C'è relazione tra distanza percorsa e tempo impiegato ?\n",
    "cars.plot.scatter('Distance', 'Time')\n",
    "plt.show()\n",
    "print('Non vi è alcuna relazione tra distanza e tempo impiegato, come si evince dal grafico.')"
   ]
  },
  {
   "cell_type": "code",
   "execution_count": 40,
   "id": "0683ae83",
   "metadata": {},
   "outputs": [
    {
     "name": "stdout",
     "output_type": "stream",
     "text": [
      "0.6273992247694647\n",
      "Tale indice conferma che non vi è relazione tra distanza e tempo.\n"
     ]
    }
   ],
   "source": [
    "#3.4.4 Indice di correlazione tra distanza e tempo\n",
    "print(cars.Distance.corr(cars.Time))\n",
    "print('Tale indice conferma che non vi è relazione tra distanza e tempo.')"
   ]
  },
  {
   "cell_type": "code",
   "execution_count": 41,
   "id": "b0ecc6da",
   "metadata": {},
   "outputs": [],
   "source": [
    "#3.5 Analizziamo la distanza percorsa in ogni uso del servizio in orario di punta"
   ]
  },
  {
   "cell_type": "code",
   "execution_count": 50,
   "id": "69ea9dd2",
   "metadata": {},
   "outputs": [
    {
     "data": {
      "image/png": "[encoded data removed]",
      "text/plain": [
       "<Figure size 500x309.017 with 1 Axes>"
      ]
     },
     "metadata": {},
     "output_type": "display_data"
    }
   ],
   "source": [
    "#3.5.1 Grafico rappresentativo della distribuzione della distanza percorsa in orari di punta\n",
    "cars[cars['RushHour']==1].Distance.value_counts().plot.bar()\n",
    "plt.show()"
   ]
  },
  {
   "cell_type": "code",
   "execution_count": 51,
   "id": "6fc1bb7d",
   "metadata": {},
   "outputs": [
    {
     "name": "stdout",
     "output_type": "stream",
     "text": [
      "No, infatti il grafico mostra come la distanza ha un andamento di tipo esponenziale\n"
     ]
    }
   ],
   "source": [
    "#3.5.2 Negli orari di punta la distanza segue una legge normale ?\n",
    "print('No, infatti il grafico mostra come la distanza ha un andamento di tipo esponenziale')"
   ]
  },
  {
   "cell_type": "code",
   "execution_count": 53,
   "id": "4df25813",
   "metadata": {},
   "outputs": [
    {
     "name": "stdout",
     "output_type": "stream",
     "text": [
      "Valore atteso: 3.3193548387096796\n",
      "Dev. standard: 3.711106147915895\n"
     ]
    }
   ],
   "source": [
    "#3.5.3 Stimare valore atteso e deviazione standard della distanza negli orari di punta\n",
    "print('Valore atteso:', cars[cars['RushHour'] == 1].Distance.mean())\n",
    "print('Dev. standard:', cars[cars['RushHour'] == 1].Distance.std())"
   ]
  },
  {
   "cell_type": "code",
   "execution_count": 54,
   "id": "396a22a6",
   "metadata": {},
   "outputs": [
    {
     "name": "stdout",
     "output_type": "stream",
     "text": [
      "Modello esponenziale\n"
     ]
    }
   ],
   "source": [
    "#3.5.4 Modello probabilistico per la distanza percorsa in orari di punta ?\n",
    "print('Modello esponenziale')"
   ]
  },
  {
   "cell_type": "code",
   "execution_count": 55,
   "id": "28626020",
   "metadata": {},
   "outputs": [
    {
     "name": "stdout",
     "output_type": "stream",
     "text": [
      "Sì perchè sono molto simili.\n"
     ]
    }
   ],
   "source": [
    "#3.5.5 Le stime di v.a. e dev. std calcolate prima sono compatibili col modello proposto ?\n",
    "print('Sì perchè sono molto simili.')"
   ]
  },
  {
   "cell_type": "code",
   "execution_count": null,
   "id": "6f03333a",
   "metadata": {},
   "outputs": [],
   "source": []
  }
 ],
 "metadata": {
  "kernelspec": {
   "display_name": "Python 3 (ipykernel)",
   "language": "python",
   "name": "python3"
  },
  "language_info": {
   "codemirror_mode": {
    "name": "ipython",
    "version": 3
   },
   "file_extension": ".py",
   "mimetype": "text/x-python",
   "name": "python",
   "nbconvert_exporter": "python",
   "pygments_lexer": "ipython3",
   "version": "3.9.13"
  }
 },
 "nbformat": 4,
 "nbformat_minor": 5
}
