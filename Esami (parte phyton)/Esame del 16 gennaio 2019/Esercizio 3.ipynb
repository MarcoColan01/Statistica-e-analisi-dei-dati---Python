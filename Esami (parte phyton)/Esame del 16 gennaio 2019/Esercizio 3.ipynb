{
 "cells": [
  {
   "cell_type": "code",
   "execution_count": 1,
   "id": "11a51170",
   "metadata": {},
   "outputs": [
    {
     "data": {
      "text/html": [
       "<div>\n",
       "<style scoped>\n",
       "    .dataframe tbody tr th:only-of-type {\n",
       "        vertical-align: middle;\n",
       "    }\n",
       "\n",
       "    .dataframe tbody tr th {\n",
       "        vertical-align: top;\n",
       "    }\n",
       "\n",
       "    .dataframe thead th {\n",
       "        text-align: right;\n",
       "    }\n",
       "</style>\n",
       "<table border=\"1\" class=\"dataframe\">\n",
       "  <thead>\n",
       "    <tr style=\"text-align: right;\">\n",
       "      <th></th>\n",
       "      <th>CarIdentifier</th>\n",
       "      <th>TimeFrame</th>\n",
       "      <th>RushHour</th>\n",
       "      <th>PremiumCustomer</th>\n",
       "      <th>Distance</th>\n",
       "      <th>Time</th>\n",
       "    </tr>\n",
       "  </thead>\n",
       "  <tbody>\n",
       "    <tr>\n",
       "      <th>0</th>\n",
       "      <td>102</td>\n",
       "      <td>FRAME D</td>\n",
       "      <td>1</td>\n",
       "      <td>1</td>\n",
       "      <td>3.0</td>\n",
       "      <td>7.9</td>\n",
       "    </tr>\n",
       "    <tr>\n",
       "      <th>1</th>\n",
       "      <td>103</td>\n",
       "      <td>FRAME D</td>\n",
       "      <td>1</td>\n",
       "      <td>1</td>\n",
       "      <td>5.3</td>\n",
       "      <td>13.9</td>\n",
       "    </tr>\n",
       "    <tr>\n",
       "      <th>2</th>\n",
       "      <td>105</td>\n",
       "      <td>FRAME D</td>\n",
       "      <td>1</td>\n",
       "      <td>-1</td>\n",
       "      <td>0.4</td>\n",
       "      <td>4.1</td>\n",
       "    </tr>\n",
       "    <tr>\n",
       "      <th>3</th>\n",
       "      <td>110</td>\n",
       "      <td>FRAME D</td>\n",
       "      <td>1</td>\n",
       "      <td>1</td>\n",
       "      <td>2.8</td>\n",
       "      <td>5.0</td>\n",
       "    </tr>\n",
       "    <tr>\n",
       "      <th>4</th>\n",
       "      <td>110</td>\n",
       "      <td>FRAME B</td>\n",
       "      <td>1</td>\n",
       "      <td>-1</td>\n",
       "      <td>2.7</td>\n",
       "      <td>5.6</td>\n",
       "    </tr>\n",
       "    <tr>\n",
       "      <th>...</th>\n",
       "      <td>...</td>\n",
       "      <td>...</td>\n",
       "      <td>...</td>\n",
       "      <td>...</td>\n",
       "      <td>...</td>\n",
       "      <td>...</td>\n",
       "    </tr>\n",
       "    <tr>\n",
       "      <th>387</th>\n",
       "      <td>996</td>\n",
       "      <td>FRAME C</td>\n",
       "      <td>0</td>\n",
       "      <td>-1</td>\n",
       "      <td>12.5</td>\n",
       "      <td>13.1</td>\n",
       "    </tr>\n",
       "    <tr>\n",
       "      <th>388</th>\n",
       "      <td>996</td>\n",
       "      <td>FRAME A</td>\n",
       "      <td>0</td>\n",
       "      <td>1</td>\n",
       "      <td>14.5</td>\n",
       "      <td>17.0</td>\n",
       "    </tr>\n",
       "    <tr>\n",
       "      <th>389</th>\n",
       "      <td>996</td>\n",
       "      <td>FRAME C</td>\n",
       "      <td>0</td>\n",
       "      <td>-1</td>\n",
       "      <td>9.8</td>\n",
       "      <td>17.8</td>\n",
       "    </tr>\n",
       "    <tr>\n",
       "      <th>390</th>\n",
       "      <td>997</td>\n",
       "      <td>FRAME B</td>\n",
       "      <td>1</td>\n",
       "      <td>-1</td>\n",
       "      <td>1.8</td>\n",
       "      <td>4.0</td>\n",
       "    </tr>\n",
       "    <tr>\n",
       "      <th>391</th>\n",
       "      <td>997</td>\n",
       "      <td>FRAME C</td>\n",
       "      <td>0</td>\n",
       "      <td>1</td>\n",
       "      <td>18.6</td>\n",
       "      <td>17.5</td>\n",
       "    </tr>\n",
       "  </tbody>\n",
       "</table>\n",
       "<p>392 rows × 6 columns</p>\n",
       "</div>"
      ],
      "text/plain": [
       "     CarIdentifier TimeFrame  RushHour  PremiumCustomer  Distance  Time\n",
       "0              102   FRAME D         1                1       3.0   7.9\n",
       "1              103   FRAME D         1                1       5.3  13.9\n",
       "2              105   FRAME D         1               -1       0.4   4.1\n",
       "3              110   FRAME D         1                1       2.8   5.0\n",
       "4              110   FRAME B         1               -1       2.7   5.6\n",
       "..             ...       ...       ...              ...       ...   ...\n",
       "387            996   FRAME C         0               -1      12.5  13.1\n",
       "388            996   FRAME A         0                1      14.5  17.0\n",
       "389            996   FRAME C         0               -1       9.8  17.8\n",
       "390            997   FRAME B         1               -1       1.8   4.0\n",
       "391            997   FRAME C         0                1      18.6  17.5\n",
       "\n",
       "[392 rows x 6 columns]"
      ]
     },
     "execution_count": 1,
     "metadata": {},
     "output_type": "execute_result"
    }
   ],
   "source": [
    "import numpy as np \n",
    "import pandas as pd \n",
    "import matplotlib.pyplot as plt \n",
    "from scipy.constants import golden \n",
    "\n",
    "plt.style.use('fivethirtyeight')\n",
    "plt.rc('figure', figsize = (5.0, 5.0/golden)) \n",
    "\n",
    "cs = pd.read_csv('carsharing.csv', delimiter = ';', decimal=\",\")\n",
    "\n",
    "cs "
   ]
  },
  {
   "cell_type": "code",
   "execution_count": 2,
   "id": "8d377811",
   "metadata": {},
   "outputs": [
    {
     "data": {
      "text/plain": [
       "392"
      ]
     },
     "execution_count": 2,
     "metadata": {},
     "output_type": "execute_result"
    }
   ],
   "source": [
    "#3.1 Quanti casi contiene il file\n",
    "len(cs)"
   ]
  },
  {
   "cell_type": "code",
   "execution_count": null,
   "id": "91ebaaea",
   "metadata": {},
   "outputs": [],
   "source": [
    "#3.2.1 Il carattere TimeFrame è nominale, ordinale o scalare ?\n",
    "print('Il carattere Timeframe è ordinale')"
   ]
  },
  {
   "cell_type": "code",
   "execution_count": 6,
   "id": "c215109c",
   "metadata": {},
   "outputs": [
    {
     "data": {
      "text/plain": [
       "5"
      ]
     },
     "execution_count": 6,
     "metadata": {},
     "output_type": "execute_result"
    }
   ],
   "source": [
    "#3.2.2 In quante fasce orarie è stata suddivisa una giornata ?\n",
    "len(cs['TimeFrame'].unique())"
   ]
  },
  {
   "cell_type": "code",
   "execution_count": 18,
   "id": "73ce9b34",
   "metadata": {},
   "outputs": [
    {
     "data": {
      "text/plain": [
       "FRAME C    107\n",
       "FRAME B    123\n",
       "Name: TimeFrame, dtype: int64"
      ]
     },
     "execution_count": 18,
     "metadata": {},
     "output_type": "execute_result"
    }
   ],
   "source": [
    "#3.2.3 In quali fasce orarie il servizio di carsharing è stato maggiormente usato ? \n",
    "cs['TimeFrame'].value_counts().sort_values().tail(2)"
   ]
  },
  {
   "cell_type": "code",
   "execution_count": 19,
   "id": "87c369f3",
   "metadata": {},
   "outputs": [
    {
     "data": {
      "text/html": [
       "<div>\n",
       "<style scoped>\n",
       "    .dataframe tbody tr th:only-of-type {\n",
       "        vertical-align: middle;\n",
       "    }\n",
       "\n",
       "    .dataframe tbody tr th {\n",
       "        vertical-align: top;\n",
       "    }\n",
       "\n",
       "    .dataframe thead th {\n",
       "        text-align: right;\n",
       "    }\n",
       "</style>\n",
       "<table border=\"1\" class=\"dataframe\">\n",
       "  <thead>\n",
       "    <tr style=\"text-align: right;\">\n",
       "      <th>RushHour</th>\n",
       "      <th>0</th>\n",
       "      <th>1</th>\n",
       "    </tr>\n",
       "    <tr>\n",
       "      <th>TimeFrame</th>\n",
       "      <th></th>\n",
       "      <th></th>\n",
       "    </tr>\n",
       "  </thead>\n",
       "  <tbody>\n",
       "    <tr>\n",
       "      <th>FRAME A</th>\n",
       "      <td>47</td>\n",
       "      <td>0</td>\n",
       "    </tr>\n",
       "    <tr>\n",
       "      <th>FRAME B</th>\n",
       "      <td>0</td>\n",
       "      <td>123</td>\n",
       "    </tr>\n",
       "    <tr>\n",
       "      <th>FRAME C</th>\n",
       "      <td>107</td>\n",
       "      <td>0</td>\n",
       "    </tr>\n",
       "    <tr>\n",
       "      <th>FRAME D</th>\n",
       "      <td>0</td>\n",
       "      <td>94</td>\n",
       "    </tr>\n",
       "    <tr>\n",
       "      <th>FRAME E</th>\n",
       "      <td>21</td>\n",
       "      <td>0</td>\n",
       "    </tr>\n",
       "  </tbody>\n",
       "</table>\n",
       "</div>"
      ],
      "text/plain": [
       "RushHour     0    1\n",
       "TimeFrame          \n",
       "FRAME A     47    0\n",
       "FRAME B      0  123\n",
       "FRAME C    107    0\n",
       "FRAME D      0   94\n",
       "FRAME E     21    0"
      ]
     },
     "execution_count": 19,
     "metadata": {},
     "output_type": "execute_result"
    }
   ],
   "source": [
    "#3.2.4 Calcolate la tabella delle frequenze congiunte di TimeFrame e RushHour\n",
    "tf_rh_cong = pd.crosstab(index=cs['TimeFrame'], columns = cs['RushHour'])\n",
    "tf_rh_cong"
   ]
  },
  {
   "cell_type": "code",
   "execution_count": 20,
   "id": "eed8bacd",
   "metadata": {},
   "outputs": [
    {
     "name": "stdout",
     "output_type": "stream",
     "text": [
      "Leggendo la tabella, le fasce orarie corrispondenti agli orari di punta sono LA B e la D\n"
     ]
    }
   ],
   "source": [
    "#3.2.5 Leggendo tale tabella, determinate quali sono le fasce orarie corrispondenti agli orari di punta\n",
    "print('Leggendo la tabella, le fasce orarie corrispondenti agli orari di punta sono LA B e la D')"
   ]
  },
  {
   "cell_type": "code",
   "execution_count": 21,
   "id": "5d094cce",
   "metadata": {},
   "outputs": [
    {
     "data": {
      "text/html": [
       "<div>\n",
       "<style scoped>\n",
       "    .dataframe tbody tr th:only-of-type {\n",
       "        vertical-align: middle;\n",
       "    }\n",
       "\n",
       "    .dataframe tbody tr th {\n",
       "        vertical-align: top;\n",
       "    }\n",
       "\n",
       "    .dataframe thead th {\n",
       "        text-align: right;\n",
       "    }\n",
       "</style>\n",
       "<table border=\"1\" class=\"dataframe\">\n",
       "  <thead>\n",
       "    <tr style=\"text-align: right;\">\n",
       "      <th></th>\n",
       "      <th>CarIdentifier</th>\n",
       "      <th>TimeFrame</th>\n",
       "      <th>RushHour</th>\n",
       "      <th>PremiumCustomer</th>\n",
       "      <th>Distance</th>\n",
       "      <th>Time</th>\n",
       "    </tr>\n",
       "  </thead>\n",
       "  <tbody>\n",
       "    <tr>\n",
       "      <th>0</th>\n",
       "      <td>102</td>\n",
       "      <td>FRAME D</td>\n",
       "      <td>1</td>\n",
       "      <td>1</td>\n",
       "      <td>3.0</td>\n",
       "      <td>7.9</td>\n",
       "    </tr>\n",
       "    <tr>\n",
       "      <th>1</th>\n",
       "      <td>103</td>\n",
       "      <td>FRAME D</td>\n",
       "      <td>1</td>\n",
       "      <td>1</td>\n",
       "      <td>5.3</td>\n",
       "      <td>13.9</td>\n",
       "    </tr>\n",
       "    <tr>\n",
       "      <th>3</th>\n",
       "      <td>110</td>\n",
       "      <td>FRAME D</td>\n",
       "      <td>1</td>\n",
       "      <td>1</td>\n",
       "      <td>2.8</td>\n",
       "      <td>5.0</td>\n",
       "    </tr>\n",
       "    <tr>\n",
       "      <th>6</th>\n",
       "      <td>111</td>\n",
       "      <td>FRAME B</td>\n",
       "      <td>1</td>\n",
       "      <td>1</td>\n",
       "      <td>9.3</td>\n",
       "      <td>30.6</td>\n",
       "    </tr>\n",
       "    <tr>\n",
       "      <th>10</th>\n",
       "      <td>121</td>\n",
       "      <td>FRAME B</td>\n",
       "      <td>1</td>\n",
       "      <td>1</td>\n",
       "      <td>0.8</td>\n",
       "      <td>4.4</td>\n",
       "    </tr>\n",
       "    <tr>\n",
       "      <th>...</th>\n",
       "      <td>...</td>\n",
       "      <td>...</td>\n",
       "      <td>...</td>\n",
       "      <td>...</td>\n",
       "      <td>...</td>\n",
       "      <td>...</td>\n",
       "    </tr>\n",
       "    <tr>\n",
       "      <th>382</th>\n",
       "      <td>987</td>\n",
       "      <td>FRAME A</td>\n",
       "      <td>0</td>\n",
       "      <td>1</td>\n",
       "      <td>18.7</td>\n",
       "      <td>25.2</td>\n",
       "    </tr>\n",
       "    <tr>\n",
       "      <th>383</th>\n",
       "      <td>989</td>\n",
       "      <td>FRAME A</td>\n",
       "      <td>0</td>\n",
       "      <td>1</td>\n",
       "      <td>7.7</td>\n",
       "      <td>13.1</td>\n",
       "    </tr>\n",
       "    <tr>\n",
       "      <th>386</th>\n",
       "      <td>995</td>\n",
       "      <td>FRAME B</td>\n",
       "      <td>1</td>\n",
       "      <td>1</td>\n",
       "      <td>2.1</td>\n",
       "      <td>4.4</td>\n",
       "    </tr>\n",
       "    <tr>\n",
       "      <th>388</th>\n",
       "      <td>996</td>\n",
       "      <td>FRAME A</td>\n",
       "      <td>0</td>\n",
       "      <td>1</td>\n",
       "      <td>14.5</td>\n",
       "      <td>17.0</td>\n",
       "    </tr>\n",
       "    <tr>\n",
       "      <th>391</th>\n",
       "      <td>997</td>\n",
       "      <td>FRAME C</td>\n",
       "      <td>0</td>\n",
       "      <td>1</td>\n",
       "      <td>18.6</td>\n",
       "      <td>17.5</td>\n",
       "    </tr>\n",
       "  </tbody>\n",
       "</table>\n",
       "<p>227 rows × 6 columns</p>\n",
       "</div>"
      ],
      "text/plain": [
       "     CarIdentifier TimeFrame  RushHour  PremiumCustomer  Distance  Time\n",
       "0              102   FRAME D         1                1       3.0   7.9\n",
       "1              103   FRAME D         1                1       5.3  13.9\n",
       "3              110   FRAME D         1                1       2.8   5.0\n",
       "6              111   FRAME B         1                1       9.3  30.6\n",
       "10             121   FRAME B         1                1       0.8   4.4\n",
       "..             ...       ...       ...              ...       ...   ...\n",
       "382            987   FRAME A         0                1      18.7  25.2\n",
       "383            989   FRAME A         0                1       7.7  13.1\n",
       "386            995   FRAME B         1                1       2.1   4.4\n",
       "388            996   FRAME A         0                1      14.5  17.0\n",
       "391            997   FRAME C         0                1      18.6  17.5\n",
       "\n",
       "[227 rows x 6 columns]"
      ]
     },
     "execution_count": 21,
     "metadata": {},
     "output_type": "execute_result"
    }
   ],
   "source": [
    "#3.3 Consideriamo ora solo i clienti che hanno aderito al programma premium\n",
    "cs_premium = cs[cs['PremiumCustomer'] == 1]\n",
    "cs_premium\n"
   ]
  },
  {
   "cell_type": "code",
   "execution_count": 22,
   "id": "e37ecde4",
   "metadata": {},
   "outputs": [
    {
     "data": {
      "text/plain": [
       "227"
      ]
     },
     "execution_count": 22,
     "metadata": {},
     "output_type": "execute_result"
    }
   ],
   "source": [
    "#3.3.1 Quanti sono ?\n",
    "len(cs_premium)"
   ]
  },
  {
   "cell_type": "code",
   "execution_count": 27,
   "id": "d668a24e",
   "metadata": {},
   "outputs": [
    {
     "data": {
      "text/plain": [
       "8.437444933920705"
      ]
     },
     "execution_count": 27,
     "metadata": {},
     "output_type": "execute_result"
    }
   ],
   "source": [
    "#3.3.2 Fornire una stima della distanza media percorsa in un tragitto da un cliente che ha aderito al programma Premium \n",
    "cs_premium['Distance'].mean()"
   ]
  },
  {
   "cell_type": "code",
   "execution_count": 30,
   "id": "9f09d1cb",
   "metadata": {},
   "outputs": [
    {
     "data": {
      "text/plain": [
       "0.15816326530612246"
      ]
     },
     "execution_count": 30,
     "metadata": {},
     "output_type": "execute_result"
    }
   ],
   "source": [
    "#3.3.3 Stimare la probabilità p che un nuovo cliente si iscriva al programma premium \n",
    "p = cs.PremiumCustomer.mean()\n",
    "p"
   ]
  },
  {
   "cell_type": "code",
   "execution_count": 31,
   "id": "0ac82c44",
   "metadata": {},
   "outputs": [
    {
     "name": "stdout",
     "output_type": "stream",
     "text": [
      "La media campionaria\n"
     ]
    }
   ],
   "source": [
    "#3.3.4 Quale stimatore avete usato al punto precedente ?\n",
    "print('La media campionaria')"
   ]
  },
  {
   "cell_type": "code",
   "execution_count": 32,
   "id": "a41711c0",
   "metadata": {},
   "outputs": [],
   "source": [
    "#3.3.5 Fornire un'approssimazione della probabilità di compiere nella stima di p un errore al più uguale a 0.05 "
   ]
  },
  {
   "cell_type": "code",
   "execution_count": 33,
   "id": "948a40b8",
   "metadata": {},
   "outputs": [],
   "source": [
    "#3.4 Ritorniamo a considerare il dataset completo e studiamo la distanza percorsa in ciascun utilizzo del servizio"
   ]
  },
  {
   "cell_type": "code",
   "execution_count": 35,
   "id": "83ec94e5",
   "metadata": {},
   "outputs": [
    {
     "data": {
      "image/png": "[encoded data removed]",
      "text/plain": [
       "<Figure size 500x309.017 with 1 Axes>"
      ]
     },
     "metadata": {},
     "output_type": "display_data"
    }
   ],
   "source": [
    "#3.4.1 Tracciate il boxplot di tale carattere\n",
    "cs['Distance'].plot.box()\n",
    "plt.show()"
   ]
  },
  {
   "cell_type": "code",
   "execution_count": 40,
   "id": "ebe2a851",
   "metadata": {},
   "outputs": [
    {
     "name": "stdout",
     "output_type": "stream",
     "text": [
      "La mediana e il range interquantile\n",
      "5.75 12.45\n"
     ]
    }
   ],
   "source": [
    "#3.4.2 Determinate quali sono gli indici di centralità e dispersione che meglio caratterizzano la distanza percorsa\n",
    "print('La mediana e il range interquantile')\n",
    "print(cs['Distance'].quantile(0.5), cs['Distance'].quantile(0.75)-cs['Distance'].quantile(0.25))"
   ]
  },
  {
   "cell_type": "code",
   "execution_count": 42,
   "id": "38dcdf9a",
   "metadata": {},
   "outputs": [
    {
     "data": {
      "image/png": "[encoded data removed]",
      "text/plain": [
       "<Figure size 500x309.017 with 1 Axes>"
      ]
     },
     "metadata": {},
     "output_type": "display_data"
    },
    {
     "name": "stdout",
     "output_type": "stream",
     "text": [
      "Le due curve hanno andamenti differenti, per cui non vi è correlazione tra di esse.\n"
     ]
    }
   ],
   "source": [
    "#3.4.4 Calcolate l'indice di correlazione tra distanza e tempo. Tale valore supporta la risposta al punto precedente ? \n",
    "cs.plot.scatter('Distance', \"Time\")\n",
    "plt.show()\n",
    "print('Le due curve hanno andamenti differenti, per cui non vi è correlazione tra di esse.')"
   ]
  },
  {
   "cell_type": "code",
   "execution_count": 43,
   "id": "22cc469f",
   "metadata": {},
   "outputs": [
    {
     "data": {
      "text/html": [
       "<div>\n",
       "<style scoped>\n",
       "    .dataframe tbody tr th:only-of-type {\n",
       "        vertical-align: middle;\n",
       "    }\n",
       "\n",
       "    .dataframe tbody tr th {\n",
       "        vertical-align: top;\n",
       "    }\n",
       "\n",
       "    .dataframe thead th {\n",
       "        text-align: right;\n",
       "    }\n",
       "</style>\n",
       "<table border=\"1\" class=\"dataframe\">\n",
       "  <thead>\n",
       "    <tr style=\"text-align: right;\">\n",
       "      <th></th>\n",
       "      <th>CarIdentifier</th>\n",
       "      <th>TimeFrame</th>\n",
       "      <th>RushHour</th>\n",
       "      <th>PremiumCustomer</th>\n",
       "      <th>Distance</th>\n",
       "      <th>Time</th>\n",
       "    </tr>\n",
       "  </thead>\n",
       "  <tbody>\n",
       "    <tr>\n",
       "      <th>0</th>\n",
       "      <td>102</td>\n",
       "      <td>FRAME D</td>\n",
       "      <td>1</td>\n",
       "      <td>1</td>\n",
       "      <td>3.0</td>\n",
       "      <td>7.9</td>\n",
       "    </tr>\n",
       "    <tr>\n",
       "      <th>1</th>\n",
       "      <td>103</td>\n",
       "      <td>FRAME D</td>\n",
       "      <td>1</td>\n",
       "      <td>1</td>\n",
       "      <td>5.3</td>\n",
       "      <td>13.9</td>\n",
       "    </tr>\n",
       "    <tr>\n",
       "      <th>2</th>\n",
       "      <td>105</td>\n",
       "      <td>FRAME D</td>\n",
       "      <td>1</td>\n",
       "      <td>-1</td>\n",
       "      <td>0.4</td>\n",
       "      <td>4.1</td>\n",
       "    </tr>\n",
       "    <tr>\n",
       "      <th>3</th>\n",
       "      <td>110</td>\n",
       "      <td>FRAME D</td>\n",
       "      <td>1</td>\n",
       "      <td>1</td>\n",
       "      <td>2.8</td>\n",
       "      <td>5.0</td>\n",
       "    </tr>\n",
       "    <tr>\n",
       "      <th>4</th>\n",
       "      <td>110</td>\n",
       "      <td>FRAME B</td>\n",
       "      <td>1</td>\n",
       "      <td>-1</td>\n",
       "      <td>2.7</td>\n",
       "      <td>5.6</td>\n",
       "    </tr>\n",
       "    <tr>\n",
       "      <th>...</th>\n",
       "      <td>...</td>\n",
       "      <td>...</td>\n",
       "      <td>...</td>\n",
       "      <td>...</td>\n",
       "      <td>...</td>\n",
       "      <td>...</td>\n",
       "    </tr>\n",
       "    <tr>\n",
       "      <th>378</th>\n",
       "      <td>983</td>\n",
       "      <td>FRAME D</td>\n",
       "      <td>1</td>\n",
       "      <td>-1</td>\n",
       "      <td>1.2</td>\n",
       "      <td>3.9</td>\n",
       "    </tr>\n",
       "    <tr>\n",
       "      <th>384</th>\n",
       "      <td>991</td>\n",
       "      <td>FRAME D</td>\n",
       "      <td>1</td>\n",
       "      <td>-1</td>\n",
       "      <td>1.0</td>\n",
       "      <td>3.9</td>\n",
       "    </tr>\n",
       "    <tr>\n",
       "      <th>385</th>\n",
       "      <td>993</td>\n",
       "      <td>FRAME B</td>\n",
       "      <td>1</td>\n",
       "      <td>-1</td>\n",
       "      <td>2.6</td>\n",
       "      <td>5.6</td>\n",
       "    </tr>\n",
       "    <tr>\n",
       "      <th>386</th>\n",
       "      <td>995</td>\n",
       "      <td>FRAME B</td>\n",
       "      <td>1</td>\n",
       "      <td>1</td>\n",
       "      <td>2.1</td>\n",
       "      <td>4.4</td>\n",
       "    </tr>\n",
       "    <tr>\n",
       "      <th>390</th>\n",
       "      <td>997</td>\n",
       "      <td>FRAME B</td>\n",
       "      <td>1</td>\n",
       "      <td>-1</td>\n",
       "      <td>1.8</td>\n",
       "      <td>4.0</td>\n",
       "    </tr>\n",
       "  </tbody>\n",
       "</table>\n",
       "<p>217 rows × 6 columns</p>\n",
       "</div>"
      ],
      "text/plain": [
       "     CarIdentifier TimeFrame  RushHour  PremiumCustomer  Distance  Time\n",
       "0              102   FRAME D         1                1       3.0   7.9\n",
       "1              103   FRAME D         1                1       5.3  13.9\n",
       "2              105   FRAME D         1               -1       0.4   4.1\n",
       "3              110   FRAME D         1                1       2.8   5.0\n",
       "4              110   FRAME B         1               -1       2.7   5.6\n",
       "..             ...       ...       ...              ...       ...   ...\n",
       "378            983   FRAME D         1               -1       1.2   3.9\n",
       "384            991   FRAME D         1               -1       1.0   3.9\n",
       "385            993   FRAME B         1               -1       2.6   5.6\n",
       "386            995   FRAME B         1                1       2.1   4.4\n",
       "390            997   FRAME B         1               -1       1.8   4.0\n",
       "\n",
       "[217 rows x 6 columns]"
      ]
     },
     "execution_count": 43,
     "metadata": {},
     "output_type": "execute_result"
    }
   ],
   "source": [
    "#3.5 Analizziamo ora la distanza percorsa in ogni uso del servizio negli orari di punta\n",
    "cs_rushHour = cs[cs['RushHour'] == 1]\n",
    "cs_rushHour"
   ]
  },
  {
   "cell_type": "code",
   "execution_count": 57,
   "id": "4e657984",
   "metadata": {},
   "outputs": [
    {
     "data": {
      "image/png": "[encoded data removed]",
      "text/plain": [
       "<Figure size 2000x1000 with 2 Axes>"
      ]
     },
     "metadata": {},
     "output_type": "display_data"
    }
   ],
   "source": [
    "#3.5.1 Tracciare un grafico rappresentativo della distribuzione della distanza percorsa negli orari di punta\n",
    "plt.figure(figsize = [20,10])\n",
    "plt.subplot(1,2,1)\n",
    "cs_rushHour['Distance'].hist()\n",
    "plt.subplot(1,2,2)\n",
    "cs_rushHour['Distance'].plot.box(vert = False)\n",
    "plt.show()\n"
   ]
  },
  {
   "cell_type": "code",
   "execution_count": 61,
   "id": "2e837975",
   "metadata": {},
   "outputs": [
    {
     "name": "stdout",
     "output_type": "stream",
     "text": [
      "No perchè istogramma assume un andamento esponenziale.\n"
     ]
    }
   ],
   "source": [
    "#3.5.2 è plausibile affermare che negli orari di punta la distanza segue una legge normale ? \n",
    "print('No perchè istogramma assume un andamento esponenziale.')"
   ]
  },
  {
   "cell_type": "code",
   "execution_count": 59,
   "id": "130bbeda",
   "metadata": {},
   "outputs": [
    {
     "name": "stdout",
     "output_type": "stream",
     "text": [
      "Deviazione standard: 3.711106147915895 \n",
      "Valore atteso:  3.3193548387096796\n"
     ]
    }
   ],
   "source": [
    "#3.5.3 Stimare valore atteso e deviazione standard della distanza negli orari di punta\n",
    "print('Deviazione standard:', cs_rushHour['Distance'].std(), '\\nValore atteso: ', cs_rushHour['Distance'].mean())"
   ]
  },
  {
   "cell_type": "code",
   "execution_count": 60,
   "id": "35db5e5d",
   "metadata": {},
   "outputs": [
    {
     "name": "stdout",
     "output_type": "stream",
     "text": [
      "Modello esponenziale\n"
     ]
    }
   ],
   "source": [
    "#3.5.4 Sapreste suggerire un modello probabilistico per la distanza percorsa negli orari di punta ? \n",
    "print('Modello esponenziale')"
   ]
  },
  {
   "cell_type": "code",
   "execution_count": 62,
   "id": "ae0f332d",
   "metadata": {},
   "outputs": [
    {
     "name": "stdout",
     "output_type": "stream",
     "text": [
      "Sì perchè sono simili.\n"
     ]
    }
   ],
   "source": [
    "#3.5.5 Le stime di valore atteso e deviazione standard calcolate sono compatibili col modello appena proposto ?\n",
    "print('Sì perchè sono simili.')"
   ]
  },
  {
   "cell_type": "code",
   "execution_count": null,
   "id": "9b67ec54",
   "metadata": {},
   "outputs": [],
   "source": []
  }
 ],
 "metadata": {
  "kernelspec": {
   "display_name": "Python 3 (ipykernel)",
   "language": "python",
   "name": "python3"
  },
  "language_info": {
   "codemirror_mode": {
    "name": "ipython",
    "version": 3
   },
   "file_extension": ".py",
   "mimetype": "text/x-python",
   "name": "python",
   "nbconvert_exporter": "python",
   "pygments_lexer": "ipython3",
   "version": "3.9.13"
  }
 },
 "nbformat": 4,
 "nbformat_minor": 5
}
